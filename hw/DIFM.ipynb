{
 "cells": [
  {
   "cell_type": "code",
   "execution_count": null,
   "metadata": {
    "trusted": true
   },
   "outputs": [],
   "source": [
    "!pip install -U deepctr-torch -q\n",
    "!pip install tensorboard -q\n",
    "!pip install faiss-cpu -q"
   ]
  },
  {
   "cell_type": "code",
   "execution_count": null,
   "metadata": {
    "execution": {
     "iopub.execute_input": "2025-04-30T09:16:49.361345Z",
     "iopub.status.busy": "2025-04-30T09:16:49.361051Z",
     "iopub.status.idle": "2025-04-30T09:16:55.463917Z",
     "shell.execute_reply": "2025-04-30T09:16:55.463300Z",
     "shell.execute_reply.started": "2025-04-30T09:16:49.361322Z"
    },
    "id": "3vkTFPFLwvlg",
    "trusted": true
   },
   "outputs": [],
   "source": [
    "import glob\n",
    "import json\n",
    "import os\n",
    "import random\n",
    "from collections import namedtuple\n",
    "\n",
    "import faiss\n",
    "import matplotlib.pyplot as plt\n",
    "import numpy as np\n",
    "import pandas as pd\n",
    "import shutil\n",
    "import torch\n",
    "import torch.nn as nn\n",
    "import torch.nn.functional as F\n",
    "from deepctr_torch.inputs import DenseFeat, SparseFeat, get_feature_names\n",
    "from deepctr_torch.models import DIFM\n",
    "from sklearn.decomposition import PCA\n",
    "from sklearn.preprocessing import MultiLabelBinarizer, StandardScaler\n",
    "from torch.utils.data import DataLoader, Dataset\n",
    "from torch.utils.tensorboard import SummaryWriter\n",
    "from tqdm.notebook import tqdm\n",
    "\n",
    "data_df = pd.read_csv('dataset/data.csv')"
   ]
  },
  {
   "cell_type": "code",
   "execution_count": 2,
   "metadata": {
    "execution": {
     "iopub.execute_input": "2025-04-30T09:16:55.464794Z",
     "iopub.status.busy": "2025-04-30T09:16:55.464603Z",
     "iopub.status.idle": "2025-04-30T09:16:55.510577Z",
     "shell.execute_reply": "2025-04-30T09:16:55.509846Z",
     "shell.execute_reply.started": "2025-04-30T09:16:55.464779Z"
    },
    "trusted": true
   },
   "outputs": [
    {
     "data": {
      "text/html": [
       "<div>\n",
       "<style scoped>\n",
       "    .dataframe tbody tr th:only-of-type {\n",
       "        vertical-align: middle;\n",
       "    }\n",
       "\n",
       "    .dataframe tbody tr th {\n",
       "        vertical-align: top;\n",
       "    }\n",
       "\n",
       "    .dataframe thead th {\n",
       "        text-align: right;\n",
       "    }\n",
       "</style>\n",
       "<table border=\"1\" class=\"dataframe\">\n",
       "  <thead>\n",
       "    <tr style=\"text-align: right;\">\n",
       "      <th></th>\n",
       "      <th>message</th>\n",
       "      <th>timestamp</th>\n",
       "      <th>user</th>\n",
       "      <th>track</th>\n",
       "      <th>time</th>\n",
       "      <th>latency</th>\n",
       "      <th>recommendation</th>\n",
       "      <th>experiments</th>\n",
       "      <th>rnd</th>\n",
       "    </tr>\n",
       "  </thead>\n",
       "  <tbody>\n",
       "    <tr>\n",
       "      <th>0</th>\n",
       "      <td>next</td>\n",
       "      <td>2025-04-10 03:36:16.589</td>\n",
       "      <td>6471</td>\n",
       "      <td>2115</td>\n",
       "      <td>1.00</td>\n",
       "      <td>0.000319</td>\n",
       "      <td>47732.0</td>\n",
       "      <td>{'PERSONALIZED': 'T1'}</td>\n",
       "      <td>0.219124</td>\n",
       "    </tr>\n",
       "    <tr>\n",
       "      <th>1</th>\n",
       "      <td>next</td>\n",
       "      <td>2025-04-10 03:36:16.598</td>\n",
       "      <td>7652</td>\n",
       "      <td>40195</td>\n",
       "      <td>0.48</td>\n",
       "      <td>0.000338</td>\n",
       "      <td>36705.0</td>\n",
       "      <td>{'PERSONALIZED': 'C'}</td>\n",
       "      <td>0.045350</td>\n",
       "    </tr>\n",
       "    <tr>\n",
       "      <th>2</th>\n",
       "      <td>next</td>\n",
       "      <td>2025-04-10 03:36:16.599</td>\n",
       "      <td>7652</td>\n",
       "      <td>36705</td>\n",
       "      <td>0.43</td>\n",
       "      <td>0.000408</td>\n",
       "      <td>24663.0</td>\n",
       "      <td>{'PERSONALIZED': 'C'}</td>\n",
       "      <td>0.877923</td>\n",
       "    </tr>\n",
       "    <tr>\n",
       "      <th>3</th>\n",
       "      <td>next</td>\n",
       "      <td>2025-04-10 03:36:16.602</td>\n",
       "      <td>9615</td>\n",
       "      <td>27452</td>\n",
       "      <td>0.53</td>\n",
       "      <td>0.000330</td>\n",
       "      <td>4058.0</td>\n",
       "      <td>{'PERSONALIZED': 'T1'}</td>\n",
       "      <td>0.283448</td>\n",
       "    </tr>\n",
       "    <tr>\n",
       "      <th>4</th>\n",
       "      <td>next</td>\n",
       "      <td>2025-04-10 03:36:16.605</td>\n",
       "      <td>7652</td>\n",
       "      <td>33591</td>\n",
       "      <td>0.22</td>\n",
       "      <td>0.000364</td>\n",
       "      <td>40195.0</td>\n",
       "      <td>{'PERSONALIZED': 'C'}</td>\n",
       "      <td>0.179900</td>\n",
       "    </tr>\n",
       "    <tr>\n",
       "      <th>...</th>\n",
       "      <td>...</td>\n",
       "      <td>...</td>\n",
       "      <td>...</td>\n",
       "      <td>...</td>\n",
       "      <td>...</td>\n",
       "      <td>...</td>\n",
       "      <td>...</td>\n",
       "      <td>...</td>\n",
       "      <td>...</td>\n",
       "    </tr>\n",
       "    <tr>\n",
       "      <th>3329509</th>\n",
       "      <td>next</td>\n",
       "      <td>2025-04-09 19:15:13.521</td>\n",
       "      <td>5469</td>\n",
       "      <td>26288</td>\n",
       "      <td>0.00</td>\n",
       "      <td>0.001104</td>\n",
       "      <td>26288.0</td>\n",
       "      <td>{'PERSONALIZED': 'C'}</td>\n",
       "      <td>0.196796</td>\n",
       "    </tr>\n",
       "    <tr>\n",
       "      <th>3329510</th>\n",
       "      <td>last</td>\n",
       "      <td>2025-04-09 19:15:13.524</td>\n",
       "      <td>5469</td>\n",
       "      <td>26288</td>\n",
       "      <td>0.00</td>\n",
       "      <td>0.000267</td>\n",
       "      <td>NaN</td>\n",
       "      <td>{'PERSONALIZED': 'C'}</td>\n",
       "      <td>0.598651</td>\n",
       "    </tr>\n",
       "    <tr>\n",
       "      <th>3329511</th>\n",
       "      <td>next</td>\n",
       "      <td>2025-04-09 19:15:13.530</td>\n",
       "      <td>7485</td>\n",
       "      <td>22030</td>\n",
       "      <td>1.00</td>\n",
       "      <td>0.000658</td>\n",
       "      <td>44056.0</td>\n",
       "      <td>{'PERSONALIZED': 'T1'}</td>\n",
       "      <td>0.863714</td>\n",
       "    </tr>\n",
       "    <tr>\n",
       "      <th>3329512</th>\n",
       "      <td>next</td>\n",
       "      <td>2025-04-09 19:15:13.534</td>\n",
       "      <td>7485</td>\n",
       "      <td>44056</td>\n",
       "      <td>0.01</td>\n",
       "      <td>0.000693</td>\n",
       "      <td>43082.0</td>\n",
       "      <td>{'PERSONALIZED': 'T1'}</td>\n",
       "      <td>0.921825</td>\n",
       "    </tr>\n",
       "    <tr>\n",
       "      <th>3329513</th>\n",
       "      <td>next</td>\n",
       "      <td>2025-04-09 19:15:13.538</td>\n",
       "      <td>7485</td>\n",
       "      <td>43082</td>\n",
       "      <td>0.00</td>\n",
       "      <td>0.000646</td>\n",
       "      <td>34608.0</td>\n",
       "      <td>{'PERSONALIZED': 'T1'}</td>\n",
       "      <td>0.717705</td>\n",
       "    </tr>\n",
       "  </tbody>\n",
       "</table>\n",
       "<p>3329514 rows × 9 columns</p>\n",
       "</div>"
      ],
      "text/plain": [
       "        message                timestamp  user  track  time   latency  \\\n",
       "0          next  2025-04-10 03:36:16.589  6471   2115  1.00  0.000319   \n",
       "1          next  2025-04-10 03:36:16.598  7652  40195  0.48  0.000338   \n",
       "2          next  2025-04-10 03:36:16.599  7652  36705  0.43  0.000408   \n",
       "3          next  2025-04-10 03:36:16.602  9615  27452  0.53  0.000330   \n",
       "4          next  2025-04-10 03:36:16.605  7652  33591  0.22  0.000364   \n",
       "...         ...                      ...   ...    ...   ...       ...   \n",
       "3329509    next  2025-04-09 19:15:13.521  5469  26288  0.00  0.001104   \n",
       "3329510    last  2025-04-09 19:15:13.524  5469  26288  0.00  0.000267   \n",
       "3329511    next  2025-04-09 19:15:13.530  7485  22030  1.00  0.000658   \n",
       "3329512    next  2025-04-09 19:15:13.534  7485  44056  0.01  0.000693   \n",
       "3329513    next  2025-04-09 19:15:13.538  7485  43082  0.00  0.000646   \n",
       "\n",
       "         recommendation             experiments       rnd  \n",
       "0               47732.0  {'PERSONALIZED': 'T1'}  0.219124  \n",
       "1               36705.0   {'PERSONALIZED': 'C'}  0.045350  \n",
       "2               24663.0   {'PERSONALIZED': 'C'}  0.877923  \n",
       "3                4058.0  {'PERSONALIZED': 'T1'}  0.283448  \n",
       "4               40195.0   {'PERSONALIZED': 'C'}  0.179900  \n",
       "...                 ...                     ...       ...  \n",
       "3329509         26288.0   {'PERSONALIZED': 'C'}  0.196796  \n",
       "3329510             NaN   {'PERSONALIZED': 'C'}  0.598651  \n",
       "3329511         44056.0  {'PERSONALIZED': 'T1'}  0.863714  \n",
       "3329512         43082.0  {'PERSONALIZED': 'T1'}  0.921825  \n",
       "3329513         34608.0  {'PERSONALIZED': 'T1'}  0.717705  \n",
       "\n",
       "[3329514 rows x 9 columns]"
      ]
     },
     "execution_count": 2,
     "metadata": {},
     "output_type": "execute_result"
    }
   ],
   "source": [
    "data_df"
   ]
  },
  {
   "cell_type": "code",
   "execution_count": 57,
   "metadata": {
    "colab": {
     "base_uri": "https://localhost:8080/"
    },
    "execution": {
     "iopub.execute_input": "2025-04-30T09:34:13.371297Z",
     "iopub.status.busy": "2025-04-30T09:34:13.371039Z",
     "iopub.status.idle": "2025-04-30T09:34:13.580424Z",
     "shell.execute_reply": "2025-04-30T09:34:13.579868Z",
     "shell.execute_reply.started": "2025-04-30T09:34:13.371277Z"
    },
    "id": "fjCD_Reowvtp",
    "outputId": "e107f73a-d1d0-448e-a2d0-0b79ea593629",
    "trusted": true
   },
   "outputs": [
    {
     "data": {
      "text/plain": [
       "(872672, 49755)"
      ]
     },
     "execution_count": 57,
     "metadata": {},
     "output_type": "execute_result"
    }
   ],
   "source": [
    "positives = data_df[data_df[\"time\"] >= 0.6].copy()\n",
    "\n",
    "track_counts = positives.groupby(\"track\").size()\n",
    "tracks = set(track_counts\n",
    "             [track_counts >= 1]\n",
    "             .index.values)\n",
    "\n",
    "data_filt_pos = positives[positives[\"track\"].isin(tracks)]\n",
    "\n",
    "len(data_filt_pos), len(tracks)"
   ]
  },
  {
   "cell_type": "code",
   "execution_count": 58,
   "metadata": {
    "execution": {
     "iopub.execute_input": "2025-04-30T09:34:16.695434Z",
     "iopub.status.busy": "2025-04-30T09:34:16.694948Z",
     "iopub.status.idle": "2025-04-30T09:34:16.707864Z",
     "shell.execute_reply": "2025-04-30T09:34:16.707243Z",
     "shell.execute_reply.started": "2025-04-30T09:34:16.695412Z"
    },
    "trusted": true
   },
   "outputs": [],
   "source": [
    "user_counts_pos = data_filt_pos.user.value_counts().to_dict()"
   ]
  },
  {
   "cell_type": "code",
   "execution_count": 59,
   "metadata": {
    "execution": {
     "iopub.execute_input": "2025-04-30T09:34:17.425048Z",
     "iopub.status.busy": "2025-04-30T09:34:17.424522Z",
     "iopub.status.idle": "2025-04-30T09:34:17.586279Z",
     "shell.execute_reply": "2025-04-30T09:34:17.585528Z",
     "shell.execute_reply.started": "2025-04-30T09:34:17.425024Z"
    },
    "trusted": true
   },
   "outputs": [],
   "source": [
    "data_filt_neg = data_df[data_df[\"time\"] <= 0.3]"
   ]
  },
  {
   "cell_type": "code",
   "execution_count": 60,
   "metadata": {
    "execution": {
     "iopub.execute_input": "2025-04-30T09:34:17.923322Z",
     "iopub.status.busy": "2025-04-30T09:34:17.923084Z",
     "iopub.status.idle": "2025-04-30T09:34:48.731844Z",
     "shell.execute_reply": "2025-04-30T09:34:48.731065Z",
     "shell.execute_reply.started": "2025-04-30T09:34:17.923306Z"
    },
    "trusted": true
   },
   "outputs": [],
   "source": [
    "pos_pairs = set(data_filt_pos[['user', 'track']].apply(tuple, axis=1))\n",
    "\n",
    "data_filt_neg = data_df[data_df[\"time\"] <= 0.3].copy()\n",
    "data_filt_neg[\"pair\"] = list(zip(data_filt_neg[\"user\"], data_filt_neg[\"track\"]))\n",
    "data_filt_neg = data_filt_neg[~data_filt_neg[\"pair\"].isin(pos_pairs)]\n",
    "\n",
    "data_filt_neg = pd.concat([\n",
    "    data_filt_neg[data_filt_neg[\"user\"] == user].head(count)\n",
    "    for user, count in user_counts_pos.items()\n",
    "    if user in data_filt_neg[\"user\"].values\n",
    "])\n",
    "\n",
    "data_filt_neg = data_filt_neg.drop_duplicates(['user', 'track'])\n",
    "\n",
    "data_filt = pd.concat([data_filt_pos, data_filt_neg])"
   ]
  },
  {
   "cell_type": "code",
   "execution_count": 61,
   "metadata": {
    "execution": {
     "iopub.execute_input": "2025-04-30T09:34:48.733492Z",
     "iopub.status.busy": "2025-04-30T09:34:48.733239Z",
     "iopub.status.idle": "2025-04-30T09:34:48.893583Z",
     "shell.execute_reply": "2025-04-30T09:34:48.893044Z",
     "shell.execute_reply.started": "2025-04-30T09:34:48.733470Z"
    },
    "trusted": true
   },
   "outputs": [],
   "source": [
    "data_filt = pd.concat([data_filt_pos, data_filt_neg])"
   ]
  },
  {
   "cell_type": "code",
   "execution_count": 62,
   "metadata": {
    "execution": {
     "iopub.execute_input": "2025-04-30T09:34:48.894385Z",
     "iopub.status.busy": "2025-04-30T09:34:48.894209Z",
     "iopub.status.idle": "2025-04-30T09:34:49.384075Z",
     "shell.execute_reply": "2025-04-30T09:34:49.383531Z",
     "shell.execute_reply.started": "2025-04-30T09:34:48.894371Z"
    },
    "trusted": true
   },
   "outputs": [],
   "source": [
    "data_filt['label'] = data_filt.time.apply(lambda t: 1 if t >= 0.6 else 0)"
   ]
  },
  {
   "cell_type": "code",
   "execution_count": 63,
   "metadata": {
    "execution": {
     "iopub.execute_input": "2025-04-30T09:34:49.385578Z",
     "iopub.status.busy": "2025-04-30T09:34:49.385348Z",
     "iopub.status.idle": "2025-04-30T09:34:49.400734Z",
     "shell.execute_reply": "2025-04-30T09:34:49.400076Z",
     "shell.execute_reply.started": "2025-04-30T09:34:49.385553Z"
    },
    "trusted": true
   },
   "outputs": [
    {
     "name": "stderr",
     "output_type": "stream",
     "text": [
      "/usr/local/lib/python3.11/dist-packages/pandas/io/formats/format.py:1458: RuntimeWarning: invalid value encountered in greater\n",
      "  has_large_values = (abs_vals > 1e6).any()\n",
      "/usr/local/lib/python3.11/dist-packages/pandas/io/formats/format.py:1459: RuntimeWarning: invalid value encountered in less\n",
      "  has_small_values = ((abs_vals < 10 ** (-self.digits)) & (abs_vals > 0)).any()\n",
      "/usr/local/lib/python3.11/dist-packages/pandas/io/formats/format.py:1459: RuntimeWarning: invalid value encountered in greater\n",
      "  has_small_values = ((abs_vals < 10 ** (-self.digits)) & (abs_vals > 0)).any()\n"
     ]
    },
    {
     "data": {
      "text/html": [
       "<div>\n",
       "<style scoped>\n",
       "    .dataframe tbody tr th:only-of-type {\n",
       "        vertical-align: middle;\n",
       "    }\n",
       "\n",
       "    .dataframe tbody tr th {\n",
       "        vertical-align: top;\n",
       "    }\n",
       "\n",
       "    .dataframe thead th {\n",
       "        text-align: right;\n",
       "    }\n",
       "</style>\n",
       "<table border=\"1\" class=\"dataframe\">\n",
       "  <thead>\n",
       "    <tr style=\"text-align: right;\">\n",
       "      <th></th>\n",
       "      <th>message</th>\n",
       "      <th>timestamp</th>\n",
       "      <th>user</th>\n",
       "      <th>track</th>\n",
       "      <th>time</th>\n",
       "      <th>latency</th>\n",
       "      <th>recommendation</th>\n",
       "      <th>experiments</th>\n",
       "      <th>rnd</th>\n",
       "      <th>pair</th>\n",
       "      <th>label</th>\n",
       "    </tr>\n",
       "  </thead>\n",
       "  <tbody>\n",
       "    <tr>\n",
       "      <th>0</th>\n",
       "      <td>next</td>\n",
       "      <td>2025-04-10 03:36:16.589</td>\n",
       "      <td>6471</td>\n",
       "      <td>2115</td>\n",
       "      <td>1.00</td>\n",
       "      <td>0.000319</td>\n",
       "      <td>47732.0</td>\n",
       "      <td>{'PERSONALIZED': 'T1'}</td>\n",
       "      <td>0.219124</td>\n",
       "      <td>NaN</td>\n",
       "      <td>1</td>\n",
       "    </tr>\n",
       "    <tr>\n",
       "      <th>5</th>\n",
       "      <td>next</td>\n",
       "      <td>2025-04-10 03:36:16.608</td>\n",
       "      <td>44</td>\n",
       "      <td>39191</td>\n",
       "      <td>1.00</td>\n",
       "      <td>0.000469</td>\n",
       "      <td>11430.0</td>\n",
       "      <td>{'PERSONALIZED': 'C'}</td>\n",
       "      <td>0.763631</td>\n",
       "      <td>NaN</td>\n",
       "      <td>1</td>\n",
       "    </tr>\n",
       "    <tr>\n",
       "      <th>6</th>\n",
       "      <td>next</td>\n",
       "      <td>2025-04-10 03:36:16.611</td>\n",
       "      <td>9615</td>\n",
       "      <td>37737</td>\n",
       "      <td>0.90</td>\n",
       "      <td>0.000527</td>\n",
       "      <td>36218.0</td>\n",
       "      <td>{'PERSONALIZED': 'T1'}</td>\n",
       "      <td>0.570915</td>\n",
       "      <td>NaN</td>\n",
       "      <td>1</td>\n",
       "    </tr>\n",
       "    <tr>\n",
       "      <th>8</th>\n",
       "      <td>next</td>\n",
       "      <td>2025-04-10 03:36:16.619</td>\n",
       "      <td>2678</td>\n",
       "      <td>26091</td>\n",
       "      <td>1.00</td>\n",
       "      <td>0.000423</td>\n",
       "      <td>27868.0</td>\n",
       "      <td>{'PERSONALIZED': 'T1'}</td>\n",
       "      <td>0.384227</td>\n",
       "      <td>NaN</td>\n",
       "      <td>1</td>\n",
       "    </tr>\n",
       "    <tr>\n",
       "      <th>10</th>\n",
       "      <td>next</td>\n",
       "      <td>2025-04-10 03:36:16.625</td>\n",
       "      <td>2678</td>\n",
       "      <td>35596</td>\n",
       "      <td>0.91</td>\n",
       "      <td>0.000430</td>\n",
       "      <td>19353.0</td>\n",
       "      <td>{'PERSONALIZED': 'T1'}</td>\n",
       "      <td>0.027928</td>\n",
       "      <td>NaN</td>\n",
       "      <td>1</td>\n",
       "    </tr>\n",
       "    <tr>\n",
       "      <th>...</th>\n",
       "      <td>...</td>\n",
       "      <td>...</td>\n",
       "      <td>...</td>\n",
       "      <td>...</td>\n",
       "      <td>...</td>\n",
       "      <td>...</td>\n",
       "      <td>...</td>\n",
       "      <td>...</td>\n",
       "      <td>...</td>\n",
       "      <td>...</td>\n",
       "      <td>...</td>\n",
       "    </tr>\n",
       "    <tr>\n",
       "      <th>505711</th>\n",
       "      <td>next</td>\n",
       "      <td>2025-04-10 04:02:01.981</td>\n",
       "      <td>2895</td>\n",
       "      <td>927</td>\n",
       "      <td>0.00</td>\n",
       "      <td>0.000404</td>\n",
       "      <td>8945.0</td>\n",
       "      <td>{'PERSONALIZED': 'T1'}</td>\n",
       "      <td>0.962819</td>\n",
       "      <td>(2895, 927)</td>\n",
       "      <td>0</td>\n",
       "    </tr>\n",
       "    <tr>\n",
       "      <th>523570</th>\n",
       "      <td>last</td>\n",
       "      <td>2025-04-10 04:02:56.600</td>\n",
       "      <td>2895</td>\n",
       "      <td>2903</td>\n",
       "      <td>0.00</td>\n",
       "      <td>0.000097</td>\n",
       "      <td>NaN</td>\n",
       "      <td>{'PERSONALIZED': 'T1'}</td>\n",
       "      <td>0.564288</td>\n",
       "      <td>(2895, 2903)</td>\n",
       "      <td>0</td>\n",
       "    </tr>\n",
       "    <tr>\n",
       "      <th>599692</th>\n",
       "      <td>next</td>\n",
       "      <td>2025-04-09 19:06:37.311</td>\n",
       "      <td>2895</td>\n",
       "      <td>18618</td>\n",
       "      <td>0.00</td>\n",
       "      <td>0.000399</td>\n",
       "      <td>20237.0</td>\n",
       "      <td>{'PERSONALIZED': 'T1'}</td>\n",
       "      <td>0.346869</td>\n",
       "      <td>(2895, 18618)</td>\n",
       "      <td>0</td>\n",
       "    </tr>\n",
       "    <tr>\n",
       "      <th>599693</th>\n",
       "      <td>next</td>\n",
       "      <td>2025-04-09 19:06:37.313</td>\n",
       "      <td>2895</td>\n",
       "      <td>20237</td>\n",
       "      <td>0.00</td>\n",
       "      <td>0.000315</td>\n",
       "      <td>27885.0</td>\n",
       "      <td>{'PERSONALIZED': 'T1'}</td>\n",
       "      <td>0.441185</td>\n",
       "      <td>(2895, 20237)</td>\n",
       "      <td>0</td>\n",
       "    </tr>\n",
       "    <tr>\n",
       "      <th>599694</th>\n",
       "      <td>next</td>\n",
       "      <td>2025-04-09 19:06:37.314</td>\n",
       "      <td>2895</td>\n",
       "      <td>27885</td>\n",
       "      <td>0.00</td>\n",
       "      <td>0.000443</td>\n",
       "      <td>1824.0</td>\n",
       "      <td>{'PERSONALIZED': 'T1'}</td>\n",
       "      <td>0.088167</td>\n",
       "      <td>(2895, 27885)</td>\n",
       "      <td>0</td>\n",
       "    </tr>\n",
       "  </tbody>\n",
       "</table>\n",
       "<p>1428802 rows × 11 columns</p>\n",
       "</div>"
      ],
      "text/plain": [
       "       message                timestamp  user  track  time   latency  \\\n",
       "0         next  2025-04-10 03:36:16.589  6471   2115  1.00  0.000319   \n",
       "5         next  2025-04-10 03:36:16.608    44  39191  1.00  0.000469   \n",
       "6         next  2025-04-10 03:36:16.611  9615  37737  0.90  0.000527   \n",
       "8         next  2025-04-10 03:36:16.619  2678  26091  1.00  0.000423   \n",
       "10        next  2025-04-10 03:36:16.625  2678  35596  0.91  0.000430   \n",
       "...        ...                      ...   ...    ...   ...       ...   \n",
       "505711    next  2025-04-10 04:02:01.981  2895    927  0.00  0.000404   \n",
       "523570    last  2025-04-10 04:02:56.600  2895   2903  0.00  0.000097   \n",
       "599692    next  2025-04-09 19:06:37.311  2895  18618  0.00  0.000399   \n",
       "599693    next  2025-04-09 19:06:37.313  2895  20237  0.00  0.000315   \n",
       "599694    next  2025-04-09 19:06:37.314  2895  27885  0.00  0.000443   \n",
       "\n",
       "        recommendation             experiments       rnd           pair  label  \n",
       "0              47732.0  {'PERSONALIZED': 'T1'}  0.219124            NaN      1  \n",
       "5              11430.0   {'PERSONALIZED': 'C'}  0.763631            NaN      1  \n",
       "6              36218.0  {'PERSONALIZED': 'T1'}  0.570915            NaN      1  \n",
       "8              27868.0  {'PERSONALIZED': 'T1'}  0.384227            NaN      1  \n",
       "10             19353.0  {'PERSONALIZED': 'T1'}  0.027928            NaN      1  \n",
       "...                ...                     ...       ...            ...    ...  \n",
       "505711          8945.0  {'PERSONALIZED': 'T1'}  0.962819    (2895, 927)      0  \n",
       "523570             NaN  {'PERSONALIZED': 'T1'}  0.564288   (2895, 2903)      0  \n",
       "599692         20237.0  {'PERSONALIZED': 'T1'}  0.346869  (2895, 18618)      0  \n",
       "599693         27885.0  {'PERSONALIZED': 'T1'}  0.441185  (2895, 20237)      0  \n",
       "599694          1824.0  {'PERSONALIZED': 'T1'}  0.088167  (2895, 27885)      0  \n",
       "\n",
       "[1428802 rows x 11 columns]"
      ]
     },
     "execution_count": 63,
     "metadata": {},
     "output_type": "execute_result"
    }
   ],
   "source": [
    "data_filt"
   ]
  },
  {
   "cell_type": "code",
   "execution_count": 64,
   "metadata": {
    "execution": {
     "iopub.execute_input": "2025-04-30T09:34:49.402272Z",
     "iopub.status.busy": "2025-04-30T09:34:49.401520Z",
     "iopub.status.idle": "2025-04-30T09:34:49.587487Z",
     "shell.execute_reply": "2025-04-30T09:34:49.586716Z",
     "shell.execute_reply.started": "2025-04-30T09:34:49.402253Z"
    },
    "trusted": true
   },
   "outputs": [],
   "source": [
    "data_filt = data_filt.drop_duplicates(['user', 'track'], keep='first')"
   ]
  },
  {
   "cell_type": "code",
   "execution_count": 65,
   "metadata": {
    "execution": {
     "iopub.execute_input": "2025-04-30T09:34:49.589012Z",
     "iopub.status.busy": "2025-04-30T09:34:49.588373Z",
     "iopub.status.idle": "2025-04-30T09:34:49.611203Z",
     "shell.execute_reply": "2025-04-30T09:34:49.610669Z",
     "shell.execute_reply.started": "2025-04-30T09:34:49.588985Z"
    },
    "trusted": true
   },
   "outputs": [
    {
     "data": {
      "text/plain": [
       "(10000, 50000)"
      ]
     },
     "execution_count": 65,
     "metadata": {},
     "output_type": "execute_result"
    }
   ],
   "source": [
    "data_filt.user.nunique(), data_filt.track.nunique()"
   ]
  },
  {
   "cell_type": "code",
   "execution_count": null,
   "metadata": {
    "execution": {
     "iopub.execute_input": "2025-04-30T09:34:53.915629Z",
     "iopub.status.busy": "2025-04-30T09:34:53.914989Z",
     "iopub.status.idle": "2025-04-30T09:34:54.071926Z",
     "shell.execute_reply": "2025-04-30T09:34:54.071347Z",
     "shell.execute_reply.started": "2025-04-30T09:34:53.915606Z"
    },
    "id": "rhTa3TnKxscw",
    "trusted": true
   },
   "outputs": [],
   "source": [
    "data_filt = data_filt[['user', 'track', 'time', 'label', 'timestamp']]\n",
    "data_user_track = data_filt.copy()"
   ]
  },
  {
   "cell_type": "code",
   "execution_count": 67,
   "metadata": {
    "execution": {
     "iopub.execute_input": "2025-04-30T09:34:54.807430Z",
     "iopub.status.busy": "2025-04-30T09:34:54.807177Z",
     "iopub.status.idle": "2025-04-30T09:34:54.838862Z",
     "shell.execute_reply": "2025-04-30T09:34:54.838022Z",
     "shell.execute_reply.started": "2025-04-30T09:34:54.807411Z"
    },
    "id": "58nWPlylxsft",
    "trusted": true
   },
   "outputs": [],
   "source": [
    "del data_filt"
   ]
  },
  {
   "cell_type": "code",
   "execution_count": 68,
   "metadata": {
    "execution": {
     "iopub.execute_input": "2025-04-30T09:34:55.739857Z",
     "iopub.status.busy": "2025-04-30T09:34:55.739168Z",
     "iopub.status.idle": "2025-04-30T09:34:56.464501Z",
     "shell.execute_reply": "2025-04-30T09:34:56.463967Z",
     "shell.execute_reply.started": "2025-04-30T09:34:55.739835Z"
    },
    "trusted": true
   },
   "outputs": [],
   "source": [
    "data_user_track['timestamp'] = pd.to_datetime(data_user_track['timestamp'])\n",
    "data_user_track = data_user_track.sort_values(['user', 'timestamp'])"
   ]
  },
  {
   "cell_type": "code",
   "execution_count": 69,
   "metadata": {
    "execution": {
     "iopub.execute_input": "2025-04-30T09:34:58.047709Z",
     "iopub.status.busy": "2025-04-30T09:34:58.047129Z",
     "iopub.status.idle": "2025-04-30T09:34:58.057033Z",
     "shell.execute_reply": "2025-04-30T09:34:58.056409Z",
     "shell.execute_reply.started": "2025-04-30T09:34:58.047686Z"
    },
    "trusted": true
   },
   "outputs": [
    {
     "data": {
      "text/html": [
       "<div>\n",
       "<style scoped>\n",
       "    .dataframe tbody tr th:only-of-type {\n",
       "        vertical-align: middle;\n",
       "    }\n",
       "\n",
       "    .dataframe tbody tr th {\n",
       "        vertical-align: top;\n",
       "    }\n",
       "\n",
       "    .dataframe thead th {\n",
       "        text-align: right;\n",
       "    }\n",
       "</style>\n",
       "<table border=\"1\" class=\"dataframe\">\n",
       "  <thead>\n",
       "    <tr style=\"text-align: right;\">\n",
       "      <th></th>\n",
       "      <th>user</th>\n",
       "      <th>track</th>\n",
       "      <th>time</th>\n",
       "      <th>label</th>\n",
       "      <th>timestamp</th>\n",
       "    </tr>\n",
       "  </thead>\n",
       "  <tbody>\n",
       "    <tr>\n",
       "      <th>3093036</th>\n",
       "      <td>0</td>\n",
       "      <td>14427</td>\n",
       "      <td>1.00</td>\n",
       "      <td>1</td>\n",
       "      <td>2025-04-09 19:06:30.580</td>\n",
       "    </tr>\n",
       "    <tr>\n",
       "      <th>1428484</th>\n",
       "      <td>0</td>\n",
       "      <td>37465</td>\n",
       "      <td>0.00</td>\n",
       "      <td>0</td>\n",
       "      <td>2025-04-09 19:06:30.585</td>\n",
       "    </tr>\n",
       "    <tr>\n",
       "      <th>600946</th>\n",
       "      <td>0</td>\n",
       "      <td>48906</td>\n",
       "      <td>1.00</td>\n",
       "      <td>1</td>\n",
       "      <td>2025-04-09 19:06:39.951</td>\n",
       "    </tr>\n",
       "    <tr>\n",
       "      <th>600947</th>\n",
       "      <td>0</td>\n",
       "      <td>48134</td>\n",
       "      <td>0.80</td>\n",
       "      <td>1</td>\n",
       "      <td>2025-04-09 19:06:39.954</td>\n",
       "    </tr>\n",
       "    <tr>\n",
       "      <th>600948</th>\n",
       "      <td>0</td>\n",
       "      <td>49761</td>\n",
       "      <td>0.64</td>\n",
       "      <td>1</td>\n",
       "      <td>2025-04-09 19:06:39.956</td>\n",
       "    </tr>\n",
       "    <tr>\n",
       "      <th>...</th>\n",
       "      <td>...</td>\n",
       "      <td>...</td>\n",
       "      <td>...</td>\n",
       "      <td>...</td>\n",
       "      <td>...</td>\n",
       "    </tr>\n",
       "    <tr>\n",
       "      <th>463553</th>\n",
       "      <td>9999</td>\n",
       "      <td>48637</td>\n",
       "      <td>0.19</td>\n",
       "      <td>0</td>\n",
       "      <td>2025-04-10 03:59:51.910</td>\n",
       "    </tr>\n",
       "    <tr>\n",
       "      <th>494393</th>\n",
       "      <td>9999</td>\n",
       "      <td>3637</td>\n",
       "      <td>1.00</td>\n",
       "      <td>1</td>\n",
       "      <td>2025-04-10 04:01:26.962</td>\n",
       "    </tr>\n",
       "    <tr>\n",
       "      <th>494395</th>\n",
       "      <td>9999</td>\n",
       "      <td>11721</td>\n",
       "      <td>0.15</td>\n",
       "      <td>0</td>\n",
       "      <td>2025-04-10 04:01:26.968</td>\n",
       "    </tr>\n",
       "    <tr>\n",
       "      <th>1336626</th>\n",
       "      <td>9999</td>\n",
       "      <td>31068</td>\n",
       "      <td>0.60</td>\n",
       "      <td>1</td>\n",
       "      <td>2025-04-10 04:01:57.540</td>\n",
       "    </tr>\n",
       "    <tr>\n",
       "      <th>509718</th>\n",
       "      <td>9999</td>\n",
       "      <td>49864</td>\n",
       "      <td>0.04</td>\n",
       "      <td>0</td>\n",
       "      <td>2025-04-10 04:02:14.193</td>\n",
       "    </tr>\n",
       "  </tbody>\n",
       "</table>\n",
       "<p>1096167 rows × 5 columns</p>\n",
       "</div>"
      ],
      "text/plain": [
       "         user  track  time  label               timestamp\n",
       "3093036     0  14427  1.00      1 2025-04-09 19:06:30.580\n",
       "1428484     0  37465  0.00      0 2025-04-09 19:06:30.585\n",
       "600946      0  48906  1.00      1 2025-04-09 19:06:39.951\n",
       "600947      0  48134  0.80      1 2025-04-09 19:06:39.954\n",
       "600948      0  49761  0.64      1 2025-04-09 19:06:39.956\n",
       "...       ...    ...   ...    ...                     ...\n",
       "463553   9999  48637  0.19      0 2025-04-10 03:59:51.910\n",
       "494393   9999   3637  1.00      1 2025-04-10 04:01:26.962\n",
       "494395   9999  11721  0.15      0 2025-04-10 04:01:26.968\n",
       "1336626  9999  31068  0.60      1 2025-04-10 04:01:57.540\n",
       "509718   9999  49864  0.04      0 2025-04-10 04:02:14.193\n",
       "\n",
       "[1096167 rows x 5 columns]"
      ]
     },
     "execution_count": 69,
     "metadata": {},
     "output_type": "execute_result"
    }
   ],
   "source": [
    "data_user_track"
   ]
  },
  {
   "cell_type": "code",
   "execution_count": 4,
   "metadata": {
    "execution": {
     "iopub.execute_input": "2025-04-30T09:35:14.093108Z",
     "iopub.status.busy": "2025-04-30T09:35:14.092835Z",
     "iopub.status.idle": "2025-04-30T09:35:14.681388Z",
     "shell.execute_reply": "2025-04-30T09:35:14.680852Z",
     "shell.execute_reply.started": "2025-04-30T09:35:14.093087Z"
    },
    "trusted": true
   },
   "outputs": [],
   "source": [
    "item_factors = pd.read_json('../botify/data/tracks.json', lines=True)"
   ]
  },
  {
   "cell_type": "code",
   "execution_count": 5,
   "metadata": {
    "execution": {
     "iopub.execute_input": "2025-04-30T09:35:29.179738Z",
     "iopub.status.busy": "2025-04-30T09:35:29.179064Z",
     "iopub.status.idle": "2025-04-30T09:35:29.192223Z",
     "shell.execute_reply": "2025-04-30T09:35:29.191645Z",
     "shell.execute_reply.started": "2025-04-30T09:35:29.179714Z"
    },
    "trusted": true
   },
   "outputs": [
    {
     "data": {
      "text/html": [
       "<div>\n",
       "<style scoped>\n",
       "    .dataframe tbody tr th:only-of-type {\n",
       "        vertical-align: middle;\n",
       "    }\n",
       "\n",
       "    .dataframe tbody tr th {\n",
       "        vertical-align: top;\n",
       "    }\n",
       "\n",
       "    .dataframe thead th {\n",
       "        text-align: right;\n",
       "    }\n",
       "</style>\n",
       "<table border=\"1\" class=\"dataframe\">\n",
       "  <thead>\n",
       "    <tr style=\"text-align: right;\">\n",
       "      <th></th>\n",
       "      <th>artist</th>\n",
       "      <th>album</th>\n",
       "      <th>title</th>\n",
       "      <th>genre</th>\n",
       "      <th>pop</th>\n",
       "      <th>duration</th>\n",
       "      <th>track</th>\n",
       "    </tr>\n",
       "  </thead>\n",
       "  <tbody>\n",
       "    <tr>\n",
       "      <th>0</th>\n",
       "      <td>Михаил Бублик</td>\n",
       "      <td>ART-Обстрел I-часть</td>\n",
       "      <td>Сорок тысяч верст</td>\n",
       "      <td>[1, 47]</td>\n",
       "      <td>-0.500252</td>\n",
       "      <td>282</td>\n",
       "      <td>41164</td>\n",
       "    </tr>\n",
       "    <tr>\n",
       "      <th>1</th>\n",
       "      <td>Xamdam Sobirov</td>\n",
       "      <td>Baxtli Bo'lolmadik</td>\n",
       "      <td>Baxtli Bo'lolmadik</td>\n",
       "      <td>[1]</td>\n",
       "      <td>-0.942953</td>\n",
       "      <td>205</td>\n",
       "      <td>27544</td>\n",
       "    </tr>\n",
       "    <tr>\n",
       "      <th>2</th>\n",
       "      <td>Сергей Какенов</td>\n",
       "      <td>Ишимская шпана</td>\n",
       "      <td>Крутые лагеря</td>\n",
       "      <td>[147]</td>\n",
       "      <td>-0.801382</td>\n",
       "      <td>252</td>\n",
       "      <td>34702</td>\n",
       "    </tr>\n",
       "    <tr>\n",
       "      <th>3</th>\n",
       "      <td>Loc-Dog</td>\n",
       "      <td>Electrodog 2</td>\n",
       "      <td>Еду убивать</td>\n",
       "      <td>[17]</td>\n",
       "      <td>-0.577525</td>\n",
       "      <td>276</td>\n",
       "      <td>45907</td>\n",
       "    </tr>\n",
       "    <tr>\n",
       "      <th>4</th>\n",
       "      <td>Gafur</td>\n",
       "      <td>Февраль</td>\n",
       "      <td>Февраль</td>\n",
       "      <td>[1]</td>\n",
       "      <td>-0.738636</td>\n",
       "      <td>160</td>\n",
       "      <td>14978</td>\n",
       "    </tr>\n",
       "    <tr>\n",
       "      <th>...</th>\n",
       "      <td>...</td>\n",
       "      <td>...</td>\n",
       "      <td>...</td>\n",
       "      <td>...</td>\n",
       "      <td>...</td>\n",
       "      <td>...</td>\n",
       "      <td>...</td>\n",
       "    </tr>\n",
       "    <tr>\n",
       "      <th>49995</th>\n",
       "      <td>Дмитрий Гревцев</td>\n",
       "      <td>Вечер под луной</td>\n",
       "      <td>Вечер под луной</td>\n",
       "      <td>[81]</td>\n",
       "      <td>-0.572433</td>\n",
       "      <td>186</td>\n",
       "      <td>1794</td>\n",
       "    </tr>\n",
       "    <tr>\n",
       "      <th>49996</th>\n",
       "      <td>TSOY</td>\n",
       "      <td>Торнадо</td>\n",
       "      <td>Торнадо</td>\n",
       "      <td>[1]</td>\n",
       "      <td>-1.171082</td>\n",
       "      <td>162</td>\n",
       "      <td>6622</td>\n",
       "    </tr>\n",
       "    <tr>\n",
       "      <th>49997</th>\n",
       "      <td>Тимати</td>\n",
       "      <td>Транзит</td>\n",
       "      <td>Хавчик</td>\n",
       "      <td>[10]</td>\n",
       "      <td>-0.239359</td>\n",
       "      <td>185</td>\n",
       "      <td>25165</td>\n",
       "    </tr>\n",
       "    <tr>\n",
       "      <th>49998</th>\n",
       "      <td>Краски</td>\n",
       "      <td>Он не знает ничего (DFM Mix)</td>\n",
       "      <td>Он не знает ничего (DFM Mix)</td>\n",
       "      <td>[1]</td>\n",
       "      <td>-0.028292</td>\n",
       "      <td>160</td>\n",
       "      <td>7780</td>\n",
       "    </tr>\n",
       "    <tr>\n",
       "      <th>49999</th>\n",
       "      <td>Сергей Клушин</td>\n",
       "      <td>Лучшая из женщин</td>\n",
       "      <td>Лучшая из женщин</td>\n",
       "      <td>[149]</td>\n",
       "      <td>-1.372019</td>\n",
       "      <td>304</td>\n",
       "      <td>5048</td>\n",
       "    </tr>\n",
       "  </tbody>\n",
       "</table>\n",
       "<p>50000 rows × 7 columns</p>\n",
       "</div>"
      ],
      "text/plain": [
       "                artist                         album  \\\n",
       "0        Михаил Бублик           ART-Обстрел I-часть   \n",
       "1       Xamdam Sobirov            Baxtli Bo'lolmadik   \n",
       "2       Сергей Какенов                Ишимская шпана   \n",
       "3              Loc-Dog                  Electrodog 2   \n",
       "4                Gafur                       Февраль   \n",
       "...                ...                           ...   \n",
       "49995  Дмитрий Гревцев               Вечер под луной   \n",
       "49996             TSOY                       Торнадо   \n",
       "49997           Тимати                       Транзит   \n",
       "49998           Краски  Он не знает ничего (DFM Mix)   \n",
       "49999    Сергей Клушин              Лучшая из женщин   \n",
       "\n",
       "                              title    genre       pop  duration  track  \n",
       "0                 Сорок тысяч верст  [1, 47] -0.500252       282  41164  \n",
       "1                Baxtli Bo'lolmadik      [1] -0.942953       205  27544  \n",
       "2                     Крутые лагеря    [147] -0.801382       252  34702  \n",
       "3                       Еду убивать     [17] -0.577525       276  45907  \n",
       "4                           Февраль      [1] -0.738636       160  14978  \n",
       "...                             ...      ...       ...       ...    ...  \n",
       "49995               Вечер под луной     [81] -0.572433       186   1794  \n",
       "49996                       Торнадо      [1] -1.171082       162   6622  \n",
       "49997                        Хавчик     [10] -0.239359       185  25165  \n",
       "49998  Он не знает ничего (DFM Mix)      [1] -0.028292       160   7780  \n",
       "49999              Лучшая из женщин    [149] -1.372019       304   5048  \n",
       "\n",
       "[50000 rows x 7 columns]"
      ]
     },
     "execution_count": 5,
     "metadata": {},
     "output_type": "execute_result"
    }
   ],
   "source": [
    "item_factors"
   ]
  },
  {
   "cell_type": "code",
   "execution_count": 80,
   "metadata": {
    "execution": {
     "iopub.execute_input": "2025-04-30T09:35:32.727465Z",
     "iopub.status.busy": "2025-04-30T09:35:32.726894Z",
     "iopub.status.idle": "2025-04-30T09:35:33.203725Z",
     "shell.execute_reply": "2025-04-30T09:35:33.203154Z",
     "shell.execute_reply.started": "2025-04-30T09:35:32.727443Z"
    },
    "trusted": true
   },
   "outputs": [],
   "source": [
    "df_onehot = pd.get_dummies(item_factors, columns=['artist'])"
   ]
  },
  {
   "cell_type": "code",
   "execution_count": 82,
   "metadata": {
    "execution": {
     "iopub.execute_input": "2025-04-30T09:35:36.676866Z",
     "iopub.status.busy": "2025-04-30T09:35:36.676173Z",
     "iopub.status.idle": "2025-04-30T09:35:37.629289Z",
     "shell.execute_reply": "2025-04-30T09:35:37.628451Z",
     "shell.execute_reply.started": "2025-04-30T09:35:36.676806Z"
    },
    "trusted": true
   },
   "outputs": [],
   "source": [
    "item_factors['genre'] = item_factors['genre'].apply(lambda x: eval(x) if isinstance(x, str) else x)\n",
    "\n",
    "mlb = MultiLabelBinarizer()\n",
    "genre_onehot = pd.DataFrame(mlb.fit_transform(item_factors['genre']), columns=[f'genre_{g}' for g in mlb.classes_])\n",
    "\n",
    "df_final = pd.concat([df_onehot.drop(columns=['genre']), genre_onehot], axis=1)"
   ]
  },
  {
   "cell_type": "code",
   "execution_count": 83,
   "metadata": {
    "execution": {
     "iopub.execute_input": "2025-04-30T09:35:37.630987Z",
     "iopub.status.busy": "2025-04-30T09:35:37.630608Z",
     "iopub.status.idle": "2025-04-30T09:35:38.774396Z",
     "shell.execute_reply": "2025-04-30T09:35:38.773596Z",
     "shell.execute_reply.started": "2025-04-30T09:35:37.630968Z"
    },
    "trusted": true
   },
   "outputs": [],
   "source": [
    "df_final = df_final.sort_values('track').drop(columns=['title', 'album'])"
   ]
  },
  {
   "cell_type": "code",
   "execution_count": 84,
   "metadata": {
    "execution": {
     "iopub.execute_input": "2025-04-30T09:35:38.776008Z",
     "iopub.status.busy": "2025-04-30T09:35:38.775640Z",
     "iopub.status.idle": "2025-04-30T09:35:42.433982Z",
     "shell.execute_reply": "2025-04-30T09:35:42.433174Z",
     "shell.execute_reply.started": "2025-04-30T09:35:38.775985Z"
    },
    "trusted": true
   },
   "outputs": [],
   "source": [
    "bool_cols = df_final.select_dtypes(include='bool').columns\n",
    "df_final[bool_cols] = df_final[bool_cols].astype('uint8')\n"
   ]
  },
  {
   "cell_type": "code",
   "execution_count": 85,
   "metadata": {
    "execution": {
     "iopub.execute_input": "2025-04-30T09:35:42.435483Z",
     "iopub.status.busy": "2025-04-30T09:35:42.435297Z",
     "iopub.status.idle": "2025-04-30T09:35:42.457647Z",
     "shell.execute_reply": "2025-04-30T09:35:42.457129Z",
     "shell.execute_reply.started": "2025-04-30T09:35:42.435468Z"
    },
    "trusted": true
   },
   "outputs": [],
   "source": [
    "scaler = StandardScaler()\n",
    "df_final['duration'] = scaler.fit_transform(df_final[['duration']])"
   ]
  },
  {
   "cell_type": "code",
   "execution_count": 86,
   "metadata": {
    "execution": {
     "iopub.execute_input": "2025-04-30T09:35:42.459085Z",
     "iopub.status.busy": "2025-04-30T09:35:42.458818Z",
     "iopub.status.idle": "2025-04-30T09:35:42.513145Z",
     "shell.execute_reply": "2025-04-30T09:35:42.512400Z",
     "shell.execute_reply.started": "2025-04-30T09:35:42.459064Z"
    },
    "trusted": true
   },
   "outputs": [
    {
     "data": {
      "text/html": [
       "<div>\n",
       "<style scoped>\n",
       "    .dataframe tbody tr th:only-of-type {\n",
       "        vertical-align: middle;\n",
       "    }\n",
       "\n",
       "    .dataframe tbody tr th {\n",
       "        vertical-align: top;\n",
       "    }\n",
       "\n",
       "    .dataframe thead th {\n",
       "        text-align: right;\n",
       "    }\n",
       "</style>\n",
       "<table border=\"1\" class=\"dataframe\">\n",
       "  <thead>\n",
       "    <tr style=\"text-align: right;\">\n",
       "      <th></th>\n",
       "      <th>pop</th>\n",
       "      <th>duration</th>\n",
       "      <th>track</th>\n",
       "      <th>artist_#2Маши</th>\n",
       "      <th>artist_#Неболира</th>\n",
       "      <th>artist_#ТВОЙТИПАЖ</th>\n",
       "      <th>artist_$uicideboy$</th>\n",
       "      <th>artist_(G)I-DLE</th>\n",
       "      <th>artist_- Ko'ngil ekanda</th>\n",
       "      <th>artist_02.14</th>\n",
       "      <th>...</th>\n",
       "      <th>genre_144</th>\n",
       "      <th>genre_145</th>\n",
       "      <th>genre_147</th>\n",
       "      <th>genre_148</th>\n",
       "      <th>genre_149</th>\n",
       "      <th>genre_150</th>\n",
       "      <th>genre_151</th>\n",
       "      <th>genre_152</th>\n",
       "      <th>genre_153</th>\n",
       "      <th>genre_154</th>\n",
       "    </tr>\n",
       "  </thead>\n",
       "  <tbody>\n",
       "    <tr>\n",
       "      <th>31847</th>\n",
       "      <td>-0.680388</td>\n",
       "      <td>-1.135191</td>\n",
       "      <td>0</td>\n",
       "      <td>0</td>\n",
       "      <td>0</td>\n",
       "      <td>0</td>\n",
       "      <td>0</td>\n",
       "      <td>0</td>\n",
       "      <td>0</td>\n",
       "      <td>0</td>\n",
       "      <td>...</td>\n",
       "      <td>0</td>\n",
       "      <td>0</td>\n",
       "      <td>0</td>\n",
       "      <td>0</td>\n",
       "      <td>0</td>\n",
       "      <td>0</td>\n",
       "      <td>0</td>\n",
       "      <td>0</td>\n",
       "      <td>0</td>\n",
       "      <td>0</td>\n",
       "    </tr>\n",
       "    <tr>\n",
       "      <th>23822</th>\n",
       "      <td>0.198934</td>\n",
       "      <td>-0.568765</td>\n",
       "      <td>1</td>\n",
       "      <td>0</td>\n",
       "      <td>0</td>\n",
       "      <td>0</td>\n",
       "      <td>0</td>\n",
       "      <td>0</td>\n",
       "      <td>0</td>\n",
       "      <td>0</td>\n",
       "      <td>...</td>\n",
       "      <td>0</td>\n",
       "      <td>0</td>\n",
       "      <td>0</td>\n",
       "      <td>0</td>\n",
       "      <td>0</td>\n",
       "      <td>0</td>\n",
       "      <td>0</td>\n",
       "      <td>0</td>\n",
       "      <td>0</td>\n",
       "      <td>0</td>\n",
       "    </tr>\n",
       "    <tr>\n",
       "      <th>30997</th>\n",
       "      <td>-0.995350</td>\n",
       "      <td>-1.374349</td>\n",
       "      <td>2</td>\n",
       "      <td>0</td>\n",
       "      <td>0</td>\n",
       "      <td>0</td>\n",
       "      <td>0</td>\n",
       "      <td>0</td>\n",
       "      <td>0</td>\n",
       "      <td>0</td>\n",
       "      <td>...</td>\n",
       "      <td>0</td>\n",
       "      <td>0</td>\n",
       "      <td>0</td>\n",
       "      <td>0</td>\n",
       "      <td>0</td>\n",
       "      <td>0</td>\n",
       "      <td>0</td>\n",
       "      <td>0</td>\n",
       "      <td>0</td>\n",
       "      <td>0</td>\n",
       "    </tr>\n",
       "    <tr>\n",
       "      <th>30058</th>\n",
       "      <td>-0.200706</td>\n",
       "      <td>-0.367370</td>\n",
       "      <td>3</td>\n",
       "      <td>0</td>\n",
       "      <td>0</td>\n",
       "      <td>0</td>\n",
       "      <td>0</td>\n",
       "      <td>0</td>\n",
       "      <td>0</td>\n",
       "      <td>0</td>\n",
       "      <td>...</td>\n",
       "      <td>0</td>\n",
       "      <td>0</td>\n",
       "      <td>0</td>\n",
       "      <td>0</td>\n",
       "      <td>0</td>\n",
       "      <td>0</td>\n",
       "      <td>0</td>\n",
       "      <td>0</td>\n",
       "      <td>0</td>\n",
       "      <td>0</td>\n",
       "    </tr>\n",
       "    <tr>\n",
       "      <th>30346</th>\n",
       "      <td>-0.644674</td>\n",
       "      <td>0.123533</td>\n",
       "      <td>4</td>\n",
       "      <td>0</td>\n",
       "      <td>0</td>\n",
       "      <td>0</td>\n",
       "      <td>0</td>\n",
       "      <td>0</td>\n",
       "      <td>0</td>\n",
       "      <td>0</td>\n",
       "      <td>...</td>\n",
       "      <td>0</td>\n",
       "      <td>0</td>\n",
       "      <td>0</td>\n",
       "      <td>0</td>\n",
       "      <td>0</td>\n",
       "      <td>0</td>\n",
       "      <td>0</td>\n",
       "      <td>0</td>\n",
       "      <td>0</td>\n",
       "      <td>0</td>\n",
       "    </tr>\n",
       "    <tr>\n",
       "      <th>...</th>\n",
       "      <td>...</td>\n",
       "      <td>...</td>\n",
       "      <td>...</td>\n",
       "      <td>...</td>\n",
       "      <td>...</td>\n",
       "      <td>...</td>\n",
       "      <td>...</td>\n",
       "      <td>...</td>\n",
       "      <td>...</td>\n",
       "      <td>...</td>\n",
       "      <td>...</td>\n",
       "      <td>...</td>\n",
       "      <td>...</td>\n",
       "      <td>...</td>\n",
       "      <td>...</td>\n",
       "      <td>...</td>\n",
       "      <td>...</td>\n",
       "      <td>...</td>\n",
       "      <td>...</td>\n",
       "      <td>...</td>\n",
       "      <td>...</td>\n",
       "    </tr>\n",
       "    <tr>\n",
       "      <th>5475</th>\n",
       "      <td>-0.446757</td>\n",
       "      <td>0.136120</td>\n",
       "      <td>49995</td>\n",
       "      <td>0</td>\n",
       "      <td>0</td>\n",
       "      <td>0</td>\n",
       "      <td>0</td>\n",
       "      <td>0</td>\n",
       "      <td>0</td>\n",
       "      <td>0</td>\n",
       "      <td>...</td>\n",
       "      <td>0</td>\n",
       "      <td>0</td>\n",
       "      <td>0</td>\n",
       "      <td>0</td>\n",
       "      <td>0</td>\n",
       "      <td>0</td>\n",
       "      <td>0</td>\n",
       "      <td>0</td>\n",
       "      <td>0</td>\n",
       "      <td>0</td>\n",
       "    </tr>\n",
       "    <tr>\n",
       "      <th>26500</th>\n",
       "      <td>0.132489</td>\n",
       "      <td>2.716503</td>\n",
       "      <td>49996</td>\n",
       "      <td>0</td>\n",
       "      <td>0</td>\n",
       "      <td>0</td>\n",
       "      <td>0</td>\n",
       "      <td>0</td>\n",
       "      <td>0</td>\n",
       "      <td>0</td>\n",
       "      <td>...</td>\n",
       "      <td>0</td>\n",
       "      <td>0</td>\n",
       "      <td>0</td>\n",
       "      <td>0</td>\n",
       "      <td>1</td>\n",
       "      <td>0</td>\n",
       "      <td>0</td>\n",
       "      <td>0</td>\n",
       "      <td>0</td>\n",
       "      <td>0</td>\n",
       "    </tr>\n",
       "    <tr>\n",
       "      <th>42226</th>\n",
       "      <td>-0.780766</td>\n",
       "      <td>0.551499</td>\n",
       "      <td>49997</td>\n",
       "      <td>0</td>\n",
       "      <td>0</td>\n",
       "      <td>0</td>\n",
       "      <td>0</td>\n",
       "      <td>0</td>\n",
       "      <td>0</td>\n",
       "      <td>0</td>\n",
       "      <td>...</td>\n",
       "      <td>0</td>\n",
       "      <td>0</td>\n",
       "      <td>0</td>\n",
       "      <td>0</td>\n",
       "      <td>0</td>\n",
       "      <td>0</td>\n",
       "      <td>0</td>\n",
       "      <td>0</td>\n",
       "      <td>0</td>\n",
       "      <td>0</td>\n",
       "    </tr>\n",
       "    <tr>\n",
       "      <th>49761</th>\n",
       "      <td>-0.817766</td>\n",
       "      <td>0.362690</td>\n",
       "      <td>49998</td>\n",
       "      <td>0</td>\n",
       "      <td>0</td>\n",
       "      <td>0</td>\n",
       "      <td>0</td>\n",
       "      <td>0</td>\n",
       "      <td>0</td>\n",
       "      <td>0</td>\n",
       "      <td>...</td>\n",
       "      <td>0</td>\n",
       "      <td>0</td>\n",
       "      <td>0</td>\n",
       "      <td>0</td>\n",
       "      <td>0</td>\n",
       "      <td>0</td>\n",
       "      <td>0</td>\n",
       "      <td>0</td>\n",
       "      <td>0</td>\n",
       "      <td>0</td>\n",
       "    </tr>\n",
       "    <tr>\n",
       "      <th>1438</th>\n",
       "      <td>-0.201971</td>\n",
       "      <td>-0.744987</td>\n",
       "      <td>49999</td>\n",
       "      <td>0</td>\n",
       "      <td>0</td>\n",
       "      <td>0</td>\n",
       "      <td>0</td>\n",
       "      <td>0</td>\n",
       "      <td>0</td>\n",
       "      <td>0</td>\n",
       "      <td>...</td>\n",
       "      <td>0</td>\n",
       "      <td>0</td>\n",
       "      <td>1</td>\n",
       "      <td>0</td>\n",
       "      <td>0</td>\n",
       "      <td>0</td>\n",
       "      <td>0</td>\n",
       "      <td>0</td>\n",
       "      <td>0</td>\n",
       "      <td>0</td>\n",
       "    </tr>\n",
       "  </tbody>\n",
       "</table>\n",
       "<p>50000 rows × 11606 columns</p>\n",
       "</div>"
      ],
      "text/plain": [
       "            pop  duration  track  artist_#2Маши  artist_#Неболира  \\\n",
       "31847 -0.680388 -1.135191      0              0                 0   \n",
       "23822  0.198934 -0.568765      1              0                 0   \n",
       "30997 -0.995350 -1.374349      2              0                 0   \n",
       "30058 -0.200706 -0.367370      3              0                 0   \n",
       "30346 -0.644674  0.123533      4              0                 0   \n",
       "...         ...       ...    ...            ...               ...   \n",
       "5475  -0.446757  0.136120  49995              0                 0   \n",
       "26500  0.132489  2.716503  49996              0                 0   \n",
       "42226 -0.780766  0.551499  49997              0                 0   \n",
       "49761 -0.817766  0.362690  49998              0                 0   \n",
       "1438  -0.201971 -0.744987  49999              0                 0   \n",
       "\n",
       "       artist_#ТВОЙТИПАЖ  artist_$uicideboy$  artist_(G)I-DLE  \\\n",
       "31847                  0                   0                0   \n",
       "23822                  0                   0                0   \n",
       "30997                  0                   0                0   \n",
       "30058                  0                   0                0   \n",
       "30346                  0                   0                0   \n",
       "...                  ...                 ...              ...   \n",
       "5475                   0                   0                0   \n",
       "26500                  0                   0                0   \n",
       "42226                  0                   0                0   \n",
       "49761                  0                   0                0   \n",
       "1438                   0                   0                0   \n",
       "\n",
       "       artist_- Ko'ngil ekanda  artist_02.14  ...  genre_144  genre_145  \\\n",
       "31847                        0             0  ...          0          0   \n",
       "23822                        0             0  ...          0          0   \n",
       "30997                        0             0  ...          0          0   \n",
       "30058                        0             0  ...          0          0   \n",
       "30346                        0             0  ...          0          0   \n",
       "...                        ...           ...  ...        ...        ...   \n",
       "5475                         0             0  ...          0          0   \n",
       "26500                        0             0  ...          0          0   \n",
       "42226                        0             0  ...          0          0   \n",
       "49761                        0             0  ...          0          0   \n",
       "1438                         0             0  ...          0          0   \n",
       "\n",
       "       genre_147  genre_148  genre_149  genre_150  genre_151  genre_152  \\\n",
       "31847          0          0          0          0          0          0   \n",
       "23822          0          0          0          0          0          0   \n",
       "30997          0          0          0          0          0          0   \n",
       "30058          0          0          0          0          0          0   \n",
       "30346          0          0          0          0          0          0   \n",
       "...          ...        ...        ...        ...        ...        ...   \n",
       "5475           0          0          0          0          0          0   \n",
       "26500          0          0          1          0          0          0   \n",
       "42226          0          0          0          0          0          0   \n",
       "49761          0          0          0          0          0          0   \n",
       "1438           1          0          0          0          0          0   \n",
       "\n",
       "       genre_153  genre_154  \n",
       "31847          0          0  \n",
       "23822          0          0  \n",
       "30997          0          0  \n",
       "30058          0          0  \n",
       "30346          0          0  \n",
       "...          ...        ...  \n",
       "5475           0          0  \n",
       "26500          0          0  \n",
       "42226          0          0  \n",
       "49761          0          0  \n",
       "1438           0          0  \n",
       "\n",
       "[50000 rows x 11606 columns]"
      ]
     },
     "execution_count": 86,
     "metadata": {},
     "output_type": "execute_result"
    }
   ],
   "source": [
    "df_final"
   ]
  },
  {
   "cell_type": "code",
   "execution_count": null,
   "metadata": {
    "execution": {
     "iopub.execute_input": "2025-04-30T09:35:45.831359Z",
     "iopub.status.busy": "2025-04-30T09:35:45.830789Z",
     "iopub.status.idle": "2025-04-30T09:36:30.698041Z",
     "shell.execute_reply": "2025-04-30T09:36:30.697404Z",
     "shell.execute_reply.started": "2025-04-30T09:35:45.831337Z"
    },
    "trusted": true
   },
   "outputs": [],
   "source": [
    "pca = PCA(n_components=150)\n",
    "df_pca = pca.fit_transform(df_final.drop(columns='track'))\n",
    "\n",
    "explained_variance = pca.explained_variance_ratio_.cumsum()"
   ]
  },
  {
   "cell_type": "code",
   "execution_count": 88,
   "metadata": {
    "execution": {
     "iopub.execute_input": "2025-04-30T09:36:30.699464Z",
     "iopub.status.busy": "2025-04-30T09:36:30.699212Z",
     "iopub.status.idle": "2025-04-30T09:36:30.703662Z",
     "shell.execute_reply": "2025-04-30T09:36:30.702963Z",
     "shell.execute_reply.started": "2025-04-30T09:36:30.699442Z"
    },
    "trusted": true
   },
   "outputs": [],
   "source": [
    "df_pca_df = pd.DataFrame(df_pca, columns=[f'pca_{i}' for i in range(df_pca.shape[1])])"
   ]
  },
  {
   "cell_type": "code",
   "execution_count": 89,
   "metadata": {
    "execution": {
     "iopub.execute_input": "2025-04-30T09:36:30.704625Z",
     "iopub.status.busy": "2025-04-30T09:36:30.704444Z",
     "iopub.status.idle": "2025-04-30T09:36:30.761396Z",
     "shell.execute_reply": "2025-04-30T09:36:30.760842Z",
     "shell.execute_reply.started": "2025-04-30T09:36:30.704609Z"
    },
    "trusted": true
   },
   "outputs": [],
   "source": [
    "df_pca_df = df_pca_df.reset_index()"
   ]
  },
  {
   "cell_type": "code",
   "execution_count": 90,
   "metadata": {
    "execution": {
     "iopub.execute_input": "2025-04-30T09:36:30.763094Z",
     "iopub.status.busy": "2025-04-30T09:36:30.762914Z",
     "iopub.status.idle": "2025-04-30T09:36:30.767435Z",
     "shell.execute_reply": "2025-04-30T09:36:30.766762Z",
     "shell.execute_reply.started": "2025-04-30T09:36:30.763080Z"
    },
    "trusted": true
   },
   "outputs": [],
   "source": [
    "df_pca_df.rename(columns={'index':'track'}, inplace=True)"
   ]
  },
  {
   "cell_type": "code",
   "execution_count": 91,
   "metadata": {
    "execution": {
     "iopub.execute_input": "2025-04-30T09:36:30.768263Z",
     "iopub.status.busy": "2025-04-30T09:36:30.768074Z",
     "iopub.status.idle": "2025-04-30T09:36:30.880985Z",
     "shell.execute_reply": "2025-04-30T09:36:30.880218Z",
     "shell.execute_reply.started": "2025-04-30T09:36:30.768248Z"
    },
    "trusted": true
   },
   "outputs": [
    {
     "name": "stdout",
     "output_type": "stream",
     "text": [
      "Используемое устройство: cuda\n"
     ]
    }
   ],
   "source": [
    "device = torch.device(\"cuda\" if torch.cuda.is_available() else \"cpu\")\n",
    "print(f\"Используемое устройство: {device}\")"
   ]
  },
  {
   "cell_type": "code",
   "execution_count": 93,
   "metadata": {
    "execution": {
     "iopub.execute_input": "2025-04-30T09:39:20.555550Z",
     "iopub.status.busy": "2025-04-30T09:39:20.555277Z",
     "iopub.status.idle": "2025-04-30T09:39:21.555275Z",
     "shell.execute_reply": "2025-04-30T09:39:21.554709Z",
     "shell.execute_reply.started": "2025-04-30T09:39:20.555530Z"
    },
    "trusted": true
   },
   "outputs": [],
   "source": [
    "data = data_user_track.merge(df_pca_df, on='track', how='left')"
   ]
  },
  {
   "cell_type": "code",
   "execution_count": 94,
   "metadata": {
    "execution": {
     "iopub.execute_input": "2025-04-30T09:39:22.331117Z",
     "iopub.status.busy": "2025-04-30T09:39:22.330842Z",
     "iopub.status.idle": "2025-04-30T09:39:24.111366Z",
     "shell.execute_reply": "2025-04-30T09:39:24.110577Z",
     "shell.execute_reply.started": "2025-04-30T09:39:22.331097Z"
    },
    "trusted": true
   },
   "outputs": [],
   "source": [
    "numeric_cols = [col for col in data.columns if col.startswith('pca_') or col in ['pop', 'duration', 'track_popularity', 'time']]\n",
    "data[numeric_cols] = data[numeric_cols].fillna(0)"
   ]
  },
  {
   "cell_type": "code",
   "execution_count": 95,
   "metadata": {
    "execution": {
     "iopub.execute_input": "2025-04-30T09:39:24.112790Z",
     "iopub.status.busy": "2025-04-30T09:39:24.112530Z",
     "iopub.status.idle": "2025-04-30T09:39:24.123814Z",
     "shell.execute_reply": "2025-04-30T09:39:24.123287Z",
     "shell.execute_reply.started": "2025-04-30T09:39:24.112768Z"
    },
    "trusted": true
   },
   "outputs": [
    {
     "data": {
      "text/plain": [
       "label\n",
       "0    556130\n",
       "1    540037\n",
       "Name: count, dtype: int64"
      ]
     },
     "execution_count": 95,
     "metadata": {},
     "output_type": "execute_result"
    }
   ],
   "source": [
    "data['label'].value_counts()"
   ]
  },
  {
   "cell_type": "code",
   "execution_count": 97,
   "metadata": {
    "execution": {
     "iopub.execute_input": "2025-04-30T09:41:08.311727Z",
     "iopub.status.busy": "2025-04-30T09:41:08.310786Z",
     "iopub.status.idle": "2025-04-30T09:41:08.338454Z",
     "shell.execute_reply": "2025-04-30T09:41:08.337940Z",
     "shell.execute_reply.started": "2025-04-30T09:41:08.311704Z"
    },
    "trusted": true
   },
   "outputs": [],
   "source": [
    "feature_columns = [\n",
    "    SparseFeat('user', vocabulary_size=data['user'].nunique(), embedding_dim=16),\n",
    "    SparseFeat('track', vocabulary_size=data['track'].nunique(), embedding_dim=16),\n",
    "]"
   ]
  },
  {
   "cell_type": "code",
   "execution_count": 98,
   "metadata": {
    "execution": {
     "iopub.execute_input": "2025-04-30T09:41:09.939414Z",
     "iopub.status.busy": "2025-04-30T09:41:09.938698Z",
     "iopub.status.idle": "2025-04-30T09:41:09.943673Z",
     "shell.execute_reply": "2025-04-30T09:41:09.943098Z",
     "shell.execute_reply.started": "2025-04-30T09:41:09.939391Z"
    },
    "trusted": true
   },
   "outputs": [
    {
     "data": {
      "text/plain": [
       "[SparseFeat(name='user', vocabulary_size=10000, embedding_dim=16, use_hash=False, dtype='int32', embedding_name='user', group_name='default_group'),\n",
       " SparseFeat(name='track', vocabulary_size=50000, embedding_dim=16, use_hash=False, dtype='int32', embedding_name='track', group_name='default_group')]"
      ]
     },
     "execution_count": 98,
     "metadata": {},
     "output_type": "execute_result"
    }
   ],
   "source": [
    "feature_columns"
   ]
  },
  {
   "cell_type": "code",
   "execution_count": 99,
   "metadata": {
    "execution": {
     "iopub.execute_input": "2025-04-30T09:41:16.272038Z",
     "iopub.status.busy": "2025-04-30T09:41:16.271434Z",
     "iopub.status.idle": "2025-04-30T09:41:16.276249Z",
     "shell.execute_reply": "2025-04-30T09:41:16.275409Z",
     "shell.execute_reply.started": "2025-04-30T09:41:16.272013Z"
    },
    "trusted": true
   },
   "outputs": [],
   "source": [
    "numeric_features = [\n",
    "    col for col in data.columns\n",
    "    if col.startswith('pca_') or col in ['pop', 'duration', 'track_popularity']\n",
    "]\n",
    "feature_columns += [DenseFeat(f, dimension=1) for f in numeric_features]"
   ]
  },
  {
   "cell_type": "code",
   "execution_count": 100,
   "metadata": {
    "execution": {
     "iopub.execute_input": "2025-04-30T09:41:27.507934Z",
     "iopub.status.busy": "2025-04-30T09:41:27.507216Z",
     "iopub.status.idle": "2025-04-30T09:41:27.514564Z",
     "shell.execute_reply": "2025-04-30T09:41:27.513858Z",
     "shell.execute_reply.started": "2025-04-30T09:41:27.507907Z"
    },
    "trusted": true
   },
   "outputs": [],
   "source": [
    "train_input = {col: data[col].values for col in get_feature_names(feature_columns)}\n",
    "\n",
    "train_labels = data['label'].values"
   ]
  },
  {
   "cell_type": "code",
   "execution_count": 103,
   "metadata": {
    "execution": {
     "iopub.execute_input": "2025-04-30T09:42:37.803693Z",
     "iopub.status.busy": "2025-04-30T09:42:37.803425Z",
     "iopub.status.idle": "2025-04-30T09:42:40.855560Z",
     "shell.execute_reply": "2025-04-30T09:42:40.854860Z",
     "shell.execute_reply.started": "2025-04-30T09:42:37.803672Z"
    },
    "trusted": true
   },
   "outputs": [],
   "source": [
    "model = DIFM(\n",
    "    linear_feature_columns=feature_columns,\n",
    "    dnn_feature_columns=feature_columns,\n",
    "    dnn_hidden_units=[128, 64, 32],\n",
    "    l2_reg_linear=1e-5,\n",
    "    l2_reg_embedding=1e-5,\n",
    "    l2_reg_dnn=0,\n",
    "    init_std=0.0001,\n",
    "    seed=42,\n",
    "    dnn_dropout=0.5,\n",
    "    dnn_activation='relu',\n",
    "    dnn_use_bn=True,\n",
    "    task='binary',\n",
    "    device=device\n",
    ")\n",
    "model.compile(\n",
    "    optimizer='adam',\n",
    "    loss='binary_crossentropy',\n",
    "    metrics=['auc']\n",
    ")"
   ]
  },
  {
   "cell_type": "code",
   "execution_count": 104,
   "metadata": {
    "execution": {
     "iopub.execute_input": "2025-04-30T09:42:52.732008Z",
     "iopub.status.busy": "2025-04-30T09:42:52.730965Z",
     "iopub.status.idle": "2025-04-30T09:49:32.025915Z",
     "shell.execute_reply": "2025-04-30T09:49:32.025173Z",
     "shell.execute_reply.started": "2025-04-30T09:42:52.731963Z"
    },
    "trusted": true
   },
   "outputs": [
    {
     "name": "stdout",
     "output_type": "stream",
     "text": [
      "cuda\n",
      "Train on 1096167 samples, validate on 0 samples, 1071 steps per epoch\n"
     ]
    },
    {
     "name": "stderr",
     "output_type": "stream",
     "text": [
      "1071it [00:20, 51.57it/s]\n"
     ]
    },
    {
     "name": "stdout",
     "output_type": "stream",
     "text": [
      "Epoch 1/20\n",
      "20s - loss:  0.6767 - auc:  0.5993\n"
     ]
    },
    {
     "name": "stderr",
     "output_type": "stream",
     "text": [
      "1071it [00:19, 54.12it/s]\n"
     ]
    },
    {
     "name": "stdout",
     "output_type": "stream",
     "text": [
      "Epoch 2/20\n",
      "19s - loss:  0.6357 - auc:  0.6910\n"
     ]
    },
    {
     "name": "stderr",
     "output_type": "stream",
     "text": [
      "1071it [00:19, 54.30it/s]\n"
     ]
    },
    {
     "name": "stdout",
     "output_type": "stream",
     "text": [
      "Epoch 3/20\n",
      "19s - loss:  0.5788 - auc:  0.7607\n"
     ]
    },
    {
     "name": "stderr",
     "output_type": "stream",
     "text": [
      "1071it [00:19, 53.92it/s]\n"
     ]
    },
    {
     "name": "stdout",
     "output_type": "stream",
     "text": [
      "Epoch 4/20\n",
      "19s - loss:  0.4829 - auc:  0.8444\n"
     ]
    },
    {
     "name": "stderr",
     "output_type": "stream",
     "text": [
      "1071it [00:19, 54.70it/s]\n"
     ]
    },
    {
     "name": "stdout",
     "output_type": "stream",
     "text": [
      "Epoch 5/20\n",
      "19s - loss:  0.3822 - auc:  0.9061\n"
     ]
    },
    {
     "name": "stderr",
     "output_type": "stream",
     "text": [
      "1071it [00:19, 54.15it/s]\n"
     ]
    },
    {
     "name": "stdout",
     "output_type": "stream",
     "text": [
      "Epoch 6/20\n",
      "19s - loss:  0.3039 - auc:  0.9417\n"
     ]
    },
    {
     "name": "stderr",
     "output_type": "stream",
     "text": [
      "1071it [00:19, 54.04it/s]\n"
     ]
    },
    {
     "name": "stdout",
     "output_type": "stream",
     "text": [
      "Epoch 7/20\n",
      "19s - loss:  0.2480 - auc:  0.9615\n"
     ]
    },
    {
     "name": "stderr",
     "output_type": "stream",
     "text": [
      "1071it [00:20, 53.21it/s]\n"
     ]
    },
    {
     "name": "stdout",
     "output_type": "stream",
     "text": [
      "Epoch 8/20\n",
      "20s - loss:  0.2084 - auc:  0.9731\n"
     ]
    },
    {
     "name": "stderr",
     "output_type": "stream",
     "text": [
      "1071it [00:19, 54.22it/s]\n"
     ]
    },
    {
     "name": "stdout",
     "output_type": "stream",
     "text": [
      "Epoch 9/20\n",
      "19s - loss:  0.1793 - auc:  0.9802\n"
     ]
    },
    {
     "name": "stderr",
     "output_type": "stream",
     "text": [
      "1071it [00:19, 54.02it/s]\n"
     ]
    },
    {
     "name": "stdout",
     "output_type": "stream",
     "text": [
      "Epoch 10/20\n",
      "19s - loss:  0.1555 - auc:  0.9851\n"
     ]
    },
    {
     "name": "stderr",
     "output_type": "stream",
     "text": [
      "1071it [00:19, 54.30it/s]\n"
     ]
    },
    {
     "name": "stdout",
     "output_type": "stream",
     "text": [
      "Epoch 11/20\n",
      "19s - loss:  0.1371 - auc:  0.9885\n"
     ]
    },
    {
     "name": "stderr",
     "output_type": "stream",
     "text": [
      "1071it [00:19, 53.91it/s]\n"
     ]
    },
    {
     "name": "stdout",
     "output_type": "stream",
     "text": [
      "Epoch 12/20\n",
      "19s - loss:  0.1224 - auc:  0.9909\n"
     ]
    },
    {
     "name": "stderr",
     "output_type": "stream",
     "text": [
      "1071it [00:19, 54.87it/s]\n"
     ]
    },
    {
     "name": "stdout",
     "output_type": "stream",
     "text": [
      "Epoch 13/20\n",
      "19s - loss:  0.1096 - auc:  0.9927\n"
     ]
    },
    {
     "name": "stderr",
     "output_type": "stream",
     "text": [
      "1071it [00:19, 54.50it/s]\n"
     ]
    },
    {
     "name": "stdout",
     "output_type": "stream",
     "text": [
      "Epoch 14/20\n",
      "19s - loss:  0.0996 - auc:  0.9940\n"
     ]
    },
    {
     "name": "stderr",
     "output_type": "stream",
     "text": [
      "1071it [00:19, 54.34it/s]\n"
     ]
    },
    {
     "name": "stdout",
     "output_type": "stream",
     "text": [
      "Epoch 15/20\n",
      "19s - loss:  0.0914 - auc:  0.9949\n"
     ]
    },
    {
     "name": "stderr",
     "output_type": "stream",
     "text": [
      "1071it [00:19, 54.49it/s]\n"
     ]
    },
    {
     "name": "stdout",
     "output_type": "stream",
     "text": [
      "Epoch 16/20\n",
      "19s - loss:  0.0826 - auc:  0.9958\n"
     ]
    },
    {
     "name": "stderr",
     "output_type": "stream",
     "text": [
      "1071it [00:19, 54.02it/s]\n"
     ]
    },
    {
     "name": "stdout",
     "output_type": "stream",
     "text": [
      "Epoch 17/20\n",
      "19s - loss:  0.0761 - auc:  0.9965\n"
     ]
    },
    {
     "name": "stderr",
     "output_type": "stream",
     "text": [
      "1071it [00:19, 53.95it/s]\n"
     ]
    },
    {
     "name": "stdout",
     "output_type": "stream",
     "text": [
      "Epoch 18/20\n",
      "19s - loss:  0.0703 - auc:  0.9970\n"
     ]
    },
    {
     "name": "stderr",
     "output_type": "stream",
     "text": [
      "1071it [00:19, 54.13it/s]\n"
     ]
    },
    {
     "name": "stdout",
     "output_type": "stream",
     "text": [
      "Epoch 19/20\n",
      "19s - loss:  0.0654 - auc:  0.9974\n"
     ]
    },
    {
     "name": "stderr",
     "output_type": "stream",
     "text": [
      "1071it [00:20, 52.78it/s]"
     ]
    },
    {
     "name": "stdout",
     "output_type": "stream",
     "text": [
      "Epoch 20/20\n",
      "20s - loss:  0.0610 - auc:  0.9977\n",
      "Модель на устройстве: cuda:0\n"
     ]
    },
    {
     "name": "stderr",
     "output_type": "stream",
     "text": [
      "\n"
     ]
    }
   ],
   "source": [
    "history = model.fit(\n",
    "    train_input, train_labels,\n",
    "    batch_size=1024, epochs=20,\n",
    "    verbose=1\n",
    ")\n",
    "\n",
    "print(\"Модель на устройстве:\", next(model.parameters()).device)"
   ]
  },
  {
   "cell_type": "code",
   "execution_count": 111,
   "metadata": {
    "execution": {
     "iopub.execute_input": "2025-04-30T09:59:39.402694Z",
     "iopub.status.busy": "2025-04-30T09:59:39.402402Z",
     "iopub.status.idle": "2025-04-30T09:59:39.738418Z",
     "shell.execute_reply": "2025-04-30T09:59:39.737692Z",
     "shell.execute_reply.started": "2025-04-30T09:59:39.402674Z"
    },
    "trusted": true
   },
   "outputs": [
    {
     "data": {
      "image/png": "[encoded data removed]",
      "text/plain": [
       "<Figure size 1200x500 with 2 Axes>"
      ]
     },
     "metadata": {},
     "output_type": "display_data"
    }
   ],
   "source": [
    "plt.figure(figsize=(12, 5))\n",
    "\n",
    "plt.subplot(1, 2, 1)\n",
    "plt.plot(history.history['loss'], label='Loss')\n",
    "plt.title('Функция потерь во время обучения')\n",
    "plt.xlabel('Эпоха')\n",
    "plt.ylabel('Значение loss')\n",
    "plt.legend()\n",
    "plt.grid(True)\n",
    "\n",
    "plt.subplot(1, 2, 2)\n",
    "plt.plot(history.history['auc'], label='AUC', color='green')\n",
    "plt.title('AUC во время обучения')\n",
    "plt.xlabel('Эпоха')\n",
    "plt.ylabel('Значение AUC')\n",
    "plt.legend()\n",
    "plt.grid(True)\n",
    "\n",
    "plt.show()"
   ]
  },
  {
   "cell_type": "code",
   "execution_count": 112,
   "metadata": {
    "execution": {
     "iopub.execute_input": "2025-04-30T09:59:56.530856Z",
     "iopub.status.busy": "2025-04-30T09:59:56.530233Z",
     "iopub.status.idle": "2025-04-30T09:59:56.534464Z",
     "shell.execute_reply": "2025-04-30T09:59:56.533639Z",
     "shell.execute_reply.started": "2025-04-30T09:59:56.530806Z"
    },
    "trusted": true
   },
   "outputs": [],
   "source": [
    "user_emb_layer = model.embedding_dict['user']\n",
    "track_emb_layer = model.embedding_dict['track']"
   ]
  },
  {
   "cell_type": "code",
   "execution_count": 113,
   "metadata": {
    "execution": {
     "iopub.execute_input": "2025-04-30T09:59:57.466971Z",
     "iopub.status.busy": "2025-04-30T09:59:57.466405Z",
     "iopub.status.idle": "2025-04-30T09:59:57.485469Z",
     "shell.execute_reply": "2025-04-30T09:59:57.484940Z",
     "shell.execute_reply.started": "2025-04-30T09:59:57.466948Z"
    },
    "trusted": true
   },
   "outputs": [
    {
     "data": {
      "text/plain": [
       "array([14427, 37465, 48906, ..., 33453, 12068, 30916])"
      ]
     },
     "execution_count": 113,
     "metadata": {},
     "output_type": "execute_result"
    }
   ],
   "source": [
    "data['track'].unique()"
   ]
  },
  {
   "cell_type": "code",
   "execution_count": 114,
   "metadata": {
    "execution": {
     "iopub.execute_input": "2025-04-30T09:59:58.311208Z",
     "iopub.status.busy": "2025-04-30T09:59:58.310347Z",
     "iopub.status.idle": "2025-04-30T09:59:58.335309Z",
     "shell.execute_reply": "2025-04-30T09:59:58.334725Z",
     "shell.execute_reply.started": "2025-04-30T09:59:58.311183Z"
    },
    "trusted": true
   },
   "outputs": [],
   "source": [
    "user_embeddings = user_emb_layer(torch.tensor(data['user'].unique()).to(device)).detach().cpu().numpy()\n",
    "track_embeddings = track_emb_layer(torch.tensor(data['track'].unique()).to(device)).detach().cpu().numpy()"
   ]
  },
  {
   "cell_type": "code",
   "execution_count": null,
   "metadata": {
    "execution": {
     "iopub.execute_input": "2025-04-30T10:00:37.044174Z",
     "iopub.status.busy": "2025-04-30T10:00:37.043480Z",
     "iopub.status.idle": "2025-04-30T10:00:38.314182Z",
     "shell.execute_reply": "2025-04-30T10:00:38.313366Z",
     "shell.execute_reply.started": "2025-04-30T10:00:37.044147Z"
    },
    "trusted": true
   },
   "outputs": [
    {
     "name": "stdout",
     "output_type": "stream",
     "text": [
      "warning: Embedding dir exists, did you set global_step for add_embedding()?\n",
      "warning: Embedding dir exists, did you set global_step for add_embedding()?\n"
     ]
    }
   ],
   "source": [
    "log_dir = \"embeddings_logs_difm\"\n",
    "os.makedirs(log_dir, exist_ok=True)\n",
    "\n",
    "writer = SummaryWriter(log_dir)\n",
    "\n",
    "writer.add_embedding(torch.tensor(user_embeddings), tag=\"user_embeddings\")\n",
    "writer.add_embedding(torch.tensor(track_embeddings), tag=\"track_embeddings\")\n",
    "\n",
    "writer.close()"
   ]
  },
  {
   "cell_type": "code",
   "execution_count": 121,
   "metadata": {
    "execution": {
     "iopub.execute_input": "2025-04-30T10:24:29.371039Z",
     "iopub.status.busy": "2025-04-30T10:24:29.370462Z",
     "iopub.status.idle": "2025-04-30T10:24:29.909054Z",
     "shell.execute_reply": "2025-04-30T10:24:29.908259Z",
     "shell.execute_reply.started": "2025-04-30T10:24:29.371007Z"
    },
    "trusted": true
   },
   "outputs": [],
   "source": [
    "index = faiss.IndexFlatL2(track_embeddings.shape[1])\n",
    "index.add(track_embeddings)\n",
    "\n",
    "_, top_track_indices = index.search(user_embeddings, k=50)\n"
   ]
  },
  {
   "cell_type": "code",
   "execution_count": 122,
   "metadata": {
    "execution": {
     "iopub.execute_input": "2025-04-30T10:24:33.934163Z",
     "iopub.status.busy": "2025-04-30T10:24:33.933888Z",
     "iopub.status.idle": "2025-04-30T10:24:34.011446Z",
     "shell.execute_reply": "2025-04-30T10:24:34.010707Z",
     "shell.execute_reply.started": "2025-04-30T10:24:33.934144Z"
    },
    "trusted": true
   },
   "outputs": [
    {
     "name": "stderr",
     "output_type": "stream",
     "text": [
      "100%|██████████| 10000/10000 [00:00<00:00, 199785.84it/s]\n"
     ]
    }
   ],
   "source": [
    "track_ids = data['track'].unique()\n",
    "user_ids = data['user'].unique()\n",
    "\n",
    "results = [\n",
    "    {'user': int(user_ids[i]), 'top_tracks': track_ids[top_track_indices[i]].tolist()}\n",
    "    for i in tqdm(range(len(user_ids)))\n",
    "]"
   ]
  },
  {
   "cell_type": "code",
   "execution_count": null,
   "metadata": {
    "execution": {
     "iopub.execute_input": "2025-04-30T10:24:41.922204Z",
     "iopub.status.busy": "2025-04-30T10:24:41.921933Z",
     "iopub.status.idle": "2025-04-30T10:24:42.011281Z",
     "shell.execute_reply": "2025-04-30T10:24:42.010646Z",
     "shell.execute_reply.started": "2025-04-30T10:24:41.922181Z"
    },
    "trusted": true
   },
   "outputs": [
    {
     "name": "stderr",
     "output_type": "stream",
     "text": [
      "100%|██████████| 10000/10000 [00:00<00:00, 122337.84it/s]\n"
     ]
    }
   ],
   "source": [
    "with open(\"../botify/data/recommendations_difm.json\", \"w\") as rf:\n",
    "    for d in tqdm(results, total=len(results)):\n",
    "        recommendation = {\n",
    "            \"user\": d['user'],\n",
    "            \"tracks\": d['top_tracks']\n",
    "        }\n",
    "        rf.write(json.dumps(recommendation) + \"\\n\")"
   ]
  }
 ],
 "metadata": {
  "accelerator": "GPU",
  "colab": {
   "gpuType": "T4",
   "provenance": []
  },
  "kaggle": {
   "accelerator": "nvidiaTeslaT4",
   "dataSources": [],
   "isGpuEnabled": true,
   "isInternetEnabled": true,
   "language": "python",
   "sourceType": "notebook"
  },
  "kernelspec": {
   "display_name": "lightfm_env",
   "language": "python",
   "name": "python3"
  },
  "language_info": {
   "codemirror_mode": {
    "name": "ipython",
    "version": 3
   },
   "file_extension": ".py",
   "mimetype": "text/x-python",
   "name": "python",
   "nbconvert_exporter": "python",
   "pygments_lexer": "ipython3",
   "version": "3.10.16"
  }
 },
 "nbformat": 4,
 "nbformat_minor": 4
}
