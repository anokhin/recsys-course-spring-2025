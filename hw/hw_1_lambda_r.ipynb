{
 "cells": [
  {
   "cell_type": "code",
   "id": "initial_id",
   "metadata": {
    "collapsed": true,
    "ExecuteTime": {
     "end_time": "2025-03-19T17:47:13.986450Z",
     "start_time": "2025-03-19T17:47:13.981966Z"
    }
   },
   "source": [
    "import numpy as np\n",
    "import pandas as pd\n",
    "import lightfm\n",
    "from lightfm import data as ld\n",
    "from sklearn.preprocessing import MinMaxScaler\n",
    "from sklearn.model_selection import train_test_split\n",
    "from xgboost import XGBRanker"
   ],
   "outputs": [],
   "execution_count": 80
  },
  {
   "metadata": {
    "ExecuteTime": {
     "end_time": "2025-03-19T17:47:15.224946Z",
     "start_time": "2025-03-19T17:47:14.000642Z"
    }
   },
   "cell_type": "code",
   "source": [
    "wsl_train_path = \"/mnt/c/Users/denis/PycharmProjects/recsys-course-spring-2025/hw/train.csv\"\n",
    "wsl_test_path = \"/mnt/c/Users/denis/PycharmProjects/recsys-course-spring-2025/hw/test.csv\"\n",
    "train_data = pd.read_csv(wsl_train_path)\n",
    "test_data = pd.read_csv(wsl_test_path)"
   ],
   "id": "7b50b25f84439c8b",
   "outputs": [],
   "execution_count": 81
  },
  {
   "metadata": {
    "ExecuteTime": {
     "end_time": "2025-03-19T17:47:15.661207Z",
     "start_time": "2025-03-19T17:47:15.252866Z"
    }
   },
   "cell_type": "code",
   "source": [
    "user_id_map = {id: i for i, id in enumerate(train_data['user'].unique())}\n",
    "train_data[\"user_id\"] = train_data[\"user\"].map(user_id_map).map(int)\n",
    "test_data[\"user_id\"] = test_data[\"user\"].map(user_id_map).map(int)"
   ],
   "id": "caa93cce682cef5",
   "outputs": [],
   "execution_count": 82
  },
  {
   "metadata": {
    "ExecuteTime": {
     "end_time": "2025-03-19T17:47:15.742827Z",
     "start_time": "2025-03-19T17:47:15.681409Z"
    }
   },
   "cell_type": "code",
   "source": [
    "users_id = sorted(set(train_data[\"user_id\"]))\n",
    "max_track_id = max(train_data['track'].max(), test_data['track'].max())"
   ],
   "id": "1a0d8475c32c332b",
   "outputs": [],
   "execution_count": 83
  },
  {
   "metadata": {
    "ExecuteTime": {
     "end_time": "2025-03-19T17:47:15.801697Z",
     "start_time": "2025-03-19T17:47:15.768329Z"
    }
   },
   "cell_type": "code",
   "source": "positives = train_data[train_data[\"time\"] > 0.7].copy()",
   "id": "2a82cf6f7a02dae0",
   "outputs": [],
   "execution_count": 84
  },
  {
   "metadata": {
    "ExecuteTime": {
     "end_time": "2025-03-19T17:47:16.238759Z",
     "start_time": "2025-03-19T17:47:15.836135Z"
    }
   },
   "cell_type": "code",
   "source": [
    "dataset = ld.Dataset()\n",
    "dataset.fit(users_id, range(max_track_id + 1))\n",
    "\n",
    "all_interactions, _ = dataset.build_interactions(positives[['user_id', 'track']].itertuples(index=False, name=None))"
   ],
   "id": "9f9951439aaca9fb",
   "outputs": [],
   "execution_count": 85
  },
  {
   "metadata": {
    "ExecuteTime": {
     "end_time": "2025-03-19T17:47:16.272710Z",
     "start_time": "2025-03-19T17:47:16.262887Z"
    }
   },
   "cell_type": "code",
   "source": [
    "model = lightfm.LightFM(\n",
    "    no_components=300,\n",
    "    loss='warp',\n",
    "    learning_rate=0.01,\n",
    "    max_sampled=90,\n",
    "    user_alpha=0.0001,\n",
    "    item_alpha=0.0001\n",
    ")"
   ],
   "id": "977efc9b68897900",
   "outputs": [],
   "execution_count": 86
  },
  {
   "metadata": {
    "ExecuteTime": {
     "end_time": "2025-03-19T18:02:07.261177Z",
     "start_time": "2025-03-19T17:47:16.314114Z"
    }
   },
   "cell_type": "code",
   "source": "model.fit(all_interactions, epochs=400, verbose=True, num_threads=8)    ",
   "id": "951d3f6e19c13330",
   "outputs": [
    {
     "name": "stderr",
     "output_type": "stream",
     "text": [
      "Epoch: 100%|██████████| 400/400 [14:50<00:00,  2.23s/it]\n"
     ]
    },
    {
     "data": {
      "text/plain": [
       "<lightfm.lightfm.LightFM at 0x7f026fe7a4c0>"
      ]
     },
     "execution_count": 87,
     "metadata": {},
     "output_type": "execute_result"
    }
   ],
   "execution_count": 87
  },
  {
   "metadata": {
    "ExecuteTime": {
     "end_time": "2025-03-19T18:02:08.149851Z",
     "start_time": "2025-03-19T18:02:07.351972Z"
    }
   },
   "cell_type": "code",
   "source": [
    "train_data[\"lightfm_score\"] = model.predict(train_data[\"user_id\"].values, train_data[\"track\"].values)\n",
    "test_data[\"lightfm_score\"] = model.predict(test_data[\"user_id\"].values, test_data[\"track\"].values)"
   ],
   "id": "f46d0e08d66b6725",
   "outputs": [],
   "execution_count": 88
  },
  {
   "metadata": {
    "ExecuteTime": {
     "end_time": "2025-03-19T18:11:42.013030Z",
     "start_time": "2025-03-19T18:11:41.991781Z"
    }
   },
   "cell_type": "code",
   "source": [
    "tr_d = train_data\n",
    "tes_d = test_data"
   ],
   "id": "581bd6558d9c2210",
   "outputs": [],
   "execution_count": 155
  },
  {
   "metadata": {
    "ExecuteTime": {
     "end_time": "2025-03-19T18:02:08.173135Z",
     "start_time": "2025-03-19T18:02:08.169798Z"
    }
   },
   "cell_type": "code",
   "source": [
    "# track_popularity = train_data.groupby('track').size().reset_index(name='popularity')\n",
    "# train_data = train_data.merge(track_popularity, on='track')\n",
    "# test_data = test_data.merge(track_popularity, on='track', how='left').fillna(0)"
   ],
   "id": "c4e76155d6652def",
   "outputs": [],
   "execution_count": 89
  },
  {
   "metadata": {
    "ExecuteTime": {
     "end_time": "2025-03-19T18:02:08.440114Z",
     "start_time": "2025-03-19T18:02:08.207143Z"
    }
   },
   "cell_type": "code",
   "source": [
    "SIGNIFICANT_LISTEN_THRESHOLD = 0.3\n",
    "\n",
    "significant_listens = train_data[train_data['time'] > SIGNIFICANT_LISTEN_THRESHOLD]\n",
    "\n",
    "track_popularity = significant_listens.groupby('track').size().reset_index(name='popularity')\n",
    "\n",
    "train_data = train_data.merge(track_popularity, on='track', how='left')\n",
    "test_data = test_data.merge(track_popularity, on='track', how='left')\n",
    "\n",
    "train_data['popularity'] = train_data['popularity'].fillna(0)\n",
    "test_data['popularity'] = test_data['popularity'].fillna(0)\n"
   ],
   "id": "c68abced6c615b8a",
   "outputs": [],
   "execution_count": 90
  },
  {
   "metadata": {
    "ExecuteTime": {
     "end_time": "2025-03-19T18:10:55.469053Z",
     "start_time": "2025-03-19T18:10:55.462343Z"
    }
   },
   "cell_type": "code",
   "source": [
    "def prepare_data_for_lambdarank(df, train_flag=True):\n",
    "    # features = ['lightfm_score']\n",
    "    features = ['lightfm_score', 'popularity']\n",
    "    X = df[features]\n",
    "    if train_flag:\n",
    "        y = df['time']\n",
    "    else:\n",
    "        y = None\n",
    "    groups = df.groupby('user_id').size().values\n",
    "    return X, y, groups"
   ],
   "id": "8c4c6fc8c66e30c6",
   "outputs": [],
   "execution_count": 144
  },
  {
   "metadata": {
    "ExecuteTime": {
     "end_time": "2025-03-19T18:10:55.703735Z",
     "start_time": "2025-03-19T18:10:55.531759Z"
    }
   },
   "cell_type": "code",
   "source": [
    "train_data = train_data.sort_values(by=['user_id', 'time'], ascending=[True, False])\n",
    "test_data = test_data.sort_values(by=['user_id'])"
   ],
   "id": "3195d1ab44c2cf1f",
   "outputs": [],
   "execution_count": 145
  },
  {
   "metadata": {
    "ExecuteTime": {
     "end_time": "2025-03-19T18:10:55.840348Z",
     "start_time": "2025-03-19T18:10:55.728393Z"
    }
   },
   "cell_type": "code",
   "source": [
    "X_train, y_train, groups_train = prepare_data_for_lambdarank(train_data)\n",
    "X_test, _, groups_test = prepare_data_for_lambdarank(test_data, train_flag=False)"
   ],
   "id": "c275c231f673a0f3",
   "outputs": [],
   "execution_count": 146
  },
  {
   "metadata": {
    "ExecuteTime": {
     "end_time": "2025-03-19T18:10:55.888698Z",
     "start_time": "2025-03-19T18:10:55.865385Z"
    }
   },
   "cell_type": "code",
   "source": [
    "scaler = MinMaxScaler()\n",
    "X_train_scaled = scaler.fit_transform(X_train)\n",
    "X_test_scaled = scaler.transform(X_test)\n",
    "\n",
    "# def to_rank(scores, num_ranks=10):\n",
    "#     return np.digitize(scores, bins=np.linspace(0, 1, num_ranks+1)[1:-1]).astype(int)\n",
    "# \n",
    "# X_train_ranks = to_rank(X_train_scaled)\n",
    "# X_test_ranks = to_rank(X_test_scaled)"
   ],
   "id": "31ca5199b6b52852",
   "outputs": [],
   "execution_count": 147
  },
  {
   "metadata": {
    "ExecuteTime": {
     "end_time": "2025-03-19T18:10:55.931410Z",
     "start_time": "2025-03-19T18:10:55.928224Z"
    }
   },
   "cell_type": "code",
   "source": "# y_train_int = (y_train * 30).astype(int)",
   "id": "a961dade45193b6b",
   "outputs": [],
   "execution_count": 148
  },
  {
   "metadata": {
    "ExecuteTime": {
     "end_time": "2025-03-19T18:10:56.008813Z",
     "start_time": "2025-03-19T18:10:55.971066Z"
    }
   },
   "cell_type": "code",
   "source": [
    "from sklearn.preprocessing import KBinsDiscretizer\n",
    "\n",
    "# Разбиваем time на 5-10 дискретных рангов\n",
    "discretizer = KBinsDiscretizer(n_bins=6, encode='ordinal', strategy='quantile')\n",
    "y_train_disc = discretizer.fit_transform(y_train.values.reshape(-1, 1)).astype(int)"
   ],
   "id": "1d07d5720d42055f",
   "outputs": [
    {
     "name": "stderr",
     "output_type": "stream",
     "text": [
      "/home/denis/miniconda3/envs/lightfm_env/lib/python3.9/site-packages/sklearn/preprocessing/_discretization.py:209: FutureWarning: In version 1.3 onwards, subsample=2e5 will be used by default. Set subsample explicitly to silence this warning in the mean time. Set subsample=None to disable subsampling explicitly.\n",
      "  warnings.warn(\n",
      "/home/denis/miniconda3/envs/lightfm_env/lib/python3.9/site-packages/sklearn/preprocessing/_discretization.py:291: UserWarning: Bins whose width are too small (i.e., <= 1e-8) in feature 0 are removed. Consider decreasing the number of bins.\n",
      "  warnings.warn(\n"
     ]
    }
   ],
   "execution_count": 149
  },
  {
   "metadata": {
    "ExecuteTime": {
     "end_time": "2025-03-19T18:10:56.041107Z",
     "start_time": "2025-03-19T18:10:56.038568Z"
    }
   },
   "cell_type": "code",
   "source": "",
   "id": "6d69bb14907dcc42",
   "outputs": [],
   "execution_count": null
  },
  {
   "metadata": {
    "ExecuteTime": {
     "end_time": "2025-03-19T18:10:56.092227Z",
     "start_time": "2025-03-19T18:10:56.087553Z"
    }
   },
   "cell_type": "code",
   "source": [
    "ranker = XGBRanker(\n",
    "    tree_method='hist',\n",
    "    booster='gbtree',\n",
    "    objective='rank:ndcg',\n",
    "    learning_rate=0.005,\n",
    "    n_estimators=800,\n",
    "    \n",
    "    # lambdarank_num_pair_per_sample=10,\n",
    "    # lambdarank_pair_method='topk',\n",
    "    \n",
    "    early_stopping_rounds=50,\n",
    "    random_state=42,\n",
    "    max_depth=7,\n",
    "    n_jobs=-1,\n",
    "    ndcg_exp_gain=False,\n",
    ")"
   ],
   "id": "b08743a6c185b7e2",
   "outputs": [],
   "execution_count": 150
  },
  {
   "metadata": {
    "ExecuteTime": {
     "end_time": "2025-03-19T18:11:21.764549Z",
     "start_time": "2025-03-19T18:10:56.143427Z"
    }
   },
   "cell_type": "code",
   "source": [
    "# ranker.fit(X_train, y_train, group=groups_train, eval_set=[(X_train, y_train)], \n",
    "#            eval_group=[groups_train], verbose=True)\n",
    "\n",
    "ranker.fit(X_train_scaled, y_train_disc, group=groups_train, eval_set=[(X_train_scaled, y_train)], \n",
    "           eval_group=[groups_train], verbose=True)"
   ],
   "id": "6b185c76f1ead420",
   "outputs": [
    {
     "name": "stdout",
     "output_type": "stream",
     "text": [
      "[0]\tvalidation_0-ndcg@32:0.93531\n",
      "[1]\tvalidation_0-ndcg@32:0.93095\n",
      "[2]\tvalidation_0-ndcg@32:0.93041\n",
      "[3]\tvalidation_0-ndcg@32:0.92972\n",
      "[4]\tvalidation_0-ndcg@32:0.92347\n",
      "[5]\tvalidation_0-ndcg@32:0.92241\n",
      "[6]\tvalidation_0-ndcg@32:0.92227\n",
      "[7]\tvalidation_0-ndcg@32:0.92193\n",
      "[8]\tvalidation_0-ndcg@32:0.92163\n",
      "[9]\tvalidation_0-ndcg@32:0.92165\n",
      "[10]\tvalidation_0-ndcg@32:0.92105\n",
      "[11]\tvalidation_0-ndcg@32:0.92097\n",
      "[12]\tvalidation_0-ndcg@32:0.92093\n",
      "[13]\tvalidation_0-ndcg@32:0.92068\n",
      "[14]\tvalidation_0-ndcg@32:0.92064\n",
      "[15]\tvalidation_0-ndcg@32:0.92036\n",
      "[16]\tvalidation_0-ndcg@32:0.92036\n",
      "[17]\tvalidation_0-ndcg@32:0.92017\n",
      "[18]\tvalidation_0-ndcg@32:0.92017\n",
      "[19]\tvalidation_0-ndcg@32:0.92019\n",
      "[20]\tvalidation_0-ndcg@32:0.92019\n",
      "[21]\tvalidation_0-ndcg@32:0.92019\n",
      "[22]\tvalidation_0-ndcg@32:0.92019\n",
      "[23]\tvalidation_0-ndcg@32:0.92019\n",
      "[24]\tvalidation_0-ndcg@32:0.92018\n",
      "[25]\tvalidation_0-ndcg@32:0.92010\n",
      "[26]\tvalidation_0-ndcg@32:0.91996\n",
      "[27]\tvalidation_0-ndcg@32:0.91996\n",
      "[28]\tvalidation_0-ndcg@32:0.91775\n",
      "[29]\tvalidation_0-ndcg@32:0.91760\n",
      "[30]\tvalidation_0-ndcg@32:0.91760\n",
      "[31]\tvalidation_0-ndcg@32:0.91761\n",
      "[32]\tvalidation_0-ndcg@32:0.91757\n",
      "[33]\tvalidation_0-ndcg@32:0.91757\n",
      "[34]\tvalidation_0-ndcg@32:0.91757\n",
      "[35]\tvalidation_0-ndcg@32:0.91758\n",
      "[36]\tvalidation_0-ndcg@32:0.91759\n",
      "[37]\tvalidation_0-ndcg@32:0.91759\n",
      "[38]\tvalidation_0-ndcg@32:0.91759\n",
      "[39]\tvalidation_0-ndcg@32:0.91759\n",
      "[40]\tvalidation_0-ndcg@32:0.91758\n",
      "[41]\tvalidation_0-ndcg@32:0.91759\n",
      "[42]\tvalidation_0-ndcg@32:0.91759\n",
      "[43]\tvalidation_0-ndcg@32:0.91758\n",
      "[44]\tvalidation_0-ndcg@32:0.91750\n",
      "[45]\tvalidation_0-ndcg@32:0.91750\n",
      "[46]\tvalidation_0-ndcg@32:0.91750\n",
      "[47]\tvalidation_0-ndcg@32:0.91750\n",
      "[48]\tvalidation_0-ndcg@32:0.91750\n",
      "[49]\tvalidation_0-ndcg@32:0.91749\n",
      "[50]\tvalidation_0-ndcg@32:0.91744\n"
     ]
    },
    {
     "data": {
      "text/plain": [
       "XGBRanker(base_score=None, booster='gbtree', callbacks=None,\n",
       "          colsample_bylevel=None, colsample_bynode=None, colsample_bytree=None,\n",
       "          device=None, early_stopping_rounds=50, enable_categorical=False,\n",
       "          eval_metric=None, feature_types=None, gamma=None, grow_policy=None,\n",
       "          importance_type=None, interaction_constraints=None,\n",
       "          learning_rate=0.005, max_bin=None, max_cat_threshold=None,\n",
       "          max_cat_to_onehot=None, max_delta_step=None, max_depth=7,\n",
       "          max_leaves=None, min_child_weight=None, missing=nan,\n",
       "          monotone_constraints=None, multi_strategy=None, n_estimators=800,\n",
       "          n_jobs=-1, ndcg_exp_gain=False, num_parallel_tree=None, ...)"
      ],
      "text/html": [
       "<style>#sk-container-id-9 {color: black;background-color: white;}#sk-container-id-9 pre{padding: 0;}#sk-container-id-9 div.sk-toggleable {background-color: white;}#sk-container-id-9 label.sk-toggleable__label {cursor: pointer;display: block;width: 100%;margin-bottom: 0;padding: 0.3em;box-sizing: border-box;text-align: center;}#sk-container-id-9 label.sk-toggleable__label-arrow:before {content: \"▸\";float: left;margin-right: 0.25em;color: #696969;}#sk-container-id-9 label.sk-toggleable__label-arrow:hover:before {color: black;}#sk-container-id-9 div.sk-estimator:hover label.sk-toggleable__label-arrow:before {color: black;}#sk-container-id-9 div.sk-toggleable__content {max-height: 0;max-width: 0;overflow: hidden;text-align: left;background-color: #f0f8ff;}#sk-container-id-9 div.sk-toggleable__content pre {margin: 0.2em;color: black;border-radius: 0.25em;background-color: #f0f8ff;}#sk-container-id-9 input.sk-toggleable__control:checked~div.sk-toggleable__content {max-height: 200px;max-width: 100%;overflow: auto;}#sk-container-id-9 input.sk-toggleable__control:checked~label.sk-toggleable__label-arrow:before {content: \"▾\";}#sk-container-id-9 div.sk-estimator input.sk-toggleable__control:checked~label.sk-toggleable__label {background-color: #d4ebff;}#sk-container-id-9 div.sk-label input.sk-toggleable__control:checked~label.sk-toggleable__label {background-color: #d4ebff;}#sk-container-id-9 input.sk-hidden--visually {border: 0;clip: rect(1px 1px 1px 1px);clip: rect(1px, 1px, 1px, 1px);height: 1px;margin: -1px;overflow: hidden;padding: 0;position: absolute;width: 1px;}#sk-container-id-9 div.sk-estimator {font-family: monospace;background-color: #f0f8ff;border: 1px dotted black;border-radius: 0.25em;box-sizing: border-box;margin-bottom: 0.5em;}#sk-container-id-9 div.sk-estimator:hover {background-color: #d4ebff;}#sk-container-id-9 div.sk-parallel-item::after {content: \"\";width: 100%;border-bottom: 1px solid gray;flex-grow: 1;}#sk-container-id-9 div.sk-label:hover label.sk-toggleable__label {background-color: #d4ebff;}#sk-container-id-9 div.sk-serial::before {content: \"\";position: absolute;border-left: 1px solid gray;box-sizing: border-box;top: 0;bottom: 0;left: 50%;z-index: 0;}#sk-container-id-9 div.sk-serial {display: flex;flex-direction: column;align-items: center;background-color: white;padding-right: 0.2em;padding-left: 0.2em;position: relative;}#sk-container-id-9 div.sk-item {position: relative;z-index: 1;}#sk-container-id-9 div.sk-parallel {display: flex;align-items: stretch;justify-content: center;background-color: white;position: relative;}#sk-container-id-9 div.sk-item::before, #sk-container-id-9 div.sk-parallel-item::before {content: \"\";position: absolute;border-left: 1px solid gray;box-sizing: border-box;top: 0;bottom: 0;left: 50%;z-index: -1;}#sk-container-id-9 div.sk-parallel-item {display: flex;flex-direction: column;z-index: 1;position: relative;background-color: white;}#sk-container-id-9 div.sk-parallel-item:first-child::after {align-self: flex-end;width: 50%;}#sk-container-id-9 div.sk-parallel-item:last-child::after {align-self: flex-start;width: 50%;}#sk-container-id-9 div.sk-parallel-item:only-child::after {width: 0;}#sk-container-id-9 div.sk-dashed-wrapped {border: 1px dashed gray;margin: 0 0.4em 0.5em 0.4em;box-sizing: border-box;padding-bottom: 0.4em;background-color: white;}#sk-container-id-9 div.sk-label label {font-family: monospace;font-weight: bold;display: inline-block;line-height: 1.2em;}#sk-container-id-9 div.sk-label-container {text-align: center;}#sk-container-id-9 div.sk-container {/* jupyter's `normalize.less` sets `[hidden] { display: none; }` but bootstrap.min.css set `[hidden] { display: none !important; }` so we also need the `!important` here to be able to override the default hidden behavior on the sphinx rendered scikit-learn.org. See: https://github.com/scikit-learn/scikit-learn/issues/21755 */display: inline-block !important;position: relative;}#sk-container-id-9 div.sk-text-repr-fallback {display: none;}</style><div id=\"sk-container-id-9\" class=\"sk-top-container\"><div class=\"sk-text-repr-fallback\"><pre>XGBRanker(base_score=None, booster=&#x27;gbtree&#x27;, callbacks=None,\n",
       "          colsample_bylevel=None, colsample_bynode=None, colsample_bytree=None,\n",
       "          device=None, early_stopping_rounds=50, enable_categorical=False,\n",
       "          eval_metric=None, feature_types=None, gamma=None, grow_policy=None,\n",
       "          importance_type=None, interaction_constraints=None,\n",
       "          learning_rate=0.005, max_bin=None, max_cat_threshold=None,\n",
       "          max_cat_to_onehot=None, max_delta_step=None, max_depth=7,\n",
       "          max_leaves=None, min_child_weight=None, missing=nan,\n",
       "          monotone_constraints=None, multi_strategy=None, n_estimators=800,\n",
       "          n_jobs=-1, ndcg_exp_gain=False, num_parallel_tree=None, ...)</pre><b>In a Jupyter environment, please rerun this cell to show the HTML representation or trust the notebook. <br />On GitHub, the HTML representation is unable to render, please try loading this page with nbviewer.org.</b></div><div class=\"sk-container\" hidden><div class=\"sk-item\"><div class=\"sk-estimator sk-toggleable\"><input class=\"sk-toggleable__control sk-hidden--visually\" id=\"sk-estimator-id-9\" type=\"checkbox\" checked><label for=\"sk-estimator-id-9\" class=\"sk-toggleable__label sk-toggleable__label-arrow\">XGBRanker</label><div class=\"sk-toggleable__content\"><pre>XGBRanker(base_score=None, booster=&#x27;gbtree&#x27;, callbacks=None,\n",
       "          colsample_bylevel=None, colsample_bynode=None, colsample_bytree=None,\n",
       "          device=None, early_stopping_rounds=50, enable_categorical=False,\n",
       "          eval_metric=None, feature_types=None, gamma=None, grow_policy=None,\n",
       "          importance_type=None, interaction_constraints=None,\n",
       "          learning_rate=0.005, max_bin=None, max_cat_threshold=None,\n",
       "          max_cat_to_onehot=None, max_delta_step=None, max_depth=7,\n",
       "          max_leaves=None, min_child_weight=None, missing=nan,\n",
       "          monotone_constraints=None, multi_strategy=None, n_estimators=800,\n",
       "          n_jobs=-1, ndcg_exp_gain=False, num_parallel_tree=None, ...)</pre></div></div></div></div></div>"
      ]
     },
     "execution_count": 151,
     "metadata": {},
     "output_type": "execute_result"
    }
   ],
   "execution_count": 151
  },
  {
   "metadata": {
    "ExecuteTime": {
     "end_time": "2025-03-19T18:11:21.807799Z",
     "start_time": "2025-03-19T18:11:21.796546Z"
    }
   },
   "cell_type": "code",
   "source": "test_data[\"score\"] = ranker.predict(X_test_scaled)",
   "id": "776f3f2e22f2f70d",
   "outputs": [],
   "execution_count": 152
  },
  {
   "metadata": {
    "ExecuteTime": {
     "end_time": "2025-03-19T18:11:22.900704Z",
     "start_time": "2025-03-19T18:11:21.853144Z"
    }
   },
   "cell_type": "code",
   "source": "test_data[[\"user\", \"track\", \"score\"]].to_csv(\"./data/lambda_r/test_lambda_r_7.csv\", index=False)",
   "id": "5b46642802340060",
   "outputs": [],
   "execution_count": 153
  },
  {
   "metadata": {
    "ExecuteTime": {
     "end_time": "2025-03-19T18:11:22.923199Z",
     "start_time": "2025-03-19T18:11:22.920279Z"
    }
   },
   "cell_type": "code",
   "source": "",
   "id": "97c4fd81140ee7c0",
   "outputs": [],
   "execution_count": null
  },
  {
   "metadata": {
    "ExecuteTime": {
     "end_time": "2025-03-19T18:11:22.972364Z",
     "start_time": "2025-03-19T18:11:22.969311Z"
    }
   },
   "cell_type": "code",
   "source": "",
   "id": "addeed9d5fc0f45e",
   "outputs": [],
   "execution_count": null
  },
  {
   "metadata": {
    "ExecuteTime": {
     "end_time": "2025-03-19T18:11:23.021830Z",
     "start_time": "2025-03-19T18:11:23.018720Z"
    }
   },
   "cell_type": "code",
   "source": "",
   "id": "ca6cbcce72657af9",
   "outputs": [],
   "execution_count": null
  },
  {
   "metadata": {
    "ExecuteTime": {
     "end_time": "2025-03-19T18:11:23.072307Z",
     "start_time": "2025-03-19T18:11:23.069379Z"
    }
   },
   "cell_type": "code",
   "source": "",
   "id": "53c69f4d33efbe1c",
   "outputs": [],
   "execution_count": null
  },
  {
   "metadata": {
    "ExecuteTime": {
     "end_time": "2025-03-19T18:11:23.121874Z",
     "start_time": "2025-03-19T18:11:23.119232Z"
    }
   },
   "cell_type": "code",
   "source": "",
   "id": "1863de4d5e97e943",
   "outputs": [],
   "execution_count": null
  },
  {
   "metadata": {
    "ExecuteTime": {
     "end_time": "2025-03-19T18:11:23.231110Z",
     "start_time": "2025-03-19T18:11:23.170285Z"
    }
   },
   "cell_type": "code",
   "source": [
    "import numpy as np\n",
    "import pandas as pd\n",
    "import lightfm\n",
    "from lightfm import data as ld\n",
    "from sklearn.preprocessing import MinMaxScaler\n",
    "from xgboost import XGBRanker\n",
    "\n",
    "# ... (предыдущий код остается без изменений)\n",
    "\n",
    "# Подготовка данных для LambdaRank\n",
    "def prepare_data_for_lambdarank(df, train_flag=True):\n",
    "    features = ['lightfm_score']\n",
    "    X = df[features]\n",
    "    if train_flag:\n",
    "        # Преобразуем 'time' в дискретные ранги\n",
    "        y = pd.qcut(df['time'], q=5, labels=False)\n",
    "    else:\n",
    "        y = None\n",
    "    groups = df.groupby('user_id').size().values\n",
    "    return X, y, groups\n",
    "\n",
    "X_train, y_train, groups_train = prepare_data_for_lambdarank(train_data)\n",
    "X_test, _, groups_test = prepare_data_for_lambdarank(test_data, train_flag=False)\n",
    "\n",
    "scaler = MinMaxScaler()\n",
    "X_train_scaled = scaler.fit_transform(X_train)\n",
    "X_test_scaled = scaler.transform(X_test)\n",
    "\n",
    "ranker = XGBRanker(\n",
    "    tree_method='hist',\n",
    "    booster='gbtree',\n",
    "    objective='rank:ndcg',\n",
    "    learning_rate=0.1,\n",
    "    early_stopping_rounds=50,\n",
    "    random_state=42,\n",
    "    max_depth=6,\n",
    "    n_estimators=100,\n",
    "    n_jobs=-1,\n",
    ")\n",
    "\n",
    "ranker.fit(X_train_scaled, y_train, group=groups_train, eval_set=[(X_train_scaled, y_train)], \n",
    "           eval_group=[groups_train], verbose=True)\n",
    "\n",
    "# Предсказание и сохранение результатов\n",
    "test_data[\"final_score\"] = ranker.predict(X_test_scaled)\n",
    "\n",
    "# Сохранение результатов\n",
    "test_data[[\"user\", \"track\", \"final_score\"]].to_csv(\"./data/lambda_r/test_lambda_r_1.csv\", index=False)\n"
   ],
   "id": "81dd67b72f430602",
   "outputs": [
    {
     "ename": "ValueError",
     "evalue": "Bin edges must be unique: array([0.        , 0.        , 0.04      , 0.3       , 0.66666667,\n       1.        ]).\nYou can drop duplicate edges by setting the 'duplicates' kwarg",
     "output_type": "error",
     "traceback": [
      "\u001B[0;31m---------------------------------------------------------------------------\u001B[0m",
      "\u001B[0;31mValueError\u001B[0m                                Traceback (most recent call last)",
      "Cell \u001B[0;32mIn[154], line 22\u001B[0m\n\u001B[1;32m     19\u001B[0m     groups \u001B[38;5;241m=\u001B[39m df\u001B[38;5;241m.\u001B[39mgroupby(\u001B[38;5;124m'\u001B[39m\u001B[38;5;124muser_id\u001B[39m\u001B[38;5;124m'\u001B[39m)\u001B[38;5;241m.\u001B[39msize()\u001B[38;5;241m.\u001B[39mvalues\n\u001B[1;32m     20\u001B[0m     \u001B[38;5;28;01mreturn\u001B[39;00m X, y, groups\n\u001B[0;32m---> 22\u001B[0m X_train, y_train, groups_train \u001B[38;5;241m=\u001B[39m \u001B[43mprepare_data_for_lambdarank\u001B[49m\u001B[43m(\u001B[49m\u001B[43mtrain_data\u001B[49m\u001B[43m)\u001B[49m\n\u001B[1;32m     23\u001B[0m X_test, _, groups_test \u001B[38;5;241m=\u001B[39m prepare_data_for_lambdarank(test_data, train_flag\u001B[38;5;241m=\u001B[39m\u001B[38;5;28;01mFalse\u001B[39;00m)\n\u001B[1;32m     25\u001B[0m scaler \u001B[38;5;241m=\u001B[39m MinMaxScaler()\n",
      "Cell \u001B[0;32mIn[154], line 16\u001B[0m, in \u001B[0;36mprepare_data_for_lambdarank\u001B[0;34m(df, train_flag)\u001B[0m\n\u001B[1;32m     13\u001B[0m X \u001B[38;5;241m=\u001B[39m df[features]\n\u001B[1;32m     14\u001B[0m \u001B[38;5;28;01mif\u001B[39;00m train_flag:\n\u001B[1;32m     15\u001B[0m     \u001B[38;5;66;03m# Преобразуем 'time' в дискретные ранги\u001B[39;00m\n\u001B[0;32m---> 16\u001B[0m     y \u001B[38;5;241m=\u001B[39m \u001B[43mpd\u001B[49m\u001B[38;5;241;43m.\u001B[39;49m\u001B[43mqcut\u001B[49m\u001B[43m(\u001B[49m\u001B[43mdf\u001B[49m\u001B[43m[\u001B[49m\u001B[38;5;124;43m'\u001B[39;49m\u001B[38;5;124;43mtime\u001B[39;49m\u001B[38;5;124;43m'\u001B[39;49m\u001B[43m]\u001B[49m\u001B[43m,\u001B[49m\u001B[43m \u001B[49m\u001B[43mq\u001B[49m\u001B[38;5;241;43m=\u001B[39;49m\u001B[38;5;241;43m5\u001B[39;49m\u001B[43m,\u001B[49m\u001B[43m \u001B[49m\u001B[43mlabels\u001B[49m\u001B[38;5;241;43m=\u001B[39;49m\u001B[38;5;28;43;01mFalse\u001B[39;49;00m\u001B[43m)\u001B[49m\n\u001B[1;32m     17\u001B[0m \u001B[38;5;28;01melse\u001B[39;00m:\n\u001B[1;32m     18\u001B[0m     y \u001B[38;5;241m=\u001B[39m \u001B[38;5;28;01mNone\u001B[39;00m\n",
      "File \u001B[0;32m~/miniconda3/envs/lightfm_env/lib/python3.9/site-packages/pandas/core/reshape/tile.py:379\u001B[0m, in \u001B[0;36mqcut\u001B[0;34m(x, q, labels, retbins, precision, duplicates)\u001B[0m\n\u001B[1;32m    376\u001B[0m x_np \u001B[38;5;241m=\u001B[39m x_np[\u001B[38;5;241m~\u001B[39mnp\u001B[38;5;241m.\u001B[39misnan(x_np)]\n\u001B[1;32m    377\u001B[0m bins \u001B[38;5;241m=\u001B[39m np\u001B[38;5;241m.\u001B[39mquantile(x_np, quantiles)\n\u001B[0;32m--> 379\u001B[0m fac, bins \u001B[38;5;241m=\u001B[39m \u001B[43m_bins_to_cuts\u001B[49m\u001B[43m(\u001B[49m\n\u001B[1;32m    380\u001B[0m \u001B[43m    \u001B[49m\u001B[43mx\u001B[49m\u001B[43m,\u001B[49m\n\u001B[1;32m    381\u001B[0m \u001B[43m    \u001B[49m\u001B[43mbins\u001B[49m\u001B[43m,\u001B[49m\n\u001B[1;32m    382\u001B[0m \u001B[43m    \u001B[49m\u001B[43mlabels\u001B[49m\u001B[38;5;241;43m=\u001B[39;49m\u001B[43mlabels\u001B[49m\u001B[43m,\u001B[49m\n\u001B[1;32m    383\u001B[0m \u001B[43m    \u001B[49m\u001B[43mprecision\u001B[49m\u001B[38;5;241;43m=\u001B[39;49m\u001B[43mprecision\u001B[49m\u001B[43m,\u001B[49m\n\u001B[1;32m    384\u001B[0m \u001B[43m    \u001B[49m\u001B[43minclude_lowest\u001B[49m\u001B[38;5;241;43m=\u001B[39;49m\u001B[38;5;28;43;01mTrue\u001B[39;49;00m\u001B[43m,\u001B[49m\n\u001B[1;32m    385\u001B[0m \u001B[43m    \u001B[49m\u001B[43mdtype\u001B[49m\u001B[38;5;241;43m=\u001B[39;49m\u001B[43mdtype\u001B[49m\u001B[43m,\u001B[49m\n\u001B[1;32m    386\u001B[0m \u001B[43m    \u001B[49m\u001B[43mduplicates\u001B[49m\u001B[38;5;241;43m=\u001B[39;49m\u001B[43mduplicates\u001B[49m\u001B[43m,\u001B[49m\n\u001B[1;32m    387\u001B[0m \u001B[43m\u001B[49m\u001B[43m)\u001B[49m\n\u001B[1;32m    389\u001B[0m \u001B[38;5;28;01mreturn\u001B[39;00m _postprocess_for_cut(fac, bins, retbins, dtype, original)\n",
      "File \u001B[0;32m~/miniconda3/envs/lightfm_env/lib/python3.9/site-packages/pandas/core/reshape/tile.py:420\u001B[0m, in \u001B[0;36m_bins_to_cuts\u001B[0;34m(x, bins, right, labels, precision, include_lowest, dtype, duplicates, ordered)\u001B[0m\n\u001B[1;32m    418\u001B[0m \u001B[38;5;28;01mif\u001B[39;00m \u001B[38;5;28mlen\u001B[39m(unique_bins) \u001B[38;5;241m<\u001B[39m \u001B[38;5;28mlen\u001B[39m(bins) \u001B[38;5;129;01mand\u001B[39;00m \u001B[38;5;28mlen\u001B[39m(bins) \u001B[38;5;241m!=\u001B[39m \u001B[38;5;241m2\u001B[39m:\n\u001B[1;32m    419\u001B[0m     \u001B[38;5;28;01mif\u001B[39;00m duplicates \u001B[38;5;241m==\u001B[39m \u001B[38;5;124m\"\u001B[39m\u001B[38;5;124mraise\u001B[39m\u001B[38;5;124m\"\u001B[39m:\n\u001B[0;32m--> 420\u001B[0m         \u001B[38;5;28;01mraise\u001B[39;00m \u001B[38;5;167;01mValueError\u001B[39;00m(\n\u001B[1;32m    421\u001B[0m             \u001B[38;5;124mf\u001B[39m\u001B[38;5;124m\"\u001B[39m\u001B[38;5;124mBin edges must be unique: \u001B[39m\u001B[38;5;132;01m{\u001B[39;00m\u001B[38;5;28mrepr\u001B[39m(bins)\u001B[38;5;132;01m}\u001B[39;00m\u001B[38;5;124m.\u001B[39m\u001B[38;5;130;01m\\n\u001B[39;00m\u001B[38;5;124m\"\u001B[39m\n\u001B[1;32m    422\u001B[0m             \u001B[38;5;124mf\u001B[39m\u001B[38;5;124m\"\u001B[39m\u001B[38;5;124mYou can drop duplicate edges by setting the \u001B[39m\u001B[38;5;124m'\u001B[39m\u001B[38;5;124mduplicates\u001B[39m\u001B[38;5;124m'\u001B[39m\u001B[38;5;124m kwarg\u001B[39m\u001B[38;5;124m\"\u001B[39m\n\u001B[1;32m    423\u001B[0m         )\n\u001B[1;32m    424\u001B[0m     \u001B[38;5;28;01melse\u001B[39;00m:\n\u001B[1;32m    425\u001B[0m         bins \u001B[38;5;241m=\u001B[39m unique_bins\n",
      "\u001B[0;31mValueError\u001B[0m: Bin edges must be unique: array([0.        , 0.        , 0.04      , 0.3       , 0.66666667,\n       1.        ]).\nYou can drop duplicate edges by setting the 'duplicates' kwarg"
     ]
    }
   ],
   "execution_count": 154
  }
 ],
 "metadata": {
  "kernelspec": {
   "display_name": "Python 3",
   "language": "python",
   "name": "python3"
  },
  "language_info": {
   "codemirror_mode": {
    "name": "ipython",
    "version": 2
   },
   "file_extension": ".py",
   "mimetype": "text/x-python",
   "name": "python",
   "nbconvert_exporter": "python",
   "pygments_lexer": "ipython2",
   "version": "2.7.6"
  }
 },
 "nbformat": 4,
 "nbformat_minor": 5
}
