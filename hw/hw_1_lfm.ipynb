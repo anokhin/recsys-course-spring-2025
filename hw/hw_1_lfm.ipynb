{
 "cells": [
  {
   "cell_type": "code",
   "id": "initial_id",
   "metadata": {
    "collapsed": true,
    "ExecuteTime": {
     "end_time": "2025-03-19T08:01:29.076251Z",
     "start_time": "2025-03-19T08:01:28.684207Z"
    }
   },
   "source": [
    "import os\n",
    "\n",
    "import pandas as pd\n",
    "import numpy as np\n",
    "import scipy.stats as ss\n",
    "\n",
    "import lightfm\n",
    "import lightfm.data as ld\n",
    "import lightfm.evaluation as lv\n",
    "\n",
    "import glob\n",
    "import tqdm\n",
    "import json\n",
    "import optuna\n",
    "\n",
    "import tensorboardX as tb\n",
    "\n",
    "import matplotlib.pyplot as pl\n",
    "\n",
    "np.random.seed(31337)"
   ],
   "outputs": [
    {
     "name": "stderr",
     "output_type": "stream",
     "text": [
      "/home/denis/miniconda3/envs/lightfm_env/lib/python3.9/site-packages/tqdm/auto.py:21: TqdmWarning: IProgress not found. Please update jupyter and ipywidgets. See https://ipywidgets.readthedocs.io/en/stable/user_install.html\n",
      "  from .autonotebook import tqdm as notebook_tqdm\n"
     ]
    }
   ],
   "execution_count": 1
  },
  {
   "metadata": {
    "ExecuteTime": {
     "end_time": "2025-03-18T18:21:32.960983Z",
     "start_time": "2025-03-18T18:21:31.895425Z"
    }
   },
   "cell_type": "code",
   "source": [
    "wsl_train_path = \"/mnt/c/Users/denis/PycharmProjects/recsys-course-spring-2025/hw/train.csv\"\n",
    "wsl_test_path = \"/mnt/c/Users/denis/PycharmProjects/recsys-course-spring-2025/hw/test.csv\"\n",
    "train_data = pd.read_csv(wsl_train_path)\n",
    "test_data = pd.read_csv(wsl_test_path)"
   ],
   "id": "59f9a6b09a5e4c20",
   "outputs": [],
   "execution_count": 54
  },
  {
   "metadata": {
    "ExecuteTime": {
     "end_time": "2025-03-18T18:21:33.596731Z",
     "start_time": "2025-03-18T18:21:33.530725Z"
    }
   },
   "cell_type": "code",
   "source": "user_id_map = {id: i for i, id in enumerate(train_data['user'].unique())}",
   "id": "e244bc188d1d929e",
   "outputs": [],
   "execution_count": 55
  },
  {
   "metadata": {
    "ExecuteTime": {
     "end_time": "2025-03-18T18:21:33.935047Z",
     "start_time": "2025-03-18T18:21:33.665987Z"
    }
   },
   "cell_type": "code",
   "source": [
    "train_data[\"user_id\"] = train_data[\"user\"].map(user_id_map).map(int)\n",
    "test_data[\"user_id\"] = test_data[\"user\"].map(user_id_map).map(int)"
   ],
   "id": "7f22635a81ecb844",
   "outputs": [],
   "execution_count": 56
  },
  {
   "metadata": {
    "ExecuteTime": {
     "end_time": "2025-03-18T18:22:32.037927Z",
     "start_time": "2025-03-18T18:22:31.974707Z"
    }
   },
   "cell_type": "code",
   "source": [
    "users_id = sorted(set(train_data[\"user_id\"]))\n",
    "max_track_id = max(train_data['track'].max(), test_data['track'].max())\n",
    "# tracks = sorted(all_tracks)"
   ],
   "id": "c7e53094cc93eeea",
   "outputs": [],
   "execution_count": 58
  },
  {
   "metadata": {},
   "cell_type": "markdown",
   "source": "### Optuna",
   "id": "25773d5b2634c0c1"
  },
  {
   "metadata": {
    "ExecuteTime": {
     "end_time": "2025-03-18T15:47:22.116829Z",
     "start_time": "2025-03-18T15:47:22.067826Z"
    }
   },
   "cell_type": "code",
   "source": [
    "positives = train_data[train_data[\"time\"] > 0.7].copy()\n",
    "positives[\"validation\"] = np.random.random(len(positives)) >= 0.8\n",
    "# positives.drop_duplicates([\"user\", \"track\"], inplace=True)\n",
    "\n",
    "# user_counts = positives_train[~positives_train[\"test\"]].groupby(\"user\").size()\n",
    "# users = set(user_counts[user_counts >= 4].index.values)\n",
    "# \n",
    "# track_counts = positives_train[~positives_train[\"test\"]].groupby(\"track\").size()\n",
    "# tracks = set(track_counts[track_counts >= 4].index.values)"
   ],
   "id": "af46bdf208bd0993",
   "outputs": [],
   "execution_count": 37
  },
  {
   "metadata": {
    "ExecuteTime": {
     "end_time": "2025-03-18T15:47:22.169158Z",
     "start_time": "2025-03-18T15:47:22.138380Z"
    }
   },
   "cell_type": "code",
   "source": [
    "users = set(positives[\"user_id\"].unique())\n",
    "tracks = set(positives[\"track\"].unique())"
   ],
   "id": "eb6f20fc6172ec78",
   "outputs": [],
   "execution_count": 38
  },
  {
   "metadata": {
    "ExecuteTime": {
     "end_time": "2025-03-18T15:47:22.220362Z",
     "start_time": "2025-03-18T15:47:22.187935Z"
    }
   },
   "cell_type": "code",
   "source": [
    "positives_train = positives[~positives[\"validation\"]]\n",
    "positives_val = positives[positives[\"validation\"]]"
   ],
   "id": "a0afd40c8f4a20ca",
   "outputs": [],
   "execution_count": 39
  },
  {
   "metadata": {
    "ExecuteTime": {
     "end_time": "2025-03-18T15:47:22.323313Z",
     "start_time": "2025-03-18T15:47:22.243723Z"
    }
   },
   "cell_type": "code",
   "source": [
    "# dataset = ld.Dataset()\n",
    "# dataset.fit(users, tracks)\n",
    "dataset = ld.Dataset()\n",
    "dataset.fit(users_id, range(max_track_id + 1))"
   ],
   "id": "d38fd0d2d9bf24e4",
   "outputs": [],
   "execution_count": 40
  },
  {
   "metadata": {
    "ExecuteTime": {
     "end_time": "2025-03-18T15:47:22.649291Z",
     "start_time": "2025-03-18T15:47:22.347914Z"
    }
   },
   "cell_type": "code",
   "source": [
    "train_interactions, _ = dataset.build_interactions(positives_train[[\"user_id\", \"track\"]].itertuples(index=False, name=None))\n",
    "val_interactions, _ = dataset.build_interactions(positives_val[[\"user_id\", \"track\"]].itertuples(index=False, name=None))"
   ],
   "id": "1cc5c24c81357f0c",
   "outputs": [],
   "execution_count": 41
  },
  {
   "metadata": {
    "ExecuteTime": {
     "end_time": "2025-03-18T15:47:50.894177Z",
     "start_time": "2025-03-18T15:47:50.885405Z"
    }
   },
   "cell_type": "code",
   "source": [
    "def fit_model(\n",
    "    epochs=1, \n",
    "    at=10,\n",
    "    loss=\"warp\",\n",
    "    no_components=30,\n",
    "    learning_rate=0.01, \n",
    "    max_sampled=10,\n",
    "    user_alpha=0.0, \n",
    "    item_alpha=0.0, \n",
    "    threads=30, \n",
    "    verbose=False,\n",
    "    patience=3,\n",
    "    epsilon=1e-6,\n",
    "):\n",
    "    model = lightfm.LightFM(\n",
    "        no_components=no_components,\n",
    "        loss=loss,\n",
    "        learning_rate=learning_rate,\n",
    "        max_sampled=max_sampled,\n",
    "        user_alpha=user_alpha,\n",
    "        item_alpha=item_alpha,\n",
    "    )\n",
    "\n",
    "    precisions_at = []\n",
    "    \n",
    "    for epoch in range(epochs):\n",
    "        model = model.fit_partial(train_interactions, num_threads=threads)\n",
    "        \n",
    "        precision_at = lv.precision_at_k(model, val_interactions, train_interactions=train_interactions, k=at, num_threads=threads)\n",
    "        \n",
    "        if verbose:\n",
    "            print(f\"{epoch}:\\t{np.mean(precision_at)} +/- {ss.sem(precision_at) * 1.96}\")\n",
    "            \n",
    "        precisions_at.append(np.mean(precision_at))\n",
    "            \n",
    "        if epoch > patience and all([precisions_at[-j] - precisions_at[-patience-1] < epsilon for j in range(1, patience + 1)]):\n",
    "            if verbose:\n",
    "                print(\"Early stopping!\")\n",
    "            break\n",
    "        \n",
    "    else:\n",
    "        if verbose:\n",
    "            print(\"No early stopping happened: increase epochs maybe?\")\n",
    "        \n",
    "    return model, precisions_at\n",
    "\n",
    "\n",
    "def objective(trial):\n",
    "    loss = trial.suggest_categorical(\"loss\", [\"warp\", \"bpr\"])\n",
    "    no_components = trial.suggest_categorical(\"no_components\", [30, 50, 80, 100, 120, 150])\n",
    "    learning_rate = trial.suggest_categorical(\"learning_rate\", [0.0001, 0.001, 0.01])\n",
    "    max_sampled = trial.suggest_categorical(\"max_sampled\", [10, 20, 50, 100])\n",
    "    user_alpha = trial.suggest_categorical(\"user_alpha\", [0.0, 0.0001])\n",
    "    item_alpha = trial.suggest_categorical(\"item_alpha\", [0.0, 0.0001])\n",
    "    \n",
    "    model, precisions_at = fit_model(\n",
    "        epochs=10, \n",
    "        at=10,\n",
    "        loss=loss,\n",
    "        no_components=no_components, \n",
    "        learning_rate=learning_rate, \n",
    "        max_sampled=max_sampled, \n",
    "        user_alpha=user_alpha, \n",
    "        item_alpha=item_alpha,\n",
    "        threads=7\n",
    "    )\n",
    "    \n",
    "    return precisions_at[-1]"
   ],
   "id": "87522a7943acfaa7",
   "outputs": [],
   "execution_count": 43
  },
  {
   "metadata": {
    "ExecuteTime": {
     "end_time": "2025-03-18T17:50:22.673925Z",
     "start_time": "2025-03-18T15:47:58.266811Z"
    }
   },
   "cell_type": "code",
   "source": [
    "study = optuna.create_study(direction=\"maximize\")\n",
    "study.optimize(objective, n_trials=60)"
   ],
   "id": "ca108f08f08df803",
   "outputs": [
    {
     "name": "stderr",
     "output_type": "stream",
     "text": [
      "[I 2025-03-18 18:47:58,279] A new study created in memory with name: no-name-9a2ccadd-90cf-413a-b173-5995265942b9\n",
      "[I 2025-03-18 18:48:34,912] Trial 0 finished with value: 0.001551831024698913 and parameters: {'loss': 'warp', 'no_components': 30, 'learning_rate': 0.001, 'max_sampled': 100, 'user_alpha': 0.0, 'item_alpha': 0.0001}. Best is trial 0 with value: 0.001551831024698913.\n",
      "[I 2025-03-18 18:49:41,467] Trial 1 finished with value: 0.00020691081590484828 and parameters: {'loss': 'bpr', 'no_components': 100, 'learning_rate': 0.01, 'max_sampled': 100, 'user_alpha': 0.0001, 'item_alpha': 0.0001}. Best is trial 0 with value: 0.001551831024698913.\n",
      "[I 2025-03-18 18:51:06,509] Trial 2 finished with value: 0.007521208841353655 and parameters: {'loss': 'warp', 'no_components': 50, 'learning_rate': 0.01, 'max_sampled': 100, 'user_alpha': 0.0, 'item_alpha': 0.0}. Best is trial 2 with value: 0.007521208841353655.\n",
      "[I 2025-03-18 18:51:47,171] Trial 3 finished with value: 0.0014483758714050055 and parameters: {'loss': 'warp', 'no_components': 50, 'learning_rate': 0.001, 'max_sampled': 10, 'user_alpha': 0.0, 'item_alpha': 0.0001}. Best is trial 2 with value: 0.007521208841353655.\n",
      "[I 2025-03-18 18:53:05,172] Trial 4 finished with value: 0.000124146492453292 and parameters: {'loss': 'bpr', 'no_components': 80, 'learning_rate': 0.01, 'max_sampled': 50, 'user_alpha': 0.0, 'item_alpha': 0.0001}. Best is trial 2 with value: 0.007521208841353655.\n",
      "[I 2025-03-18 18:53:37,795] Trial 5 finished with value: 0.00018621975323185325 and parameters: {'loss': 'bpr', 'no_components': 30, 'learning_rate': 0.001, 'max_sampled': 20, 'user_alpha': 0.0, 'item_alpha': 0.0}. Best is trial 2 with value: 0.007521208841353655.\n",
      "[I 2025-03-18 18:55:28,311] Trial 6 finished with value: 0.00027932962984777987 and parameters: {'loss': 'bpr', 'no_components': 80, 'learning_rate': 0.001, 'max_sampled': 100, 'user_alpha': 0.0, 'item_alpha': 0.0}. Best is trial 2 with value: 0.007521208841353655.\n",
      "[I 2025-03-18 18:57:13,635] Trial 7 finished with value: 0.000248292984906584 and parameters: {'loss': 'bpr', 'no_components': 120, 'learning_rate': 0.0001, 'max_sampled': 20, 'user_alpha': 0.0001, 'item_alpha': 0.0001}. Best is trial 2 with value: 0.007521208841353655.\n",
      "[I 2025-03-18 18:58:19,882] Trial 8 finished with value: 0.0014690668322145939 and parameters: {'loss': 'warp', 'no_components': 80, 'learning_rate': 0.001, 'max_sampled': 10, 'user_alpha': 0.0, 'item_alpha': 0.0}. Best is trial 2 with value: 0.007521208841353655.\n",
      "[I 2025-03-18 18:59:52,341] Trial 9 finished with value: 0.0004448582767508924 and parameters: {'loss': 'bpr', 'no_components': 150, 'learning_rate': 0.001, 'max_sampled': 20, 'user_alpha': 0.0001, 'item_alpha': 0.0001}. Best is trial 2 with value: 0.007521208841353655.\n",
      "[I 2025-03-18 19:01:14,107] Trial 10 finished with value: 0.007024622522294521 and parameters: {'loss': 'warp', 'no_components': 50, 'learning_rate': 0.01, 'max_sampled': 50, 'user_alpha': 0.0001, 'item_alpha': 0.0}. Best is trial 2 with value: 0.007521208841353655.\n",
      "[I 2025-03-18 19:02:35,798] Trial 11 finished with value: 0.006931512616574764 and parameters: {'loss': 'warp', 'no_components': 50, 'learning_rate': 0.01, 'max_sampled': 50, 'user_alpha': 0.0001, 'item_alpha': 0.0}. Best is trial 2 with value: 0.007521208841353655.\n",
      "[I 2025-03-18 19:03:59,226] Trial 12 finished with value: 0.006859093904495239 and parameters: {'loss': 'warp', 'no_components': 50, 'learning_rate': 0.01, 'max_sampled': 50, 'user_alpha': 0.0001, 'item_alpha': 0.0}. Best is trial 2 with value: 0.007521208841353655.\n",
      "[I 2025-03-18 19:05:22,049] Trial 13 finished with value: 0.006972895003855228 and parameters: {'loss': 'warp', 'no_components': 50, 'learning_rate': 0.01, 'max_sampled': 100, 'user_alpha': 0.0001, 'item_alpha': 0.0}. Best is trial 2 with value: 0.007521208841353655.\n",
      "[I 2025-03-18 19:06:46,556] Trial 14 finished with value: 0.0015932134119793773 and parameters: {'loss': 'warp', 'no_components': 50, 'learning_rate': 0.0001, 'max_sampled': 50, 'user_alpha': 0.0, 'item_alpha': 0.0}. Best is trial 2 with value: 0.007521208841353655.\n",
      "[I 2025-03-18 19:09:52,915] Trial 15 finished with value: 0.014659631066024303 and parameters: {'loss': 'warp', 'no_components': 150, 'learning_rate': 0.01, 'max_sampled': 100, 'user_alpha': 0.0001, 'item_alpha': 0.0}. Best is trial 15 with value: 0.014659631066024303.\n",
      "[I 2025-03-18 19:13:10,867] Trial 16 finished with value: 0.014069936238229275 and parameters: {'loss': 'warp', 'no_components': 150, 'learning_rate': 0.01, 'max_sampled': 100, 'user_alpha': 0.0001, 'item_alpha': 0.0}. Best is trial 15 with value: 0.014659631066024303.\n",
      "[I 2025-03-18 19:16:09,027] Trial 17 finished with value: 0.0016242499696090817 and parameters: {'loss': 'warp', 'no_components': 150, 'learning_rate': 0.0001, 'max_sampled': 100, 'user_alpha': 0.0001, 'item_alpha': 0.0}. Best is trial 15 with value: 0.014659631066024303.\n",
      "[I 2025-03-18 19:19:16,939] Trial 18 finished with value: 0.014463067054748535 and parameters: {'loss': 'warp', 'no_components': 150, 'learning_rate': 0.01, 'max_sampled': 100, 'user_alpha': 0.0001, 'item_alpha': 0.0}. Best is trial 15 with value: 0.014659631066024303.\n",
      "[I 2025-03-18 19:22:20,693] Trial 19 finished with value: 0.014380302280187607 and parameters: {'loss': 'warp', 'no_components': 150, 'learning_rate': 0.01, 'max_sampled': 100, 'user_alpha': 0.0001, 'item_alpha': 0.0}. Best is trial 15 with value: 0.014659631066024303.\n",
      "[I 2025-03-18 19:25:25,665] Trial 20 finished with value: 0.014690668322145939 and parameters: {'loss': 'warp', 'no_components': 150, 'learning_rate': 0.01, 'max_sampled': 10, 'user_alpha': 0.0001, 'item_alpha': 0.0}. Best is trial 20 with value: 0.014690668322145939.\n",
      "[I 2025-03-18 19:28:33,878] Trial 21 finished with value: 0.015114836394786835 and parameters: {'loss': 'warp', 'no_components': 150, 'learning_rate': 0.01, 'max_sampled': 10, 'user_alpha': 0.0001, 'item_alpha': 0.0}. Best is trial 21 with value: 0.015114836394786835.\n",
      "[I 2025-03-18 19:31:47,938] Trial 22 finished with value: 0.014018207788467407 and parameters: {'loss': 'warp', 'no_components': 150, 'learning_rate': 0.01, 'max_sampled': 10, 'user_alpha': 0.0001, 'item_alpha': 0.0}. Best is trial 21 with value: 0.015114836394786835.\n",
      "[I 2025-03-18 19:34:55,269] Trial 23 finished with value: 0.014400992542505264 and parameters: {'loss': 'warp', 'no_components': 150, 'learning_rate': 0.01, 'max_sampled': 10, 'user_alpha': 0.0001, 'item_alpha': 0.0}. Best is trial 21 with value: 0.015114836394786835.\n",
      "[I 2025-03-18 19:37:09,112] Trial 24 finished with value: 0.011773225851356983 and parameters: {'loss': 'warp', 'no_components': 100, 'learning_rate': 0.01, 'max_sampled': 10, 'user_alpha': 0.0001, 'item_alpha': 0.0}. Best is trial 21 with value: 0.015114836394786835.\n",
      "[I 2025-03-18 19:38:25,665] Trial 25 finished with value: 0.0015311399474740028 and parameters: {'loss': 'warp', 'no_components': 120, 'learning_rate': 0.0001, 'max_sampled': 10, 'user_alpha': 0.0001, 'item_alpha': 0.0}. Best is trial 21 with value: 0.015114836394786835.\n",
      "[I 2025-03-18 19:41:30,753] Trial 26 finished with value: 0.014856197871267796 and parameters: {'loss': 'warp', 'no_components': 150, 'learning_rate': 0.01, 'max_sampled': 10, 'user_alpha': 0.0001, 'item_alpha': 0.0}. Best is trial 21 with value: 0.015114836394786835.\n",
      "[I 2025-03-18 19:44:37,208] Trial 27 finished with value: 0.015135526657104492 and parameters: {'loss': 'warp', 'no_components': 150, 'learning_rate': 0.01, 'max_sampled': 10, 'user_alpha': 0.0001, 'item_alpha': 0.0}. Best is trial 27 with value: 0.015135526657104492.\n",
      "[I 2025-03-18 19:47:45,453] Trial 28 finished with value: 0.015001034364104271 and parameters: {'loss': 'warp', 'no_components': 150, 'learning_rate': 0.01, 'max_sampled': 10, 'user_alpha': 0.0001, 'item_alpha': 0.0}. Best is trial 27 with value: 0.015135526657104492.\n",
      "[I 2025-03-18 19:48:52,517] Trial 29 finished with value: 0.0016035588923841715 and parameters: {'loss': 'warp', 'no_components': 30, 'learning_rate': 0.0001, 'max_sampled': 10, 'user_alpha': 0.0001, 'item_alpha': 0.0001}. Best is trial 27 with value: 0.015135526657104492.\n",
      "[I 2025-03-18 19:52:04,403] Trial 30 finished with value: 0.014876888133585453 and parameters: {'loss': 'warp', 'no_components': 150, 'learning_rate': 0.01, 'max_sampled': 10, 'user_alpha': 0.0001, 'item_alpha': 0.0}. Best is trial 27 with value: 0.015135526657104492.\n",
      "[I 2025-03-18 19:55:12,936] Trial 31 finished with value: 0.014980344101786613 and parameters: {'loss': 'warp', 'no_components': 150, 'learning_rate': 0.01, 'max_sampled': 10, 'user_alpha': 0.0001, 'item_alpha': 0.0}. Best is trial 27 with value: 0.015135526657104492.\n",
      "[I 2025-03-18 19:57:23,301] Trial 32 finished with value: 0.012166355736553669 and parameters: {'loss': 'warp', 'no_components': 100, 'learning_rate': 0.01, 'max_sampled': 10, 'user_alpha': 0.0001, 'item_alpha': 0.0}. Best is trial 27 with value: 0.015135526657104492.\n",
      "[I 2025-03-18 20:00:31,034] Trial 33 finished with value: 0.014763087034225464 and parameters: {'loss': 'warp', 'no_components': 150, 'learning_rate': 0.01, 'max_sampled': 10, 'user_alpha': 0.0001, 'item_alpha': 0.0}. Best is trial 27 with value: 0.015135526657104492.\n",
      "[I 2025-03-18 20:03:37,127] Trial 34 finished with value: 0.016045935451984406 and parameters: {'loss': 'warp', 'no_components': 150, 'learning_rate': 0.01, 'max_sampled': 10, 'user_alpha': 0.0001, 'item_alpha': 0.0001}. Best is trial 34 with value: 0.016045935451984406.\n",
      "[I 2025-03-18 20:04:51,892] Trial 35 finished with value: 0.00014483756967820227 and parameters: {'loss': 'bpr', 'no_components': 120, 'learning_rate': 0.01, 'max_sampled': 10, 'user_alpha': 0.0001, 'item_alpha': 0.0001}. Best is trial 34 with value: 0.016045935451984406.\n",
      "[I 2025-03-18 20:05:56,900] Trial 36 finished with value: 0.004872750025242567 and parameters: {'loss': 'warp', 'no_components': 30, 'learning_rate': 0.01, 'max_sampled': 10, 'user_alpha': 0.0001, 'item_alpha': 0.0001}. Best is trial 34 with value: 0.016045935451984406.\n",
      "[I 2025-03-18 20:07:30,806] Trial 37 finished with value: 0.00019656527729239315 and parameters: {'loss': 'bpr', 'no_components': 150, 'learning_rate': 0.001, 'max_sampled': 10, 'user_alpha': 0.0001, 'item_alpha': 0.0001}. Best is trial 34 with value: 0.016045935451984406.\n",
      "[I 2025-03-18 20:09:38,999] Trial 38 finished with value: 0.015507967211306095 and parameters: {'loss': 'warp', 'no_components': 100, 'learning_rate': 0.01, 'max_sampled': 20, 'user_alpha': 0.0, 'item_alpha': 0.0001}. Best is trial 34 with value: 0.016045935451984406.\n",
      "[I 2025-03-18 20:10:44,347] Trial 39 finished with value: 0.00010345540795242414 and parameters: {'loss': 'bpr', 'no_components': 100, 'learning_rate': 0.01, 'max_sampled': 20, 'user_alpha': 0.0, 'item_alpha': 0.0001}. Best is trial 34 with value: 0.016045935451984406.\n",
      "[I 2025-03-18 20:11:49,741] Trial 40 finished with value: 0.0016966689145192504 and parameters: {'loss': 'warp', 'no_components': 100, 'learning_rate': 0.001, 'max_sampled': 20, 'user_alpha': 0.0, 'item_alpha': 0.0001}. Best is trial 34 with value: 0.016045935451984406.\n",
      "[I 2025-03-18 20:14:00,042] Trial 41 finished with value: 0.015704531222581863 and parameters: {'loss': 'warp', 'no_components': 100, 'learning_rate': 0.01, 'max_sampled': 20, 'user_alpha': 0.0, 'item_alpha': 0.0001}. Best is trial 34 with value: 0.016045935451984406.\n",
      "[I 2025-03-18 20:16:10,080] Trial 42 finished with value: 0.015642458572983742 and parameters: {'loss': 'warp', 'no_components': 100, 'learning_rate': 0.01, 'max_sampled': 20, 'user_alpha': 0.0, 'item_alpha': 0.0001}. Best is trial 34 with value: 0.016045935451984406.\n",
      "[I 2025-03-18 20:18:19,948] Trial 43 finished with value: 0.015776950865983963 and parameters: {'loss': 'warp', 'no_components': 100, 'learning_rate': 0.01, 'max_sampled': 20, 'user_alpha': 0.0, 'item_alpha': 0.0001}. Best is trial 34 with value: 0.016045935451984406.\n",
      "[I 2025-03-18 20:20:31,218] Trial 44 finished with value: 0.015394165180623531 and parameters: {'loss': 'warp', 'no_components': 100, 'learning_rate': 0.01, 'max_sampled': 20, 'user_alpha': 0.0, 'item_alpha': 0.0001}. Best is trial 34 with value: 0.016045935451984406.\n",
      "[I 2025-03-18 20:22:43,298] Trial 45 finished with value: 0.015994206070899963 and parameters: {'loss': 'warp', 'no_components': 100, 'learning_rate': 0.01, 'max_sampled': 20, 'user_alpha': 0.0, 'item_alpha': 0.0001}. Best is trial 34 with value: 0.016045935451984406.\n",
      "[I 2025-03-18 20:24:16,251] Trial 46 finished with value: 0.000165528676006943 and parameters: {'loss': 'bpr', 'no_components': 100, 'learning_rate': 0.001, 'max_sampled': 20, 'user_alpha': 0.0, 'item_alpha': 0.0001}. Best is trial 34 with value: 0.016045935451984406.\n",
      "[I 2025-03-18 20:27:26,110] Trial 47 finished with value: 0.01579764112830162 and parameters: {'loss': 'warp', 'no_components': 100, 'learning_rate': 0.01, 'max_sampled': 20, 'user_alpha': 0.0, 'item_alpha': 0.0001}. Best is trial 34 with value: 0.016045935451984406.\n",
      "[I 2025-03-18 20:29:07,302] Trial 48 finished with value: 0.0016242499696090817 and parameters: {'loss': 'warp', 'no_components': 100, 'learning_rate': 0.0001, 'max_sampled': 20, 'user_alpha': 0.0, 'item_alpha': 0.0001}. Best is trial 34 with value: 0.016045935451984406.\n",
      "[I 2025-03-18 20:31:08,948] Trial 49 finished with value: 0.012942272238433361 and parameters: {'loss': 'warp', 'no_components': 80, 'learning_rate': 0.01, 'max_sampled': 20, 'user_alpha': 0.0, 'item_alpha': 0.0001}. Best is trial 34 with value: 0.016045935451984406.\n",
      "[I 2025-03-18 20:32:25,391] Trial 50 finished with value: 0.00015518312284257263 and parameters: {'loss': 'bpr', 'no_components': 100, 'learning_rate': 0.01, 'max_sampled': 20, 'user_alpha': 0.0, 'item_alpha': 0.0001}. Best is trial 34 with value: 0.016045935451984406.\n",
      "[I 2025-03-18 20:34:32,278] Trial 51 finished with value: 0.015776950865983963 and parameters: {'loss': 'warp', 'no_components': 100, 'learning_rate': 0.01, 'max_sampled': 20, 'user_alpha': 0.0, 'item_alpha': 0.0001}. Best is trial 34 with value: 0.016045935451984406.\n",
      "[I 2025-03-18 20:36:38,536] Trial 52 finished with value: 0.015621768310666084 and parameters: {'loss': 'warp', 'no_components': 100, 'learning_rate': 0.01, 'max_sampled': 20, 'user_alpha': 0.0, 'item_alpha': 0.0001}. Best is trial 34 with value: 0.016045935451984406.\n",
      "[I 2025-03-18 20:38:48,814] Trial 53 finished with value: 0.01594247855246067 and parameters: {'loss': 'warp', 'no_components': 100, 'learning_rate': 0.01, 'max_sampled': 20, 'user_alpha': 0.0, 'item_alpha': 0.0001}. Best is trial 34 with value: 0.016045935451984406.\n",
      "[I 2025-03-18 20:41:00,470] Trial 54 finished with value: 0.015445892699062824 and parameters: {'loss': 'warp', 'no_components': 100, 'learning_rate': 0.01, 'max_sampled': 20, 'user_alpha': 0.0, 'item_alpha': 0.0001}. Best is trial 34 with value: 0.016045935451984406.\n",
      "[I 2025-03-18 20:43:16,444] Trial 55 finished with value: 0.015880407765507698 and parameters: {'loss': 'warp', 'no_components': 100, 'learning_rate': 0.01, 'max_sampled': 20, 'user_alpha': 0.0, 'item_alpha': 0.0001}. Best is trial 34 with value: 0.016045935451984406.\n",
      "[I 2025-03-18 20:45:20,807] Trial 56 finished with value: 0.013397475704550743 and parameters: {'loss': 'warp', 'no_components': 80, 'learning_rate': 0.01, 'max_sampled': 20, 'user_alpha': 0.0, 'item_alpha': 0.0001}. Best is trial 34 with value: 0.016045935451984406.\n",
      "[I 2025-03-18 20:47:03,759] Trial 57 finished with value: 0.001562176737934351 and parameters: {'loss': 'warp', 'no_components': 100, 'learning_rate': 0.001, 'max_sampled': 50, 'user_alpha': 0.0, 'item_alpha': 0.0001}. Best is trial 34 with value: 0.016045935451984406.\n",
      "[I 2025-03-18 20:49:08,174] Trial 58 finished with value: 0.015642458572983742 and parameters: {'loss': 'warp', 'no_components': 100, 'learning_rate': 0.01, 'max_sampled': 20, 'user_alpha': 0.0, 'item_alpha': 0.0001}. Best is trial 34 with value: 0.016045935451984406.\n",
      "[I 2025-03-18 20:50:22,651] Trial 59 finished with value: 0.0015932132955640554 and parameters: {'loss': 'warp', 'no_components': 120, 'learning_rate': 0.0001, 'max_sampled': 20, 'user_alpha': 0.0, 'item_alpha': 0.0001}. Best is trial 34 with value: 0.016045935451984406.\n"
     ]
    }
   ],
   "execution_count": 44
  },
  {
   "metadata": {
    "ExecuteTime": {
     "end_time": "2025-03-18T17:51:47.744121Z",
     "start_time": "2025-03-18T17:51:47.737603Z"
    }
   },
   "cell_type": "code",
   "source": [
    "best_params = study.best_params\n",
    "best_params"
   ],
   "id": "96db8e26ea59bea1",
   "outputs": [
    {
     "data": {
      "text/plain": [
       "{'loss': 'warp',\n",
       " 'no_components': 150,\n",
       " 'learning_rate': 0.01,\n",
       " 'max_sampled': 10,\n",
       " 'user_alpha': 0.0001,\n",
       " 'item_alpha': 0.0001}"
      ]
     },
     "execution_count": 47,
     "metadata": {},
     "output_type": "execute_result"
    }
   ],
   "execution_count": 47
  },
  {
   "metadata": {
    "ExecuteTime": {
     "end_time": "2025-03-18T17:54:21.332486Z",
     "start_time": "2025-03-18T17:54:21.328124Z"
    }
   },
   "cell_type": "code",
   "source": [
    "best_params = {'loss': 'warp',\n",
    " 'no_components': 150,\n",
    " 'learning_rate': 0.01,\n",
    " 'max_sampled': 10,\n",
    " 'user_alpha': 0.0001,\n",
    " 'item_alpha': 0.0001\n",
    "}"
   ],
   "id": "f8844ff1d53e6899",
   "outputs": [],
   "execution_count": 49
  },
  {
   "metadata": {
    "ExecuteTime": {
     "end_time": "2025-03-18T18:17:05.847101Z",
     "start_time": "2025-03-18T17:54:21.616562Z"
    }
   },
   "cell_type": "code",
   "source": [
    "model, precisions_at = fit_model(\n",
    "    epochs=500,\n",
    "    at=10,\n",
    "    loss=best_params[\"loss\"],\n",
    "    no_components=best_params[\"no_components\"],\n",
    "    learning_rate=best_params[\"learning_rate\"],\n",
    "    max_sampled=best_params[\"max_sampled\"],\n",
    "    user_alpha=best_params[\"user_alpha\"],\n",
    "    item_alpha=best_params[\"item_alpha\"],\n",
    "    verbose=True,\n",
    "    patience=5,\n",
    ")"
   ],
   "id": "7b5b6c7c682cdeb9",
   "outputs": [
    {
     "name": "stdout",
     "output_type": "stream",
     "text": [
      "0:\t0.0015311400638893247 +/- 0.00026262869442133033\n",
      "1:\t0.0015828678151592612 +/- 0.0002679333443317292\n",
      "2:\t0.001738051068969071 +/- 0.0002889784574931553\n",
      "3:\t0.002151872729882598 +/- 0.00032793486146852655\n",
      "4:\t0.003527829423546791 +/- 0.00042679463943705477\n",
      "5:\t0.005452099721878767 +/- 0.0005373818732389806\n",
      "6:\t0.0072936066426336765 +/- 0.0006182657856955723\n",
      "7:\t0.009631698951125145 +/- 0.0006856734525534442\n",
      "8:\t0.01237326767295599 +/- 0.0007705799342360225\n",
      "9:\t0.015683839097619057 +/- 0.0008522279744299707\n",
      "10:\t0.018642665818333626 +/- 0.0009230661581936615\n",
      "11:\t0.020887648686766624 +/- 0.0009799435818908984\n",
      "12:\t0.023205049335956573 +/- 0.0010269138581332463\n",
      "13:\t0.02533623017370701 +/- 0.0010704404723041122\n",
      "14:\t0.026877714321017265 +/- 0.0010983502583343369\n",
      "15:\t0.0285019688308239 +/- 0.001123896142539306\n",
      "16:\t0.02970205247402191 +/- 0.0011446479774001371\n",
      "17:\t0.030850404873490334 +/- 0.0011592457952691998\n",
      "18:\t0.0318332314491272 +/- 0.0011760530407003535\n",
      "19:\t0.03261949121952057 +/- 0.001187365235551787\n",
      "20:\t0.033581625670194626 +/- 0.0012020678434137946\n",
      "21:\t0.034005794674158096 +/- 0.0012101291719568109\n",
      "22:\t0.03463687375187874 +/- 0.0012187851521465386\n",
      "23:\t0.03541278466582298 +/- 0.0012279383463708277\n",
      "24:\t0.035754188895225525 +/- 0.0012348700075979794\n",
      "25:\t0.03638526797294617 +/- 0.001249270499449144\n",
      "26:\t0.03677839785814285 +/- 0.0012535748356724606\n",
      "27:\t0.037181876599788666 +/- 0.001253600383339061\n",
      "28:\t0.03750258684158325 +/- 0.001255869521145183\n",
      "29:\t0.037916410714387894 +/- 0.0012551870122612966\n",
      "30:\t0.038340575993061066 +/- 0.0012610268820736484\n",
      "31:\t0.03858886659145355 +/- 0.0012642083092301143\n",
      "32:\t0.03873370960354805 +/- 0.0012660245700858621\n",
      "33:\t0.039126839488744736 +/- 0.0012693350723718374\n",
      "34:\t0.03930271044373512 +/- 0.0012699290556202948\n",
      "35:\t0.03966480493545532 +/- 0.0012811097245486202\n",
      "36:\t0.040140699595212936 +/- 0.0012912270461211803\n",
      "37:\t0.04028553515672684 +/- 0.0012907077749442345\n",
      "38:\t0.04059590399265289 +/- 0.0012960707054690654\n",
      "39:\t0.04085453972220421 +/- 0.0013006057133565115\n",
      "40:\t0.04096834361553192 +/- 0.0013018695801885003\n",
      "41:\t0.04110283777117729 +/- 0.0013047613681015325\n",
      "42:\t0.041320089250802994 +/- 0.0013040821269424438\n",
      "43:\t0.04132009297609329 +/- 0.0013069170267374064\n",
      "44:\t0.04138216748833656 +/- 0.001309594778676188\n",
      "45:\t0.041382163763046265 +/- 0.0013077094500008523\n",
      "46:\t0.04147527739405632 +/- 0.001315475792114402\n",
      "47:\t0.04151665419340134 +/- 0.001309629832451291\n",
      "48:\t0.04165114834904671 +/- 0.001308717097502111\n",
      "49:\t0.04160976782441139 +/- 0.0013067251221720133\n",
      "50:\t0.04171322286128998 +/- 0.0013066728385752499\n",
      "51:\t0.04190979152917862 +/- 0.0013106181706696541\n",
      "52:\t0.04183736816048622 +/- 0.0013079269022328456\n",
      "53:\t0.04207531735301018 +/- 0.0013088227044262555\n",
      "54:\t0.04226153716444969 +/- 0.0013120890924274617\n",
      "55:\t0.04219946637749672 +/- 0.0013156987400653735\n",
      "56:\t0.04233395680785179 +/- 0.001314136767612066\n",
      "57:\t0.04248913750052452 +/- 0.0013179295563715949\n",
      "58:\t0.04256156086921692 +/- 0.0013193403222865356\n",
      "59:\t0.04271674156188965 +/- 0.0013246604753231054\n",
      "60:\t0.04277881607413292 +/- 0.0013241744755259181\n",
      "61:\t0.04283054172992706 +/- 0.0013252174738681705\n",
      "62:\t0.04308917745947838 +/- 0.0013297896149919543\n",
      "63:\t0.04307883605360985 +/- 0.0013316222144716908\n",
      "64:\t0.04315125569701195 +/- 0.0013292987136075704\n",
      "65:\t0.043182287365198135 +/- 0.0013312168680638288\n",
      "66:\t0.043234020471572876 +/- 0.0013310126352639718\n",
      "67:\t0.04320298507809639 +/- 0.001330640857301759\n",
      "68:\t0.04330643638968468 +/- 0.0013277559019042131\n",
      "69:\t0.04316159710288048 +/- 0.0013249820491497894\n",
      "70:\t0.04327540099620819 +/- 0.0013255238973344289\n",
      "71:\t0.04335816204547882 +/- 0.0013272396013861742\n",
      "72:\t0.04329608753323555 +/- 0.0013271155763768063\n",
      "73:\t0.04366853088140488 +/- 0.0013327881980926934\n",
      "74:\t0.04366853088140488 +/- 0.0013334050554147346\n",
      "75:\t0.043534040451049805 +/- 0.0013309875331962075\n",
      "76:\t0.043606456369161606 +/- 0.001330817611506726\n",
      "77:\t0.04363749176263809 +/- 0.0013333465334342664\n",
      "78:\t0.04366853088140488 +/- 0.0013340217642038308\n",
      "Early stopping!\n"
     ]
    }
   ],
   "execution_count": 50
  },
  {
   "metadata": {
    "ExecuteTime": {
     "end_time": "2025-03-18T18:17:36.077891Z",
     "start_time": "2025-03-18T18:17:35.384051Z"
    }
   },
   "cell_type": "code",
   "source": [
    "figure, ax = pl.subplots()\n",
    "\n",
    "ax.plot(list(range(len(precisions_at))), precisions_at, \"r\", label=\"precision@10(epoch)\")\n",
    "\n",
    "ax.set_xlabel(\"epoch\")\n",
    "ax.legend()\n",
    "\n",
    "pass"
   ],
   "id": "6b4ec1ac48d64562",
   "outputs": [
    {
     "data": {
      "text/plain": [
       "<Figure size 640x480 with 1 Axes>"
      ],
      "image/png": "[encoded data removed]"
     },
     "metadata": {},
     "output_type": "display_data"
    }
   ],
   "execution_count": 51
  },
  {
   "metadata": {
    "ExecuteTime": {
     "end_time": "2025-03-18T18:17:41.539646Z",
     "start_time": "2025-03-18T18:17:40.746264Z"
    }
   },
   "cell_type": "code",
   "source": [
    "test_data[\"score\"] = model.predict(test_data[\"user_id\"].values, test_data[\"track\"].values)\n",
    "test_data[[\"user\", \"track\", \"score\"]].to_csv(\"test_lfm_3_after_optuna_150.csv\", index=False)"
   ],
   "id": "986ce3ab68ee4030",
   "outputs": [
    {
     "ename": "ValueError",
     "evalue": "The item feature matrix specifies more features than there are estimated feature embeddings: 43862 vs 50000.",
     "output_type": "error",
     "traceback": [
      "\u001B[0;31m---------------------------------------------------------------------------\u001B[0m",
      "\u001B[0;31mValueError\u001B[0m                                Traceback (most recent call last)",
      "Cell \u001B[0;32mIn[52], line 1\u001B[0m\n\u001B[0;32m----> 1\u001B[0m test_data[\u001B[38;5;124m\"\u001B[39m\u001B[38;5;124mscore\u001B[39m\u001B[38;5;124m\"\u001B[39m] \u001B[38;5;241m=\u001B[39m \u001B[43mmodel\u001B[49m\u001B[38;5;241;43m.\u001B[39;49m\u001B[43mpredict\u001B[49m\u001B[43m(\u001B[49m\u001B[43mtest_data\u001B[49m\u001B[43m[\u001B[49m\u001B[38;5;124;43m\"\u001B[39;49m\u001B[38;5;124;43muser_id\u001B[39;49m\u001B[38;5;124;43m\"\u001B[39;49m\u001B[43m]\u001B[49m\u001B[38;5;241;43m.\u001B[39;49m\u001B[43mvalues\u001B[49m\u001B[43m,\u001B[49m\u001B[43m \u001B[49m\u001B[43mtest_data\u001B[49m\u001B[43m[\u001B[49m\u001B[38;5;124;43m\"\u001B[39;49m\u001B[38;5;124;43mtrack\u001B[39;49m\u001B[38;5;124;43m\"\u001B[39;49m\u001B[43m]\u001B[49m\u001B[38;5;241;43m.\u001B[39;49m\u001B[43mvalues\u001B[49m\u001B[43m)\u001B[49m\n\u001B[1;32m      2\u001B[0m test_data[[\u001B[38;5;124m\"\u001B[39m\u001B[38;5;124muser\u001B[39m\u001B[38;5;124m\"\u001B[39m, \u001B[38;5;124m\"\u001B[39m\u001B[38;5;124mtrack\u001B[39m\u001B[38;5;124m\"\u001B[39m, \u001B[38;5;124m\"\u001B[39m\u001B[38;5;124mscore\u001B[39m\u001B[38;5;124m\"\u001B[39m]]\u001B[38;5;241m.\u001B[39mto_csv(\u001B[38;5;124m\"\u001B[39m\u001B[38;5;124mtest_lfm_3_after_optuna_150.csv\u001B[39m\u001B[38;5;124m\"\u001B[39m, index\u001B[38;5;241m=\u001B[39m\u001B[38;5;28;01mFalse\u001B[39;00m)\n",
      "File \u001B[0;32m~/miniconda3/envs/lightfm_env/lib/python3.9/site-packages/lightfm/lightfm.py:817\u001B[0m, in \u001B[0;36mLightFM.predict\u001B[0;34m(self, user_ids, item_ids, item_features, user_features, num_threads)\u001B[0m\n\u001B[1;32m    814\u001B[0m n_users \u001B[38;5;241m=\u001B[39m user_ids\u001B[38;5;241m.\u001B[39mmax() \u001B[38;5;241m+\u001B[39m \u001B[38;5;241m1\u001B[39m\n\u001B[1;32m    815\u001B[0m n_items \u001B[38;5;241m=\u001B[39m item_ids\u001B[38;5;241m.\u001B[39mmax() \u001B[38;5;241m+\u001B[39m \u001B[38;5;241m1\u001B[39m\n\u001B[0;32m--> 817\u001B[0m (user_features, item_features) \u001B[38;5;241m=\u001B[39m \u001B[38;5;28;43mself\u001B[39;49m\u001B[38;5;241;43m.\u001B[39;49m\u001B[43m_construct_feature_matrices\u001B[49m\u001B[43m(\u001B[49m\n\u001B[1;32m    818\u001B[0m \u001B[43m    \u001B[49m\u001B[43mn_users\u001B[49m\u001B[43m,\u001B[49m\u001B[43m \u001B[49m\u001B[43mn_items\u001B[49m\u001B[43m,\u001B[49m\u001B[43m \u001B[49m\u001B[43muser_features\u001B[49m\u001B[43m,\u001B[49m\u001B[43m \u001B[49m\u001B[43mitem_features\u001B[49m\n\u001B[1;32m    819\u001B[0m \u001B[43m\u001B[49m\u001B[43m)\u001B[49m\n\u001B[1;32m    821\u001B[0m lightfm_data \u001B[38;5;241m=\u001B[39m \u001B[38;5;28mself\u001B[39m\u001B[38;5;241m.\u001B[39m_get_lightfm_data()\n\u001B[1;32m    823\u001B[0m predictions \u001B[38;5;241m=\u001B[39m np\u001B[38;5;241m.\u001B[39mempty(\u001B[38;5;28mlen\u001B[39m(user_ids), dtype\u001B[38;5;241m=\u001B[39mnp\u001B[38;5;241m.\u001B[39mfloat32)\n",
      "File \u001B[0;32m~/miniconda3/envs/lightfm_env/lib/python3.9/site-packages/lightfm/lightfm.py:335\u001B[0m, in \u001B[0;36mLightFM._construct_feature_matrices\u001B[0;34m(self, n_users, n_items, user_features, item_features)\u001B[0m\n\u001B[1;32m    333\u001B[0m \u001B[38;5;28;01mif\u001B[39;00m \u001B[38;5;28mself\u001B[39m\u001B[38;5;241m.\u001B[39mitem_embeddings \u001B[38;5;129;01mis\u001B[39;00m \u001B[38;5;129;01mnot\u001B[39;00m \u001B[38;5;28;01mNone\u001B[39;00m:\n\u001B[1;32m    334\u001B[0m     \u001B[38;5;28;01mif\u001B[39;00m \u001B[38;5;129;01mnot\u001B[39;00m \u001B[38;5;28mself\u001B[39m\u001B[38;5;241m.\u001B[39mitem_embeddings\u001B[38;5;241m.\u001B[39mshape[\u001B[38;5;241m0\u001B[39m] \u001B[38;5;241m>\u001B[39m\u001B[38;5;241m=\u001B[39m item_features\u001B[38;5;241m.\u001B[39mshape[\u001B[38;5;241m1\u001B[39m]:\n\u001B[0;32m--> 335\u001B[0m         \u001B[38;5;28;01mraise\u001B[39;00m \u001B[38;5;167;01mValueError\u001B[39;00m(\n\u001B[1;32m    336\u001B[0m             \u001B[38;5;124m\"\u001B[39m\u001B[38;5;124mThe item feature matrix specifies more \u001B[39m\u001B[38;5;124m\"\u001B[39m\n\u001B[1;32m    337\u001B[0m             \u001B[38;5;124m\"\u001B[39m\u001B[38;5;124mfeatures than there are estimated \u001B[39m\u001B[38;5;124m\"\u001B[39m\n\u001B[1;32m    338\u001B[0m             \u001B[38;5;124m\"\u001B[39m\u001B[38;5;124mfeature embeddings: \u001B[39m\u001B[38;5;132;01m{}\u001B[39;00m\u001B[38;5;124m vs \u001B[39m\u001B[38;5;132;01m{}\u001B[39;00m\u001B[38;5;124m.\u001B[39m\u001B[38;5;124m\"\u001B[39m\u001B[38;5;241m.\u001B[39mformat(\n\u001B[1;32m    339\u001B[0m                 \u001B[38;5;28mself\u001B[39m\u001B[38;5;241m.\u001B[39mitem_embeddings\u001B[38;5;241m.\u001B[39mshape[\u001B[38;5;241m0\u001B[39m], item_features\u001B[38;5;241m.\u001B[39mshape[\u001B[38;5;241m1\u001B[39m]\n\u001B[1;32m    340\u001B[0m             )\n\u001B[1;32m    341\u001B[0m         )\n\u001B[1;32m    343\u001B[0m user_features \u001B[38;5;241m=\u001B[39m \u001B[38;5;28mself\u001B[39m\u001B[38;5;241m.\u001B[39m_to_cython_dtype(user_features)\n\u001B[1;32m    344\u001B[0m item_features \u001B[38;5;241m=\u001B[39m \u001B[38;5;28mself\u001B[39m\u001B[38;5;241m.\u001B[39m_to_cython_dtype(item_features)\n",
      "\u001B[0;31mValueError\u001B[0m: The item feature matrix specifies more features than there are estimated feature embeddings: 43862 vs 50000."
     ]
    }
   ],
   "execution_count": 52
  },
  {
   "metadata": {},
   "cell_type": "code",
   "outputs": [],
   "execution_count": null,
   "source": "",
   "id": "8a3332e585634447"
  },
  {
   "metadata": {},
   "cell_type": "code",
   "outputs": [],
   "execution_count": null,
   "source": "",
   "id": "ff930c1eee7c2e24"
  },
  {
   "metadata": {},
   "cell_type": "code",
   "outputs": [],
   "execution_count": null,
   "source": [
    "from sklearn.model_selection import KFold\n",
    "\n",
    "def fit_model_with_cv(\n",
    "    positives,\n",
    "    epochs=1,\n",
    "    at=10,\n",
    "    loss=\"warp\",\n",
    "    no_components=30,\n",
    "    learning_rate=0.01,\n",
    "    max_sampled=10,\n",
    "    user_alpha=0.0,\n",
    "    item_alpha=0.0,\n",
    "    threads=30,\n",
    "    verbose=False,\n",
    "    patience=3,\n",
    "    epsilon=1e-6,\n",
    "    n_splits=5\n",
    "):\n",
    "    # users_id = sorted(set(train_data[\"user_id\"]))\n",
    "    # tracks = set(positives[\"track\"].unique())\n",
    "    \n",
    "    # dataset = lightfm.data.Dataset()\n",
    "    # dataset.fit(users, tracks)\n",
    "    \n",
    "    # max_track_id = max(train_data['track'].max(), test_data['track'].max())\n",
    "\n",
    "    dataset = ld.Dataset()\n",
    "    dataset.fit(users_id, range(max_track_id + 1))\n",
    "    \n",
    "    model = lightfm.LightFM(\n",
    "        no_components=no_components,\n",
    "        loss=loss,\n",
    "        learning_rate=learning_rate,\n",
    "        max_sampled=max_sampled,\n",
    "        user_alpha=user_alpha,\n",
    "        item_alpha=item_alpha,\n",
    "    )\n",
    "\n",
    "    kf = KFold(n_splits=n_splits, shuffle=True, random_state=42)\n",
    "    precisions_at = []\n",
    "    \n",
    "    for epoch in range(epochs):\n",
    "        epoch_precisions = []\n",
    "        \n",
    "        for train_index, val_index in kf.split(positives):\n",
    "            train_data = positives.iloc[train_index]\n",
    "            val_data = positives.iloc[val_index]\n",
    "            \n",
    "            train_interactions, _ = dataset.build_interactions(train_data[[\"user_id\", \"track\"]].itertuples(index=False, name=None))\n",
    "            val_interactions, _ = dataset.build_interactions(val_data[[\"user_id\", \"track\"]].itertuples(index=False, name=None))\n",
    "            \n",
    "            model.fit_partial(train_interactions, num_threads=threads)\n",
    "            \n",
    "            precision_at = lv.precision_at_k(model, val_interactions, train_interactions=train_interactions, k=at, num_threads=threads)\n",
    "            epoch_precisions.append(np.mean(precision_at))\n",
    "        \n",
    "        mean_precision = np.mean(epoch_precisions)\n",
    "        precisions_at.append(mean_precision)\n",
    "        \n",
    "        if verbose:\n",
    "            print(f\"Epoch {epoch}:\\t{mean_precision:.4f} +/- {np.std(epoch_precisions):.4f}\")\n",
    "        \n",
    "        if epoch > patience and all([precisions_at[-j] - precisions_at[-patience-1] < epsilon for j in range(1, patience + 1)]):\n",
    "            if verbose:\n",
    "                print(\"Early stopping!\")\n",
    "            break\n",
    "    \n",
    "    else:\n",
    "        if verbose:\n",
    "            print(\"No early stopping happened: increase epochs maybe?\")\n",
    "    \n",
    "    return model, precisions_at"
   ],
   "id": "7573d1c55741c4b"
  },
  {
   "metadata": {},
   "cell_type": "code",
   "outputs": [],
   "execution_count": null,
   "source": [
    "best_params = {'loss': 'warp',\n",
    " 'no_components': 150,\n",
    " 'learning_rate': 0.01,\n",
    " 'max_sampled': 10,\n",
    " 'user_alpha': 0.0001,\n",
    " 'item_alpha': 0.0001\n",
    "}"
   ],
   "id": "c0880ee4f139428e"
  },
  {
   "metadata": {},
   "cell_type": "code",
   "outputs": [],
   "execution_count": null,
   "source": [
    "model, precisions_at = fit_model_with_cv(\n",
    "    positives,\n",
    "    epochs=500,\n",
    "    at=10,\n",
    "    loss=best_params[\"loss\"],\n",
    "    no_components=best_params[\"no_components\"],\n",
    "    learning_rate=best_params[\"learning_rate\"],\n",
    "    max_sampled=best_params[\"max_sampled\"],\n",
    "    user_alpha=best_params[\"user_alpha\"],\n",
    "    item_alpha=best_params[\"item_alpha\"],\n",
    "    verbose=True,\n",
    "    patience=5,\n",
    ")"
   ],
   "id": "aa5a2f32c2e1bc8c"
  },
  {
   "metadata": {},
   "cell_type": "code",
   "outputs": [],
   "execution_count": null,
   "source": [
    "test_data[\"score\"] = model.predict(test_data[\"user_id\"].values, test_data[\"track\"].values)\n",
    "test_data[[\"user\", \"track\", \"score\"]].to_csv(\"test_lfm_3.csv\", index=False)"
   ],
   "id": "5a5c91c34780c1a8"
  },
  {
   "metadata": {},
   "cell_type": "code",
   "outputs": [],
   "execution_count": null,
   "source": "",
   "id": "43ad76084f5f9153"
  },
  {
   "metadata": {
    "ExecuteTime": {
     "end_time": "2025-03-18T20:30:03.429094Z",
     "start_time": "2025-03-18T20:30:03.361824Z"
    }
   },
   "cell_type": "code",
   "source": "users_id = sorted(set(train_data[\"user_id\"]))",
   "id": "fb35b72f299a3a2",
   "outputs": [],
   "execution_count": 97
  },
  {
   "metadata": {
    "ExecuteTime": {
     "end_time": "2025-03-18T20:39:56.439035Z",
     "start_time": "2025-03-18T20:39:56.413869Z"
    }
   },
   "cell_type": "code",
   "source": "positives = train_data[train_data[\"time\"] > 0.7].copy()",
   "id": "21fee6e5dc78f40b",
   "outputs": [],
   "execution_count": 105
  },
  {
   "metadata": {
    "ExecuteTime": {
     "end_time": "2025-03-18T20:39:57.216930Z",
     "start_time": "2025-03-18T20:39:56.841495Z"
    }
   },
   "cell_type": "code",
   "source": [
    "max_track_id = max(train_data['track'].max(), test_data['track'].max())\n",
    "\n",
    "dataset = ld.Dataset()\n",
    "dataset.fit(users_id, range(max_track_id + 1))\n",
    "\n",
    "all_interactions, _ = dataset.build_interactions(positives[['user_id', 'track']].itertuples(index=False, name=None))"
   ],
   "id": "73f01e571ad6a141",
   "outputs": [],
   "execution_count": 106
  },
  {
   "metadata": {
    "ExecuteTime": {
     "end_time": "2025-03-18T20:39:57.902752Z",
     "start_time": "2025-03-18T20:39:57.899496Z"
    }
   },
   "cell_type": "code",
   "source": [
    "# model = lightfm.LightFM(\n",
    "#     no_components=80,\n",
    "#     loss='warp',\n",
    "#     learning_rate=0.01,\n",
    "#     max_sampled=50,\n",
    "#     user_alpha=0.0001,\n",
    "#     item_alpha=0.0001\n",
    "# )\n",
    "# \n",
    "# model.fit(all_interactions, epochs=400, verbose=True, num_threads=8)"
   ],
   "id": "49d643cd94a969dd",
   "outputs": [],
   "execution_count": 107
  },
  {
   "metadata": {
    "ExecuteTime": {
     "end_time": "2025-03-18T21:16:47.103105Z",
     "start_time": "2025-03-18T21:13:23.720346Z"
    }
   },
   "cell_type": "code",
   "source": [
    "model = lightfm.LightFM(\n",
    "    no_components=300,\n",
    "    loss='warp',\n",
    "    learning_rate=0.01,\n",
    "    max_sampled=90,\n",
    "    user_alpha=0.0001,\n",
    "    item_alpha=0.0001\n",
    ")\n",
    "\n",
    "model.fit(all_interactions, epochs=400, verbose=True, num_threads=8)"
   ],
   "id": "76800427a5ab7706",
   "outputs": [
    {
     "name": "stderr",
     "output_type": "stream",
     "text": [
      "Epoch: 100%|██████████| 400/400 [03:23<00:00,  1.97it/s]\n"
     ]
    },
    {
     "data": {
      "text/plain": [
       "<lightfm.lightfm.LightFM at 0x7f8413303430>"
      ]
     },
     "execution_count": 114,
     "metadata": {},
     "output_type": "execute_result"
    }
   ],
   "execution_count": 114
  },
  {
   "metadata": {
    "ExecuteTime": {
     "end_time": "2025-03-18T21:17:03.939152Z",
     "start_time": "2025-03-18T21:17:03.647384Z"
    }
   },
   "cell_type": "code",
   "source": "test_data[\"score\"] = model.predict(test_data[\"user_id\"].values, test_data[\"track\"].values)",
   "id": "406282536afd73b8",
   "outputs": [],
   "execution_count": 115
  },
  {
   "metadata": {
    "ExecuteTime": {
     "end_time": "2025-03-18T21:17:04.923546Z",
     "start_time": "2025-03-18T21:17:03.945314Z"
    }
   },
   "cell_type": "code",
   "source": "test_data[[\"user\", \"track\", \"score\"]].to_csv(\"./data/lfm/test_lfm_16.csv\", index=False)",
   "id": "8cd923fd18b13d5e",
   "outputs": [],
   "execution_count": 116
  },
  {
   "metadata": {
    "ExecuteTime": {
     "end_time": "2025-03-18T20:37:55.600324Z",
     "start_time": "2025-03-18T20:37:55.597654Z"
    }
   },
   "cell_type": "code",
   "source": "",
   "id": "4c306bf0a16d494a",
   "outputs": [],
   "execution_count": null
  },
  {
   "metadata": {
    "ExecuteTime": {
     "end_time": "2025-03-18T20:37:55.645020Z",
     "start_time": "2025-03-18T20:37:55.642503Z"
    }
   },
   "cell_type": "code",
   "source": "",
   "id": "abf69e3a782a2cdd",
   "outputs": [],
   "execution_count": null
  },
  {
   "metadata": {
    "ExecuteTime": {
     "end_time": "2025-03-18T20:37:55.694836Z",
     "start_time": "2025-03-18T20:37:55.691965Z"
    }
   },
   "cell_type": "code",
   "source": "",
   "id": "1fdf76065a5a081e",
   "outputs": [],
   "execution_count": null
  },
  {
   "metadata": {
    "ExecuteTime": {
     "end_time": "2025-03-18T20:37:55.744579Z",
     "start_time": "2025-03-18T20:37:55.742023Z"
    }
   },
   "cell_type": "code",
   "source": "",
   "id": "493aab134011bfc0",
   "outputs": [],
   "execution_count": null
  },
  {
   "metadata": {
    "ExecuteTime": {
     "end_time": "2025-03-18T20:37:55.794315Z",
     "start_time": "2025-03-18T20:37:55.791593Z"
    }
   },
   "cell_type": "code",
   "source": "",
   "id": "b875f6dcf787aa3c",
   "outputs": [],
   "execution_count": null
  },
  {
   "metadata": {
    "ExecuteTime": {
     "end_time": "2025-03-18T20:37:55.845469Z",
     "start_time": "2025-03-18T20:37:55.842350Z"
    }
   },
   "cell_type": "code",
   "source": "",
   "id": "91311cdeb2d83438",
   "outputs": [],
   "execution_count": null
  },
  {
   "metadata": {
    "ExecuteTime": {
     "end_time": "2025-03-18T20:37:55.894782Z",
     "start_time": "2025-03-18T20:37:55.892097Z"
    }
   },
   "cell_type": "code",
   "source": "",
   "id": "908158140f1f84e7",
   "outputs": [],
   "execution_count": null
  },
  {
   "metadata": {
    "ExecuteTime": {
     "end_time": "2025-03-18T20:37:55.944145Z",
     "start_time": "2025-03-18T20:37:55.941648Z"
    }
   },
   "cell_type": "code",
   "source": "",
   "id": "7a99c11a85a260f9",
   "outputs": [],
   "execution_count": null
  },
  {
   "metadata": {
    "ExecuteTime": {
     "end_time": "2025-03-18T20:37:55.994658Z",
     "start_time": "2025-03-18T20:37:55.992135Z"
    }
   },
   "cell_type": "code",
   "source": "",
   "id": "72699010ab00f336",
   "outputs": [],
   "execution_count": null
  },
  {
   "metadata": {
    "ExecuteTime": {
     "end_time": "2025-03-18T20:37:56.045390Z",
     "start_time": "2025-03-18T20:37:56.042767Z"
    }
   },
   "cell_type": "code",
   "source": "",
   "id": "3c022da472df004e",
   "outputs": [],
   "execution_count": null
  },
  {
   "metadata": {
    "ExecuteTime": {
     "end_time": "2025-03-18T20:37:56.097062Z",
     "start_time": "2025-03-18T20:37:56.093648Z"
    }
   },
   "cell_type": "code",
   "source": "",
   "id": "837c26225d3e7e5f",
   "outputs": [],
   "execution_count": null
  },
  {
   "metadata": {
    "ExecuteTime": {
     "end_time": "2025-03-18T20:37:56.178487Z",
     "start_time": "2025-03-18T20:37:56.175746Z"
    }
   },
   "cell_type": "code",
   "source": "",
   "id": "2aeaca54781dc1f7",
   "outputs": [],
   "execution_count": null
  },
  {
   "metadata": {
    "ExecuteTime": {
     "end_time": "2025-03-18T20:37:56.259256Z",
     "start_time": "2025-03-18T20:37:56.255233Z"
    }
   },
   "cell_type": "code",
   "source": "",
   "id": "30e57f781724f828",
   "outputs": [],
   "execution_count": null
  },
  {
   "metadata": {
    "ExecuteTime": {
     "end_time": "2025-03-18T20:37:56.307702Z",
     "start_time": "2025-03-18T20:37:56.305025Z"
    }
   },
   "cell_type": "code",
   "source": "",
   "id": "8518100f35b4b093",
   "outputs": [],
   "execution_count": null
  }
 ],
 "metadata": {
  "kernelspec": {
   "display_name": "Python 3",
   "language": "python",
   "name": "python3"
  },
  "language_info": {
   "codemirror_mode": {
    "name": "ipython",
    "version": 2
   },
   "file_extension": ".py",
   "mimetype": "text/x-python",
   "name": "python",
   "nbconvert_exporter": "python",
   "pygments_lexer": "ipython2",
   "version": "2.7.6"
  }
 },
 "nbformat": 4,
 "nbformat_minor": 5
}
