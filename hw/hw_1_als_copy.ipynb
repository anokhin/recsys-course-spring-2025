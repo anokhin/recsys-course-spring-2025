{
 "cells": [
  {
   "cell_type": "code",
   "id": "initial_id",
   "metadata": {
    "collapsed": true,
    "ExecuteTime": {
     "end_time": "2025-03-19T14:45:59.066373Z",
     "start_time": "2025-03-19T14:45:54.436670Z"
    }
   },
   "source": [
    "import pandas as pd\n",
    "import numpy as np\n",
    "\n",
    "import scipy.stats as ss\n",
    "from sklearn.metrics import ndcg_score\n",
    "import optuna\n",
    "\n",
    "from scipy.sparse import csr_matrix\n",
    "from implicit.als import AlternatingLeastSquares"
   ],
   "outputs": [
    {
     "name": "stderr",
     "output_type": "stream",
     "text": [
      "/tmp/ipykernel_56999/599830929.py:4: UserWarning: A NumPy version >=1.22.4 and <2.3.0 is required for this version of SciPy (detected version 1.22.3)\n",
      "  import scipy.stats as ss\n",
      "/home/denis/miniconda3/envs/lightfm_env/lib/python3.9/site-packages/tqdm/auto.py:21: TqdmWarning: IProgress not found. Please update jupyter and ipywidgets. See https://ipywidgets.readthedocs.io/en/stable/user_install.html\n",
      "  from .autonotebook import tqdm as notebook_tqdm\n",
      "/home/denis/miniconda3/envs/lightfm_env/lib/python3.9/site-packages/implicit/gpu/__init__.py:13: UserWarning: CUDA extension is built, but disabling GPU support because of 'Cuda Error: CUDA driver version is insufficient for CUDA runtime version (/home/conda/feedstock_root/build_artifacts/implicit_1643471628311/work/./implicit/gpu/utils.h:71)'\n",
      "  warnings.warn(\n"
     ]
    }
   ],
   "execution_count": 1
  },
  {
   "metadata": {
    "ExecuteTime": {
     "end_time": "2025-03-19T14:46:02.794968Z",
     "start_time": "2025-03-19T14:45:59.083442Z"
    }
   },
   "cell_type": "code",
   "source": [
    "wsl_train_path = \"/mnt/c/Users/denis/PycharmProjects/recsys-course-spring-2025/hw/train.csv\"\n",
    "wsl_test_path = \"/mnt/c/Users/denis/PycharmProjects/recsys-course-spring-2025/hw/test.csv\"\n",
    "train_data = pd.read_csv(wsl_train_path)\n",
    "test_data = pd.read_csv(wsl_test_path)"
   ],
   "id": "8c0a7432e72d985e",
   "outputs": [],
   "execution_count": 2
  },
  {
   "metadata": {
    "ExecuteTime": {
     "end_time": "2025-03-19T14:46:06.675522Z",
     "start_time": "2025-03-19T14:46:03.482453Z"
    }
   },
   "cell_type": "code",
   "source": [
    "user_id_map = {id: i for i, id in enumerate(train_data['user'].unique())}\n",
    "\n",
    "train_data[\"user_id\"] = train_data[\"user\"].map(user_id_map).map(int)\n",
    "test_data[\"user_id\"] = test_data[\"user\"].map(user_id_map).map(int)"
   ],
   "id": "3741b60605c2848f",
   "outputs": [],
   "execution_count": 3
  },
  {
   "metadata": {
    "ExecuteTime": {
     "end_time": "2025-03-19T14:46:06.764630Z",
     "start_time": "2025-03-19T14:46:06.760490Z"
    }
   },
   "cell_type": "code",
   "source": "",
   "id": "2194601381dbad49",
   "outputs": [],
   "execution_count": null
  },
  {
   "metadata": {
    "ExecuteTime": {
     "end_time": "2025-03-19T14:46:06.927794Z",
     "start_time": "2025-03-19T14:46:06.848204Z"
    }
   },
   "cell_type": "code",
   "source": "user_item_matrix = csr_matrix((train_data['time'], (train_data['user_id'], train_data['track'])))",
   "id": "f618ad5e451eb176",
   "outputs": [],
   "execution_count": 4
  },
  {
   "metadata": {
    "ExecuteTime": {
     "end_time": "2025-03-19T14:46:07.031954Z",
     "start_time": "2025-03-19T14:46:07.027450Z"
    }
   },
   "cell_type": "code",
   "source": "",
   "id": "9d767221eb181b80",
   "outputs": [],
   "execution_count": null
  },
  {
   "metadata": {
    "ExecuteTime": {
     "end_time": "2025-03-19T14:46:07.594857Z",
     "start_time": "2025-03-19T14:46:07.081841Z"
    }
   },
   "cell_type": "code",
   "source": [
    "train_data[\"validation\"] = np.random.random(len(train_data)) >= 0.8\n",
    "\n",
    "train_train_data = train_data[~train_data[\"validation\"]]\n",
    "train_val_data = train_data[train_data[\"validation\"]]"
   ],
   "id": "bba8ff602032d5cd",
   "outputs": [],
   "execution_count": 5
  },
  {
   "metadata": {
    "ExecuteTime": {
     "end_time": "2025-03-19T14:46:08.215086Z",
     "start_time": "2025-03-19T14:46:07.695737Z"
    }
   },
   "cell_type": "code",
   "source": [
    "user_item_matrix_train = csr_matrix((train_train_data['time'], (train_train_data['user_id'], train_train_data['track'])))\n",
    "user_item_matrix_val = csr_matrix((train_val_data['time'], (train_val_data['user_id'], train_val_data['track'])))"
   ],
   "id": "85a5ab1ffabf776c",
   "outputs": [],
   "execution_count": 6
  },
  {
   "metadata": {
    "ExecuteTime": {
     "end_time": "2025-03-19T14:46:08.300417Z",
     "start_time": "2025-03-19T14:46:08.291956Z"
    }
   },
   "cell_type": "code",
   "source": "",
   "id": "d4897ea5d462c361",
   "outputs": [],
   "execution_count": null
  },
  {
   "metadata": {
    "ExecuteTime": {
     "end_time": "2025-03-19T14:46:08.435497Z",
     "start_time": "2025-03-19T14:46:08.425492Z"
    }
   },
   "cell_type": "code",
   "source": [
    "def ndcg_at_k(model, user_item_matrix, user_ids, k=10):\n",
    "    ndcg_scores = []\n",
    "    for user_id in user_ids:\n",
    "        if user_id >= model.user_factors.shape[0]:\n",
    "            continue\n",
    "        \n",
    "        # Получаем рекомендации\n",
    "        recommendations = model.recommend(user_id, user_item_matrix[user_id], N=k, filter_already_liked_items=False)\n",
    "        recommended_items = recommendations[0]  # Первый элемент - это список рекомендованных айтемов\n",
    "        \n",
    "        # Релевантные элементы (например, те, с которыми пользователь взаимодействовал)\n",
    "        relevant_items = set(user_item_matrix[user_id].indices)\n",
    "        \n",
    "        # DCG\n",
    "        dcg = 0\n",
    "        for i, item in enumerate(recommended_items):\n",
    "            if item in relevant_items:\n",
    "                dcg += 1 / np.log2(i + 2)  # i+2 из-за 1-based индексации\n",
    "        \n",
    "        # IDCG\n",
    "        idcg = sum(1 / np.log2(i + 2) for i in range(min(len(relevant_items), k)))\n",
    "        \n",
    "        # NDCG\n",
    "        ndcg = dcg / idcg if idcg > 0 else 0\n",
    "        ndcg_scores.append(ndcg)\n",
    "    \n",
    "    return np.mean(ndcg_scores)\n"
   ],
   "id": "ef118b4e19dee258",
   "outputs": [],
   "execution_count": 7
  },
  {
   "metadata": {
    "ExecuteTime": {
     "end_time": "2025-03-19T14:46:08.561976Z",
     "start_time": "2025-03-19T14:46:08.524197Z"
    }
   },
   "cell_type": "code",
   "source": [
    "import optuna\n",
    "import numpy as np\n",
    "from implicit.als import AlternatingLeastSquares\n",
    "from scipy.sparse import csr_matrix\n",
    "\n",
    "def fit_model(\n",
    "    factors=100,\n",
    "    regularization=0.01,\n",
    "    iterations=50,\n",
    "    alpha=1.0,\n",
    "    calculate_training_loss=True,\n",
    "    num_threads=7\n",
    "):\n",
    "    model = AlternatingLeastSquares(\n",
    "        factors=factors,\n",
    "        regularization=regularization,\n",
    "        iterations=iterations,\n",
    "        # alpha=alpha,\n",
    "        calculate_training_loss=calculate_training_loss,\n",
    "        num_threads=num_threads\n",
    "    )\n",
    "    model.fit(user_item_matrix_train, show_progress=False)\n",
    "    \n",
    "    val_users = train_val_data['user_id'].unique()\n",
    "    ndcg_at_10 = ndcg_at_k(model, user_item_matrix_val, val_users, k=10)\n",
    "    \n",
    "    return ndcg_at_10\n",
    "    # \n",
    "    # scores = []\n",
    "    # for _, row in train_val_data.iterrows():\n",
    "    #     user_id = row['user_id']\n",
    "    #     track = row['track']\n",
    "    #     if user_id < model.user_factors.shape[0] and track < model.item_factors.shape[0]:\n",
    "    #         score = np.dot(model.user_factors[user_id], model.item_factors[track])\n",
    "    #     else:\n",
    "    #         score = 0\n",
    "    #     scores.append(score)\n",
    "    # \n",
    "    # # Здесь можно вычислить NDCG или другую метрику на основе scores\n",
    "    # # Для примера, просто возвращаем среднее значение scores\n",
    "    # return np.mean(scores)\n",
    "\n",
    "def objective(trial):\n",
    "    factors = trial.suggest_int(\"factors\", 50, 200)\n",
    "    regularization = trial.suggest_float(\"regularization\", 1e-6, 1e-1, log=True)\n",
    "    iterations = trial.suggest_int(\"iterations\", 10, 100)\n",
    "    alpha = trial.suggest_float(\"alpha\", 1e-3, 1e2, log=True)\n",
    "    \n",
    "    score = fit_model(\n",
    "        factors=factors,\n",
    "        regularization=regularization,\n",
    "        iterations=iterations,\n",
    "        alpha=alpha,\n",
    "        calculate_training_loss=True,\n",
    "        num_threads=7\n",
    "    )\n",
    "    \n",
    "    return score\n",
    "\n",
    "def objective_2(trial):\n",
    "    factors_options = [50, 100, 150, 200]\n",
    "    regularization_options = [1e-6, 1e-5, 1e-4, 1e-3, 1e-2, 1e-1]\n",
    "    iterations_options = [10, 25, 50, 75, 100]\n",
    "    alpha_options = [1e-3, 1e-2, 1e-1, 1, 10, 100]\n",
    "\n",
    "    factors = trial.suggest_categorical(\"factors\", factors_options)\n",
    "    regularization = trial.suggest_categorical(\"regularization\", regularization_options)\n",
    "    iterations = trial.suggest_categorical(\"iterations\", iterations_options)\n",
    "    alpha = trial.suggest_categorical(\"alpha\", alpha_options)\n",
    "    \n",
    "    score = fit_model(\n",
    "        factors=factors,\n",
    "        regularization=regularization,\n",
    "        iterations=iterations,\n",
    "        alpha=alpha,\n",
    "        calculate_training_loss=True,\n",
    "        num_threads=7\n",
    "    )\n",
    "    \n",
    "    return score\n"
   ],
   "id": "19be6dfa9bbe6d11",
   "outputs": [],
   "execution_count": 8
  },
  {
   "metadata": {
    "ExecuteTime": {
     "end_time": "2025-03-19T14:46:08.675444Z",
     "start_time": "2025-03-19T14:46:08.669179Z"
    }
   },
   "cell_type": "code",
   "source": [
    "# study = optuna.create_study(direction=\"maximize\")\n",
    "# study.optimize(objective, n_trials=60)"
   ],
   "id": "7c44db1d56b222d0",
   "outputs": [],
   "execution_count": 9
  },
  {
   "metadata": {
    "ExecuteTime": {
     "end_time": "2025-03-19T14:46:08.753548Z",
     "start_time": "2025-03-19T14:46:08.728507Z"
    }
   },
   "cell_type": "code",
   "source": [
    "# best_params = study.best_params\n",
    "# best_params"
   ],
   "id": "51150cb7faaba31d",
   "outputs": [],
   "execution_count": 10
  },
  {
   "metadata": {
    "ExecuteTime": {
     "end_time": "2025-03-19T14:46:08.857522Z",
     "start_time": "2025-03-19T14:46:08.853830Z"
    }
   },
   "cell_type": "code",
   "source": "",
   "id": "cd1088a62f6e5a43",
   "outputs": [],
   "execution_count": null
  },
  {
   "metadata": {
    "ExecuteTime": {
     "end_time": "2025-03-19T14:46:09.023487Z",
     "start_time": "2025-03-19T14:46:09.014412Z"
    }
   },
   "cell_type": "code",
   "source": "",
   "id": "7ea0799cad5b2c6f",
   "outputs": [],
   "execution_count": null
  },
  {
   "metadata": {
    "ExecuteTime": {
     "end_time": "2025-03-19T14:46:09.042761Z",
     "start_time": "2025-03-19T14:46:09.036883Z"
    }
   },
   "cell_type": "code",
   "source": "",
   "id": "aaba09dbb6b119a4",
   "outputs": [],
   "execution_count": null
  },
  {
   "metadata": {
    "ExecuteTime": {
     "end_time": "2025-03-19T14:46:09.118753Z",
     "start_time": "2025-03-19T14:46:09.114479Z"
    }
   },
   "cell_type": "code",
   "source": "",
   "id": "6638b7e2449750a8",
   "outputs": [],
   "execution_count": null
  },
  {
   "metadata": {
    "ExecuteTime": {
     "end_time": "2025-03-19T14:46:09.228935Z",
     "start_time": "2025-03-19T14:46:09.223750Z"
    }
   },
   "cell_type": "code",
   "source": "",
   "id": "bd544056c752872f",
   "outputs": [],
   "execution_count": null
  },
  {
   "metadata": {
    "ExecuteTime": {
     "end_time": "2025-03-19T14:46:09.302777Z",
     "start_time": "2025-03-19T14:46:09.298540Z"
    }
   },
   "cell_type": "code",
   "source": "",
   "id": "bfc4a8ae589664c3",
   "outputs": [],
   "execution_count": null
  },
  {
   "metadata": {
    "ExecuteTime": {
     "end_time": "2025-03-19T14:46:09.403475Z",
     "start_time": "2025-03-19T14:46:09.381768Z"
    }
   },
   "cell_type": "code",
   "source": "",
   "id": "e41ef875fc425e09",
   "outputs": [],
   "execution_count": null
  },
  {
   "metadata": {
    "ExecuteTime": {
     "end_time": "2025-03-19T14:46:09.449817Z",
     "start_time": "2025-03-19T14:46:09.448042Z"
    }
   },
   "cell_type": "code",
   "source": "",
   "id": "8ad509d4384b4a2d",
   "outputs": [],
   "execution_count": null
  },
  {
   "metadata": {
    "ExecuteTime": {
     "end_time": "2025-03-19T15:28:20.896541Z",
     "start_time": "2025-03-19T14:46:09.565676Z"
    }
   },
   "cell_type": "code",
   "source": [
    "model = AlternatingLeastSquares(factors=200, regularization=0.02, iterations=50, calculate_training_loss=True)\n",
    "# model = AlternatingLeastSquares(**best_params)\n",
    "model.fit(user_item_matrix)"
   ],
   "id": "8d92a5eb69007dbd",
   "outputs": [
    {
     "name": "stderr",
     "output_type": "stream",
     "text": [
      "100%|██████████| 50/50 [42:05<00:00, 50.51s/it, loss=0.000605]\n"
     ]
    }
   ],
   "execution_count": 11
  },
  {
   "metadata": {
    "ExecuteTime": {
     "end_time": "2025-03-19T15:29:08.189305Z",
     "start_time": "2025-03-19T15:28:25.187959Z"
    }
   },
   "cell_type": "code",
   "source": [
    "predictions = []\n",
    "for _, row in test_data.iterrows():\n",
    "    user_id = row['user_id']\n",
    "    track = row['track']\n",
    "    if user_id < model.user_factors.shape[0] and track < model.item_factors.shape[0]:\n",
    "        user_factor = model.user_factors[user_id]\n",
    "        item_factor = model.item_factors[track]\n",
    "        score = np.dot(user_factor, item_factor)\n",
    "    else:\n",
    "        score = 0\n",
    "    predictions.append(score)"
   ],
   "id": "d9c8a0018c502484",
   "outputs": [],
   "execution_count": 12
  },
  {
   "metadata": {
    "ExecuteTime": {
     "end_time": "2025-03-19T15:29:12.495585Z",
     "start_time": "2025-03-19T15:29:08.270028Z"
    }
   },
   "cell_type": "code",
   "source": [
    "test_data['score'] = predictions\n",
    "test_data[[\"user\", \"track\", \"score\"]].to_csv(\"./data/als/test_als_2.csv\", index=False)"
   ],
   "id": "648bf621a59adcfd",
   "outputs": [],
   "execution_count": 13
  },
  {
   "metadata": {},
   "cell_type": "code",
   "outputs": [],
   "execution_count": null,
   "source": "",
   "id": "8d5fee2f937735fa"
  },
  {
   "metadata": {},
   "cell_type": "code",
   "outputs": [],
   "execution_count": null,
   "source": "",
   "id": "f9fe8b2e0da9445a"
  },
  {
   "metadata": {},
   "cell_type": "code",
   "source": "",
   "id": "75439e7ed05aaf3b",
   "outputs": [],
   "execution_count": null
  },
  {
   "metadata": {},
   "cell_type": "code",
   "outputs": [],
   "execution_count": null,
   "source": "",
   "id": "c2f730ecf5cd6ae2"
  },
  {
   "metadata": {},
   "cell_type": "code",
   "outputs": [],
   "execution_count": null,
   "source": "",
   "id": "e92361f32e8c8f91"
  },
  {
   "metadata": {},
   "cell_type": "code",
   "outputs": [],
   "execution_count": null,
   "source": "",
   "id": "b759dccd188376b1"
  },
  {
   "metadata": {},
   "cell_type": "code",
   "outputs": [],
   "execution_count": null,
   "source": "",
   "id": "a426df682ca9cc8c"
  },
  {
   "metadata": {},
   "cell_type": "code",
   "outputs": [],
   "execution_count": null,
   "source": "",
   "id": "e2399c656a78c012"
  },
  {
   "metadata": {},
   "cell_type": "code",
   "outputs": [],
   "execution_count": null,
   "source": "",
   "id": "e443bd399016b84d"
  },
  {
   "metadata": {},
   "cell_type": "code",
   "outputs": [],
   "execution_count": null,
   "source": "",
   "id": "193e72c9f9d5fbd9"
  },
  {
   "metadata": {},
   "cell_type": "code",
   "outputs": [],
   "execution_count": null,
   "source": [
    "import pandas as pd\n",
    "import numpy as np\n",
    "from scipy.sparse import csr_matrix\n",
    "from implicit.als import AlternatingLeastSquares\n",
    "\n",
    "# Загрузка данных\n",
    "train_data = pd.read_csv('train.csv')\n",
    "test_data = pd.read_csv('test.csv')\n",
    "\n",
    "# Создание словарей для маппинга пользователей и треков\n",
    "user_ids = train_data['user'].unique()\n",
    "track_ids = train_data['track'].unique()\n",
    "user_map = {id: i for i, id in enumerate(user_ids)}\n",
    "track_map = {id: i for i, id in enumerate(track_ids)}\n",
    "\n",
    "# Преобразование данных\n",
    "train_data['user_id'] = train_data['user'].map(user_map)\n",
    "train_data['track_id'] = train_data['track'].map(track_map)\n",
    "test_data['user_id'] = test_data['user'].map(user_map)\n",
    "test_data['track_id'] = test_data['track'].map(track_map)\n",
    "\n",
    "# Создание разреженной матрицы взаимодействий\n",
    "user_item_matrix = csr_matrix((train_data['time'], (train_data['user_id'], train_data['track_id'])))\n",
    "\n",
    "# Инициализация и обучение модели\n",
    "model = AlternatingLeastSquares(factors=100, regularization=0.01, iterations=50, calculate_training_loss=True)\n",
    "model.fit(user_item_matrix)\n",
    "\n",
    "# Функция для получения рекомендаций\n",
    "def get_recommendations(model, user_id, n=10):\n",
    "    user_items = user_item_matrix[user_map[user_id]].toarray()\n",
    "    recommendations = model.recommend(user_map[user_id], user_items, N=n, filter_already_liked_items=False)\n",
    "    return [track_ids[track_id] for track_id, _ in recommendations]\n",
    "\n",
    "# Генерация рекомендаций для тестовых пользователей\n",
    "test_users = test_data['user'].unique()\n",
    "recommendations = {}\n",
    "\n",
    "for user in test_users:\n",
    "    recommendations[user] = get_recommendations(model, user)\n",
    "\n",
    "# Подготовка результатов для отправки\n",
    "results = []\n",
    "for _, row in test_data.iterrows():\n",
    "    user = row['user']\n",
    "    track = row['track']\n",
    "    if track in recommendations[user]:\n",
    "        results.append((user, track, recommendations[user].index(track) + 1))\n",
    "    else:\n",
    "        results.append((user, track, len(recommendations[user]) + 1))\n",
    "\n",
    "submission_df = pd.DataFrame(results, columns=['user', 'track', 'rank'])\n",
    "submission_df.to_csv('submission.csv', index=False)\n"
   ],
   "id": "88a59d4eb8378371"
  }
 ],
 "metadata": {
  "kernelspec": {
   "display_name": "Python 3",
   "language": "python",
   "name": "python3"
  },
  "language_info": {
   "codemirror_mode": {
    "name": "ipython",
    "version": 2
   },
   "file_extension": ".py",
   "mimetype": "text/x-python",
   "name": "python",
   "nbconvert_exporter": "python",
   "pygments_lexer": "ipython2",
   "version": "2.7.6"
  }
 },
 "nbformat": 4,
 "nbformat_minor": 5
}
