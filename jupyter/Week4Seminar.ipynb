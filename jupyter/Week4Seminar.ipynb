{
 "cells": [
  {
   "cell_type": "code",
   "execution_count": 1,
   "metadata": {},
   "outputs": [
    {
     "name": "stderr",
     "output_type": "stream",
     "text": [
      "/Users/n.anokhin/Tools/virualenv/recsys2025/lib/python3.9/site-packages/lightfm/_lightfm_fast.py:9: UserWarning: LightFM was compiled without OpenMP support. Only a single thread will be used.\n",
      "  warnings.warn(\n"
     ]
    }
   ],
   "source": [
    "import pandas as pd\n",
    "import numpy as np\n",
    "import scipy.stats as ss\n",
    "\n",
    "import lightfm\n",
    "import lightfm.data as ld\n",
    "import lightfm.evaluation as lv\n",
    "\n",
    "import glob\n",
    "import tqdm\n",
    "import json\n",
    "import optuna\n",
    "\n",
    "import tensorboardX as tb\n",
    "\n",
    "import matplotlib.pyplot as pl\n",
    "import seaborn as sns\n",
    "\n",
    "np.random.seed(31337)"
   ]
  },
  {
   "cell_type": "code",
   "execution_count": 2,
   "metadata": {},
   "outputs": [],
   "source": [
    "DATA_DIR = \"/Users/n.anokhin/Desktop/\""
   ]
  },
  {
   "cell_type": "code",
   "execution_count": 3,
   "metadata": {},
   "outputs": [
    {
     "data": {
      "text/html": [
       "<div>\n",
       "<style scoped>\n",
       "    .dataframe tbody tr th:only-of-type {\n",
       "        vertical-align: middle;\n",
       "    }\n",
       "\n",
       "    .dataframe tbody tr th {\n",
       "        vertical-align: top;\n",
       "    }\n",
       "\n",
       "    .dataframe thead th {\n",
       "        text-align: right;\n",
       "    }\n",
       "</style>\n",
       "<table border=\"1\" class=\"dataframe\">\n",
       "  <thead>\n",
       "    <tr style=\"text-align: right;\">\n",
       "      <th></th>\n",
       "      <th>message</th>\n",
       "      <th>timestamp</th>\n",
       "      <th>user</th>\n",
       "      <th>track</th>\n",
       "      <th>time</th>\n",
       "      <th>latency</th>\n",
       "      <th>recommendation</th>\n",
       "      <th>experiments</th>\n",
       "      <th>rnd</th>\n",
       "    </tr>\n",
       "  </thead>\n",
       "  <tbody>\n",
       "    <tr>\n",
       "      <th>0</th>\n",
       "      <td>next</td>\n",
       "      <td>2025-03-12 16:09:06.363</td>\n",
       "      <td>7063</td>\n",
       "      <td>20115</td>\n",
       "      <td>0.03</td>\n",
       "      <td>0.002557</td>\n",
       "      <td>40105.0</td>\n",
       "      <td>{'USER_BASED': 'T1'}</td>\n",
       "      <td>0.721852</td>\n",
       "    </tr>\n",
       "    <tr>\n",
       "      <th>1</th>\n",
       "      <td>next</td>\n",
       "      <td>2025-03-12 16:09:06.401</td>\n",
       "      <td>8416</td>\n",
       "      <td>14251</td>\n",
       "      <td>0.72</td>\n",
       "      <td>0.000495</td>\n",
       "      <td>25039.0</td>\n",
       "      <td>{'USER_BASED': 'C'}</td>\n",
       "      <td>0.966441</td>\n",
       "    </tr>\n",
       "    <tr>\n",
       "      <th>2</th>\n",
       "      <td>next</td>\n",
       "      <td>2025-03-12 16:09:06.419</td>\n",
       "      <td>8416</td>\n",
       "      <td>31090</td>\n",
       "      <td>0.30</td>\n",
       "      <td>0.000838</td>\n",
       "      <td>5750.0</td>\n",
       "      <td>{'USER_BASED': 'C'}</td>\n",
       "      <td>0.289049</td>\n",
       "    </tr>\n",
       "    <tr>\n",
       "      <th>3</th>\n",
       "      <td>next</td>\n",
       "      <td>2025-03-12 16:09:06.429</td>\n",
       "      <td>2945</td>\n",
       "      <td>25561</td>\n",
       "      <td>0.03</td>\n",
       "      <td>0.000394</td>\n",
       "      <td>25798.0</td>\n",
       "      <td>{'USER_BASED': 'T1'}</td>\n",
       "      <td>0.171346</td>\n",
       "    </tr>\n",
       "    <tr>\n",
       "      <th>4</th>\n",
       "      <td>next</td>\n",
       "      <td>2025-03-12 16:09:06.441</td>\n",
       "      <td>1473</td>\n",
       "      <td>2653</td>\n",
       "      <td>1.00</td>\n",
       "      <td>0.000319</td>\n",
       "      <td>27234.0</td>\n",
       "      <td>{'USER_BASED': 'C'}</td>\n",
       "      <td>0.371618</td>\n",
       "    </tr>\n",
       "  </tbody>\n",
       "</table>\n",
       "</div>"
      ],
      "text/plain": [
       "  message               timestamp  user  track  time   latency  \\\n",
       "0    next 2025-03-12 16:09:06.363  7063  20115  0.03  0.002557   \n",
       "1    next 2025-03-12 16:09:06.401  8416  14251  0.72  0.000495   \n",
       "2    next 2025-03-12 16:09:06.419  8416  31090  0.30  0.000838   \n",
       "3    next 2025-03-12 16:09:06.429  2945  25561  0.03  0.000394   \n",
       "4    next 2025-03-12 16:09:06.441  1473   2653  1.00  0.000319   \n",
       "\n",
       "   recommendation           experiments       rnd  \n",
       "0         40105.0  {'USER_BASED': 'T1'}  0.721852  \n",
       "1         25039.0   {'USER_BASED': 'C'}  0.966441  \n",
       "2          5750.0   {'USER_BASED': 'C'}  0.289049  \n",
       "3         25798.0  {'USER_BASED': 'T1'}  0.171346  \n",
       "4         27234.0   {'USER_BASED': 'C'}  0.371618  "
      ]
     },
     "execution_count": 3,
     "metadata": {},
     "output_type": "execute_result"
    }
   ],
   "source": [
    "data = pd.concat([\n",
    "    pd.read_json(data_path, lines=True) \n",
    "    for data_path \n",
    "    in glob.glob(DATA_DIR + \"/data/*/data.json\")\n",
    "])\n",
    "data[\"rnd\"] = np.random.random(len(data))\n",
    "\n",
    "data.head(5)"
   ]
  },
  {
   "cell_type": "code",
   "execution_count": 4,
   "metadata": {},
   "outputs": [],
   "source": [
    "positives = data[data[\"time\"] > 0.7].copy()\n",
    "positives[\"test\"] = np.random.random(len(positives)) >= 0.7\n",
    "positives.drop_duplicates([\"user\", \"track\"], inplace=True)"
   ]
  },
  {
   "cell_type": "code",
   "execution_count": 5,
   "metadata": {},
   "outputs": [],
   "source": [
    "user_counts = positives[~positives[\"test\"]].groupby(\"user\").size()\n",
    "users = set(user_counts[user_counts >= 5].index.values)"
   ]
  },
  {
   "cell_type": "code",
   "execution_count": 6,
   "metadata": {},
   "outputs": [],
   "source": [
    "track_counts = positives[~positives[\"test\"]].groupby(\"track\").size()\n",
    "tracks = set(track_counts[track_counts >= 5].index.values)"
   ]
  },
  {
   "cell_type": "code",
   "execution_count": 7,
   "metadata": {
    "tags": []
   },
   "outputs": [
    {
     "data": {
      "text/plain": [
       "(9708, 9342)"
      ]
     },
     "execution_count": 7,
     "metadata": {},
     "output_type": "execute_result"
    }
   ],
   "source": [
    "len(users), len(tracks)"
   ]
  },
  {
   "cell_type": "markdown",
   "metadata": {},
   "source": [
    "## Train LightFM"
   ]
  },
  {
   "cell_type": "code",
   "execution_count": 8,
   "metadata": {},
   "outputs": [
    {
     "data": {
      "text/plain": [
       "(66270, 21221)"
      ]
     },
     "execution_count": 8,
     "metadata": {},
     "output_type": "execute_result"
    }
   ],
   "source": [
    "train_data = positives[~positives[\"test\"] & positives[\"user\"].isin(users) & positives[\"track\"].isin(tracks)]\n",
    "test_data = positives[positives[\"test\"] & positives[\"user\"].isin(users) & positives[\"track\"].isin(tracks)]\n",
    "\n",
    "len(train_data), len(test_data)"
   ]
  },
  {
   "cell_type": "code",
   "execution_count": 9,
   "metadata": {},
   "outputs": [],
   "source": [
    "dataset = ld.Dataset()\n",
    "dataset.fit(users, tracks)"
   ]
  },
  {
   "cell_type": "code",
   "execution_count": 10,
   "metadata": {},
   "outputs": [],
   "source": [
    "train_interactions, _ = dataset.build_interactions(train_data[[\"user\", \"track\"]].itertuples(index=False, name=None))\n",
    "test_interactions, _ = dataset.build_interactions(test_data[[\"user\", \"track\"]].itertuples(index=False, name=None))"
   ]
  },
  {
   "cell_type": "code",
   "execution_count": 11,
   "metadata": {},
   "outputs": [],
   "source": [
    "def fit_model(\n",
    "    epochs=1, \n",
    "    at=10,\n",
    "    loss=\"warp\",\n",
    "    no_components=30,\n",
    "    learning_rate=0.01, \n",
    "    max_sampled=10,\n",
    "    user_alpha=0.0, \n",
    "    item_alpha=0.0, \n",
    "    threads=30, \n",
    "    verbose=False,\n",
    "    patience=3,\n",
    "    epsilon=1e-6,\n",
    "):\n",
    "    model = lightfm.LightFM(\n",
    "        no_components=no_components,\n",
    "        loss=loss,\n",
    "        learning_rate=learning_rate,\n",
    "        max_sampled=max_sampled,\n",
    "        user_alpha=user_alpha,\n",
    "        item_alpha=item_alpha,\n",
    "    )\n",
    "\n",
    "    precisions_at = []\n",
    "    \n",
    "    for epoch in range(epochs):\n",
    "        model = model.fit_partial(train_interactions, num_threads=threads)\n",
    "        \n",
    "        precision_at = lv.precision_at_k(model, test_interactions, train_interactions=train_interactions, k=at, num_threads=threads)\n",
    "        \n",
    "        if verbose:\n",
    "            print(f\"{epoch}:\\t{np.mean(precision_at)} +/- {ss.sem(precision_at) * 1.96}\")\n",
    "            \n",
    "        precisions_at.append(np.mean(precision_at))\n",
    "            \n",
    "        if epoch > patience and all([precisions_at[-j] - precisions_at[-patience-1] < epsilon for j in range(1, patience + 1)]):\n",
    "            if verbose:\n",
    "                print(\"Early stopiing!\")\n",
    "            break\n",
    "        \n",
    "    else:\n",
    "        if verbose:\n",
    "            print(\"No early stopiing happened: increase epochs maybe?\")\n",
    "        \n",
    "    return model, precisions_at\n",
    "\n",
    "\n",
    "def objective(trial):\n",
    "    loss = trial.suggest_categorical(\"loss\", [\"warp\", \"bpr\"])\n",
    "    no_components = trial.suggest_categorical(\"no_components\", [10, 30, 50])\n",
    "    learning_rate = trial.suggest_categorical(\"learning_rate\", [0.0001, 0.001, 0.01])\n",
    "    max_sampled = trial.suggest_categorical(\"max_sampled\", [10, 20, 50, 100])\n",
    "    user_alpha = trial.suggest_categorical(\"user_alpha\", [0.0, 0.0001])\n",
    "    item_alpha = trial.suggest_categorical(\"item_alpha\", [0.0, 0.0001])\n",
    "    \n",
    "    model, precisions_at = fit_model(\n",
    "        epochs=5, \n",
    "        at=10,\n",
    "        loss=loss,\n",
    "        no_components=no_components, \n",
    "        learning_rate=learning_rate, \n",
    "        max_sampled=max_sampled, \n",
    "        user_alpha=user_alpha, \n",
    "        item_alpha=item_alpha,\n",
    "    )\n",
    "    \n",
    "    return precisions_at[-1]"
   ]
  },
  {
   "cell_type": "code",
   "execution_count": 12,
   "metadata": {},
   "outputs": [
    {
     "name": "stderr",
     "output_type": "stream",
     "text": [
      "[I 2025-03-12 19:20:48,643] A new study created in memory with name: no-name-8df2f292-61f5-4a3b-b6b0-f05b8f3e92f8\n",
      "[I 2025-03-12 19:20:59,109] Trial 0 finished with value: 0.00033633632119745016 and parameters: {'loss': 'bpr', 'no_components': 50, 'learning_rate': 0.01, 'max_sampled': 100, 'user_alpha': 0.0, 'item_alpha': 0.0}. Best is trial 0 with value: 0.00033633632119745016.\n",
      "[I 2025-03-12 19:21:12,387] Trial 1 finished with value: 0.0004324324254412204 and parameters: {'loss': 'bpr', 'no_components': 30, 'learning_rate': 0.001, 'max_sampled': 10, 'user_alpha': 0.0001, 'item_alpha': 0.0}. Best is trial 1 with value: 0.0004324324254412204.\n",
      "[I 2025-03-12 19:21:25,570] Trial 2 finished with value: 0.0014894894557073712 and parameters: {'loss': 'warp', 'no_components': 30, 'learning_rate': 0.0001, 'max_sampled': 20, 'user_alpha': 0.0001, 'item_alpha': 0.0}. Best is trial 2 with value: 0.0014894894557073712.\n",
      "[I 2025-03-12 19:21:37,254] Trial 3 finished with value: 0.002090090187266469 and parameters: {'loss': 'warp', 'no_components': 10, 'learning_rate': 0.01, 'max_sampled': 100, 'user_alpha': 0.0, 'item_alpha': 0.0}. Best is trial 3 with value: 0.002090090187266469.\n",
      "[I 2025-03-12 19:21:49,085] Trial 4 finished with value: 0.0002642642648424953 and parameters: {'loss': 'bpr', 'no_components': 10, 'learning_rate': 0.0001, 'max_sampled': 100, 'user_alpha': 0.0001, 'item_alpha': 0.0}. Best is trial 3 with value: 0.002090090187266469.\n",
      "[I 2025-03-12 19:22:02,177] Trial 5 finished with value: 0.0024984984192997217 and parameters: {'loss': 'warp', 'no_components': 30, 'learning_rate': 0.01, 'max_sampled': 20, 'user_alpha': 0.0001, 'item_alpha': 0.0}. Best is trial 5 with value: 0.0024984984192997217.\n",
      "[I 2025-03-12 19:22:15,333] Trial 6 finished with value: 0.002126126317307353 and parameters: {'loss': 'warp', 'no_components': 30, 'learning_rate': 0.01, 'max_sampled': 100, 'user_alpha': 0.0001, 'item_alpha': 0.0}. Best is trial 5 with value: 0.0024984984192997217.\n",
      "[I 2025-03-12 19:22:28,605] Trial 7 finished with value: 0.0003843843878712505 and parameters: {'loss': 'bpr', 'no_components': 30, 'learning_rate': 0.001, 'max_sampled': 100, 'user_alpha': 0.0, 'item_alpha': 0.0001}. Best is trial 5 with value: 0.0024984984192997217.\n",
      "[I 2025-03-12 19:22:41,852] Trial 8 finished with value: 0.00026426423573866487 and parameters: {'loss': 'bpr', 'no_components': 30, 'learning_rate': 0.01, 'max_sampled': 50, 'user_alpha': 0.0, 'item_alpha': 0.0}. Best is trial 5 with value: 0.0024984984192997217.\n",
      "[I 2025-03-12 19:22:52,272] Trial 9 finished with value: 0.0020540542900562286 and parameters: {'loss': 'warp', 'no_components': 50, 'learning_rate': 0.0001, 'max_sampled': 20, 'user_alpha': 0.0, 'item_alpha': 0.0}. Best is trial 5 with value: 0.0024984984192997217.\n"
     ]
    }
   ],
   "source": [
    "study = optuna.create_study(direction=\"maximize\")\n",
    "study.optimize(objective, n_trials=10)\n",
    "best_params = study.best_params"
   ]
  },
  {
   "cell_type": "code",
   "execution_count": 13,
   "metadata": {},
   "outputs": [],
   "source": [
    "best_params = {'loss': 'warp', 'no_components': 30, 'learning_rate': 0.01, 'max_sampled': 20, 'user_alpha': 0.0001, 'item_alpha': 0.0}"
   ]
  },
  {
   "cell_type": "code",
   "execution_count": 14,
   "metadata": {
    "tags": []
   },
   "outputs": [
    {
     "name": "stdout",
     "output_type": "stream",
     "text": [
      "0:\t0.002054054057225585 +/- 0.00032750992026170817\n",
      "1:\t0.002042042091488838 +/- 0.0003317487687677008\n",
      "2:\t0.002078078221529722 +/- 0.0003374452872472872\n",
      "3:\t0.0021501502487808466 +/- 0.00034050863288290396\n",
      "4:\t0.002306306501850486 +/- 0.00035205175617278724\n",
      "5:\t0.002426426624879241 +/- 0.0003610131224904586\n",
      "6:\t0.0025945943780243397 +/- 0.00037553704593468553\n",
      "7:\t0.002906906884163618 +/- 0.00039606318222443546\n",
      "8:\t0.0031711712945252657 +/- 0.0004143030127459102\n",
      "9:\t0.0034594594035297632 +/- 0.0004392486733151327\n",
      "10:\t0.003795795841142535 +/- 0.0004577695505939817\n",
      "11:\t0.004072072450071573 +/- 0.00047976037902502466\n",
      "12:\t0.004528528079390526 +/- 0.0005082262462600034\n",
      "13:\t0.004708708729594946 +/- 0.0005188135144834126\n",
      "14:\t0.004876876715570688 +/- 0.0005318242108039013\n",
      "15:\t0.005201201420277357 +/- 0.000554421906571091\n",
      "16:\t0.005465465597808361 +/- 0.0005690539834015911\n",
      "17:\t0.005681680981069803 +/- 0.0005825298633213441\n",
      "18:\t0.005945946555584669 +/- 0.0005982307500867789\n",
      "19:\t0.006282282527536154 +/- 0.0006140422309919319\n",
      "20:\t0.006510511040687561 +/- 0.0006241470302802019\n",
      "21:\t0.0066546546295285225 +/- 0.0006278753411864341\n",
      "22:\t0.006906907074153423 +/- 0.0006410480875307505\n",
      "23:\t0.0071951947174966335 +/- 0.0006549989140635493\n",
      "24:\t0.007483483292162418 +/- 0.0006661092637589338\n",
      "25:\t0.007783784065395594 +/- 0.000678144298898925\n",
      "26:\t0.008036036975681782 +/- 0.0006869476564402765\n",
      "27:\t0.008372372947633266 +/- 0.0006987120880466513\n",
      "28:\t0.008576576597988605 +/- 0.0007066481378555364\n",
      "29:\t0.00869669672101736 +/- 0.0007122245792680841\n",
      "30:\t0.008852853439748287 +/- 0.0007179299404773658\n",
      "31:\t0.008984986692667007 +/- 0.0007229461289433367\n",
      "32:\t0.009141141548752785 +/- 0.0007254888338604237\n",
      "33:\t0.009357357397675514 +/- 0.0007340991718178382\n",
      "34:\t0.009585587307810783 +/- 0.0007428824431587053\n",
      "35:\t0.009765766561031342 +/- 0.0007488645297913925\n",
      "36:\t0.009957958944141865 +/- 0.0007550734064327353\n",
      "37:\t0.010090090334415436 +/- 0.000758295040931133\n",
      "38:\t0.010234234854578972 +/- 0.0007617819573203894\n",
      "39:\t0.01042642630636692 +/- 0.0007671100020544377\n",
      "40:\t0.010534534230828285 +/- 0.0007718337802551906\n",
      "41:\t0.010654655285179615 +/- 0.0007739429113307475\n",
      "42:\t0.010870871134102345 +/- 0.0007825355638287714\n",
      "43:\t0.011039039120078087 +/- 0.0007885105282628806\n",
      "44:\t0.011087087914347649 +/- 0.0007881993121924282\n",
      "45:\t0.011267268098890781 +/- 0.0007964716258038436\n",
      "46:\t0.01145945955067873 +/- 0.0007993770827001953\n",
      "47:\t0.011567567475140095 +/- 0.0008024667564631402\n",
      "48:\t0.01167567539960146 +/- 0.0008034705063144343\n",
      "49:\t0.01179579645395279 +/- 0.0008067937721858005\n",
      "50:\t0.011831832118332386 +/- 0.0008096372899619336\n",
      "51:\t0.011963964439928532 +/- 0.0008152266153516843\n",
      "52:\t0.012012012302875519 +/- 0.0008149004346617477\n",
      "53:\t0.0120360367000103 +/- 0.000815416914095715\n",
      "54:\t0.012084084562957287 +/- 0.0008171268019273823\n",
      "55:\t0.012096096761524677 +/- 0.0008160263822347134\n",
      "56:\t0.012180180288851261 +/- 0.0008178248574127399\n",
      "57:\t0.01226426474750042 +/- 0.0008202915388618582\n",
      "58:\t0.012432433664798737 +/- 0.0008265334657055916\n",
      "59:\t0.012624625116586685 +/- 0.0008318787957755148\n",
      "60:\t0.012708708643913269 +/- 0.0008342832180056022\n",
      "61:\t0.012732733972370625 +/- 0.0008361056205698629\n",
      "62:\t0.012768768705427647 +/- 0.0008361834846060033\n",
      "63:\t0.012888889759778976 +/- 0.0008386441642023874\n",
      "64:\t0.01298498548567295 +/- 0.0008399422449117746\n",
      "65:\t0.012996996752917767 +/- 0.0008395263565296351\n",
      "66:\t0.013129129074513912 +/- 0.0008441773922752476\n",
      "67:\t0.013153153471648693 +/- 0.0008453174241959633\n",
      "68:\t0.013153153471648693 +/- 0.0008466280687837411\n",
      "69:\t0.013201202265918255 +/- 0.0008469376043354278\n",
      "70:\t0.013285284861922264 +/- 0.0008499256467254042\n",
      "71:\t0.013393393717706203 +/- 0.0008520750302266328\n",
      "72:\t0.013489489443600178 +/- 0.0008559208574094038\n",
      "73:\t0.013501501642167568 +/- 0.0008555095304353423\n",
      "74:\t0.013573573902249336 +/- 0.0008569261277300573\n",
      "75:\t0.013621621765196323 +/- 0.0008565741790857146\n",
      "76:\t0.013753754086792469 +/- 0.0008617324914244351\n",
      "77:\t0.013813814148306847 +/- 0.0008641804470930223\n",
      "78:\t0.013729729689657688 +/- 0.0008612657873558115\n",
      "79:\t0.013813814148306847 +/- 0.0008641804470930223\n",
      "80:\t0.01380180288106203 +/- 0.0008645896934248025\n",
      "Early stopiing!\n"
     ]
    }
   ],
   "source": [
    "model, precisions_at = fit_model(\n",
    "    epochs=300,\n",
    "    at=10,\n",
    "    loss=best_params[\"loss\"],\n",
    "    no_components=best_params[\"no_components\"], \n",
    "    learning_rate=best_params[\"learning_rate\"], \n",
    "    max_sampled=best_params[\"max_sampled\"],\n",
    "    user_alpha=best_params[\"user_alpha\"],\n",
    "    item_alpha=best_params[\"item_alpha\"],\n",
    "    verbose=True,\n",
    ")"
   ]
  },
  {
   "cell_type": "code",
   "execution_count": 15,
   "metadata": {},
   "outputs": [
    {
     "data": {
      "image/png": "[encoded data removed]",
      "text/plain": [
       "<Figure size 640x480 with 1 Axes>"
      ]
     },
     "metadata": {},
     "output_type": "display_data"
    }
   ],
   "source": [
    "# TODO 1.4: Plot learning curve precision@k(epoch)\n",
    "figure, ax = pl.subplots()\n",
    "\n",
    "ax.plot(list(range(len(precisions_at))), precisions_at, \"r\", label=\"precision@10(epoch)\")\n",
    "\n",
    "ax.set_xlabel(\"epoch\")\n",
    "ax.legend()\n",
    "\n",
    "pass"
   ]
  },
  {
   "cell_type": "markdown",
   "metadata": {
    "tags": []
   },
   "source": [
    "## Save track embeddings"
   ]
  },
  {
   "cell_type": "code",
   "execution_count": 16,
   "metadata": {
    "tags": []
   },
   "outputs": [],
   "source": [
    "BOTIFY_DATA_DIR = \"/Users/n.anokhin/Projects/recsys-course/botify/data/\""
   ]
  },
  {
   "cell_type": "code",
   "execution_count": 17,
   "metadata": {},
   "outputs": [],
   "source": [
    "biases, embeddings = model.get_item_representations()"
   ]
  },
  {
   "cell_type": "code",
   "execution_count": 18,
   "metadata": {},
   "outputs": [],
   "source": [
    "model.item_biases *= 0.0"
   ]
  },
  {
   "cell_type": "code",
   "execution_count": 19,
   "metadata": {},
   "outputs": [],
   "source": [
    "track_meta = pd.read_json(BOTIFY_DATA_DIR + \"tracks.json\", lines=True)\n",
    "track_meta[\"dataset_index\"] = track_meta[\"track\"].map(lambda t: dataset.mapping()[2].get(t))"
   ]
  },
  {
   "cell_type": "code",
   "execution_count": 20,
   "metadata": {},
   "outputs": [],
   "source": [
    "dataset_tracks = track_meta[pd.notnull(track_meta[\"dataset_index\"])].sort_values(\"dataset_index\")"
   ]
  },
  {
   "cell_type": "code",
   "execution_count": 21,
   "metadata": {},
   "outputs": [],
   "source": [
    "writer = tb.SummaryWriter(comment='msd_ligtfm_embeddings', log_dir=DATA_DIR + \"tb\")\n",
    "writer.add_embedding(embeddings, metadata=list(dataset_tracks[[\"artist\", \"title\"]].itertuples(index=False, name=None)), tag=\"lightfm\", metadata_header=[\"artist\", \"title\"])\n",
    "writer.close()"
   ]
  },
  {
   "cell_type": "markdown",
   "metadata": {},
   "source": [
    "## Compute top recommendations"
   ]
  },
  {
   "cell_type": "code",
   "execution_count": 22,
   "metadata": {},
   "outputs": [],
   "source": [
    "tracks = dataset_tracks[\"track\"].values\n",
    "users = [user for user, index in sorted(dataset.mapping()[0].items(), key=lambda kv: kv[1])]"
   ]
  },
  {
   "cell_type": "code",
   "execution_count": 23,
   "metadata": {},
   "outputs": [
    {
     "name": "stderr",
     "output_type": "stream",
     "text": [
      "100%|██████████████████████████████████████████████████████████████████████████████████████████████████████████████████████████████████████████████████████████████████████████████████████████████████████████| 9708/9708 [00:07<00:00, 1380.16it/s]\n"
     ]
    }
   ],
   "source": [
    "with open(BOTIFY_DATA_DIR + \"recommendations_lfm.json\", \"w\") as rf:\n",
    "    for user_index in tqdm.tqdm(range(dataset.user_features_shape()[0])):\n",
    "        predictions = model.predict(user_index, np.arange(dataset.item_features_shape()[0]), num_threads=30)\n",
    "        top = tracks[np.argsort(predictions)[-30:]]\n",
    "        recommendation = {\n",
    "            \"user\": int(users[user_index]),\n",
    "            \"tracks\": [int(x) for x in top]\n",
    "        }\n",
    "        rf.write(json.dumps(recommendation) + \"\\n\")"
   ]
  },
  {
   "cell_type": "code",
   "execution_count": null,
   "metadata": {},
   "outputs": [],
   "source": []
  }
 ],
 "metadata": {
  "kernelspec": {
   "display_name": "recsys-2025",
   "language": "python",
   "name": "python3"
  },
  "language_info": {
   "codemirror_mode": {
    "name": "ipython",
    "version": 3
   },
   "file_extension": ".py",
   "mimetype": "text/x-python",
   "name": "python",
   "nbconvert_exporter": "python",
   "pygments_lexer": "ipython3",
   "version": "3.10.12"
  }
 },
 "nbformat": 4,
 "nbformat_minor": 4
}
