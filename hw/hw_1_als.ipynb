{
 "cells": [
  {
   "cell_type": "code",
   "id": "initial_id",
   "metadata": {
    "collapsed": true,
    "ExecuteTime": {
     "end_time": "2025-03-19T12:54:17.191829Z",
     "start_time": "2025-03-19T12:54:16.804481Z"
    }
   },
   "source": [
    "import pandas as pd\n",
    "import numpy as np\n",
    "\n",
    "import scipy.stats as ss\n",
    "from sklearn.metrics import ndcg_score\n",
    "import optuna\n",
    "\n",
    "from scipy.sparse import csr_matrix\n",
    "from implicit.als import AlternatingLeastSquares"
   ],
   "outputs": [],
   "execution_count": 19
  },
  {
   "metadata": {
    "ExecuteTime": {
     "end_time": "2025-03-19T12:54:18.612918Z",
     "start_time": "2025-03-19T12:54:17.199060Z"
    }
   },
   "cell_type": "code",
   "source": [
    "wsl_train_path = \"/mnt/c/Users/denis/PycharmProjects/recsys-course-spring-2025/hw/train.csv\"\n",
    "wsl_test_path = \"/mnt/c/Users/denis/PycharmProjects/recsys-course-spring-2025/hw/test.csv\"\n",
    "train_data = pd.read_csv(wsl_train_path)\n",
    "test_data = pd.read_csv(wsl_test_path)"
   ],
   "id": "8c0a7432e72d985e",
   "outputs": [],
   "execution_count": 20
  },
  {
   "metadata": {
    "ExecuteTime": {
     "end_time": "2025-03-19T12:54:19.102550Z",
     "start_time": "2025-03-19T12:54:18.687909Z"
    }
   },
   "cell_type": "code",
   "source": [
    "user_id_map = {id: i for i, id in enumerate(train_data['user'].unique())}\n",
    "\n",
    "train_data[\"user_id\"] = train_data[\"user\"].map(user_id_map).map(int)\n",
    "test_data[\"user_id\"] = test_data[\"user\"].map(user_id_map).map(int)"
   ],
   "id": "3741b60605c2848f",
   "outputs": [],
   "execution_count": 21
  },
  {
   "metadata": {
    "ExecuteTime": {
     "end_time": "2025-03-19T12:54:19.124117Z",
     "start_time": "2025-03-19T12:54:19.121302Z"
    }
   },
   "cell_type": "code",
   "source": "",
   "id": "2194601381dbad49",
   "outputs": [],
   "execution_count": null
  },
  {
   "metadata": {
    "ExecuteTime": {
     "end_time": "2025-03-19T12:54:19.216968Z",
     "start_time": "2025-03-19T12:54:19.181210Z"
    }
   },
   "cell_type": "code",
   "source": "user_item_matrix = csr_matrix((train_data['time'], (train_data['user_id'], train_data['track'])))",
   "id": "f618ad5e451eb176",
   "outputs": [],
   "execution_count": 22
  },
  {
   "metadata": {
    "ExecuteTime": {
     "end_time": "2025-03-19T12:54:19.257846Z",
     "start_time": "2025-03-19T12:54:19.254849Z"
    }
   },
   "cell_type": "code",
   "source": "",
   "id": "9d767221eb181b80",
   "outputs": [],
   "execution_count": null
  },
  {
   "metadata": {
    "ExecuteTime": {
     "end_time": "2025-03-19T12:54:19.452941Z",
     "start_time": "2025-03-19T12:54:19.319737Z"
    }
   },
   "cell_type": "code",
   "source": [
    "train_data[\"validation\"] = np.random.random(len(train_data)) >= 0.8\n",
    "\n",
    "train_train_data = train_data[~train_data[\"validation\"]]\n",
    "train_val_data = train_data[train_data[\"validation\"]]"
   ],
   "id": "bba8ff602032d5cd",
   "outputs": [],
   "execution_count": 23
  },
  {
   "metadata": {
    "ExecuteTime": {
     "end_time": "2025-03-19T12:54:19.503137Z",
     "start_time": "2025-03-19T12:54:19.473778Z"
    }
   },
   "cell_type": "code",
   "source": [
    "user_item_matrix_train = csr_matrix((train_train_data['time'], (train_train_data['user_id'], train_train_data['track'])))\n",
    "user_item_matrix_val = csr_matrix((train_val_data['time'], (train_val_data['user_id'], train_val_data['track'])))"
   ],
   "id": "85a5ab1ffabf776c",
   "outputs": [],
   "execution_count": 24
  },
  {
   "metadata": {
    "ExecuteTime": {
     "end_time": "2025-03-19T12:54:19.529131Z",
     "start_time": "2025-03-19T12:54:19.526393Z"
    }
   },
   "cell_type": "code",
   "source": "",
   "id": "d4897ea5d462c361",
   "outputs": [],
   "execution_count": null
  },
  {
   "metadata": {
    "ExecuteTime": {
     "end_time": "2025-03-19T13:46:20.387446Z",
     "start_time": "2025-03-19T13:46:20.380975Z"
    }
   },
   "cell_type": "code",
   "source": [
    "def ndcg_at_k(model, user_item_matrix, user_ids, k=10):\n",
    "    ndcg_scores = []\n",
    "    for user_id in user_ids:\n",
    "        if user_id >= model.user_factors.shape[0]:\n",
    "            continue\n",
    "        \n",
    "        # Получаем рекомендации\n",
    "        recommendations = model.recommend(user_id, user_item_matrix[user_id], N=k, filter_already_liked_items=False)\n",
    "        recommended_items = recommendations[0]  # Первый элемент - это список рекомендованных айтемов\n",
    "        \n",
    "        # Релевантные элементы (например, те, с которыми пользователь взаимодействовал)\n",
    "        relevant_items = set(user_item_matrix[user_id].indices)\n",
    "        \n",
    "        # DCG\n",
    "        dcg = 0\n",
    "        for i, item in enumerate(recommended_items):\n",
    "            if item in relevant_items:\n",
    "                dcg += 1 / np.log2(i + 2)  # i+2 из-за 1-based индексации\n",
    "        \n",
    "        # IDCG\n",
    "        idcg = sum(1 / np.log2(i + 2) for i in range(min(len(relevant_items), k)))\n",
    "        \n",
    "        # NDCG\n",
    "        ndcg = dcg / idcg if idcg > 0 else 0\n",
    "        ndcg_scores.append(ndcg)\n",
    "    \n",
    "    return np.mean(ndcg_scores)\n"
   ],
   "id": "ef118b4e19dee258",
   "outputs": [],
   "execution_count": 30
  },
  {
   "metadata": {
    "ExecuteTime": {
     "end_time": "2025-03-19T13:52:24.685393Z",
     "start_time": "2025-03-19T13:52:24.676064Z"
    }
   },
   "cell_type": "code",
   "source": [
    "import optuna\n",
    "import numpy as np\n",
    "from implicit.als import AlternatingLeastSquares\n",
    "from scipy.sparse import csr_matrix\n",
    "\n",
    "def fit_model(\n",
    "    factors=100,\n",
    "    regularization=0.01,\n",
    "    iterations=50,\n",
    "    alpha=1.0,\n",
    "    calculate_training_loss=True,\n",
    "    num_threads=7\n",
    "):\n",
    "    model = AlternatingLeastSquares(\n",
    "        factors=factors,\n",
    "        regularization=regularization,\n",
    "        iterations=iterations,\n",
    "        # alpha=alpha,\n",
    "        use_native=True,\n",
    "        calculate_training_loss=calculate_training_loss,\n",
    "        num_threads=num_threads\n",
    "    )\n",
    "    model.fit(user_item_matrix_train, show_progress=False)\n",
    "    \n",
    "    val_users = train_val_data['user_id'].unique()\n",
    "    ndcg_at_10 = ndcg_at_k(model, user_item_matrix_val, val_users, k=10)\n",
    "    \n",
    "    return ndcg_at_10\n",
    "    # \n",
    "    # scores = []\n",
    "    # for _, row in train_val_data.iterrows():\n",
    "    #     user_id = row['user_id']\n",
    "    #     track = row['track']\n",
    "    #     if user_id < model.user_factors.shape[0] and track < model.item_factors.shape[0]:\n",
    "    #         score = np.dot(model.user_factors[user_id], model.item_factors[track])\n",
    "    #     else:\n",
    "    #         score = 0\n",
    "    #     scores.append(score)\n",
    "    # \n",
    "    # # Здесь можно вычислить NDCG или другую метрику на основе scores\n",
    "    # # Для примера, просто возвращаем среднее значение scores\n",
    "    # return np.mean(scores)\n",
    "\n",
    "def objective(trial):\n",
    "    factors = trial.suggest_int(\"factors\", 50, 200)\n",
    "    regularization = trial.suggest_float(\"regularization\", 1e-6, 1e-1, log=True)\n",
    "    iterations = trial.suggest_int(\"iterations\", 10, 100)\n",
    "    alpha = trial.suggest_float(\"alpha\", 1e-3, 1e2, log=True)\n",
    "    \n",
    "    score = fit_model(\n",
    "        factors=factors,\n",
    "        regularization=regularization,\n",
    "        iterations=iterations,\n",
    "        alpha=alpha,\n",
    "        calculate_training_loss=True,\n",
    "        num_threads=7\n",
    "    )\n",
    "    \n",
    "    return score\n",
    "\n",
    "def objective_2(trial):\n",
    "    factors_options = [50, 100, 150, 200]\n",
    "    regularization_options = [1e-6, 1e-5, 1e-4, 1e-3, 1e-2, 1e-1]\n",
    "    iterations_options = [10, 25, 50, 75, 100]\n",
    "    alpha_options = [1e-3, 1e-2, 1e-1, 1, 10, 100]\n",
    "\n",
    "    factors = trial.suggest_categorical(\"factors\", factors_options)\n",
    "    regularization = trial.suggest_categorical(\"regularization\", regularization_options)\n",
    "    iterations = trial.suggest_categorical(\"iterations\", iterations_options)\n",
    "    alpha = trial.suggest_categorical(\"alpha\", alpha_options)\n",
    "    \n",
    "    score = fit_model(\n",
    "        factors=factors,\n",
    "        regularization=regularization,\n",
    "        iterations=iterations,\n",
    "        alpha=alpha,\n",
    "        calculate_training_loss=True,\n",
    "        num_threads=7\n",
    "    )\n",
    "    \n",
    "    return score\n"
   ],
   "id": "19be6dfa9bbe6d11",
   "outputs": [],
   "execution_count": 33
  },
  {
   "metadata": {
    "ExecuteTime": {
     "end_time": "2025-03-19T15:38:23.276926500Z",
     "start_time": "2025-03-19T13:52:26.398719Z"
    }
   },
   "cell_type": "code",
   "source": [
    "study = optuna.create_study(direction=\"maximize\")\n",
    "study.optimize(objective, n_trials=60)"
   ],
   "id": "7c44db1d56b222d0",
   "outputs": [
    {
     "name": "stderr",
     "output_type": "stream",
     "text": [
      "[I 2025-03-19 16:52:26,399] A new study created in memory with name: no-name-3e146211-5189-4c69-ac4b-ed71ff9b28fa\n",
      "/tmp/ipykernel_38271/2496171674.py:45: FutureWarning: suggest_loguniform has been deprecated in v3.0.0. This feature will be removed in v6.0.0. See https://github.com/optuna/optuna/releases/tag/v3.0.0. Use suggest_float(..., log=True) instead.\n",
      "  regularization = trial.suggest_loguniform(\"regularization\", 1e-6, 1e-1)\n",
      "/tmp/ipykernel_38271/2496171674.py:47: FutureWarning: suggest_loguniform has been deprecated in v3.0.0. This feature will be removed in v6.0.0. See https://github.com/optuna/optuna/releases/tag/v3.0.0. Use suggest_float(..., log=True) instead.\n",
      "  alpha = trial.suggest_loguniform(\"alpha\", 1e-3, 1e2)\n",
      "[I 2025-03-19 16:53:20,253] Trial 0 finished with value: 0.06199358046136507 and parameters: {'factors': 157, 'regularization': 1.0898561756631564e-06, 'iterations': 93, 'alpha': 59.696293376532275}. Best is trial 0 with value: 0.06199358046136507.\n",
      "[I 2025-03-19 16:53:56,225] Trial 1 finished with value: 0.063667575394459 and parameters: {'factors': 170, 'regularization': 0.002604369881762499, 'iterations': 45, 'alpha': 0.031764782641867176}. Best is trial 1 with value: 0.063667575394459.\n",
      "[I 2025-03-19 16:54:44,011] Trial 2 finished with value: 0.06163486035627629 and parameters: {'factors': 153, 'regularization': 0.00012057607878305998, 'iterations': 72, 'alpha': 29.6094718617813}. Best is trial 1 with value: 0.063667575394459.\n",
      "[I 2025-03-19 16:55:10,556] Trial 3 finished with value: 0.06304509315908662 and parameters: {'factors': 153, 'regularization': 0.00025481254662866804, 'iterations': 19, 'alpha': 0.015638773016841682}. Best is trial 1 with value: 0.063667575394459.\n",
      "[I 2025-03-19 16:56:08,947] Trial 4 finished with value: 0.06502198902101514 and parameters: {'factors': 185, 'regularization': 5.355816404927887e-05, 'iterations': 97, 'alpha': 0.028591095132483643}. Best is trial 4 with value: 0.06502198902101514.\n",
      "[I 2025-03-19 16:56:32,649] Trial 5 finished with value: 0.05455853447946176 and parameters: {'factors': 108, 'regularization': 0.010930099549464816, 'iterations': 46, 'alpha': 0.032091589462912164}. Best is trial 4 with value: 0.06502198902101514.\n",
      "[I 2025-03-19 16:57:00,738] Trial 6 finished with value: 0.058944389705416586 and parameters: {'factors': 132, 'regularization': 0.00012912666927129281, 'iterations': 59, 'alpha': 1.578452280159838}. Best is trial 4 with value: 0.06502198902101514.\n",
      "[I 2025-03-19 16:58:03,937] Trial 7 finished with value: 0.06119541847807911 and parameters: {'factors': 145, 'regularization': 1.098063116176262e-06, 'iterations': 58, 'alpha': 5.582966105954597}. Best is trial 4 with value: 0.06502198902101514.\n",
      "[I 2025-03-19 16:58:54,219] Trial 8 finished with value: 0.06439813695112695 and parameters: {'factors': 178, 'regularization': 0.004706799078383199, 'iterations': 80, 'alpha': 0.017444068772018425}. Best is trial 4 with value: 0.06502198902101514.\n",
      "[I 2025-03-19 16:59:35,501] Trial 9 finished with value: 0.05992688217408223 and parameters: {'factors': 137, 'regularization': 0.005577024922563388, 'iterations': 51, 'alpha': 0.0010181739316931387}. Best is trial 4 with value: 0.06502198902101514.\n",
      "[I 2025-03-19 17:00:11,181] Trial 10 finished with value: 0.04250419717168158 and parameters: {'factors': 61, 'regularization': 1.2152170746649184e-05, 'iterations': 99, 'alpha': 0.36115220728849223}. Best is trial 4 with value: 0.06502198902101514.\n",
      "[I 2025-03-19 17:01:10,186] Trial 11 finished with value: 0.06515565890761749 and parameters: {'factors': 187, 'regularization': 0.053669345729900106, 'iterations': 82, 'alpha': 0.005143992118010555}. Best is trial 11 with value: 0.06515565890761749.\n",
      "[I 2025-03-19 17:01:59,091] Trial 12 finished with value: 0.06590907687854462 and parameters: {'factors': 193, 'regularization': 0.0695579577808873, 'iterations': 83, 'alpha': 0.0012301044257760439}. Best is trial 12 with value: 0.06590907687854462.\n",
      "[I 2025-03-19 17:03:05,200] Trial 13 finished with value: 0.0658738880187516 and parameters: {'factors': 199, 'regularization': 0.09590067958464926, 'iterations': 79, 'alpha': 0.0013410301582210367}. Best is trial 12 with value: 0.06590907687854462.\n",
      "[I 2025-03-19 17:17:38,670] Trial 14 finished with value: 0.06588602976225552 and parameters: {'factors': 200, 'regularization': 0.09223905370212228, 'iterations': 71, 'alpha': 0.0010467678366484164}. Best is trial 12 with value: 0.06590907687854462.\n",
      "[I 2025-03-19 17:18:57,917] Trial 15 finished with value: 0.05248806877919001 and parameters: {'factors': 99, 'regularization': 0.02827946463305974, 'iterations': 69, 'alpha': 0.1811047097414419}. Best is trial 12 with value: 0.06590907687854462.\n",
      "[I 2025-03-19 17:20:28,459] Trial 16 finished with value: 0.06662465840246662 and parameters: {'factors': 198, 'regularization': 0.0010958190730201098, 'iterations': 36, 'alpha': 0.0031671702882973838}. Best is trial 16 with value: 0.06662465840246662.\n",
      "[I 2025-03-19 17:21:24,532] Trial 17 finished with value: 0.055714040118144625 and parameters: {'factors': 109, 'regularization': 0.0011301699554362964, 'iterations': 30, 'alpha': 0.004532110169864688}. Best is trial 16 with value: 0.06662465840246662.\n",
      "[I 2025-03-19 17:22:19,177] Trial 18 finished with value: 0.03830596202929618 and parameters: {'factors': 51, 'regularization': 0.0008164131699573617, 'iterations': 36, 'alpha': 0.18288527744007446}. Best is trial 16 with value: 0.06662465840246662.\n",
      "[I 2025-03-19 17:23:21,157] Trial 19 finished with value: 0.06387615659566052 and parameters: {'factors': 168, 'regularization': 1.7887879442753908e-05, 'iterations': 29, 'alpha': 0.003617632160613495}. Best is trial 16 with value: 0.06662465840246662.\n",
      "[I 2025-03-19 17:24:07,378] Trial 20 finished with value: 0.05021264616292066 and parameters: {'factors': 78, 'regularization': 0.014174217080743817, 'iterations': 13, 'alpha': 0.007093416357104906}. Best is trial 16 with value: 0.06662465840246662.\n",
      "[I 2025-03-19 17:39:02,041] Trial 21 finished with value: 0.065997487157228 and parameters: {'factors': 200, 'regularization': 0.036952436404671815, 'iterations': 70, 'alpha': 0.0010356705878881913}. Best is trial 16 with value: 0.06662465840246662.\n",
      "[I 2025-03-19 17:40:43,070] Trial 22 finished with value: 0.06545476303004709 and parameters: {'factors': 189, 'regularization': 0.01597896016431366, 'iterations': 88, 'alpha': 0.002715372186902814}. Best is trial 16 with value: 0.06662465840246662.\n",
      "[I 2025-03-19 17:41:58,359] Trial 23 finished with value: 0.06347818481225846 and parameters: {'factors': 171, 'regularization': 0.0009750389862358048, 'iterations': 64, 'alpha': 0.009747286158701003}. Best is trial 16 with value: 0.06662465840246662.\n",
      "[I 2025-03-19 17:43:03,560] Trial 24 finished with value: 0.06653879432364217 and parameters: {'factors': 198, 'regularization': 0.03211489319094763, 'iterations': 38, 'alpha': 0.06419869895485966}. Best is trial 16 with value: 0.06662465840246662.\n",
      "[I 2025-03-19 17:44:09,173] Trial 25 finished with value: 0.06459170335497137 and parameters: {'factors': 176, 'regularization': 0.0022208732561485697, 'iterations': 39, 'alpha': 0.07742492849813702}. Best is trial 16 with value: 0.06662465840246662.\n",
      "[I 2025-03-19 18:00:41,111] Trial 26 finished with value: 0.06685890628040628 and parameters: {'factors': 200, 'regularization': 0.019156096075596457, 'iterations': 23, 'alpha': 1.0421270389498198}. Best is trial 26 with value: 0.06685890628040628.\n",
      "[I 2025-03-19 18:04:44,715] Trial 27 finished with value: 0.06338366514376098 and parameters: {'factors': 162, 'regularization': 0.006973561921752558, 'iterations': 23, 'alpha': 1.0106882713905267}. Best is trial 26 with value: 0.06685890628040628.\n",
      "[I 2025-03-19 18:08:46,288] Trial 28 finished with value: 0.0649624529620125 and parameters: {'factors': 181, 'regularization': 0.021177366428074933, 'iterations': 35, 'alpha': 5.704908382937803}. Best is trial 26 with value: 0.06685890628040628.\n",
      "[I 2025-03-19 18:12:40,882] Trial 29 finished with value: 0.05801425963751725 and parameters: {'factors': 122, 'regularization': 0.0026356641532741284, 'iterations': 22, 'alpha': 0.5591536289179065}. Best is trial 26 with value: 0.06685890628040628.\n",
      "[I 2025-03-19 18:15:47,876] Trial 30 finished with value: 0.06439699359122401 and parameters: {'factors': 158, 'regularization': 0.0004258897381516318, 'iterations': 13, 'alpha': 2.563203564879497}. Best is trial 26 with value: 0.06685890628040628.\n",
      "[I 2025-03-19 18:19:49,222] Trial 31 finished with value: 0.06636309800788555 and parameters: {'factors': 195, 'regularization': 0.030667406935853094, 'iterations': 43, 'alpha': 0.06904024100257498}. Best is trial 26 with value: 0.06685890628040628.\n",
      "[I 2025-03-19 18:24:11,098] Trial 32 finished with value: 0.0662960966380051 and parameters: {'factors': 191, 'regularization': 0.03155509822804319, 'iterations': 42, 'alpha': 0.08189489681436843}. Best is trial 26 with value: 0.06685890628040628.\n",
      "[I 2025-03-19 18:28:11,717] Trial 33 finished with value: 0.06465479603545098 and parameters: {'factors': 180, 'regularization': 0.010445447857850697, 'iterations': 49, 'alpha': 0.0800464050248938}. Best is trial 26 with value: 0.06685890628040628.\n",
      "[I 2025-03-19 18:29:33,846] Trial 34 finished with value: 0.06353515813022922 and parameters: {'factors': 165, 'regularization': 0.002622615811088245, 'iterations': 30, 'alpha': 92.29882793097794}. Best is trial 26 with value: 0.06685890628040628.\n",
      "[I 2025-03-19 18:30:48,968] Trial 35 finished with value: 0.06652841612755223 and parameters: {'factors': 192, 'regularization': 0.03742399467343566, 'iterations': 27, 'alpha': 13.829653554480142}. Best is trial 26 with value: 0.06685890628040628.\n",
      "[I 2025-03-19 18:32:07,855] Trial 36 finished with value: 0.06594840382001504 and parameters: {'factors': 185, 'regularization': 0.007588684905452247, 'iterations': 25, 'alpha': 18.942028232681096}. Best is trial 26 with value: 0.06685890628040628.\n",
      "[I 2025-03-19 18:33:18,724] Trial 37 finished with value: 0.0653527685618668 and parameters: {'factors': 171, 'regularization': 0.0002899589238220378, 'iterations': 16, 'alpha': 26.863798896862356}. Best is trial 26 with value: 0.06685890628040628.\n",
      "[I 2025-03-19 18:34:18,422] Trial 38 finished with value: 0.06322041533833149 and parameters: {'factors': 155, 'regularization': 0.04602826000199701, 'iterations': 18, 'alpha': 7.067247085385848}. Best is trial 26 with value: 0.06685890628040628.\n",
      "[I 2025-03-19 18:35:30,706] Trial 39 finished with value: 0.06123034069529353 and parameters: {'factors': 144, 'regularization': 0.0036522075087271288, 'iterations': 33, 'alpha': 3.094649428901984}. Best is trial 26 with value: 0.06685890628040628.\n",
      "[I 2025-03-19 18:36:38,227] Trial 40 finished with value: 0.06676077297243228 and parameters: {'factors': 191, 'regularization': 0.0016576258406975626, 'iterations': 26, 'alpha': 9.816796627844154}. Best is trial 26 with value: 0.06685890628040628.\n",
      "[I 2025-03-19 18:38:02,230] Trial 41 finished with value: 0.06633577566062576 and parameters: {'factors': 191, 'regularization': 0.00014036256162453865, 'iterations': 26, 'alpha': 9.239526176372078}. Best is trial 26 with value: 0.06685890628040628.\n",
      "[W 2025-03-19 18:38:23,253] Trial 42 failed with parameters: {'factors': 176, 'regularization': 0.0015704851273235319, 'iterations': 38, 'alpha': 47.389232239643924} because of the following error: KeyboardInterrupt().\n",
      "Traceback (most recent call last):\n",
      "  File \"/home/denis/miniconda3/envs/lightfm_env/lib/python3.9/site-packages/optuna/study/_optimize.py\", line 197, in _run_trial\n",
      "    value_or_values = func(trial)\n",
      "  File \"/tmp/ipykernel_38271/2496171674.py\", line 49, in objective\n",
      "    score = fit_model(\n",
      "  File \"/tmp/ipykernel_38271/2496171674.py\", line 25, in fit_model\n",
      "    ndcg_at_10 = ndcg_at_k(model, user_item_matrix_val, val_users, k=10)\n",
      "  File \"/tmp/ipykernel_38271/2170396035.py\", line 8, in ndcg_at_k\n",
      "    recommendations = model.recommend(user_id, user_item_matrix[user_id], N=k, filter_already_liked_items=False)\n",
      "  File \"/home/denis/miniconda3/envs/lightfm_env/lib/python3.9/site-packages/implicit/cpu/matrix_factorization_base.py\", line 75, in recommend\n",
      "    ids, scores = topk(\n",
      "  File \"topk.pyx\", line 32, in implicit.cpu.topk.topk\n",
      "  File \"topk.pyx\", line 51, in implicit.cpu.topk._topk_batch\n",
      "  File \"/home/denis/miniconda3/envs/lightfm_env/lib/python3.9/site-packages/numpy/core/getlimits.py\", line 458, in __new__\n",
      "    try:\n",
      "KeyboardInterrupt\n",
      "[W 2025-03-19 18:38:23,291] Trial 42 failed with value None.\n"
     ]
    },
    {
     "ename": "KeyboardInterrupt",
     "evalue": "",
     "output_type": "error",
     "traceback": [
      "\u001B[0;31m---------------------------------------------------------------------------\u001B[0m",
      "\u001B[0;31mKeyboardInterrupt\u001B[0m                         Traceback (most recent call last)",
      "Cell \u001B[0;32mIn[34], line 2\u001B[0m\n\u001B[1;32m      1\u001B[0m study \u001B[38;5;241m=\u001B[39m optuna\u001B[38;5;241m.\u001B[39mcreate_study(direction\u001B[38;5;241m=\u001B[39m\u001B[38;5;124m\"\u001B[39m\u001B[38;5;124mmaximize\u001B[39m\u001B[38;5;124m\"\u001B[39m)\n\u001B[0;32m----> 2\u001B[0m \u001B[43mstudy\u001B[49m\u001B[38;5;241;43m.\u001B[39;49m\u001B[43moptimize\u001B[49m\u001B[43m(\u001B[49m\u001B[43mobjective\u001B[49m\u001B[43m,\u001B[49m\u001B[43m \u001B[49m\u001B[43mn_trials\u001B[49m\u001B[38;5;241;43m=\u001B[39;49m\u001B[38;5;241;43m60\u001B[39;49m\u001B[43m)\u001B[49m\n",
      "File \u001B[0;32m~/miniconda3/envs/lightfm_env/lib/python3.9/site-packages/optuna/study/study.py:475\u001B[0m, in \u001B[0;36mStudy.optimize\u001B[0;34m(self, func, n_trials, timeout, n_jobs, catch, callbacks, gc_after_trial, show_progress_bar)\u001B[0m\n\u001B[1;32m    373\u001B[0m \u001B[38;5;28;01mdef\u001B[39;00m\u001B[38;5;250m \u001B[39m\u001B[38;5;21moptimize\u001B[39m(\n\u001B[1;32m    374\u001B[0m     \u001B[38;5;28mself\u001B[39m,\n\u001B[1;32m    375\u001B[0m     func: ObjectiveFuncType,\n\u001B[0;32m   (...)\u001B[0m\n\u001B[1;32m    382\u001B[0m     show_progress_bar: \u001B[38;5;28mbool\u001B[39m \u001B[38;5;241m=\u001B[39m \u001B[38;5;28;01mFalse\u001B[39;00m,\n\u001B[1;32m    383\u001B[0m ) \u001B[38;5;241m-\u001B[39m\u001B[38;5;241m>\u001B[39m \u001B[38;5;28;01mNone\u001B[39;00m:\n\u001B[1;32m    384\u001B[0m \u001B[38;5;250m    \u001B[39m\u001B[38;5;124;03m\"\"\"Optimize an objective function.\u001B[39;00m\n\u001B[1;32m    385\u001B[0m \n\u001B[1;32m    386\u001B[0m \u001B[38;5;124;03m    Optimization is done by choosing a suitable set of hyperparameter values from a given\u001B[39;00m\n\u001B[0;32m   (...)\u001B[0m\n\u001B[1;32m    473\u001B[0m \u001B[38;5;124;03m            If nested invocation of this method occurs.\u001B[39;00m\n\u001B[1;32m    474\u001B[0m \u001B[38;5;124;03m    \"\"\"\u001B[39;00m\n\u001B[0;32m--> 475\u001B[0m     \u001B[43m_optimize\u001B[49m\u001B[43m(\u001B[49m\n\u001B[1;32m    476\u001B[0m \u001B[43m        \u001B[49m\u001B[43mstudy\u001B[49m\u001B[38;5;241;43m=\u001B[39;49m\u001B[38;5;28;43mself\u001B[39;49m\u001B[43m,\u001B[49m\n\u001B[1;32m    477\u001B[0m \u001B[43m        \u001B[49m\u001B[43mfunc\u001B[49m\u001B[38;5;241;43m=\u001B[39;49m\u001B[43mfunc\u001B[49m\u001B[43m,\u001B[49m\n\u001B[1;32m    478\u001B[0m \u001B[43m        \u001B[49m\u001B[43mn_trials\u001B[49m\u001B[38;5;241;43m=\u001B[39;49m\u001B[43mn_trials\u001B[49m\u001B[43m,\u001B[49m\n\u001B[1;32m    479\u001B[0m \u001B[43m        \u001B[49m\u001B[43mtimeout\u001B[49m\u001B[38;5;241;43m=\u001B[39;49m\u001B[43mtimeout\u001B[49m\u001B[43m,\u001B[49m\n\u001B[1;32m    480\u001B[0m \u001B[43m        \u001B[49m\u001B[43mn_jobs\u001B[49m\u001B[38;5;241;43m=\u001B[39;49m\u001B[43mn_jobs\u001B[49m\u001B[43m,\u001B[49m\n\u001B[1;32m    481\u001B[0m \u001B[43m        \u001B[49m\u001B[43mcatch\u001B[49m\u001B[38;5;241;43m=\u001B[39;49m\u001B[38;5;28;43mtuple\u001B[39;49m\u001B[43m(\u001B[49m\u001B[43mcatch\u001B[49m\u001B[43m)\u001B[49m\u001B[43m \u001B[49m\u001B[38;5;28;43;01mif\u001B[39;49;00m\u001B[43m \u001B[49m\u001B[38;5;28;43misinstance\u001B[39;49m\u001B[43m(\u001B[49m\u001B[43mcatch\u001B[49m\u001B[43m,\u001B[49m\u001B[43m \u001B[49m\u001B[43mIterable\u001B[49m\u001B[43m)\u001B[49m\u001B[43m \u001B[49m\u001B[38;5;28;43;01melse\u001B[39;49;00m\u001B[43m \u001B[49m\u001B[43m(\u001B[49m\u001B[43mcatch\u001B[49m\u001B[43m,\u001B[49m\u001B[43m)\u001B[49m\u001B[43m,\u001B[49m\n\u001B[1;32m    482\u001B[0m \u001B[43m        \u001B[49m\u001B[43mcallbacks\u001B[49m\u001B[38;5;241;43m=\u001B[39;49m\u001B[43mcallbacks\u001B[49m\u001B[43m,\u001B[49m\n\u001B[1;32m    483\u001B[0m \u001B[43m        \u001B[49m\u001B[43mgc_after_trial\u001B[49m\u001B[38;5;241;43m=\u001B[39;49m\u001B[43mgc_after_trial\u001B[49m\u001B[43m,\u001B[49m\n\u001B[1;32m    484\u001B[0m \u001B[43m        \u001B[49m\u001B[43mshow_progress_bar\u001B[49m\u001B[38;5;241;43m=\u001B[39;49m\u001B[43mshow_progress_bar\u001B[49m\u001B[43m,\u001B[49m\n\u001B[1;32m    485\u001B[0m \u001B[43m    \u001B[49m\u001B[43m)\u001B[49m\n",
      "File \u001B[0;32m~/miniconda3/envs/lightfm_env/lib/python3.9/site-packages/optuna/study/_optimize.py:63\u001B[0m, in \u001B[0;36m_optimize\u001B[0;34m(study, func, n_trials, timeout, n_jobs, catch, callbacks, gc_after_trial, show_progress_bar)\u001B[0m\n\u001B[1;32m     61\u001B[0m \u001B[38;5;28;01mtry\u001B[39;00m:\n\u001B[1;32m     62\u001B[0m     \u001B[38;5;28;01mif\u001B[39;00m n_jobs \u001B[38;5;241m==\u001B[39m \u001B[38;5;241m1\u001B[39m:\n\u001B[0;32m---> 63\u001B[0m         \u001B[43m_optimize_sequential\u001B[49m\u001B[43m(\u001B[49m\n\u001B[1;32m     64\u001B[0m \u001B[43m            \u001B[49m\u001B[43mstudy\u001B[49m\u001B[43m,\u001B[49m\n\u001B[1;32m     65\u001B[0m \u001B[43m            \u001B[49m\u001B[43mfunc\u001B[49m\u001B[43m,\u001B[49m\n\u001B[1;32m     66\u001B[0m \u001B[43m            \u001B[49m\u001B[43mn_trials\u001B[49m\u001B[43m,\u001B[49m\n\u001B[1;32m     67\u001B[0m \u001B[43m            \u001B[49m\u001B[43mtimeout\u001B[49m\u001B[43m,\u001B[49m\n\u001B[1;32m     68\u001B[0m \u001B[43m            \u001B[49m\u001B[43mcatch\u001B[49m\u001B[43m,\u001B[49m\n\u001B[1;32m     69\u001B[0m \u001B[43m            \u001B[49m\u001B[43mcallbacks\u001B[49m\u001B[43m,\u001B[49m\n\u001B[1;32m     70\u001B[0m \u001B[43m            \u001B[49m\u001B[43mgc_after_trial\u001B[49m\u001B[43m,\u001B[49m\n\u001B[1;32m     71\u001B[0m \u001B[43m            \u001B[49m\u001B[43mreseed_sampler_rng\u001B[49m\u001B[38;5;241;43m=\u001B[39;49m\u001B[38;5;28;43;01mFalse\u001B[39;49;00m\u001B[43m,\u001B[49m\n\u001B[1;32m     72\u001B[0m \u001B[43m            \u001B[49m\u001B[43mtime_start\u001B[49m\u001B[38;5;241;43m=\u001B[39;49m\u001B[38;5;28;43;01mNone\u001B[39;49;00m\u001B[43m,\u001B[49m\n\u001B[1;32m     73\u001B[0m \u001B[43m            \u001B[49m\u001B[43mprogress_bar\u001B[49m\u001B[38;5;241;43m=\u001B[39;49m\u001B[43mprogress_bar\u001B[49m\u001B[43m,\u001B[49m\n\u001B[1;32m     74\u001B[0m \u001B[43m        \u001B[49m\u001B[43m)\u001B[49m\n\u001B[1;32m     75\u001B[0m     \u001B[38;5;28;01melse\u001B[39;00m:\n\u001B[1;32m     76\u001B[0m         \u001B[38;5;28;01mif\u001B[39;00m n_jobs \u001B[38;5;241m==\u001B[39m \u001B[38;5;241m-\u001B[39m\u001B[38;5;241m1\u001B[39m:\n",
      "File \u001B[0;32m~/miniconda3/envs/lightfm_env/lib/python3.9/site-packages/optuna/study/_optimize.py:160\u001B[0m, in \u001B[0;36m_optimize_sequential\u001B[0;34m(study, func, n_trials, timeout, catch, callbacks, gc_after_trial, reseed_sampler_rng, time_start, progress_bar)\u001B[0m\n\u001B[1;32m    157\u001B[0m         \u001B[38;5;28;01mbreak\u001B[39;00m\n\u001B[1;32m    159\u001B[0m \u001B[38;5;28;01mtry\u001B[39;00m:\n\u001B[0;32m--> 160\u001B[0m     frozen_trial \u001B[38;5;241m=\u001B[39m \u001B[43m_run_trial\u001B[49m\u001B[43m(\u001B[49m\u001B[43mstudy\u001B[49m\u001B[43m,\u001B[49m\u001B[43m \u001B[49m\u001B[43mfunc\u001B[49m\u001B[43m,\u001B[49m\u001B[43m \u001B[49m\u001B[43mcatch\u001B[49m\u001B[43m)\u001B[49m\n\u001B[1;32m    161\u001B[0m \u001B[38;5;28;01mfinally\u001B[39;00m:\n\u001B[1;32m    162\u001B[0m     \u001B[38;5;66;03m# The following line mitigates memory problems that can be occurred in some\u001B[39;00m\n\u001B[1;32m    163\u001B[0m     \u001B[38;5;66;03m# environments (e.g., services that use computing containers such as GitHub Actions).\u001B[39;00m\n\u001B[1;32m    164\u001B[0m     \u001B[38;5;66;03m# Please refer to the following PR for further details:\u001B[39;00m\n\u001B[1;32m    165\u001B[0m     \u001B[38;5;66;03m# https://github.com/optuna/optuna/pull/325.\u001B[39;00m\n\u001B[1;32m    166\u001B[0m     \u001B[38;5;28;01mif\u001B[39;00m gc_after_trial:\n",
      "File \u001B[0;32m~/miniconda3/envs/lightfm_env/lib/python3.9/site-packages/optuna/study/_optimize.py:248\u001B[0m, in \u001B[0;36m_run_trial\u001B[0;34m(study, func, catch)\u001B[0m\n\u001B[1;32m    241\u001B[0m         \u001B[38;5;28;01massert\u001B[39;00m \u001B[38;5;28;01mFalse\u001B[39;00m, \u001B[38;5;124m\"\u001B[39m\u001B[38;5;124mShould not reach.\u001B[39m\u001B[38;5;124m\"\u001B[39m\n\u001B[1;32m    243\u001B[0m \u001B[38;5;28;01mif\u001B[39;00m (\n\u001B[1;32m    244\u001B[0m     frozen_trial\u001B[38;5;241m.\u001B[39mstate \u001B[38;5;241m==\u001B[39m TrialState\u001B[38;5;241m.\u001B[39mFAIL\n\u001B[1;32m    245\u001B[0m     \u001B[38;5;129;01mand\u001B[39;00m func_err \u001B[38;5;129;01mis\u001B[39;00m \u001B[38;5;129;01mnot\u001B[39;00m \u001B[38;5;28;01mNone\u001B[39;00m\n\u001B[1;32m    246\u001B[0m     \u001B[38;5;129;01mand\u001B[39;00m \u001B[38;5;129;01mnot\u001B[39;00m \u001B[38;5;28misinstance\u001B[39m(func_err, catch)\n\u001B[1;32m    247\u001B[0m ):\n\u001B[0;32m--> 248\u001B[0m     \u001B[38;5;28;01mraise\u001B[39;00m func_err\n\u001B[1;32m    249\u001B[0m \u001B[38;5;28;01mreturn\u001B[39;00m frozen_trial\n",
      "File \u001B[0;32m~/miniconda3/envs/lightfm_env/lib/python3.9/site-packages/optuna/study/_optimize.py:197\u001B[0m, in \u001B[0;36m_run_trial\u001B[0;34m(study, func, catch)\u001B[0m\n\u001B[1;32m    195\u001B[0m \u001B[38;5;28;01mwith\u001B[39;00m get_heartbeat_thread(trial\u001B[38;5;241m.\u001B[39m_trial_id, study\u001B[38;5;241m.\u001B[39m_storage):\n\u001B[1;32m    196\u001B[0m     \u001B[38;5;28;01mtry\u001B[39;00m:\n\u001B[0;32m--> 197\u001B[0m         value_or_values \u001B[38;5;241m=\u001B[39m \u001B[43mfunc\u001B[49m\u001B[43m(\u001B[49m\u001B[43mtrial\u001B[49m\u001B[43m)\u001B[49m\n\u001B[1;32m    198\u001B[0m     \u001B[38;5;28;01mexcept\u001B[39;00m exceptions\u001B[38;5;241m.\u001B[39mTrialPruned \u001B[38;5;28;01mas\u001B[39;00m e:\n\u001B[1;32m    199\u001B[0m         \u001B[38;5;66;03m# TODO(mamu): Handle multi-objective cases.\u001B[39;00m\n\u001B[1;32m    200\u001B[0m         state \u001B[38;5;241m=\u001B[39m TrialState\u001B[38;5;241m.\u001B[39mPRUNED\n",
      "Cell \u001B[0;32mIn[33], line 49\u001B[0m, in \u001B[0;36mobjective\u001B[0;34m(trial)\u001B[0m\n\u001B[1;32m     46\u001B[0m iterations \u001B[38;5;241m=\u001B[39m trial\u001B[38;5;241m.\u001B[39msuggest_int(\u001B[38;5;124m\"\u001B[39m\u001B[38;5;124miterations\u001B[39m\u001B[38;5;124m\"\u001B[39m, \u001B[38;5;241m10\u001B[39m, \u001B[38;5;241m100\u001B[39m)\n\u001B[1;32m     47\u001B[0m alpha \u001B[38;5;241m=\u001B[39m trial\u001B[38;5;241m.\u001B[39msuggest_loguniform(\u001B[38;5;124m\"\u001B[39m\u001B[38;5;124malpha\u001B[39m\u001B[38;5;124m\"\u001B[39m, \u001B[38;5;241m1e-3\u001B[39m, \u001B[38;5;241m1e2\u001B[39m)\n\u001B[0;32m---> 49\u001B[0m score \u001B[38;5;241m=\u001B[39m \u001B[43mfit_model\u001B[49m\u001B[43m(\u001B[49m\n\u001B[1;32m     50\u001B[0m \u001B[43m    \u001B[49m\u001B[43mfactors\u001B[49m\u001B[38;5;241;43m=\u001B[39;49m\u001B[43mfactors\u001B[49m\u001B[43m,\u001B[49m\n\u001B[1;32m     51\u001B[0m \u001B[43m    \u001B[49m\u001B[43mregularization\u001B[49m\u001B[38;5;241;43m=\u001B[39;49m\u001B[43mregularization\u001B[49m\u001B[43m,\u001B[49m\n\u001B[1;32m     52\u001B[0m \u001B[43m    \u001B[49m\u001B[43miterations\u001B[49m\u001B[38;5;241;43m=\u001B[39;49m\u001B[43miterations\u001B[49m\u001B[43m,\u001B[49m\n\u001B[1;32m     53\u001B[0m \u001B[43m    \u001B[49m\u001B[43malpha\u001B[49m\u001B[38;5;241;43m=\u001B[39;49m\u001B[43malpha\u001B[49m\u001B[43m,\u001B[49m\n\u001B[1;32m     54\u001B[0m \u001B[43m    \u001B[49m\u001B[43mcalculate_training_loss\u001B[49m\u001B[38;5;241;43m=\u001B[39;49m\u001B[38;5;28;43;01mTrue\u001B[39;49;00m\u001B[43m,\u001B[49m\n\u001B[1;32m     55\u001B[0m \u001B[43m    \u001B[49m\u001B[43mnum_threads\u001B[49m\u001B[38;5;241;43m=\u001B[39;49m\u001B[38;5;241;43m7\u001B[39;49m\n\u001B[1;32m     56\u001B[0m \u001B[43m\u001B[49m\u001B[43m)\u001B[49m\n\u001B[1;32m     58\u001B[0m \u001B[38;5;28;01mreturn\u001B[39;00m score\n",
      "Cell \u001B[0;32mIn[33], line 25\u001B[0m, in \u001B[0;36mfit_model\u001B[0;34m(factors, regularization, iterations, alpha, calculate_training_loss, num_threads)\u001B[0m\n\u001B[1;32m     22\u001B[0m model\u001B[38;5;241m.\u001B[39mfit(user_item_matrix_train, show_progress\u001B[38;5;241m=\u001B[39m\u001B[38;5;28;01mFalse\u001B[39;00m)\n\u001B[1;32m     24\u001B[0m val_users \u001B[38;5;241m=\u001B[39m train_val_data[\u001B[38;5;124m'\u001B[39m\u001B[38;5;124muser_id\u001B[39m\u001B[38;5;124m'\u001B[39m]\u001B[38;5;241m.\u001B[39munique()\n\u001B[0;32m---> 25\u001B[0m ndcg_at_10 \u001B[38;5;241m=\u001B[39m \u001B[43mndcg_at_k\u001B[49m\u001B[43m(\u001B[49m\u001B[43mmodel\u001B[49m\u001B[43m,\u001B[49m\u001B[43m \u001B[49m\u001B[43muser_item_matrix_val\u001B[49m\u001B[43m,\u001B[49m\u001B[43m \u001B[49m\u001B[43mval_users\u001B[49m\u001B[43m,\u001B[49m\u001B[43m \u001B[49m\u001B[43mk\u001B[49m\u001B[38;5;241;43m=\u001B[39;49m\u001B[38;5;241;43m10\u001B[39;49m\u001B[43m)\u001B[49m\n\u001B[1;32m     27\u001B[0m \u001B[38;5;28;01mreturn\u001B[39;00m ndcg_at_10\n",
      "Cell \u001B[0;32mIn[30], line 8\u001B[0m, in \u001B[0;36mndcg_at_k\u001B[0;34m(model, user_item_matrix, user_ids, k)\u001B[0m\n\u001B[1;32m      5\u001B[0m     \u001B[38;5;28;01mcontinue\u001B[39;00m\n\u001B[1;32m      7\u001B[0m \u001B[38;5;66;03m# Получаем рекомендации\u001B[39;00m\n\u001B[0;32m----> 8\u001B[0m recommendations \u001B[38;5;241m=\u001B[39m \u001B[43mmodel\u001B[49m\u001B[38;5;241;43m.\u001B[39;49m\u001B[43mrecommend\u001B[49m\u001B[43m(\u001B[49m\u001B[43muser_id\u001B[49m\u001B[43m,\u001B[49m\u001B[43m \u001B[49m\u001B[43muser_item_matrix\u001B[49m\u001B[43m[\u001B[49m\u001B[43muser_id\u001B[49m\u001B[43m]\u001B[49m\u001B[43m,\u001B[49m\u001B[43m \u001B[49m\u001B[43mN\u001B[49m\u001B[38;5;241;43m=\u001B[39;49m\u001B[43mk\u001B[49m\u001B[43m,\u001B[49m\u001B[43m \u001B[49m\u001B[43mfilter_already_liked_items\u001B[49m\u001B[38;5;241;43m=\u001B[39;49m\u001B[38;5;28;43;01mFalse\u001B[39;49;00m\u001B[43m)\u001B[49m\n\u001B[1;32m      9\u001B[0m recommended_items \u001B[38;5;241m=\u001B[39m recommendations[\u001B[38;5;241m0\u001B[39m]  \u001B[38;5;66;03m# Первый элемент - это список рекомендованных айтемов\u001B[39;00m\n\u001B[1;32m     11\u001B[0m \u001B[38;5;66;03m# Релевантные элементы (например, те, с которыми пользователь взаимодействовал)\u001B[39;00m\n",
      "File \u001B[0;32m~/miniconda3/envs/lightfm_env/lib/python3.9/site-packages/implicit/cpu/matrix_factorization_base.py:75\u001B[0m, in \u001B[0;36mMatrixFactorizationBase.recommend\u001B[0;34m(self, userid, user_items, N, filter_already_liked_items, filter_items, recalculate_user, items)\u001B[0m\n\u001B[1;32m     72\u001B[0m     \u001B[38;5;28;01mif\u001B[39;00m items \u001B[38;5;129;01mis\u001B[39;00m \u001B[38;5;129;01mnot\u001B[39;00m \u001B[38;5;28;01mNone\u001B[39;00m:\n\u001B[1;32m     73\u001B[0m         filter_query_items \u001B[38;5;241m=\u001B[39m _filter_items_from_sparse_matrix(items, filter_query_items)\n\u001B[0;32m---> 75\u001B[0m ids, scores \u001B[38;5;241m=\u001B[39m \u001B[43mtopk\u001B[49m\u001B[43m(\u001B[49m\n\u001B[1;32m     76\u001B[0m \u001B[43m    \u001B[49m\u001B[43mitem_factors\u001B[49m\u001B[43m,\u001B[49m\n\u001B[1;32m     77\u001B[0m \u001B[43m    \u001B[49m\u001B[43muser\u001B[49m\u001B[43m,\u001B[49m\n\u001B[1;32m     78\u001B[0m \u001B[43m    \u001B[49m\u001B[43mN\u001B[49m\u001B[43m,\u001B[49m\n\u001B[1;32m     79\u001B[0m \u001B[43m    \u001B[49m\u001B[43mfilter_query_items\u001B[49m\u001B[38;5;241;43m=\u001B[39;49m\u001B[43mfilter_query_items\u001B[49m\u001B[43m,\u001B[49m\n\u001B[1;32m     80\u001B[0m \u001B[43m    \u001B[49m\u001B[43mfilter_items\u001B[49m\u001B[38;5;241;43m=\u001B[39;49m\u001B[43mfilter_items\u001B[49m\u001B[43m,\u001B[49m\n\u001B[1;32m     81\u001B[0m \u001B[43m\u001B[49m\u001B[43m)\u001B[49m\n\u001B[1;32m     83\u001B[0m \u001B[38;5;28;01mif\u001B[39;00m np\u001B[38;5;241m.\u001B[39misscalar(userid):\n\u001B[1;32m     84\u001B[0m     ids, scores \u001B[38;5;241m=\u001B[39m ids[\u001B[38;5;241m0\u001B[39m], scores[\u001B[38;5;241m0\u001B[39m]\n",
      "File \u001B[0;32mtopk.pyx:32\u001B[0m, in \u001B[0;36mimplicit.cpu.topk.topk\u001B[0;34m()\u001B[0m\n",
      "File \u001B[0;32mtopk.pyx:51\u001B[0m, in \u001B[0;36mimplicit.cpu.topk._topk_batch\u001B[0;34m()\u001B[0m\n",
      "File \u001B[0;32m~/miniconda3/envs/lightfm_env/lib/python3.9/site-packages/numpy/core/getlimits.py:458\u001B[0m, in \u001B[0;36mfinfo.__new__\u001B[0;34m(cls, dtype)\u001B[0m\n\u001B[1;32m    457\u001B[0m \u001B[38;5;28;01mdef\u001B[39;00m\u001B[38;5;250m \u001B[39m\u001B[38;5;21m__new__\u001B[39m(\u001B[38;5;28mcls\u001B[39m, dtype):\n\u001B[0;32m--> 458\u001B[0m     \u001B[38;5;28;01mtry\u001B[39;00m:\n\u001B[1;32m    459\u001B[0m         dtype \u001B[38;5;241m=\u001B[39m numeric\u001B[38;5;241m.\u001B[39mdtype(dtype)\n\u001B[1;32m    460\u001B[0m     \u001B[38;5;28;01mexcept\u001B[39;00m \u001B[38;5;167;01mTypeError\u001B[39;00m:\n\u001B[1;32m    461\u001B[0m         \u001B[38;5;66;03m# In case a float instance was given\u001B[39;00m\n",
      "\u001B[0;31mKeyboardInterrupt\u001B[0m: "
     ]
    }
   ],
   "execution_count": 34
  },
  {
   "metadata": {},
   "cell_type": "code",
   "outputs": [],
   "execution_count": null,
   "source": [
    "best_params = study.best_params\n",
    "best_params "
   ],
   "id": "51150cb7faaba31d"
  },
  {
   "metadata": {},
   "cell_type": "code",
   "outputs": [],
   "execution_count": null,
   "source": "{'factors': 200, 'regularization': 0.019156096075596457, 'iterations': 23, 'alpha': 1.0421270389498198}",
   "id": "cd1088a62f6e5a43"
  },
  {
   "metadata": {},
   "cell_type": "code",
   "outputs": [],
   "execution_count": null,
   "source": "",
   "id": "7ea0799cad5b2c6f"
  },
  {
   "metadata": {},
   "cell_type": "code",
   "outputs": [],
   "execution_count": null,
   "source": "",
   "id": "aaba09dbb6b119a4"
  },
  {
   "metadata": {},
   "cell_type": "code",
   "outputs": [],
   "execution_count": null,
   "source": "",
   "id": "6638b7e2449750a8"
  },
  {
   "metadata": {},
   "cell_type": "code",
   "outputs": [],
   "execution_count": null,
   "source": "",
   "id": "bd544056c752872f"
  },
  {
   "metadata": {},
   "cell_type": "code",
   "outputs": [],
   "execution_count": null,
   "source": "",
   "id": "bfc4a8ae589664c3"
  },
  {
   "metadata": {},
   "cell_type": "code",
   "outputs": [],
   "execution_count": null,
   "source": "",
   "id": "e41ef875fc425e09"
  },
  {
   "metadata": {},
   "cell_type": "code",
   "outputs": [],
   "execution_count": null,
   "source": "",
   "id": "8ad509d4384b4a2d"
  },
  {
   "metadata": {
    "ExecuteTime": {
     "end_time": "2025-03-19T11:55:25.962932Z",
     "start_time": "2025-03-19T11:55:11.735914Z"
    }
   },
   "cell_type": "code",
   "source": [
    "# model = AlternatingLeastSquares(factors=100, regularization=0.01, iterations=50, calculate_training_loss=True)\n",
    "model = AlternatingLeastSquares(**best_params)\n",
    "model.fit(user_item_matrix)"
   ],
   "id": "8d92a5eb69007dbd",
   "outputs": [
    {
     "name": "stderr",
     "output_type": "stream",
     "text": [
      "100%|██████████| 50/50 [00:14<00:00,  3.54it/s, loss=0.000636]\n"
     ]
    }
   ],
   "execution_count": 9
  },
  {
   "metadata": {
    "ExecuteTime": {
     "end_time": "2025-03-19T12:27:05.685159Z",
     "start_time": "2025-03-19T12:26:51.379624Z"
    }
   },
   "cell_type": "code",
   "source": [
    "predictions = []\n",
    "for _, row in test_data.iterrows():\n",
    "    user_id = row['user_id']\n",
    "    track = row['track']\n",
    "    if user_id < model.user_factors.shape[0] and track < model.item_factors.shape[0]:\n",
    "        user_factor = model.user_factors[user_id]\n",
    "        item_factor = model.item_factors[track]\n",
    "        score = np.dot(user_factor, item_factor)\n",
    "    else:\n",
    "        score = 0\n",
    "    predictions.append(score)"
   ],
   "id": "d9c8a0018c502484",
   "outputs": [],
   "execution_count": 15
  },
  {
   "metadata": {
    "ExecuteTime": {
     "end_time": "2025-03-19T12:27:06.946243Z",
     "start_time": "2025-03-19T12:27:05.882115Z"
    }
   },
   "cell_type": "code",
   "source": [
    "test_data['score'] = predictions\n",
    "test_data[[\"user\", \"track\", \"score\"]].to_csv(\"./data/als/test_als_2.csv\", index=False)"
   ],
   "id": "648bf621a59adcfd",
   "outputs": [],
   "execution_count": 17
  },
  {
   "metadata": {},
   "cell_type": "code",
   "outputs": [],
   "execution_count": null,
   "source": "",
   "id": "8d5fee2f937735fa"
  },
  {
   "metadata": {},
   "cell_type": "code",
   "outputs": [],
   "execution_count": null,
   "source": "",
   "id": "f9fe8b2e0da9445a"
  },
  {
   "metadata": {},
   "cell_type": "code",
   "source": "",
   "id": "75439e7ed05aaf3b",
   "outputs": [],
   "execution_count": null
  },
  {
   "metadata": {},
   "cell_type": "code",
   "outputs": [],
   "execution_count": null,
   "source": "",
   "id": "c2f730ecf5cd6ae2"
  },
  {
   "metadata": {},
   "cell_type": "code",
   "outputs": [],
   "execution_count": null,
   "source": "",
   "id": "e92361f32e8c8f91"
  },
  {
   "metadata": {},
   "cell_type": "code",
   "outputs": [],
   "execution_count": null,
   "source": "",
   "id": "b759dccd188376b1"
  },
  {
   "metadata": {},
   "cell_type": "code",
   "outputs": [],
   "execution_count": null,
   "source": "",
   "id": "a426df682ca9cc8c"
  },
  {
   "metadata": {},
   "cell_type": "code",
   "outputs": [],
   "execution_count": null,
   "source": "",
   "id": "e2399c656a78c012"
  },
  {
   "metadata": {},
   "cell_type": "code",
   "outputs": [],
   "execution_count": null,
   "source": "",
   "id": "e443bd399016b84d"
  },
  {
   "metadata": {},
   "cell_type": "code",
   "outputs": [],
   "execution_count": null,
   "source": "",
   "id": "193e72c9f9d5fbd9"
  },
  {
   "metadata": {},
   "cell_type": "code",
   "outputs": [],
   "execution_count": null,
   "source": [
    "import pandas as pd\n",
    "import numpy as np\n",
    "from scipy.sparse import csr_matrix\n",
    "from implicit.als import AlternatingLeastSquares\n",
    "\n",
    "# Загрузка данных\n",
    "train_data = pd.read_csv('train.csv')\n",
    "test_data = pd.read_csv('test.csv')\n",
    "\n",
    "# Создание словарей для маппинга пользователей и треков\n",
    "user_ids = train_data['user'].unique()\n",
    "track_ids = train_data['track'].unique()\n",
    "user_map = {id: i for i, id in enumerate(user_ids)}\n",
    "track_map = {id: i for i, id in enumerate(track_ids)}\n",
    "\n",
    "# Преобразование данных\n",
    "train_data['user_id'] = train_data['user'].map(user_map)\n",
    "train_data['track_id'] = train_data['track'].map(track_map)\n",
    "test_data['user_id'] = test_data['user'].map(user_map)\n",
    "test_data['track_id'] = test_data['track'].map(track_map)\n",
    "\n",
    "# Создание разреженной матрицы взаимодействий\n",
    "user_item_matrix = csr_matrix((train_data['time'], (train_data['user_id'], train_data['track_id'])))\n",
    "\n",
    "# Инициализация и обучение модели\n",
    "model = AlternatingLeastSquares(factors=100, regularization=0.01, iterations=50, calculate_training_loss=True)\n",
    "model.fit(user_item_matrix)\n",
    "\n",
    "# Функция для получения рекомендаций\n",
    "def get_recommendations(model, user_id, n=10):\n",
    "    user_items = user_item_matrix[user_map[user_id]].toarray()\n",
    "    recommendations = model.recommend(user_map[user_id], user_items, N=n, filter_already_liked_items=False)\n",
    "    return [track_ids[track_id] for track_id, _ in recommendations]\n",
    "\n",
    "# Генерация рекомендаций для тестовых пользователей\n",
    "test_users = test_data['user'].unique()\n",
    "recommendations = {}\n",
    "\n",
    "for user in test_users:\n",
    "    recommendations[user] = get_recommendations(model, user)\n",
    "\n",
    "# Подготовка результатов для отправки\n",
    "results = []\n",
    "for _, row in test_data.iterrows():\n",
    "    user = row['user']\n",
    "    track = row['track']\n",
    "    if track in recommendations[user]:\n",
    "        results.append((user, track, recommendations[user].index(track) + 1))\n",
    "    else:\n",
    "        results.append((user, track, len(recommendations[user]) + 1))\n",
    "\n",
    "submission_df = pd.DataFrame(results, columns=['user', 'track', 'rank'])\n",
    "submission_df.to_csv('submission.csv', index=False)\n"
   ],
   "id": "88a59d4eb8378371"
  }
 ],
 "metadata": {
  "kernelspec": {
   "display_name": "Python 3",
   "language": "python",
   "name": "python3"
  },
  "language_info": {
   "codemirror_mode": {
    "name": "ipython",
    "version": 2
   },
   "file_extension": ".py",
   "mimetype": "text/x-python",
   "name": "python",
   "nbconvert_exporter": "python",
   "pygments_lexer": "ipython2",
   "version": "2.7.6"
  }
 },
 "nbformat": 4,
 "nbformat_minor": 5
}
