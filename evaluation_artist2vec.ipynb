{
 "cells": [
  {
   "cell_type": "code",
   "execution_count": 1,
   "metadata": {
    "collapsed": true
   },
   "outputs": [],
   "source": [
    "from collections import namedtuple\n",
    "\n",
    "import pandas as pd\n",
    "import numpy as np\n",
    "import scipy.stats as ss\n",
    "\n",
    "import matplotlib.pyplot as plt\n",
    "import glob\n",
    "from pathlib import Path\n",
    "import os\n",
    "\n",
    "%matplotlib inline"
   ]
  },
  {
   "cell_type": "code",
   "execution_count": 2,
   "metadata": {},
   "outputs": [],
   "source": [
    "data = pd.concat([\n",
    "    pd.read_json(data_path, lines=True)\n",
    "    for data_path\n",
    "    in glob.glob(\"./data/*/data.json*\")\n",
    "])\n",
    "\n",
    "experiment = \"ARTIST2VEC\"\n",
    "data[\"treatment\"] = data[\"experiments\"].map(lambda experiments: experiments[experiment])"
   ]
  },
  {
   "cell_type": "code",
   "execution_count": 3,
   "metadata": {},
   "outputs": [
    {
     "data": {
      "text/html": [
       "<div>\n",
       "<style scoped>\n",
       "    .dataframe tbody tr th:only-of-type {\n",
       "        vertical-align: middle;\n",
       "    }\n",
       "\n",
       "    .dataframe tbody tr th {\n",
       "        vertical-align: top;\n",
       "    }\n",
       "\n",
       "    .dataframe thead th {\n",
       "        text-align: right;\n",
       "    }\n",
       "</style>\n",
       "<table border=\"1\" class=\"dataframe\">\n",
       "  <thead>\n",
       "    <tr style=\"text-align: right;\">\n",
       "      <th></th>\n",
       "      <th>message</th>\n",
       "      <th>timestamp</th>\n",
       "      <th>user</th>\n",
       "      <th>track</th>\n",
       "      <th>time</th>\n",
       "      <th>latency</th>\n",
       "      <th>recommendation</th>\n",
       "      <th>experiments</th>\n",
       "      <th>treatment</th>\n",
       "    </tr>\n",
       "  </thead>\n",
       "  <tbody>\n",
       "    <tr>\n",
       "      <th>0</th>\n",
       "      <td>next</td>\n",
       "      <td>2025-04-27 12:29:41.370</td>\n",
       "      <td>6733</td>\n",
       "      <td>37799</td>\n",
       "      <td>1.0</td>\n",
       "      <td>0.012983</td>\n",
       "      <td>47147.0</td>\n",
       "      <td>{'ARTIST2VEC': 'T1'}</td>\n",
       "      <td>T1</td>\n",
       "    </tr>\n",
       "    <tr>\n",
       "      <th>1</th>\n",
       "      <td>next</td>\n",
       "      <td>2025-04-27 12:29:41.378</td>\n",
       "      <td>6733</td>\n",
       "      <td>47147</td>\n",
       "      <td>0.0</td>\n",
       "      <td>0.001110</td>\n",
       "      <td>38835.0</td>\n",
       "      <td>{'ARTIST2VEC': 'T1'}</td>\n",
       "      <td>T1</td>\n",
       "    </tr>\n",
       "    <tr>\n",
       "      <th>2</th>\n",
       "      <td>next</td>\n",
       "      <td>2025-04-27 12:29:41.382</td>\n",
       "      <td>6733</td>\n",
       "      <td>38835</td>\n",
       "      <td>0.0</td>\n",
       "      <td>0.000805</td>\n",
       "      <td>45285.0</td>\n",
       "      <td>{'ARTIST2VEC': 'T1'}</td>\n",
       "      <td>T1</td>\n",
       "    </tr>\n",
       "  </tbody>\n",
       "</table>\n",
       "</div>"
      ],
      "text/plain": [
       "  message               timestamp  user  track  time   latency  \\\n",
       "0    next 2025-04-27 12:29:41.370  6733  37799   1.0  0.012983   \n",
       "1    next 2025-04-27 12:29:41.378  6733  47147   0.0  0.001110   \n",
       "2    next 2025-04-27 12:29:41.382  6733  38835   0.0  0.000805   \n",
       "\n",
       "   recommendation           experiments treatment  \n",
       "0         47147.0  {'ARTIST2VEC': 'T1'}        T1  \n",
       "1         38835.0  {'ARTIST2VEC': 'T1'}        T1  \n",
       "2         45285.0  {'ARTIST2VEC': 'T1'}        T1  "
      ]
     },
     "execution_count": 3,
     "metadata": {},
     "output_type": "execute_result"
    }
   ],
   "source": [
    "data.head(3)"
   ]
  },
  {
   "cell_type": "code",
   "execution_count": 4,
   "metadata": {},
   "outputs": [
    {
     "data": {
      "text/plain": [
       "{'ARTIST2VEC': 'T1'}    144672\n",
       "{'ARTIST2VEC': 'C'}     125399\n",
       "Name: experiments, dtype: int64"
      ]
     },
     "execution_count": 4,
     "metadata": {},
     "output_type": "execute_result"
    }
   ],
   "source": [
    "data[\"experiments\"].value_counts()"
   ]
  },
  {
   "cell_type": "code",
   "execution_count": 5,
   "metadata": {},
   "outputs": [],
   "source": [
    "# in C - sticky artysts, in T1 - Artist2Vec"
   ]
  },
  {
   "cell_type": "markdown",
   "metadata": {},
   "source": [
    "## Visualize sessions"
   ]
  },
  {
   "cell_type": "code",
   "execution_count": 6,
   "metadata": {},
   "outputs": [],
   "source": [
    "Session = namedtuple(\"Session\", [\"timestamp\", \"tracks\", \"time\", \"latency\"])\n",
    "\n",
    "def sessionize(user_data):\n",
    "    sessions = []\n",
    "    session = None\n",
    "    for _, row in user_data.sort_values(\"timestamp\").iterrows():\n",
    "        if session is None:\n",
    "            session = Session(row[\"timestamp\"], 0, 0, 0)\n",
    "        \n",
    "        session = session._replace(\n",
    "            tracks = session.tracks + 1, \n",
    "            time = session.time + row[\"time\"],\n",
    "            latency = session.latency + row[\"latency\"] * 1000,\n",
    "        )\n",
    "        \n",
    "        if row[\"message\"] == \"last\":\n",
    "            sessions.append(session._asdict())\n",
    "            session = None\n",
    "    return sessions\n",
    "\n",
    "sessions = (\n",
    "    data\n",
    "    .groupby([\"user\", \"treatment\"])\n",
    "    .apply(sessionize)\n",
    "    .explode()\n",
    "    .apply(pd.Series)\n",
    ")"
   ]
  },
  {
   "cell_type": "code",
   "execution_count": 7,
   "metadata": {},
   "outputs": [
    {
     "data": {
      "image/png": "[encoded data removed]",
      "text/plain": [
       "<Figure size 1500x500 with 1 Axes>"
      ]
     },
     "metadata": {},
     "output_type": "display_data"
    }
   ],
   "source": [
    "figure, ax = plt.subplots(figsize=(15, 5))\n",
    "for treatment, treatment_sessions in sessions.groupby(\"treatment\"):\n",
    "    reindexed_treatment_sessions = treatment_sessions.sort_values(\"timestamp\").reset_index()\n",
    "    ax.plot(reindexed_treatment_sessions.index, reindexed_treatment_sessions[\"tracks\"], label=treatment)\n",
    "ax.legend()\n",
    "pass"
   ]
  },
  {
   "cell_type": "markdown",
   "metadata": {},
   "source": [
    "## Analyze experiment"
   ]
  },
  {
   "cell_type": "code",
   "execution_count": 8,
   "metadata": {
    "collapsed": true,
    "jupyter": {
     "outputs_hidden": true
    }
   },
   "outputs": [],
   "source": [
    "user_level_data = (\n",
    "  sessions\n",
    "    .reset_index()\n",
    "    .groupby([\"user\", \"treatment\"])\n",
    "    .agg(\n",
    "        {\n",
    "            \"timestamp\": \"count\",\n",
    "            \"tracks\": \"sum\",\n",
    "            \"time\": \"sum\",\n",
    "            \"latency\": \"sum\"\n",
    "        }\n",
    "    )\n",
    ")\n",
    "\n",
    "user_level_data[\"sessions\"] = user_level_data[\"timestamp\"]\n",
    "user_level_data[\"mean_request_latency\"] = user_level_data[\"latency\"] / user_level_data[\"tracks\"]\n",
    "user_level_data[\"mean_tracks_per_session\"] = user_level_data[\"tracks\"] / user_level_data[\"sessions\"]\n",
    "user_level_data[\"mean_time_per_session\"] = user_level_data[\"time\"] / user_level_data[\"sessions\"]\n",
    "\n",
    "metrics = [\n",
    "    \"time\", \n",
    "    \"sessions\", \n",
    "    \"mean_request_latency\", \n",
    "    \"mean_tracks_per_session\", \n",
    "    \"mean_time_per_session\"\n",
    "]\n",
    "\n",
    "user_level_metrics = user_level_data[metrics].copy().reset_index()"
   ]
  },
  {
   "cell_type": "code",
   "execution_count": 9,
   "metadata": {
    "collapsed": true,
    "jupyter": {
     "outputs_hidden": true
    }
   },
   "outputs": [],
   "source": [
    "treatment_level_metrics = (\n",
    "    user_level_metrics\n",
    "    .groupby(\"treatment\")[metrics]\n",
    "    .agg([\"count\", \"mean\", \"var\"])\n",
    ")"
   ]
  },
  {
   "cell_type": "code",
   "execution_count": 10,
   "metadata": {},
   "outputs": [],
   "source": [
    "def dof(n_0, n_1, s2_0, s2_1):\n",
    "    numerator = (s2_0 / n_0 + s2_1 / n_1) * (s2_0 / n_0 + s2_1 / n_1)\n",
    "    denominator = s2_0 * s2_0 / n_0 / n_0 / (n_0 - 1) + s2_1 * s2_1 / n_1 / n_1 / (n_1 - 1)\n",
    "    return numerator / denominator\n",
    "\n",
    "\n",
    "def ci(n_0, n_1, s2_0, s2_1, alpha=0.05):\n",
    "    return ss.t.ppf(1 - alpha/2, dof(n_0, n_1, s2_0, s2_1)) * np.sqrt(s2_0 / n_0 + s2_1 / n_1)\n",
    "\n",
    "\n",
    "effects = []\n",
    "\n",
    "control = [data for treatment, data in treatment_level_metrics.iterrows() if treatment == \"C\"][0]\n",
    "\n",
    "for treatment, row in treatment_level_metrics.iterrows():\n",
    "    if treatment == \"C\":\n",
    "        continue\n",
    "    \n",
    "    for metric in metrics:\n",
    "        control_mean = control[metric][\"mean\"]\n",
    "        treatment_mean = row[metric][\"mean\"]\n",
    "        \n",
    "        effect = treatment_mean - control_mean\n",
    "        conf_int = ci(\n",
    "            control[metric][\"count\"],\n",
    "            row[metric][\"count\"],\n",
    "            control[metric][\"var\"],\n",
    "            row[metric][\"var\"],\n",
    "        )\n",
    "        effects.append({\n",
    "            \"treatment\": treatment,\n",
    "            \"metric\": metric,\n",
    "            \"control_mean\": control_mean,\n",
    "            \"treatment_mean\": treatment_mean,\n",
    "            \"effect\": effect / control_mean * 100,\n",
    "            \"lower\": (effect - conf_int) / control_mean * 100,\n",
    "            \"upper\": (effect + conf_int) / control_mean * 100,\n",
    "            \"significant\": (effect + conf_int) * (effect - conf_int) > 0\n",
    "        })"
   ]
  },
  {
   "cell_type": "code",
   "execution_count": 11,
   "metadata": {},
   "outputs": [
    {
     "data": {
      "text/html": [
       "<style type=\"text/css\">\n",
       "#T_4055b_row0_col2, #T_4055b_row0_col3, #T_4055b_row0_col4, #T_4055b_row1_col2, #T_4055b_row1_col3, #T_4055b_row2_col2, #T_4055b_row2_col3, #T_4055b_row2_col4, #T_4055b_row3_col2, #T_4055b_row3_col3, #T_4055b_row3_col4, #T_4055b_row4_col2, #T_4055b_row4_col3, #T_4055b_row4_col4 {\n",
       "  color: green;\n",
       "}\n",
       "#T_4055b_row0_col7, #T_4055b_row2_col7, #T_4055b_row3_col7, #T_4055b_row4_col7 {\n",
       "  color: white;\n",
       "  background-color: green;\n",
       "}\n",
       "#T_4055b_row1_col4 {\n",
       "  color: red;\n",
       "}\n",
       "#T_4055b_row1_col7 {\n",
       "  color: white;\n",
       "  background-color: red;\n",
       "}\n",
       "</style>\n",
       "<table id=\"T_4055b\">\n",
       "  <thead>\n",
       "    <tr>\n",
       "      <th class=\"blank level0\" >&nbsp;</th>\n",
       "      <th id=\"T_4055b_level0_col0\" class=\"col_heading level0 col0\" >treatment</th>\n",
       "      <th id=\"T_4055b_level0_col1\" class=\"col_heading level0 col1\" >metric</th>\n",
       "      <th id=\"T_4055b_level0_col2\" class=\"col_heading level0 col2\" >effect</th>\n",
       "      <th id=\"T_4055b_level0_col3\" class=\"col_heading level0 col3\" >upper</th>\n",
       "      <th id=\"T_4055b_level0_col4\" class=\"col_heading level0 col4\" >lower</th>\n",
       "      <th id=\"T_4055b_level0_col5\" class=\"col_heading level0 col5\" >control_mean</th>\n",
       "      <th id=\"T_4055b_level0_col6\" class=\"col_heading level0 col6\" >treatment_mean</th>\n",
       "      <th id=\"T_4055b_level0_col7\" class=\"col_heading level0 col7\" >significant</th>\n",
       "    </tr>\n",
       "  </thead>\n",
       "  <tbody>\n",
       "    <tr>\n",
       "      <th id=\"T_4055b_level0_row0\" class=\"row_heading level0 row0\" >0</th>\n",
       "      <td id=\"T_4055b_row0_col0\" class=\"data row0 col0\" >T1</td>\n",
       "      <td id=\"T_4055b_row0_col1\" class=\"data row0 col1\" >time</td>\n",
       "      <td id=\"T_4055b_row0_col2\" class=\"data row0 col2\" >42.254830</td>\n",
       "      <td id=\"T_4055b_row0_col3\" class=\"data row0 col3\" >46.442023</td>\n",
       "      <td id=\"T_4055b_row0_col4\" class=\"data row0 col4\" >38.067638</td>\n",
       "      <td id=\"T_4055b_row0_col5\" class=\"data row0 col5\" >9.780179</td>\n",
       "      <td id=\"T_4055b_row0_col6\" class=\"data row0 col6\" >13.912777</td>\n",
       "      <td id=\"T_4055b_row0_col7\" class=\"data row0 col7\" >True</td>\n",
       "    </tr>\n",
       "    <tr>\n",
       "      <th id=\"T_4055b_level0_row1\" class=\"row_heading level0 row1\" >1</th>\n",
       "      <td id=\"T_4055b_row1_col0\" class=\"data row1 col0\" >T1</td>\n",
       "      <td id=\"T_4055b_row1_col1\" class=\"data row1 col1\" >sessions</td>\n",
       "      <td id=\"T_4055b_row1_col2\" class=\"data row1 col2\" >0.124647</td>\n",
       "      <td id=\"T_4055b_row1_col3\" class=\"data row1 col3\" >2.151690</td>\n",
       "      <td id=\"T_4055b_row1_col4\" class=\"data row1 col4\" >-1.902397</td>\n",
       "      <td id=\"T_4055b_row1_col5\" class=\"data row1 col5\" >3.283719</td>\n",
       "      <td id=\"T_4055b_row1_col6\" class=\"data row1 col6\" >3.287812</td>\n",
       "      <td id=\"T_4055b_row1_col7\" class=\"data row1 col7\" >False</td>\n",
       "    </tr>\n",
       "    <tr>\n",
       "      <th id=\"T_4055b_level0_row2\" class=\"row_heading level0 row2\" >3</th>\n",
       "      <td id=\"T_4055b_row2_col0\" class=\"data row2 col0\" >T1</td>\n",
       "      <td id=\"T_4055b_row2_col1\" class=\"data row2 col1\" >mean_tracks_per_session</td>\n",
       "      <td id=\"T_4055b_row2_col2\" class=\"data row2 col2\" >15.843639</td>\n",
       "      <td id=\"T_4055b_row2_col3\" class=\"data row2 col3\" >17.137105</td>\n",
       "      <td id=\"T_4055b_row2_col4\" class=\"data row2 col4\" >14.550173</td>\n",
       "      <td id=\"T_4055b_row2_col5\" class=\"data row2 col5\" >7.960887</td>\n",
       "      <td id=\"T_4055b_row2_col6\" class=\"data row2 col6\" >9.222181</td>\n",
       "      <td id=\"T_4055b_row2_col7\" class=\"data row2 col7\" >True</td>\n",
       "    </tr>\n",
       "    <tr>\n",
       "      <th id=\"T_4055b_level0_row3\" class=\"row_heading level0 row3\" >4</th>\n",
       "      <td id=\"T_4055b_row3_col0\" class=\"data row3 col0\" >T1</td>\n",
       "      <td id=\"T_4055b_row3_col1\" class=\"data row3 col1\" >mean_time_per_session</td>\n",
       "      <td id=\"T_4055b_row3_col2\" class=\"data row3 col2\" >42.356708</td>\n",
       "      <td id=\"T_4055b_row3_col3\" class=\"data row3 col3\" >45.710084</td>\n",
       "      <td id=\"T_4055b_row3_col4\" class=\"data row3 col4\" >39.003333</td>\n",
       "      <td id=\"T_4055b_row3_col5\" class=\"data row3 col5\" >2.970076</td>\n",
       "      <td id=\"T_4055b_row3_col6\" class=\"data row3 col6\" >4.228103</td>\n",
       "      <td id=\"T_4055b_row3_col7\" class=\"data row3 col7\" >True</td>\n",
       "    </tr>\n",
       "    <tr>\n",
       "      <th id=\"T_4055b_level0_row4\" class=\"row_heading level0 row4\" >2</th>\n",
       "      <td id=\"T_4055b_row4_col0\" class=\"data row4 col0\" >T1</td>\n",
       "      <td id=\"T_4055b_row4_col1\" class=\"data row4 col1\" >mean_request_latency</td>\n",
       "      <td id=\"T_4055b_row4_col2\" class=\"data row4 col2\" >180.306295</td>\n",
       "      <td id=\"T_4055b_row4_col3\" class=\"data row4 col3\" >184.001218</td>\n",
       "      <td id=\"T_4055b_row4_col4\" class=\"data row4 col4\" >176.611372</td>\n",
       "      <td id=\"T_4055b_row4_col5\" class=\"data row4 col5\" >0.434663</td>\n",
       "      <td id=\"T_4055b_row4_col6\" class=\"data row4 col6\" >1.218387</td>\n",
       "      <td id=\"T_4055b_row4_col7\" class=\"data row4 col7\" >True</td>\n",
       "    </tr>\n",
       "  </tbody>\n",
       "</table>\n"
      ],
      "text/plain": [
       "<pandas.io.formats.style.Styler at 0x3485abb00>"
      ]
     },
     "execution_count": 11,
     "metadata": {},
     "output_type": "execute_result"
    }
   ],
   "source": [
    "def color(value):\n",
    "    return 'color:red;' if value < 0 else 'color:green;'\n",
    "\n",
    "def background(value):\n",
    "    return 'color:white;background-color:green' if value else 'color:white;background-color:red'\n",
    "        \n",
    "\n",
    "(\n",
    "    pd.DataFrame(effects)[[\n",
    "        \"treatment\", \n",
    "        \"metric\",\n",
    "        \"effect\", \n",
    "        \"upper\", \n",
    "        \"lower\", \n",
    "        \"control_mean\", \n",
    "        \"treatment_mean\",\n",
    "        \"significant\"\n",
    "    ]]\n",
    "    .sort_values([\"metric\", \"treatment\"], ascending=False)\n",
    "    .style\n",
    "    .applymap(color, subset=[\"effect\", \"upper\", \"lower\"])\n",
    "    .applymap(background, subset=[\"significant\"])\n",
    ")"
   ]
  },
  {
   "cell_type": "code",
   "execution_count": null,
   "metadata": {},
   "outputs": [],
   "source": []
  },
  {
   "cell_type": "code",
   "execution_count": null,
   "metadata": {},
   "outputs": [],
   "source": []
  }
 ],
 "metadata": {
  "kernelspec": {
   "display_name": "Python (base)",
   "language": "python",
   "name": "base"
  },
  "language_info": {
   "codemirror_mode": {
    "name": "ipython",
    "version": 3
   },
   "file_extension": ".py",
   "mimetype": "text/x-python",
   "name": "python",
   "nbconvert_exporter": "python",
   "pygments_lexer": "ipython3",
   "version": "3.12.2"
  }
 },
 "nbformat": 4,
 "nbformat_minor": 4
}
