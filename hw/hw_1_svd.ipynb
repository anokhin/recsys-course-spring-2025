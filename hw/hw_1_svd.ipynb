{
 "cells": [
  {
   "cell_type": "code",
   "id": "initial_id",
   "metadata": {
    "collapsed": true,
    "ExecuteTime": {
     "end_time": "2025-03-19T09:52:13.844890Z",
     "start_time": "2025-03-19T09:52:13.841129Z"
    }
   },
   "source": [
    "import surprise\n",
    "from surprise import SVDpp, Dataset, Reader\n",
    "from surprise.model_selection import train_test_split, cross_validate"
   ],
   "outputs": [],
   "execution_count": 11
  },
  {
   "metadata": {
    "ExecuteTime": {
     "end_time": "2025-03-19T09:32:55.815026Z",
     "start_time": "2025-03-19T09:32:55.750249Z"
    }
   },
   "cell_type": "code",
   "source": [
    "import pandas as pd\n",
    "import numpy as np\n",
    "\n",
    "import scipy.stats as ss\n",
    "from sklearn.metrics import ndcg_score"
   ],
   "id": "4686110a1aff7e7f",
   "outputs": [],
   "execution_count": 2
  },
  {
   "metadata": {
    "ExecuteTime": {
     "end_time": "2025-03-19T09:32:57.132576Z",
     "start_time": "2025-03-19T09:32:56.038334Z"
    }
   },
   "cell_type": "code",
   "source": [
    "wsl_train_path = \"/mnt/c/Users/denis/PycharmProjects/recsys-course-spring-2025/hw/train.csv\"\n",
    "wsl_test_path = \"/mnt/c/Users/denis/PycharmProjects/recsys-course-spring-2025/hw/test.csv\"\n",
    "train_data = pd.read_csv(wsl_train_path)\n",
    "test_data = pd.read_csv(wsl_test_path)"
   ],
   "id": "92259fcf88685ae9",
   "outputs": [],
   "execution_count": 3
  },
  {
   "metadata": {
    "ExecuteTime": {
     "end_time": "2025-03-19T09:33:20.594163Z",
     "start_time": "2025-03-19T09:33:20.508100Z"
    }
   },
   "cell_type": "code",
   "source": "user_id_map = {id: i for i, id in enumerate(train_data['user'].unique())}",
   "id": "a0cb6287981bc8a1",
   "outputs": [],
   "execution_count": 4
  },
  {
   "metadata": {
    "ExecuteTime": {
     "end_time": "2025-03-19T09:33:20.954816Z",
     "start_time": "2025-03-19T09:33:20.640796Z"
    }
   },
   "cell_type": "code",
   "source": [
    "train_data[\"user_id\"] = train_data[\"user\"].map(user_id_map).map(int)\n",
    "test_data[\"user_id\"] = test_data[\"user\"].map(user_id_map).map(int)"
   ],
   "id": "e9a2f682e38acdb6",
   "outputs": [],
   "execution_count": 5
  },
  {
   "metadata": {
    "ExecuteTime": {
     "end_time": "2025-03-19T09:50:58.272787Z",
     "start_time": "2025-03-19T09:50:58.190815Z"
    }
   },
   "cell_type": "code",
   "source": "",
   "id": "650b7f763bce6bf6",
   "outputs": [],
   "execution_count": null
  },
  {
   "metadata": {
    "ExecuteTime": {
     "end_time": "2025-03-19T10:06:20.319300Z",
     "start_time": "2025-03-19T10:06:19.469440Z"
    }
   },
   "cell_type": "code",
   "source": [
    "reader = Reader(rating_scale=(0, 1))\n",
    "data = Dataset.load_from_df(train_data[['user_id', 'track', 'time']], reader)"
   ],
   "id": "ccc855013e3a74f3",
   "outputs": [],
   "execution_count": 21
  },
  {
   "metadata": {
    "ExecuteTime": {
     "end_time": "2025-03-19T10:07:51.994176Z",
     "start_time": "2025-03-19T10:07:51.989540Z"
    }
   },
   "cell_type": "code",
   "source": "model = SVDpp(n_factors=100, n_epochs=20, lr_all=0.005, reg_all=0.02, verbose=True)",
   "id": "e8afd0229c6da5df",
   "outputs": [],
   "execution_count": 24
  },
  {
   "metadata": {
    "ExecuteTime": {
     "end_time": "2025-03-19T11:27:10.554339Z",
     "start_time": "2025-03-19T10:07:52.112945Z"
    }
   },
   "cell_type": "code",
   "source": "model.fit(data.build_full_trainset())",
   "id": "1066bef0b6614d63",
   "outputs": [
    {
     "name": "stdout",
     "output_type": "stream",
     "text": [
      " processing epoch 0\n",
      " processing epoch 1\n",
      " processing epoch 2\n",
      " processing epoch 3\n",
      " processing epoch 4\n",
      " processing epoch 5\n",
      " processing epoch 6\n",
      " processing epoch 7\n",
      " processing epoch 8\n",
      " processing epoch 9\n",
      " processing epoch 10\n",
      " processing epoch 11\n",
      " processing epoch 12\n",
      " processing epoch 13\n",
      " processing epoch 14\n",
      " processing epoch 15\n",
      " processing epoch 16\n",
      " processing epoch 17\n",
      " processing epoch 18\n",
      " processing epoch 19\n"
     ]
    },
    {
     "data": {
      "text/plain": [
       "<surprise.prediction_algorithms.matrix_factorization.SVDpp at 0x7fc6c9272790>"
      ]
     },
     "execution_count": 25,
     "metadata": {},
     "output_type": "execute_result"
    }
   ],
   "execution_count": 25
  },
  {
   "metadata": {},
   "cell_type": "code",
   "outputs": [],
   "execution_count": null,
   "source": [
    "# predictions = model.predict(svd, test, usercol=\"userID\", itemcol=\"itemID\")\n",
    "# predictions.head()"
   ],
   "id": "2bb9178579a2d2f8"
  },
  {
   "metadata": {
    "ExecuteTime": {
     "end_time": "2025-03-19T11:31:02.648468Z",
     "start_time": "2025-03-19T11:30:19.086095Z"
    }
   },
   "cell_type": "code",
   "source": [
    "predictions = [\n",
    "    model.predict(uid, iid).est\n",
    "    for _, (uid, iid) in test_data[['user_id', 'track']].iterrows()\n",
    "]"
   ],
   "id": "6b693bbd274c9e16",
   "outputs": [],
   "execution_count": 27
  },
  {
   "metadata": {
    "ExecuteTime": {
     "end_time": "2025-03-19T11:31:02.862533Z",
     "start_time": "2025-03-19T11:31:02.799602Z"
    }
   },
   "cell_type": "code",
   "source": "np.count_nonzero(np.array(predictions)) / len(predictions)",
   "id": "fc1bc9bac62630d4",
   "outputs": [
    {
     "data": {
      "text/plain": [
       "0.989779197902585"
      ]
     },
     "execution_count": 29,
     "metadata": {},
     "output_type": "execute_result"
    }
   ],
   "execution_count": 29
  },
  {
   "metadata": {
    "ExecuteTime": {
     "end_time": "2025-03-19T11:31:04.366077Z",
     "start_time": "2025-03-19T11:31:02.982217Z"
    }
   },
   "cell_type": "code",
   "source": [
    "test_data['score'] = predictions\n",
    "test_data[[\"user\", \"track\", \"score\"]].to_csv(\"./data/svd/test_svd_1.csv\", index=False)"
   ],
   "id": "fdb1abc3abcad29d",
   "outputs": [],
   "execution_count": 30
  },
  {
   "metadata": {},
   "cell_type": "code",
   "outputs": [],
   "execution_count": null,
   "source": "",
   "id": "20d2830cb8cc13ed"
  },
  {
   "metadata": {},
   "cell_type": "code",
   "outputs": [],
   "execution_count": null,
   "source": "",
   "id": "39a8c826811fba00"
  },
  {
   "metadata": {},
   "cell_type": "code",
   "outputs": [],
   "execution_count": null,
   "source": "",
   "id": "59f9b9d43187f947"
  },
  {
   "metadata": {},
   "cell_type": "code",
   "outputs": [],
   "execution_count": null,
   "source": "",
   "id": "ba23aeb517b19686"
  },
  {
   "metadata": {},
   "cell_type": "code",
   "outputs": [],
   "execution_count": null,
   "source": "",
   "id": "6c5996e52059cdd1"
  },
  {
   "metadata": {},
   "cell_type": "code",
   "outputs": [],
   "execution_count": null,
   "source": "",
   "id": "903240e535d190c2"
  },
  {
   "metadata": {},
   "cell_type": "code",
   "outputs": [],
   "execution_count": null,
   "source": "",
   "id": "8bcbb4a5966d550"
  },
  {
   "metadata": {},
   "cell_type": "code",
   "outputs": [],
   "execution_count": null,
   "source": [
    "import pandas as pd\n",
    "import numpy as np\n",
    "from scipy.sparse import csr_matrix\n",
    "from sklearn.model_selection import train_test_split\n",
    "from surprise import SVDpp, Dataset, Reader\n",
    "from surprise.model_selection import train_test_split as surprise_train_test_split\n",
    "from surprise.accuracy import ndcg_at_k\n",
    "\n",
    "# Загрузка данных\n",
    "train_df = pd.read_csv('train.csv')\n",
    "test_df = pd.read_csv('test.csv')\n",
    "\n",
    "# Подготовка данных для Surprise\n",
    "reader = Reader(rating_scale=(0, 1))\n",
    "data = Dataset.load_from_df(train_df[['user', 'track', 'time']], reader)\n",
    "\n",
    "# Разделение данных на обучающую и валидационную выборки\n",
    "trainset, validset = surprise_train_test_split(data, test_size=0.2, random_state=42)\n",
    "\n",
    "# Инициализация и обучение модели SVD++\n",
    "model = SVDpp(n_factors=100, n_epochs=20, lr_all=0.005, reg_all=0.02)\n",
    "model.fit(trainset)\n",
    "\n",
    "# Функция для получения рекомендаций\n",
    "def get_recommendations(model, user_id, n=10):\n",
    "    user_tracks = train_df[train_df['user'] == user_id]['track'].unique()\n",
    "    all_tracks = train_df['track'].unique()\n",
    "    tracks_to_predict = np.setdiff1d(all_tracks, user_tracks)\n",
    "    \n",
    "    predictions = [model.predict(user_id, track) for track in tracks_to_predict]\n",
    "    predictions.sort(key=lambda x: x.est, reverse=True)\n",
    "    \n",
    "    return [pred.iid for pred in predictions[:n]]\n",
    "\n",
    "# Генерация рекомендаций для тестовых пользователей\n",
    "test_users = test_df['user'].unique()\n",
    "recommendations = {}\n",
    "\n",
    "for user in test_users:\n",
    "    recommendations[user] = get_recommendations(model, user)\n",
    "\n",
    "# Подготовка результатов для отправки\n",
    "results = []\n",
    "for _, row in test_df.iterrows():\n",
    "    user = row['user']\n",
    "    track = row['track']\n",
    "    if track in recommendations[user]:\n",
    "        results.append((user, track, recommendations[user].index(track) + 1))\n",
    "    else:\n",
    "        results.append((user, track, len(recommendations[user]) + 1))\n",
    "\n",
    "submission_df = pd.DataFrame(results, columns=['user', 'track', 'rank'])\n",
    "submission_df.to_csv('submission.csv', index=False)\n",
    "\n",
    "# Оценка NDCG на валидационной выборке\n",
    "def calculate_ndcg(predictions, k=10):\n",
    "    user_est = defaultdict(list)\n",
    "    for uid, _, true_r, est, _ in predictions:\n",
    "        user_est[uid].append((true_r, est))\n",
    "    \n",
    "    ndcg_scores = []\n",
    "    for uid, user_ratings in user_est.items():\n",
    "        user_ratings.sort(key=lambda x: x[1], reverse=True)\n",
    "        ideal = sorted([r for r, _ in user_ratings], reverse=True)\n",
    "        predicted = [r for r, _ in user_ratings[:k]]\n",
    "        ndcg_scores.append(ndcg_at_k(ideal, predicted, k))\n",
    "    \n",
    "    return np.mean(ndcg_scores)\n",
    "\n",
    "predictions = model.test(validset)\n",
    "ndcg_score = calculate_ndcg(predictions)\n",
    "print(f\"NDCG@10 на валидационной выборке: {ndcg_score}\")\n"
   ],
   "id": "889ac5db8996d120"
  },
  {
   "metadata": {},
   "cell_type": "code",
   "outputs": [],
   "execution_count": null,
   "source": "",
   "id": "73ffbb5e8ccf963c"
  },
  {
   "metadata": {},
   "cell_type": "code",
   "outputs": [],
   "execution_count": null,
   "source": [
    "from surprise import SVDpp, Dataset, Reader\n",
    "from surprise.model_selection import train_test_split\n",
    "\n",
    "# Подготовка данных\n",
    "reader = Reader(rating_scale=(0, max_listening_time))\n",
    "data = Dataset.load_from_df(df[['user_id', 'track_id', 'listening_time']], reader)\n",
    "\n",
    "# Разделение на обучающую и тестовую выборки\n",
    "trainset, testset = train_test_split(data, test_size=0.2)\n",
    "\n",
    "# Инициализация и обучение модели\n",
    "model = SVDpp(n_factors=100, n_epochs=20, lr_all=0.005, reg_all=0.02)\n",
    "model.fit(trainset)\n",
    "\n",
    "# Получение рекомендаций\n",
    "predictions = model.test(testset)\n"
   ],
   "id": "4dedb40a59b83df2"
  }
 ],
 "metadata": {
  "kernelspec": {
   "display_name": "Python 3",
   "language": "python",
   "name": "python3"
  },
  "language_info": {
   "codemirror_mode": {
    "name": "ipython",
    "version": 2
   },
   "file_extension": ".py",
   "mimetype": "text/x-python",
   "name": "python",
   "nbconvert_exporter": "python",
   "pygments_lexer": "ipython2",
   "version": "2.7.6"
  }
 },
 "nbformat": 4,
 "nbformat_minor": 5
}
