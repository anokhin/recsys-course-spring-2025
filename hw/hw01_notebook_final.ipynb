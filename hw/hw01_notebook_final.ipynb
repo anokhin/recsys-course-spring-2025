{
 "cells": [
  {
   "cell_type": "code",
   "metadata": {
    "ExecuteTime": {
     "end_time": "2025-03-19T18:14:13.284810Z",
     "start_time": "2025-03-19T18:14:13.264081Z"
    }
   },
   "source": [
    "import pandas as pd\n",
    "import numpy as np\n",
    "\n",
    "from sklearn.ensemble import VotingRegressor"
   ],
   "outputs": [],
   "execution_count": 93
  },
  {
   "cell_type": "code",
   "metadata": {
    "ExecuteTime": {
     "end_time": "2025-03-19T18:14:14.209306Z",
     "start_time": "2025-03-19T18:14:13.326870Z"
    }
   },
   "source": [
    "lfm_test_df = pd.read_csv('./data/lfm/test_lfm_10.csv')\n",
    "lfm_test_pred = np.array(lfm_test_df['score'])\n",
    "lfm_test_pred_normalized = (lfm_test_pred - lfm_test_pred.mean()) / lfm_test_pred.std()"
   ],
   "outputs": [],
   "execution_count": 94
  },
  {
   "metadata": {
    "ExecuteTime": {
     "end_time": "2025-03-19T18:14:14.912814Z",
     "start_time": "2025-03-19T18:14:14.433363Z"
    }
   },
   "cell_type": "code",
   "source": [
    "svd_test_df = pd.read_csv('./data/svd/test_svd_1.csv')\n",
    "svd_test_pred = np.array(svd_test_df['score'])\n",
    "svd_test_pred_normalized = (svd_test_pred - svd_test_pred.mean()) / svd_test_pred.std()"
   ],
   "outputs": [],
   "execution_count": 95
  },
  {
   "metadata": {
    "ExecuteTime": {
     "end_time": "2025-03-19T18:14:15.369151Z",
     "start_time": "2025-03-19T18:14:14.935440Z"
    }
   },
   "cell_type": "code",
   "source": [
    "als_test_df = pd.read_csv('./data/als/test_als_2.csv')\n",
    "als_test_pred = np.array(als_test_df['score'])\n",
    "als_test_pred_normalized = (als_test_pred - als_test_pred.mean()) / als_test_pred.std()"
   ],
   "outputs": [],
   "execution_count": 96
  },
  {
   "metadata": {
    "ExecuteTime": {
     "end_time": "2025-03-19T18:14:15.821928Z",
     "start_time": "2025-03-19T18:14:15.389785Z"
    }
   },
   "cell_type": "code",
   "source": [
    "lambda_test_df = pd.read_csv('./data/lambda_r/test_lambda_r_1.csv')\n",
    "lambda_test_pred = np.array(lambda_test_df['score'])\n",
    "lambda_test_pred_normalized = (lambda_test_pred - lambda_test_pred.mean()) / lambda_test_pred.std()"
   ],
   "outputs": [],
   "execution_count": 97
  },
  {
   "cell_type": "code",
   "metadata": {
    "ExecuteTime": {
     "end_time": "2025-03-19T18:14:15.848658Z",
     "start_time": "2025-03-19T18:14:15.845382Z"
    }
   },
   "source": [
    "# lfm2_test_df = pd.read_csv('submission_v36.csv')\n",
    "# lfm2_test_pred = np.array(lfm2_test_df['score'])\n",
    "# lfm2_test_pred_normalized = (lfm2_test_pred - lfm2_test_pred.mean()) / lfm2_test_pred.std()"
   ],
   "outputs": [],
   "execution_count": 98
  },
  {
   "cell_type": "code",
   "metadata": {
    "ExecuteTime": {
     "end_time": "2025-03-19T18:14:15.900272Z",
     "start_time": "2025-03-19T18:14:15.895479Z"
    }
   },
   "source": [
    "new_scores = 0.5 * lambda_test_pred_normalized + 0.5 * lfm_test_pred_normalized\n",
    "\n",
    "# + 0.3 * lfm2_test_pred_normalized"
   ],
   "outputs": [],
   "execution_count": 99
  },
  {
   "cell_type": "code",
   "metadata": {
    "ExecuteTime": {
     "end_time": "2025-03-19T18:14:16.218524Z",
     "start_time": "2025-03-19T18:14:15.945600Z"
    }
   },
   "source": "test_df = pd.read_csv('test.csv')",
   "outputs": [],
   "execution_count": 100
  },
  {
   "cell_type": "code",
   "metadata": {
    "ExecuteTime": {
     "end_time": "2025-03-19T18:14:17.754483Z",
     "start_time": "2025-03-19T18:14:16.243933Z"
    }
   },
   "source": [
    "res_df = test_df[['user', 'track']].copy()\n",
    "res_df['score'] = new_scores\n",
    "res_df.to_csv('./data/sum/test_sum_7.csv', index=False)"
   ],
   "outputs": [],
   "execution_count": 101
  },
  {
   "cell_type": "code",
   "metadata": {
    "ExecuteTime": {
     "end_time": "2025-03-19T18:14:17.787884Z",
     "start_time": "2025-03-19T18:14:17.783718Z"
    }
   },
   "source": [
    "# v71 = 0.20 * svd + 0.80 * lfm\n",
    "# v72 = 0.25 * svd + 0.75 * lfm best\n",
    "# v73 = 0.30 * svd + 0.70 * lfm\n",
    "# v74 = 0.35 * svd + 0.65 * lfm\n",
    "# v75 = 0.40 * svd + 0.60 * lfm\n",
    "# v76 = 0.45 * svd + 0.55 * lfm\n",
    "# v77 = 0.50 * svd + 0.50 * lfm"
   ],
   "outputs": [],
   "execution_count": 102
  }
 ],
 "metadata": {
  "kernelspec": {
   "display_name": "recsys-course-v2",
   "language": "python",
   "name": "python3"
  },
  "language_info": {
   "codemirror_mode": {
    "name": "ipython",
    "version": 3
   },
   "file_extension": ".py",
   "mimetype": "text/x-python",
   "name": "python",
   "nbconvert_exporter": "python",
   "pygments_lexer": "ipython3",
   "version": "3.10.13"
  }
 },
 "nbformat": 4,
 "nbformat_minor": 2
}
