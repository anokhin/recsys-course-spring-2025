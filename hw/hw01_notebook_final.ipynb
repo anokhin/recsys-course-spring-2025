{
 "cells": [
  {
   "cell_type": "code",
   "metadata": {
    "ExecuteTime": {
     "end_time": "2025-03-26T15:02:49.869980Z",
     "start_time": "2025-03-26T15:02:49.865911Z"
    }
   },
   "source": [
    "import pandas as pd\n",
    "import numpy as np\n",
    "\n",
    "from sklearn.ensemble import VotingRegressor"
   ],
   "outputs": [],
   "execution_count": 455
  },
  {
   "cell_type": "code",
   "metadata": {
    "ExecuteTime": {
     "end_time": "2025-03-26T15:02:50.114011Z",
     "start_time": "2025-03-26T15:02:49.917788Z"
    }
   },
   "source": [
    "# lfm_test_df = pd.read_csv('./data/lfm/test_lfm_10.csv')\n",
    "lfm_test_df = pd.read_csv('./data/lfm/test_lfm_18.csv')\n",
    "lfm_test_pred = np.array(lfm_test_df['score'])\n",
    "lfm_test_pred_normalized = (lfm_test_pred - lfm_test_pred.mean()) / lfm_test_pred.std()"
   ],
   "outputs": [],
   "execution_count": 456
  },
  {
   "metadata": {
    "ExecuteTime": {
     "end_time": "2025-03-26T15:02:50.357185Z",
     "start_time": "2025-03-26T15:02:50.133555Z"
    }
   },
   "cell_type": "code",
   "source": [
    "svd_test_df = pd.read_csv('./data/svd/test_svd_1.csv')\n",
    "svd_test_pred = np.array(svd_test_df['score'])\n",
    "svd_test_pred_normalized = (svd_test_pred - svd_test_pred.mean()) / svd_test_pred.std()"
   ],
   "outputs": [],
   "execution_count": 457
  },
  {
   "metadata": {
    "ExecuteTime": {
     "end_time": "2025-03-26T15:02:50.573932Z",
     "start_time": "2025-03-26T15:02:50.378413Z"
    }
   },
   "cell_type": "code",
   "source": [
    "als_test_df = pd.read_csv('./data/als/test_als_2.csv')\n",
    "als_test_pred = np.array(als_test_df['score'])\n",
    "als_test_pred_normalized = (als_test_pred - als_test_pred.mean()) / als_test_pred.std()"
   ],
   "outputs": [],
   "execution_count": 458
  },
  {
   "metadata": {
    "ExecuteTime": {
     "end_time": "2025-03-26T15:02:50.781969Z",
     "start_time": "2025-03-26T15:02:50.594356Z"
    }
   },
   "cell_type": "code",
   "source": [
    "lambda_test_df = pd.read_csv('./data/lambda_r/test_lambda_r_1.csv')\n",
    "lambda_test_pred = np.array(lambda_test_df['score'])\n",
    "lambda_test_pred_normalized = (lambda_test_pred - lambda_test_pred.mean()) / lambda_test_pred.std()"
   ],
   "outputs": [],
   "execution_count": 459
  },
  {
   "metadata": {
    "ExecuteTime": {
     "end_time": "2025-03-26T15:02:50.991852Z",
     "start_time": "2025-03-26T15:02:50.799114Z"
    }
   },
   "cell_type": "code",
   "source": [
    "ncf_test_df = pd.read_csv('./data/neural/test_ncf_1.csv')\n",
    "ncf_test_pred = np.array(lambda_test_df['score'])\n",
    "ncf_test_pred_normalized = (lambda_test_pred - lambda_test_pred.mean()) / lambda_test_pred.std()"
   ],
   "outputs": [],
   "execution_count": 460
  },
  {
   "metadata": {
    "ExecuteTime": {
     "end_time": "2025-03-26T15:02:51.016244Z",
     "start_time": "2025-03-26T15:02:51.013183Z"
    }
   },
   "cell_type": "code",
   "source": [
    "lfm = lfm_test_pred_normalized\n",
    "svd = svd_test_pred_normalized\n",
    "als = als_test_pred_normalized\n",
    "lambda_r = lambda_test_pred_normalized\n",
    "ncf = ncf_test_pred_normalized"
   ],
   "outputs": [],
   "execution_count": 461
  },
  {
   "cell_type": "code",
   "metadata": {
    "ExecuteTime": {
     "end_time": "2025-03-26T15:02:51.061150Z",
     "start_time": "2025-03-26T15:02:51.058170Z"
    }
   },
   "source": [
    "# lfm2_test_df = pd.read_csv('submission_v36.csv')\n",
    "# lfm2_test_pred = np.array(lfm2_test_df['score'])\n",
    "# lfm2_test_pred_normalized = (lfm2_test_pred - lfm2_test_pred.mean()) / lfm2_test_pred.std()"
   ],
   "outputs": [],
   "execution_count": 462
  },
  {
   "cell_type": "code",
   "metadata": {
    "ExecuteTime": {
     "end_time": "2025-03-26T15:02:51.114272Z",
     "start_time": "2025-03-26T15:02:51.107730Z"
    }
   },
   "source": [
    "# new_scores = 0.15 * svd + 0.95 * lfm\n",
    "new_scores = 0.1 * svd + 0.1 * ncf + 0.1 * lambda_r + 0.65 * lfm\n",
    "\n",
    "# + 0.3 * lfm2_test_pred_normalized"
   ],
   "outputs": [],
   "execution_count": 463
  },
  {
   "cell_type": "code",
   "metadata": {
    "ExecuteTime": {
     "end_time": "2025-03-26T15:02:51.302390Z",
     "start_time": "2025-03-26T15:02:51.157765Z"
    }
   },
   "source": "test_df = pd.read_csv('test.csv')",
   "outputs": [],
   "execution_count": 464
  },
  {
   "cell_type": "code",
   "metadata": {
    "ExecuteTime": {
     "end_time": "2025-03-26T15:02:51.324318Z",
     "start_time": "2025-03-26T15:02:51.321795Z"
    }
   },
   "source": [
    "# res_df = test_df[['user', 'track']].copy()\n",
    "# res_df['score'] = new_scores\n",
    "# res_df.to_csv('./data/sum/test_sum_14.csv', index=False)"
   ],
   "outputs": [],
   "execution_count": 465
  },
  {
   "metadata": {
    "ExecuteTime": {
     "end_time": "2025-03-26T15:02:53.429275Z",
     "start_time": "2025-03-26T15:02:51.368868Z"
    }
   },
   "cell_type": "code",
   "source": [
    "import os\n",
    "import re\n",
    "import pandas as pd\n",
    "\n",
    "def save_with_incremented_number(res_df, base_path='./data/sum', prefix='test_sum_'):\n",
    "    # Получаем список всех файлов в директории\n",
    "    files = os.listdir(base_path)\n",
    "    \n",
    "    # Фильтруем файлы, соответствующие шаблону\n",
    "    pattern = re.compile(f'^{prefix}(\\d+)\\.csv$')\n",
    "    matching_files = [f for f in files if pattern.match(f)]\n",
    "    \n",
    "    if matching_files:\n",
    "        # Находим максимальный номер\n",
    "        max_num = max(int(pattern.match(f).group(1)) for f in matching_files)\n",
    "        new_num = max_num + 1\n",
    "    else:\n",
    "        # Если файлов нет, начинаем с 1\n",
    "        new_num = 1\n",
    "    \n",
    "    # Формируем новое имя файла\n",
    "    new_filename = f'{prefix}{new_num:02d}.csv'\n",
    "    full_path = os.path.join(base_path, new_filename)\n",
    "    \n",
    "    # Сохраняем DataFrame\n",
    "    res_df.to_csv(full_path, index=False)\n",
    "    print(f\"Файл сохранен как: {full_path}\")\n",
    "\n",
    "res_df = test_df[['user', 'track']].copy()\n",
    "res_df['score'] = new_scores\n",
    "save_with_incremented_number(res_df)"
   ],
   "outputs": [
    {
     "name": "stdout",
     "output_type": "stream",
     "text": [
      "Файл сохранен как: ./data/sum/test_sum_42.csv\n"
     ]
    }
   ],
   "execution_count": 466
  },
  {
   "cell_type": "code",
   "metadata": {
    "ExecuteTime": {
     "end_time": "2025-03-26T15:02:53.453854Z",
     "start_time": "2025-03-26T15:02:53.451007Z"
    }
   },
   "source": [
    "# v71 = 0.20 * svd + 0.80 * lfm\n",
    "# v72 = 0.25 * svd + 0.75 * lfm best\n",
    "# v73 = 0.30 * svd + 0.70 * lfm\n",
    "# v74 = 0.35 * svd + 0.65 * lfm\n",
    "# v75 = 0.40 * svd + 0.60 * lfm\n",
    "# v76 = 0.45 * svd + 0.55 * lfm\n",
    "# v77 = 0.50 * svd + 0.50 * lfm"
   ],
   "outputs": [],
   "execution_count": 467
  }
 ],
 "metadata": {
  "kernelspec": {
   "display_name": "recsys-course-v2",
   "language": "python",
   "name": "python3"
  },
  "language_info": {
   "codemirror_mode": {
    "name": "ipython",
    "version": 3
   },
   "file_extension": ".py",
   "mimetype": "text/x-python",
   "name": "python",
   "nbconvert_exporter": "python",
   "pygments_lexer": "ipython3",
   "version": "3.10.13"
  }
 },
 "nbformat": 4,
 "nbformat_minor": 2
}
