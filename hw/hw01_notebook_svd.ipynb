{
 "cells": [
  {
   "cell_type": "markdown",
   "metadata": {},
   "source": [
    "### Data preprocessing"
   ]
  },
  {
   "cell_type": "code",
   "metadata": {
    "ExecuteTime": {
     "end_time": "2025-03-19T11:41:48.894777Z",
     "start_time": "2025-03-19T11:41:48.889251Z"
    }
   },
   "source": [
    "import pandas as pd\n",
    "import numpy as np\n",
    "\n",
    "import scipy.stats as ss\n",
    "from sklearn.metrics import ndcg_score"
   ],
   "outputs": [],
   "execution_count": 12
  },
  {
   "cell_type": "code",
   "metadata": {
    "ExecuteTime": {
     "end_time": "2025-03-19T11:41:49.740873Z",
     "start_time": "2025-03-19T11:41:48.938217Z"
    }
   },
   "source": [
    "wsl_train_path = \"/mnt/c/Users/denis/PycharmProjects/recsys-course-spring-2025/hw/train.csv\"\n",
    "wsl_test_path = \"/mnt/c/Users/denis/PycharmProjects/recsys-course-spring-2025/hw/test.csv\"\n",
    "train_df = pd.read_csv(wsl_train_path)\n",
    "test_df = pd.read_csv(wsl_test_path)"
   ],
   "outputs": [],
   "execution_count": 13
  },
  {
   "cell_type": "code",
   "metadata": {
    "ExecuteTime": {
     "end_time": "2025-03-19T11:41:49.771562Z",
     "start_time": "2025-03-19T11:41:49.762218Z"
    }
   },
   "source": [
    "np.random.seed(42)\n",
    "train_df['rnd'] = np.random.random(len(train_df))"
   ],
   "outputs": [],
   "execution_count": 14
  },
  {
   "cell_type": "code",
   "metadata": {
    "ExecuteTime": {
     "end_time": "2025-03-19T11:41:49.927776Z",
     "start_time": "2025-03-19T11:41:49.815192Z"
    }
   },
   "source": [
    "users = sorted(set(train_df['user']))\n",
    "tracks = sorted(set(train_df['track']))\n",
    "len(users), len(tracks)"
   ],
   "outputs": [
    {
     "data": {
      "text/plain": [
       "(10000, 49957)"
      ]
     },
     "execution_count": 15,
     "metadata": {},
     "output_type": "execute_result"
    }
   ],
   "execution_count": 15
  },
  {
   "cell_type": "code",
   "metadata": {
    "ExecuteTime": {
     "end_time": "2025-03-19T11:41:49.956636Z",
     "start_time": "2025-03-19T11:41:49.951550Z"
    }
   },
   "source": [
    "user_to_id = dict()\n",
    "id_to_user = dict()\n",
    "for i, u in enumerate(users):\n",
    "    user_to_id[u] = i\n",
    "    id_to_user[i] = u"
   ],
   "outputs": [],
   "execution_count": 16
  },
  {
   "cell_type": "code",
   "metadata": {
    "ExecuteTime": {
     "end_time": "2025-03-19T11:41:50.141580Z",
     "start_time": "2025-03-19T11:41:49.998796Z"
    }
   },
   "source": [
    "train_users_ids = [user_to_id[u] for u in train_df['user']]\n",
    "test_users_ids = [user_to_id[u] for u in test_df['user']]"
   ],
   "outputs": [],
   "execution_count": 17
  },
  {
   "cell_type": "code",
   "metadata": {
    "ExecuteTime": {
     "end_time": "2025-03-19T11:41:50.351874Z",
     "start_time": "2025-03-19T11:41:50.168175Z"
    }
   },
   "source": [
    "train_df['user_id'] = train_users_ids\n",
    "test_df['user_id'] = test_users_ids"
   ],
   "outputs": [],
   "execution_count": 18
  },
  {
   "cell_type": "markdown",
   "metadata": {},
   "source": [
    "## v11 SVD++"
   ]
  },
  {
   "cell_type": "code",
   "metadata": {
    "ExecuteTime": {
     "end_time": "2025-03-19T11:41:50.377569Z",
     "start_time": "2025-03-19T11:41:50.372764Z"
    }
   },
   "source": [
    "from collections import defaultdict\n",
    "from surprise import SVDpp, Dataset, NormalPredictor, Reader, accuracy\n",
    "from surprise.model_selection import train_test_split, cross_validate, KFold, GridSearchCV"
   ],
   "outputs": [],
   "execution_count": 19
  },
  {
   "cell_type": "code",
   "metadata": {
    "ExecuteTime": {
     "end_time": "2025-03-19T11:41:51.421671Z",
     "start_time": "2025-03-19T11:41:50.419280Z"
    }
   },
   "source": [
    "reader = Reader(rating_scale=(0, 1))\n",
    "data = Dataset.load_from_df(train_df[['user_id', 'track', 'time']], reader)"
   ],
   "outputs": [],
   "execution_count": 20
  },
  {
   "cell_type": "code",
   "metadata": {
    "ExecuteTime": {
     "end_time": "2025-03-19T11:41:51.447914Z",
     "start_time": "2025-03-19T11:41:51.443436Z"
    }
   },
   "source": [
    "# trainset, testset = train_test_split(data, test_size=0.1)"
   ],
   "outputs": [],
   "execution_count": 21
  },
  {
   "cell_type": "markdown",
   "metadata": {},
   "source": [
    "reg_all по дефолту 0.02 попробовать оставить done\n",
    "\n",
    "v10: n_epochs=300, n_factors=80, reg_all=0.1\n",
    "\n",
    "v11: n_epochs=400, n_factors=80\n",
    "\n",
    "v61: n_epochs=500, n_factors=100\n",
    "\n",
    "v62: n_epochs=600, n_factors=120"
   ]
  },
  {
   "cell_type": "code",
   "metadata": {
    "ExecuteTime": {
     "start_time": "2025-03-19T11:41:51.491147Z"
    }
   },
   "source": [
    "algo = SVDpp(n_epochs=800, n_factors=140, verbose=True)\n",
    "algo.fit(data.build_full_trainset())"
   ],
   "outputs": [
    {
     "name": "stdout",
     "output_type": "stream",
     "text": [
      " processing epoch 0\n"
     ]
    },
    {
     "ename": "KeyboardInterrupt",
     "evalue": "",
     "output_type": "error",
     "traceback": [
      "\u001B[0;31m---------------------------------------------------------------------------\u001B[0m",
      "\u001B[0;31mKeyboardInterrupt\u001B[0m                         Traceback (most recent call last)",
      "Cell \u001B[0;32mIn[22], line 2\u001B[0m\n\u001B[1;32m      1\u001B[0m algo \u001B[38;5;241m=\u001B[39m SVDpp(n_epochs\u001B[38;5;241m=\u001B[39m\u001B[38;5;241m800\u001B[39m, n_factors\u001B[38;5;241m=\u001B[39m\u001B[38;5;241m140\u001B[39m, verbose\u001B[38;5;241m=\u001B[39m\u001B[38;5;28;01mTrue\u001B[39;00m)\n\u001B[0;32m----> 2\u001B[0m \u001B[43malgo\u001B[49m\u001B[38;5;241;43m.\u001B[39;49m\u001B[43mfit\u001B[49m\u001B[43m(\u001B[49m\u001B[43mdata\u001B[49m\u001B[38;5;241;43m.\u001B[39;49m\u001B[43mbuild_full_trainset\u001B[49m\u001B[43m(\u001B[49m\u001B[43m)\u001B[49m\u001B[43m)\u001B[49m\n",
      "File \u001B[0;32m~/miniconda3/envs/lightfm_env/lib/python3.9/site-packages/surprise/prediction_algorithms/matrix_factorization.pyx:397\u001B[0m, in \u001B[0;36msurprise.prediction_algorithms.matrix_factorization.SVDpp.fit\u001B[0;34m()\u001B[0m\n",
      "File \u001B[0;32m~/miniconda3/envs/lightfm_env/lib/python3.9/site-packages/surprise/prediction_algorithms/matrix_factorization.pyx:447\u001B[0m, in \u001B[0;36msurprise.prediction_algorithms.matrix_factorization.SVDpp.sgd\u001B[0;34m()\u001B[0m\n",
      "File \u001B[0;32m~/miniconda3/envs/lightfm_env/lib/python3.9/site-packages/surprise/trainset.py:189\u001B[0m, in \u001B[0;36mTrainset.all_ratings\u001B[0;34m(self)\u001B[0m\n\u001B[1;32m    187\u001B[0m \u001B[38;5;28;01mfor\u001B[39;00m u, u_ratings \u001B[38;5;129;01min\u001B[39;00m iteritems(\u001B[38;5;28mself\u001B[39m\u001B[38;5;241m.\u001B[39mur):\n\u001B[1;32m    188\u001B[0m     \u001B[38;5;28;01mfor\u001B[39;00m i, r \u001B[38;5;129;01min\u001B[39;00m u_ratings:\n\u001B[0;32m--> 189\u001B[0m         \u001B[38;5;28;01myield\u001B[39;00m u, i, r\n",
      "\u001B[0;31mKeyboardInterrupt\u001B[0m: "
     ]
    }
   ],
   "execution_count": 22
  },
  {
   "cell_type": "code",
   "execution_count": 26,
   "metadata": {},
   "outputs": [],
   "source": [
    "predictions = [\n",
    "    algo.predict(uid, iid).est\n",
    "    for _, (uid, iid) in test_df[['user_id', 'track']].iterrows()\n",
    "]"
   ]
  },
  {
   "cell_type": "code",
   "execution_count": 27,
   "metadata": {},
   "outputs": [
    {
     "data": {
      "text/plain": [
       "0.9373555247341655"
      ]
     },
     "execution_count": 27,
     "metadata": {},
     "output_type": "execute_result"
    }
   ],
   "source": [
    "np.count_nonzero(np.array(predictions)) / len(predictions)  # у какой части элементов матрицы получили что-то нормальное    "
   ]
  },
  {
   "cell_type": "markdown",
   "metadata": {},
   "source": [
    "# Exporting results"
   ]
  },
  {
   "cell_type": "code",
   "execution_count": 28,
   "metadata": {},
   "outputs": [],
   "source": [
    "res_df = test_df[['user', 'track']].copy()\n",
    "res_df['score'] = predictions\n",
    "res_df.to_csv('submission_v63.csv', index=False)"
   ]
  }
 ],
 "metadata": {
  "kernelspec": {
   "display_name": "dl-v2",
   "language": "python",
   "name": "python3"
  },
  "language_info": {
   "codemirror_mode": {
    "name": "ipython",
    "version": 3
   },
   "file_extension": ".py",
   "mimetype": "text/x-python",
   "name": "python",
   "nbconvert_exporter": "python",
   "pygments_lexer": "ipython3",
   "version": "3.10.13"
  }
 },
 "nbformat": 4,
 "nbformat_minor": 2
}
