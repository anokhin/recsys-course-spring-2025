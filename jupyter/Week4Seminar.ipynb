{
 "cells": [
  {
   "cell_type": "code",
   "metadata": {
    "ExecuteTime": {
     "end_time": "2025-03-17T20:35:56.782652Z",
     "start_time": "2025-03-17T20:35:56.775255Z"
    }
   },
   "source": [
    "import os\n",
    "\n",
    "import pandas as pd\n",
    "import numpy as np\n",
    "import scipy.stats as ss\n",
    "\n",
    "import lightfm\n",
    "import lightfm.data as ld\n",
    "import lightfm.evaluation as lv\n",
    "\n",
    "import glob\n",
    "import tqdm\n",
    "import json\n",
    "import optuna\n",
    "\n",
    "import tensorboardX as tb\n",
    "\n",
    "import matplotlib.pyplot as pl\n",
    "import seaborn as sns\n",
    "\n",
    "np.random.seed(31337)"
   ],
   "outputs": [],
   "execution_count": 2
  },
  {
   "cell_type": "code",
   "metadata": {
    "ExecuteTime": {
     "end_time": "2025-03-17T20:35:56.812587Z",
     "start_time": "2025-03-17T20:35:56.794660Z"
    }
   },
   "source": "DATA_DIR = r\"C:\\Users\\denis\\PycharmProjects\\recsys-course-spring-2025\\rec_sys_data\\week_4\"",
   "outputs": [],
   "execution_count": 3
  },
  {
   "cell_type": "code",
   "metadata": {
    "ExecuteTime": {
     "end_time": "2025-03-17T20:35:56.857694Z",
     "start_time": "2025-03-17T20:35:56.853025Z"
    }
   },
   "source": [
    "# data = pd.concat([\n",
    "#     pd.read_json(data_path, lines=True) \n",
    "#     for data_path \n",
    "#     # in glob.glob(DATA_DIR + \"/data/*/data.json\")\n",
    "#     in glob.glob(r\"C:\\Users\\denis\\PycharmProjects\\recsys-course-spring-2025\\rec_sys_data\\week_4\\*\\data.json\")\n",
    "# ])\n",
    "# data[\"rnd\"] = np.random.random(len(data))\n",
    "# \n",
    "# data.head(5)"
   ],
   "outputs": [],
   "execution_count": 4
  },
  {
   "metadata": {
    "ExecuteTime": {
     "end_time": "2025-03-17T20:36:04.615006Z",
     "start_time": "2025-03-17T20:35:56.906471Z"
    }
   },
   "cell_type": "code",
   "source": [
    "wsl_path = \"/mnt/c/Users/denis/PycharmProjects/recsys-course-spring-2025/rec_sys_data/week_4/*/data.json\"\n",
    "data = pd.concat([\n",
    "    pd.read_json(data_path, lines=True) \n",
    "    for data_path in glob.glob(os.path.expanduser(wsl_path))\n",
    "])"
   ],
   "outputs": [],
   "execution_count": 5
  },
  {
   "metadata": {
    "ExecuteTime": {
     "end_time": "2025-03-17T20:36:04.662600Z",
     "start_time": "2025-03-17T20:36:04.654530Z"
    }
   },
   "cell_type": "code",
   "source": "len(data)",
   "outputs": [
    {
     "data": {
      "text/plain": [
       "766478"
      ]
     },
     "execution_count": 6,
     "metadata": {},
     "output_type": "execute_result"
    }
   ],
   "execution_count": 6
  },
  {
   "cell_type": "code",
   "metadata": {
    "ExecuteTime": {
     "end_time": "2025-03-17T20:36:04.872904Z",
     "start_time": "2025-03-17T20:36:04.714118Z"
    }
   },
   "source": [
    "positives = data[data[\"time\"] > 0.7].copy()\n",
    "positives[\"test\"] = np.random.random(len(positives)) >= 0.7\n",
    "positives.drop_duplicates([\"user\", \"track\"], inplace=True)"
   ],
   "outputs": [],
   "execution_count": 7
  },
  {
   "cell_type": "code",
   "metadata": {
    "ExecuteTime": {
     "end_time": "2025-03-17T20:36:04.927980Z",
     "start_time": "2025-03-17T20:36:04.903423Z"
    }
   },
   "source": [
    "user_counts = positives[~positives[\"test\"]].groupby(\"user\").size()\n",
    "users = set(user_counts[user_counts >= 4].index.values)"
   ],
   "outputs": [],
   "execution_count": 8
  },
  {
   "cell_type": "code",
   "metadata": {
    "ExecuteTime": {
     "end_time": "2025-03-17T20:36:04.982720Z",
     "start_time": "2025-03-17T20:36:04.958923Z"
    }
   },
   "source": [
    "track_counts = positives[~positives[\"test\"]].groupby(\"track\").size()\n",
    "tracks = set(track_counts[track_counts >= 4].index.values)"
   ],
   "outputs": [],
   "execution_count": 9
  },
  {
   "cell_type": "code",
   "metadata": {
    "tags": [],
    "ExecuteTime": {
     "end_time": "2025-03-17T20:36:05.029136Z",
     "start_time": "2025-03-17T20:36:05.022974Z"
    }
   },
   "source": [
    "len(users), len(tracks)"
   ],
   "outputs": [
    {
     "data": {
      "text/plain": [
       "(9692, 10905)"
      ]
     },
     "execution_count": 10,
     "metadata": {},
     "output_type": "execute_result"
    }
   ],
   "execution_count": 10
  },
  {
   "cell_type": "markdown",
   "metadata": {},
   "source": [
    "## Train LightFM"
   ]
  },
  {
   "cell_type": "code",
   "metadata": {
    "ExecuteTime": {
     "end_time": "2025-03-17T20:36:05.128209Z",
     "start_time": "2025-03-17T20:36:05.087570Z"
    }
   },
   "source": [
    "train_data = positives[~positives[\"test\"] & positives[\"user\"].isin(users) & positives[\"track\"].isin(tracks)]\n",
    "test_data = positives[positives[\"test\"] & positives[\"user\"].isin(users) & positives[\"track\"].isin(tracks)]\n",
    "\n",
    "len(train_data), len(test_data)"
   ],
   "outputs": [
    {
     "data": {
      "text/plain": [
       "(64950, 20897)"
      ]
     },
     "execution_count": 11,
     "metadata": {},
     "output_type": "execute_result"
    }
   ],
   "execution_count": 11
  },
  {
   "cell_type": "code",
   "metadata": {
    "ExecuteTime": {
     "end_time": "2025-03-17T20:36:05.173151Z",
     "start_time": "2025-03-17T20:36:05.161607Z"
    }
   },
   "source": [
    "dataset = ld.Dataset()\n",
    "dataset.fit(users, tracks)"
   ],
   "outputs": [],
   "execution_count": 12
  },
  {
   "cell_type": "code",
   "metadata": {
    "ExecuteTime": {
     "end_time": "2025-03-17T20:36:05.455950Z",
     "start_time": "2025-03-17T20:36:05.223973Z"
    }
   },
   "source": [
    "train_interactions, _ = dataset.build_interactions(train_data[[\"user\", \"track\"]].itertuples(index=False, name=None))\n",
    "test_interactions, _ = dataset.build_interactions(test_data[[\"user\", \"track\"]].itertuples(index=False, name=None))"
   ],
   "outputs": [],
   "execution_count": 13
  },
  {
   "cell_type": "code",
   "metadata": {
    "ExecuteTime": {
     "end_time": "2025-03-17T20:39:06.496403Z",
     "start_time": "2025-03-17T20:39:06.475642Z"
    }
   },
   "source": [
    "def fit_model(\n",
    "    epochs=1, \n",
    "    at=10,\n",
    "    loss=\"warp\",\n",
    "    no_components=30,\n",
    "    learning_rate=0.01, \n",
    "    max_sampled=10,\n",
    "    user_alpha=0.0, \n",
    "    item_alpha=0.0, \n",
    "    threads=30, \n",
    "    verbose=False,\n",
    "    patience=3,\n",
    "    epsilon=1e-6,\n",
    "):\n",
    "    model = lightfm.LightFM(\n",
    "        no_components=no_components,\n",
    "        loss=loss,\n",
    "        learning_rate=learning_rate,\n",
    "        max_sampled=max_sampled,\n",
    "        user_alpha=user_alpha,\n",
    "        item_alpha=item_alpha,\n",
    "    )\n",
    "\n",
    "    precisions_at = []\n",
    "    \n",
    "    for epoch in range(epochs):\n",
    "        # print(f\"Epoch {epoch} started\")\n",
    "        model = model.fit_partial(train_interactions, num_threads=threads)\n",
    "        \n",
    "        precision_at = lv.precision_at_k(model, test_interactions, train_interactions=train_interactions, k=at, num_threads=threads)\n",
    "        \n",
    "        if verbose:\n",
    "            print(f\"{epoch}:\\t{np.mean(precision_at)} +/- {ss.sem(precision_at) * 1.96}\")\n",
    "            \n",
    "        precisions_at.append(np.mean(precision_at))\n",
    "            \n",
    "        if epoch > patience and all([precisions_at[-j] - precisions_at[-patience-1] < epsilon for j in range(1, patience + 1)]):\n",
    "            if verbose:\n",
    "                print(\"Early stopping!\")\n",
    "            break\n",
    "        \n",
    "    else:\n",
    "        if verbose:\n",
    "            print(\"No early stopping happened: increase epochs maybe?\")\n",
    "        \n",
    "    return model, precisions_at\n",
    "\n",
    "\n",
    "def objective(trial):\n",
    "    loss = trial.suggest_categorical(\"loss\", [\"warp\", \"bpr\"])\n",
    "    no_components = trial.suggest_categorical(\"no_components\", [10, 30, 50])\n",
    "    learning_rate = trial.suggest_categorical(\"learning_rate\", [0.0001, 0.001, 0.01])\n",
    "    max_sampled = trial.suggest_categorical(\"max_sampled\", [10, 20, 50, 100])\n",
    "    user_alpha = trial.suggest_categorical(\"user_alpha\", [0.0, 0.0001])\n",
    "    item_alpha = trial.suggest_categorical(\"item_alpha\", [0.0, 0.0001])\n",
    "    \n",
    "    model, precisions_at = fit_model(\n",
    "        epochs=5, \n",
    "        at=10,\n",
    "        loss=loss,\n",
    "        no_components=no_components, \n",
    "        learning_rate=learning_rate, \n",
    "        max_sampled=max_sampled, \n",
    "        user_alpha=user_alpha, \n",
    "        item_alpha=item_alpha,\n",
    "        threads=30\n",
    "    )\n",
    "    \n",
    "    return precisions_at[-1]"
   ],
   "outputs": [],
   "execution_count": 17
  },
  {
   "cell_type": "code",
   "metadata": {
    "ExecuteTime": {
     "end_time": "2025-03-17T20:41:16.984815Z",
     "start_time": "2025-03-17T20:39:06.655747Z"
    }
   },
   "source": [
    "study = optuna.create_study(direction=\"maximize\")\n",
    "study.optimize(objective, n_trials=20)\n",
    "best_params = study.best_params"
   ],
   "outputs": [
    {
     "name": "stderr",
     "output_type": "stream",
     "text": [
      "[I 2025-03-17 23:39:06,658] A new study created in memory with name: no-name-35e4e22f-080d-4578-ae38-4d3c72b10f1f\n",
      "[I 2025-03-17 23:39:16,180] Trial 0 finished with value: 0.000342465762514621 and parameters: {'loss': 'bpr', 'no_components': 50, 'learning_rate': 0.01, 'max_sampled': 20, 'user_alpha': 0.0001, 'item_alpha': 0.0001}. Best is trial 0 with value: 0.000342465762514621.\n",
      "[I 2025-03-17 23:39:23,392] Trial 1 finished with value: 0.00019569472351577133 and parameters: {'loss': 'bpr', 'no_components': 30, 'learning_rate': 0.01, 'max_sampled': 50, 'user_alpha': 0.0001, 'item_alpha': 0.0}. Best is trial 0 with value: 0.000342465762514621.\n",
      "[I 2025-03-17 23:39:31,387] Trial 2 finished with value: 0.0001712328812573105 and parameters: {'loss': 'bpr', 'no_components': 50, 'learning_rate': 0.0001, 'max_sampled': 20, 'user_alpha': 0.0, 'item_alpha': 0.0001}. Best is trial 0 with value: 0.000342465762514621.\n",
      "[I 2025-03-17 23:39:36,877] Trial 3 finished with value: 0.00199363986030221 and parameters: {'loss': 'warp', 'no_components': 30, 'learning_rate': 0.01, 'max_sampled': 50, 'user_alpha': 0.0001, 'item_alpha': 0.0001}. Best is trial 3 with value: 0.00199363986030221.\n",
      "[I 2025-03-17 23:39:43,188] Trial 4 finished with value: 0.00144324847497046 and parameters: {'loss': 'warp', 'no_components': 30, 'learning_rate': 0.0001, 'max_sampled': 10, 'user_alpha': 0.0001, 'item_alpha': 0.0}. Best is trial 3 with value: 0.00199363986030221.\n",
      "[I 2025-03-17 23:39:49,446] Trial 5 finished with value: 0.002128180116415024 and parameters: {'loss': 'warp', 'no_components': 30, 'learning_rate': 0.01, 'max_sampled': 100, 'user_alpha': 0.0, 'item_alpha': 0.0001}. Best is trial 5 with value: 0.002128180116415024.\n",
      "[I 2025-03-17 23:39:57,022] Trial 6 finished with value: 0.002177103655412793 and parameters: {'loss': 'warp', 'no_components': 30, 'learning_rate': 0.01, 'max_sampled': 100, 'user_alpha': 0.0001, 'item_alpha': 0.0001}. Best is trial 6 with value: 0.002177103655412793.\n",
      "[I 2025-03-17 23:40:01,034] Trial 7 finished with value: 0.00019569472351577133 and parameters: {'loss': 'bpr', 'no_components': 10, 'learning_rate': 0.0001, 'max_sampled': 100, 'user_alpha': 0.0001, 'item_alpha': 0.0001}. Best is trial 6 with value: 0.002177103655412793.\n",
      "[I 2025-03-17 23:40:10,346] Trial 8 finished with value: 0.002042563632130623 and parameters: {'loss': 'warp', 'no_components': 50, 'learning_rate': 0.01, 'max_sampled': 10, 'user_alpha': 0.0001, 'item_alpha': 0.0}. Best is trial 6 with value: 0.002177103655412793.\n",
      "[I 2025-03-17 23:40:17,157] Trial 9 finished with value: 0.0015900195576250553 and parameters: {'loss': 'warp', 'no_components': 30, 'learning_rate': 0.0001, 'max_sampled': 10, 'user_alpha': 0.0, 'item_alpha': 0.0001}. Best is trial 6 with value: 0.002177103655412793.\n",
      "[I 2025-03-17 23:40:21,765] Trial 10 finished with value: 0.0015288649592548609 and parameters: {'loss': 'warp', 'no_components': 10, 'learning_rate': 0.001, 'max_sampled': 100, 'user_alpha': 0.0, 'item_alpha': 0.0}. Best is trial 6 with value: 0.002177103655412793.\n",
      "[I 2025-03-17 23:40:29,684] Trial 11 finished with value: 0.0021037182305008173 and parameters: {'loss': 'warp', 'no_components': 30, 'learning_rate': 0.01, 'max_sampled': 100, 'user_alpha': 0.0, 'item_alpha': 0.0001}. Best is trial 6 with value: 0.002177103655412793.\n",
      "[I 2025-03-17 23:40:36,066] Trial 12 finished with value: 0.0015900195576250553 and parameters: {'loss': 'warp', 'no_components': 30, 'learning_rate': 0.001, 'max_sampled': 100, 'user_alpha': 0.0, 'item_alpha': 0.0001}. Best is trial 6 with value: 0.002177103655412793.\n",
      "[I 2025-03-17 23:40:42,412] Trial 13 finished with value: 0.0017734833527356386 and parameters: {'loss': 'warp', 'no_components': 30, 'learning_rate': 0.01, 'max_sampled': 100, 'user_alpha': 0.0, 'item_alpha': 0.0001}. Best is trial 6 with value: 0.002177103655412793.\n",
      "[I 2025-03-17 23:40:48,133] Trial 14 finished with value: 0.002128180116415024 and parameters: {'loss': 'warp', 'no_components': 30, 'learning_rate': 0.01, 'max_sampled': 100, 'user_alpha': 0.0001, 'item_alpha': 0.0001}. Best is trial 6 with value: 0.002177103655412793.\n",
      "[I 2025-03-17 23:40:52,732] Trial 15 finished with value: 0.0019814090337604284 and parameters: {'loss': 'warp', 'no_components': 10, 'learning_rate': 0.01, 'max_sampled': 100, 'user_alpha': 0.0, 'item_alpha': 0.0001}. Best is trial 6 with value: 0.002177103655412793.\n",
      "[I 2025-03-17 23:41:00,234] Trial 16 finished with value: 0.0019324852619320154 and parameters: {'loss': 'warp', 'no_components': 30, 'learning_rate': 0.001, 'max_sampled': 100, 'user_alpha': 0.0, 'item_alpha': 0.0001}. Best is trial 6 with value: 0.002177103655412793.\n",
      "[I 2025-03-17 23:41:05,759] Trial 17 finished with value: 0.0021159490570425987 and parameters: {'loss': 'warp', 'no_components': 30, 'learning_rate': 0.01, 'max_sampled': 20, 'user_alpha': 0.0001, 'item_alpha': 0.0001}. Best is trial 6 with value: 0.002177103655412793.\n",
      "[I 2025-03-17 23:41:13,029] Trial 18 finished with value: 0.0002690802502911538 and parameters: {'loss': 'bpr', 'no_components': 50, 'learning_rate': 0.01, 'max_sampled': 50, 'user_alpha': 0.0, 'item_alpha': 0.0}. Best is trial 6 with value: 0.002177103655412793.\n",
      "[I 2025-03-17 23:41:16,981] Trial 19 finished with value: 0.0016389432130381465 and parameters: {'loss': 'warp', 'no_components': 10, 'learning_rate': 0.001, 'max_sampled': 100, 'user_alpha': 0.0001, 'item_alpha': 0.0001}. Best is trial 6 with value: 0.002177103655412793.\n"
     ]
    }
   ],
   "execution_count": 18
  },
  {
   "metadata": {
    "ExecuteTime": {
     "end_time": "2025-03-17T20:41:17.064215Z",
     "start_time": "2025-03-17T20:41:17.055898Z"
    }
   },
   "cell_type": "code",
   "source": "best_params",
   "outputs": [
    {
     "data": {
      "text/plain": [
       "{'loss': 'warp',\n",
       " 'no_components': 30,\n",
       " 'learning_rate': 0.01,\n",
       " 'max_sampled': 100,\n",
       " 'user_alpha': 0.0001,\n",
       " 'item_alpha': 0.0001}"
      ]
     },
     "execution_count": 19,
     "metadata": {},
     "output_type": "execute_result"
    }
   ],
   "execution_count": 19
  },
  {
   "cell_type": "code",
   "metadata": {
    "ExecuteTime": {
     "end_time": "2025-03-17T20:41:50.415439Z",
     "start_time": "2025-03-17T20:41:50.410801Z"
    }
   },
   "source": [
    "best_params = {\n",
    "    'loss': 'warp',\n",
    "    'no_components': 30,\n",
    "    'learning_rate': 0.01,\n",
    "    'max_sampled': 100,\n",
    "    'user_alpha': 0.0001,\n",
    "    'item_alpha': 0.0001\n",
    "}"
   ],
   "outputs": [],
   "execution_count": 20
  },
  {
   "cell_type": "code",
   "metadata": {
    "tags": [],
    "ExecuteTime": {
     "end_time": "2025-03-17T20:44:54.770710Z",
     "start_time": "2025-03-17T20:41:51.116082Z"
    }
   },
   "source": [
    "model, precisions_at = fit_model(\n",
    "    epochs=300,\n",
    "    at=10,\n",
    "    loss=best_params[\"loss\"],\n",
    "    no_components=best_params[\"no_components\"], \n",
    "    learning_rate=best_params[\"learning_rate\"], \n",
    "    max_sampled=best_params[\"max_sampled\"],\n",
    "    user_alpha=best_params[\"user_alpha\"],\n",
    "    item_alpha=best_params[\"item_alpha\"],\n",
    "    verbose=True,\n",
    ")"
   ],
   "outputs": [
    {
     "name": "stdout",
     "output_type": "stream",
     "text": [
      "0:\t0.0018101762980222702 +/- 0.00030260642905668896\n",
      "1:\t0.001797945355065167 +/- 0.00030168964732112363\n",
      "2:\t0.0017734833527356386 +/- 0.000297923944085405\n",
      "3:\t0.0017857142956927419 +/- 0.00029692332304065937\n",
      "4:\t0.0018468688940629363 +/- 0.0003034507169422023\n",
      "5:\t0.0018957925494760275 +/- 0.00030707547000775556\n",
      "6:\t0.002054794691503048 +/- 0.00032034592247252516\n",
      "7:\t0.002397260395810008 +/- 0.0003517751658372807\n",
      "8:\t0.002947651781141758 +/- 0.000408190562290372\n",
      "9:\t0.003375733969733119 +/- 0.00044120298170710035\n",
      "10:\t0.0038282780442386866 +/- 0.00047769042239159963\n",
      "11:\t0.0042808218859136105 +/- 0.0005080111013486944\n",
      "12:\t0.004672211594879627 +/- 0.0005296870249537134\n",
      "13:\t0.005051370244473219 +/- 0.0005540748362927611\n",
      "14:\t0.005442759487777948 +/- 0.0005777599962965504\n",
      "15:\t0.005711839534342289 +/- 0.0005922739070442378\n",
      "16:\t0.006152153015136719 +/- 0.000611246946606992\n",
      "17:\t0.006384540349245071 +/- 0.0006263945880538816\n",
      "18:\t0.006837084423750639 +/- 0.0006480899321779066\n",
      "19:\t0.007228473667055368 +/- 0.0006627777797153598\n",
      "20:\t0.007509784772992134 +/- 0.0006746433130749569\n",
      "21:\t0.007717709988355637 +/- 0.0006815981198958266\n",
      "22:\t0.008096869103610516 +/- 0.0007007644360167535\n",
      "23:\t0.008365949615836143 +/- 0.0007147236305261422\n",
      "24:\t0.008708415552973747 +/- 0.0007287470217615586\n",
      "25:\t0.009050880558788776 +/- 0.0007377719509326764\n",
      "26:\t0.009234344586730003 +/- 0.0007463912698461372\n",
      "27:\t0.00939334649592638 +/- 0.0007542728512891709\n",
      "28:\t0.009564578533172607 +/- 0.0007600971497271623\n",
      "29:\t0.009821428917348385 +/- 0.0007717021412798052\n",
      "30:\t0.010053816251456738 +/- 0.0007825091554153334\n",
      "31:\t0.010298434644937515 +/- 0.0007970386106532854\n",
      "32:\t0.010506359860301018 +/- 0.0008025944941009418\n",
      "33:\t0.010836595669388771 +/- 0.0008137025464687109\n",
      "34:\t0.010983366519212723 +/- 0.0008247112755999841\n",
      "35:\t0.011240215040743351 +/- 0.0008303831169074843\n",
      "36:\t0.011411448940634727 +/- 0.0008382464487151946\n",
      "37:\t0.011692759580910206 +/- 0.0008490399775007271\n",
      "38:\t0.011925146915018559 +/- 0.000857296726225679\n",
      "39:\t0.012071918696165085 +/- 0.0008636823220757694\n",
      "40:\t0.012267611920833588 +/- 0.0008690247009402592\n",
      "41:\t0.012402152642607689 +/- 0.0008730783002482677\n",
      "42:\t0.012622308917343616 +/- 0.0008814303346797765\n",
      "43:\t0.012683463282883167 +/- 0.0008806914667009667\n",
      "44:\t0.012940313667058945 +/- 0.000887070198750161\n",
      "45:\t0.013087084516882896 +/- 0.0008892952007488634\n",
      "46:\t0.013233854435384274 +/- 0.0008921477964012611\n",
      "47:\t0.01344178058207035 +/- 0.0008987158078539888\n",
      "48:\t0.013735323213040829 +/- 0.0009087255713277913\n",
      "49:\t0.013967709615826607 +/- 0.000917455034057984\n",
      "50:\t0.014102251268923283 +/- 0.000921802565545541\n",
      "51:\t0.014163405634462833 +/- 0.0009241646820609666\n",
      "52:\t0.014310176484286785 +/- 0.000928688411355055\n",
      "53:\t0.014505871571600437 +/- 0.0009340539656413939\n",
      "54:\t0.014652642421424389 +/- 0.0009385048578953854\n",
      "55:\t0.014787182211875916 +/- 0.0009427092993219093\n",
      "56:\t0.014958415180444717 +/- 0.0009450949950121781\n",
      "57:\t0.015007338486611843 +/- 0.0009453386195686884\n",
      "58:\t0.015190801583230495 +/- 0.000950332317347659\n",
      "59:\t0.015300881117582321 +/- 0.0009546334979915178\n",
      "60:\t0.015447651967406273 +/- 0.0009559300296054819\n",
      "61:\t0.015533269383013248 +/- 0.0009555787645008019\n",
      "62:\t0.015643347054719925 +/- 0.0009592388661409697\n",
      "63:\t0.015777885913848877 +/- 0.0009614962491297819\n",
      "64:\t0.015961352735757828 +/- 0.0009693070930482869\n",
      "65:\t0.01605919748544693 +/- 0.0009726924004008166\n",
      "66:\t0.016254890710115433 +/- 0.0009776519406765045\n",
      "67:\t0.016316046938300133 +/- 0.0009786425082717023\n",
      "68:\t0.016450587660074234 +/- 0.0009802256237607264\n",
      "69:\t0.016523974016308784 +/- 0.0009831593737648946\n",
      "70:\t0.016646282747387886 +/- 0.0009856940543099071\n",
      "71:\t0.016658514738082886 +/- 0.0009858885017517622\n",
      "72:\t0.016744127497076988 +/- 0.0009878284541367816\n",
      "73:\t0.01693982444703579 +/- 0.0009920698793375454\n",
      "74:\t0.01693982444703579 +/- 0.000992649103382573\n",
      "75:\t0.01702544093132019 +/- 0.000996296607929332\n",
      "76:\t0.01708659715950489 +/- 0.0009983983845143006\n",
      "77:\t0.017257828265428543 +/- 0.0010004664073489805\n",
      "78:\t0.017282290384173393 +/- 0.0010008423821368862\n",
      "79:\t0.017404599115252495 +/- 0.0010044340880198902\n",
      "80:\t0.017429061233997345 +/- 0.0010070923169810313\n",
      "81:\t0.017490215599536896 +/- 0.0010091601783145138\n",
      "82:\t0.017514677718281746 +/- 0.0010106683572478723\n",
      "83:\t0.017624756321310997 +/- 0.0010128944090043589\n",
      "84:\t0.0178082175552845 +/- 0.0010167697917408665\n",
      "85:\t0.01784491166472435 +/- 0.0010206993581291534\n",
      "86:\t0.0179182980209589 +/- 0.0010212213299996482\n",
      "87:\t0.01797945238649845 +/- 0.0010209976508410356\n",
      "88:\t0.01799168437719345 +/- 0.0010223029035196676\n",
      "89:\t0.018101761117577553 +/- 0.0010216706263312435\n",
      "90:\t0.018138455227017403 +/- 0.0010216460781492154\n",
      "91:\t0.018236301839351654 +/- 0.001024199815835539\n",
      "92:\t0.018431995064020157 +/- 0.0010270390876391383\n",
      "93:\t0.018480921164155006 +/- 0.0010283040457689805\n",
      "94:\t0.018554307520389557 +/- 0.0010304753486194964\n",
      "95:\t0.01870107464492321 +/- 0.001034241637297056\n",
      "96:\t0.01872553862631321 +/- 0.00103458934937539\n",
      "97:\t0.01878669299185276 +/- 0.001034901531190262\n",
      "98:\t0.01881115511059761 +/- 0.0010369122210998102\n",
      "99:\t0.01892123371362686 +/- 0.001037910702253688\n",
      "100:\t0.018945693969726562 +/- 0.0010393613060101189\n",
      "101:\t0.019006850197911263 +/- 0.0010407710499635685\n",
      "102:\t0.019116928800940514 +/- 0.0010423076531076967\n",
      "103:\t0.019251467660069466 +/- 0.0010441751722056133\n",
      "104:\t0.019337084144353867 +/- 0.0010464566188728608\n",
      "105:\t0.019361548125743866 +/- 0.0010451448253957277\n",
      "106:\t0.019361546263098717 +/- 0.0010440443562355942\n",
      "107:\t0.01947162300348282 +/- 0.0010455585914638612\n",
      "108:\t0.019459394738078117 +/- 0.001045390630218405\n",
      "109:\t0.01950831711292267 +/- 0.0010460615869436435\n",
      "110:\t0.01958170346915722 +/- 0.001047613936454533\n",
      "111:\t0.01956947147846222 +/- 0.0010474469442162623\n",
      "112:\t0.01965508796274662 +/- 0.0010502565805501104\n",
      "113:\t0.01970401220023632 +/- 0.0010509201082202614\n",
      "114:\t0.01974070630967617 +/- 0.0010503227960411076\n",
      "115:\t0.01981409080326557 +/- 0.00105404467188934\n",
      "116:\t0.01978962868452072 +/- 0.0010520775873031315\n",
      "117:\t0.019850783050060272 +/- 0.0010545381387984665\n",
      "118:\t0.019948631525039673 +/- 0.0010580247881524613\n",
      "119:\t0.019948631525039673 +/- 0.0010563938683089615\n",
      "120:\t0.020058708265423775 +/- 0.0010600326517910524\n",
      "121:\t0.020119862630963326 +/- 0.0010619263340829726\n",
      "122:\t0.020119862630963326 +/- 0.0010613849820687712\n",
      "123:\t0.020168788731098175 +/- 0.0010620313906119813\n",
      "124:\t0.020229943096637726 +/- 0.0010628375238395727\n",
      "125:\t0.020364481955766678 +/- 0.0010667601456763646\n",
      "126:\t0.020327789708971977 +/- 0.0010630417421038797\n",
      "127:\t0.02040117420256138 +/- 0.0010656219659866024\n",
      "128:\t0.02043786831200123 +/- 0.0010650218275364916\n",
      "129:\t0.02054794505238533 +/- 0.0010675312331440865\n",
      "130:\t0.02057240903377533 +/- 0.0010683863012345366\n",
      "131:\t0.02064579352736473 +/- 0.0010698719507508364\n",
      "132:\t0.02065802365541458 +/- 0.0010700295759196493\n",
      "133:\t0.020670253783464432 +/- 0.0010696499673547985\n",
      "134:\t0.02071917988359928 +/- 0.0010702796605240618\n",
      "135:\t0.02068248577415943 +/- 0.001070881494736747\n",
      "136:\t0.02069471776485443 +/- 0.0010715752231308406\n",
      "137:\t0.020755872130393982 +/- 0.0010728958991738388\n",
      "138:\t0.020755872130393982 +/- 0.0010712876702485955\n",
      "139:\t0.020853718742728233 +/- 0.0010741464029465002\n",
      "140:\t0.020792564377188683 +/- 0.0010722940649611538\n",
      "141:\t0.020841486752033234 +/- 0.0010729195590992806\n",
      "142:\t0.020841488614678383 +/- 0.0010713114109246358\n",
      "Early stopping!\n"
     ]
    }
   ],
   "execution_count": 21
  },
  {
   "cell_type": "code",
   "metadata": {
    "ExecuteTime": {
     "end_time": "2025-03-17T20:45:06.115790Z",
     "start_time": "2025-03-17T20:45:05.915224Z"
    }
   },
   "source": [
    "# TODO 1.4: Plot learning curve precision@k(epoch)\n",
    "figure, ax = pl.subplots()\n",
    "\n",
    "ax.plot(list(range(len(precisions_at))), precisions_at, \"r\", label=\"precision@10(epoch)\")\n",
    "\n",
    "ax.set_xlabel(\"epoch\")\n",
    "ax.legend()\n",
    "\n",
    "pass"
   ],
   "outputs": [
    {
     "data": {
      "text/plain": [
       "<Figure size 640x480 with 1 Axes>"
      ],
      "image/png": "[encoded data removed]"
     },
     "metadata": {},
     "output_type": "display_data"
    }
   ],
   "execution_count": 22
  },
  {
   "cell_type": "markdown",
   "metadata": {
    "tags": []
   },
   "source": [
    "## Save track embeddings"
   ]
  },
  {
   "cell_type": "code",
   "metadata": {
    "tags": [],
    "ExecuteTime": {
     "end_time": "2025-03-17T20:47:20.593008Z",
     "start_time": "2025-03-17T20:47:20.588979Z"
    }
   },
   "source": "BOTIFY_DATA_DIR = \"/mnt/c/Users/denis/PycharmProjects/recsys-course-spring-2025/botify/data/\"",
   "outputs": [],
   "execution_count": 23
  },
  {
   "cell_type": "code",
   "metadata": {
    "ExecuteTime": {
     "end_time": "2025-03-17T20:47:21.681135Z",
     "start_time": "2025-03-17T20:47:21.676978Z"
    }
   },
   "source": [
    "biases, embeddings = model.get_item_representations()"
   ],
   "outputs": [],
   "execution_count": 24
  },
  {
   "cell_type": "code",
   "metadata": {
    "ExecuteTime": {
     "end_time": "2025-03-17T20:47:21.874346Z",
     "start_time": "2025-03-17T20:47:21.870604Z"
    }
   },
   "source": [
    "model.item_biases *= 0.0"
   ],
   "outputs": [],
   "execution_count": 25
  },
  {
   "cell_type": "code",
   "metadata": {
    "ExecuteTime": {
     "end_time": "2025-03-17T20:47:22.896695Z",
     "start_time": "2025-03-17T20:47:22.507691Z"
    }
   },
   "source": [
    "track_meta = pd.read_json(BOTIFY_DATA_DIR + \"tracks.json\", lines=True)\n",
    "track_meta[\"dataset_index\"] = track_meta[\"track\"].map(lambda t: dataset.mapping()[2].get(t))"
   ],
   "outputs": [],
   "execution_count": 26
  },
  {
   "cell_type": "code",
   "metadata": {
    "ExecuteTime": {
     "end_time": "2025-03-17T20:47:22.916323Z",
     "start_time": "2025-03-17T20:47:22.904079Z"
    }
   },
   "source": [
    "dataset_tracks = track_meta[pd.notnull(track_meta[\"dataset_index\"])].sort_values(\"dataset_index\")"
   ],
   "outputs": [],
   "execution_count": 27
  },
  {
   "cell_type": "code",
   "metadata": {
    "ExecuteTime": {
     "end_time": "2025-03-17T20:47:24.499779Z",
     "start_time": "2025-03-17T20:47:23.542900Z"
    }
   },
   "source": [
    "writer = tb.SummaryWriter(comment='msd_ligtfm_embeddings', log_dir=DATA_DIR + \"tb\")\n",
    "writer.add_embedding(embeddings, metadata=list(dataset_tracks[[\"artist\", \"title\"]].itertuples(index=False, name=None)), tag=\"lightfm\", metadata_header=[\"artist\", \"title\"])\n",
    "writer.close()"
   ],
   "outputs": [],
   "execution_count": 28
  },
  {
   "cell_type": "markdown",
   "metadata": {},
   "source": [
    "## Compute top recommendations"
   ]
  },
  {
   "cell_type": "code",
   "metadata": {
    "ExecuteTime": {
     "end_time": "2025-03-17T20:47:49.017789Z",
     "start_time": "2025-03-17T20:47:49.007824Z"
    }
   },
   "source": [
    "tracks = dataset_tracks[\"track\"].values\n",
    "users = [user for user, index in sorted(dataset.mapping()[0].items(), key=lambda kv: kv[1])]"
   ],
   "outputs": [],
   "execution_count": 29
  },
  {
   "cell_type": "code",
   "metadata": {
    "ExecuteTime": {
     "end_time": "2025-03-17T20:48:09.672844Z",
     "start_time": "2025-03-17T20:47:53.044233Z"
    }
   },
   "source": [
    "with open(BOTIFY_DATA_DIR + \"recommendations_lfm.json\", \"w\") as rf:\n",
    "    for user_index in tqdm.tqdm(range(dataset.user_features_shape()[0])):\n",
    "        predictions = model.predict(user_index, np.arange(dataset.item_features_shape()[0]), num_threads=30)\n",
    "        top = tracks[np.argsort(predictions)[-30:]]\n",
    "        recommendation = {\n",
    "            \"user\": int(users[user_index]),\n",
    "            \"tracks\": [int(x) for x in top]\n",
    "        }\n",
    "        rf.write(json.dumps(recommendation) + \"\\n\")"
   ],
   "outputs": [
    {
     "name": "stderr",
     "output_type": "stream",
     "text": [
      "100%|██████████| 9692/9692 [00:16<00:00, 583.24it/s]\n"
     ]
    }
   ],
   "execution_count": 30
  },
  {
   "cell_type": "code",
   "execution_count": null,
   "metadata": {},
   "outputs": [],
   "source": []
  }
 ],
 "metadata": {
  "kernelspec": {
   "display_name": "Python 3 (ipykernel)",
   "language": "python",
   "name": "python3"
  },
  "language_info": {
   "codemirror_mode": {
    "name": "ipython",
    "version": 3
   },
   "file_extension": ".py",
   "mimetype": "text/x-python",
   "name": "python",
   "nbconvert_exporter": "python",
   "pygments_lexer": "ipython3",
   "version": "3.8.0"
  }
 },
 "nbformat": 4,
 "nbformat_minor": 4
}
