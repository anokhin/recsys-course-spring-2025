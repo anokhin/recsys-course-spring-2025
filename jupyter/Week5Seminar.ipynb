{
 "cells": [
  {
   "cell_type": "code",
   "metadata": {
    "id": "kHMpmG6mP6ed",
    "ExecuteTime": {
     "end_time": "2025-03-26T10:19:34.484314Z",
     "start_time": "2025-03-26T10:18:59.864380Z"
    }
   },
   "source": [
    "!pip install pytorch_lightning\n",
    "!pip install tensorboardX\n",
    "!pip install faiss-gpu"
   ],
   "outputs": [
    {
     "name": "stdout",
     "output_type": "stream",
     "text": [
      "/bin/bash: warning: setlocale: LC_ALL: cannot change locale (en_US.UTF-8)\r\n",
      "Requirement already satisfied: pytorch_lightning in /home/denis/miniconda3/envs/lightfm_env/lib/python3.9/site-packages (2.5.1)\r\n",
      "Requirement already satisfied: torch>=2.1.0 in /home/denis/miniconda3/envs/lightfm_env/lib/python3.9/site-packages (from pytorch_lightning) (2.5.1.post8)\r\n",
      "Requirement already satisfied: tqdm>=4.57.0 in /home/denis/miniconda3/envs/lightfm_env/lib/python3.9/site-packages (from pytorch_lightning) (4.67.1)\r\n",
      "Requirement already satisfied: PyYAML>=5.4 in /home/denis/miniconda3/envs/lightfm_env/lib/python3.9/site-packages (from pytorch_lightning) (6.0.2)\r\n",
      "Requirement already satisfied: fsspec>=2022.5.0 in /home/denis/miniconda3/envs/lightfm_env/lib/python3.9/site-packages (from fsspec[http]>=2022.5.0->pytorch_lightning) (2025.3.0)\r\n",
      "Requirement already satisfied: torchmetrics>=0.7.0 in /home/denis/miniconda3/envs/lightfm_env/lib/python3.9/site-packages (from pytorch_lightning) (1.7.0)\r\n",
      "Requirement already satisfied: packaging>=20.0 in /home/denis/miniconda3/envs/lightfm_env/lib/python3.9/site-packages (from pytorch_lightning) (24.2)\r\n",
      "Requirement already satisfied: typing-extensions>=4.4.0 in /home/denis/miniconda3/envs/lightfm_env/lib/python3.9/site-packages (from pytorch_lightning) (4.12.2)\r\n",
      "Requirement already satisfied: lightning-utilities>=0.10.0 in /home/denis/miniconda3/envs/lightfm_env/lib/python3.9/site-packages (from pytorch_lightning) (0.14.2)\r\n",
      "Collecting aiohttp!=4.0.0a0,!=4.0.0a1 (from fsspec[http]>=2022.5.0->pytorch_lightning)\r\n",
      "  Downloading aiohttp-3.11.14-cp39-cp39-manylinux_2_17_x86_64.manylinux2014_x86_64.whl.metadata (7.7 kB)\r\n",
      "Requirement already satisfied: setuptools in /home/denis/miniconda3/envs/lightfm_env/lib/python3.9/site-packages (from lightning-utilities>=0.10.0->pytorch_lightning) (75.8.2)\r\n",
      "Requirement already satisfied: filelock in /home/denis/miniconda3/envs/lightfm_env/lib/python3.9/site-packages (from torch>=2.1.0->pytorch_lightning) (3.18.0)\r\n",
      "Requirement already satisfied: sympy!=1.13.2,>=1.13.1 in /home/denis/miniconda3/envs/lightfm_env/lib/python3.9/site-packages (from torch>=2.1.0->pytorch_lightning) (1.13.3)\r\n",
      "Requirement already satisfied: networkx in /home/denis/miniconda3/envs/lightfm_env/lib/python3.9/site-packages (from torch>=2.1.0->pytorch_lightning) (3.2.1)\r\n",
      "Requirement already satisfied: jinja2 in /home/denis/miniconda3/envs/lightfm_env/lib/python3.9/site-packages (from torch>=2.1.0->pytorch_lightning) (3.1.6)\r\n",
      "Requirement already satisfied: numpy>1.20.0 in /home/denis/miniconda3/envs/lightfm_env/lib/python3.9/site-packages (from torchmetrics>=0.7.0->pytorch_lightning) (1.26.4)\r\n",
      "Collecting aiohappyeyeballs>=2.3.0 (from aiohttp!=4.0.0a0,!=4.0.0a1->fsspec[http]>=2022.5.0->pytorch_lightning)\r\n",
      "  Downloading aiohappyeyeballs-2.6.1-py3-none-any.whl.metadata (5.9 kB)\r\n",
      "Collecting aiosignal>=1.1.2 (from aiohttp!=4.0.0a0,!=4.0.0a1->fsspec[http]>=2022.5.0->pytorch_lightning)\r\n",
      "  Downloading aiosignal-1.3.2-py2.py3-none-any.whl.metadata (3.8 kB)\r\n",
      "Collecting async-timeout<6.0,>=4.0 (from aiohttp!=4.0.0a0,!=4.0.0a1->fsspec[http]>=2022.5.0->pytorch_lightning)\r\n",
      "  Using cached async_timeout-5.0.1-py3-none-any.whl.metadata (5.1 kB)\r\n",
      "Requirement already satisfied: attrs>=17.3.0 in /home/denis/miniconda3/envs/lightfm_env/lib/python3.9/site-packages (from aiohttp!=4.0.0a0,!=4.0.0a1->fsspec[http]>=2022.5.0->pytorch_lightning) (25.3.0)\r\n",
      "Collecting frozenlist>=1.1.1 (from aiohttp!=4.0.0a0,!=4.0.0a1->fsspec[http]>=2022.5.0->pytorch_lightning)\r\n",
      "  Downloading frozenlist-1.5.0-cp39-cp39-manylinux_2_5_x86_64.manylinux1_x86_64.manylinux_2_17_x86_64.manylinux2014_x86_64.whl.metadata (13 kB)\r\n",
      "Collecting multidict<7.0,>=4.5 (from aiohttp!=4.0.0a0,!=4.0.0a1->fsspec[http]>=2022.5.0->pytorch_lightning)\r\n",
      "  Downloading multidict-6.2.0-cp39-cp39-manylinux_2_17_x86_64.manylinux2014_x86_64.whl.metadata (4.9 kB)\r\n",
      "Collecting propcache>=0.2.0 (from aiohttp!=4.0.0a0,!=4.0.0a1->fsspec[http]>=2022.5.0->pytorch_lightning)\r\n",
      "  Downloading propcache-0.3.1-cp39-cp39-manylinux_2_17_x86_64.manylinux2014_x86_64.whl.metadata (10 kB)\r\n",
      "Collecting yarl<2.0,>=1.17.0 (from aiohttp!=4.0.0a0,!=4.0.0a1->fsspec[http]>=2022.5.0->pytorch_lightning)\r\n",
      "  Downloading yarl-1.18.3-cp39-cp39-manylinux_2_17_x86_64.manylinux2014_x86_64.whl.metadata (69 kB)\r\n",
      "Requirement already satisfied: mpmath<1.4,>=1.1.0 in /home/denis/miniconda3/envs/lightfm_env/lib/python3.9/site-packages (from sympy!=1.13.2,>=1.13.1->torch>=2.1.0->pytorch_lightning) (1.3.0)\r\n",
      "Requirement already satisfied: MarkupSafe>=2.0 in /home/denis/miniconda3/envs/lightfm_env/lib/python3.9/site-packages (from jinja2->torch>=2.1.0->pytorch_lightning) (3.0.2)\r\n",
      "Requirement already satisfied: idna>=2.0 in /home/denis/miniconda3/envs/lightfm_env/lib/python3.9/site-packages (from yarl<2.0,>=1.17.0->aiohttp!=4.0.0a0,!=4.0.0a1->fsspec[http]>=2022.5.0->pytorch_lightning) (3.10)\r\n",
      "Downloading aiohttp-3.11.14-cp39-cp39-manylinux_2_17_x86_64.manylinux2014_x86_64.whl (1.6 MB)\r\n",
      "\u001B[2K   \u001B[90m━━━━━━━━━━━━━━━━━━━━━━━━━━━━━━━━━━━━━━━━\u001B[0m \u001B[32m1.6/1.6 MB\u001B[0m \u001B[31m6.6 MB/s\u001B[0m eta \u001B[36m0:00:00\u001B[0ma \u001B[36m0:00:01\u001B[0m\r\n",
      "\u001B[?25hDownloading aiohappyeyeballs-2.6.1-py3-none-any.whl (15 kB)\r\n",
      "Downloading aiosignal-1.3.2-py2.py3-none-any.whl (7.6 kB)\r\n",
      "Using cached async_timeout-5.0.1-py3-none-any.whl (6.2 kB)\r\n",
      "Downloading frozenlist-1.5.0-cp39-cp39-manylinux_2_5_x86_64.manylinux1_x86_64.manylinux_2_17_x86_64.manylinux2014_x86_64.whl (242 kB)\r\n",
      "Downloading multidict-6.2.0-cp39-cp39-manylinux_2_17_x86_64.manylinux2014_x86_64.whl (129 kB)\r\n",
      "Downloading propcache-0.3.1-cp39-cp39-manylinux_2_17_x86_64.manylinux2014_x86_64.whl (209 kB)\r\n",
      "Downloading yarl-1.18.3-cp39-cp39-manylinux_2_17_x86_64.manylinux2014_x86_64.whl (321 kB)\r\n",
      "Installing collected packages: propcache, multidict, frozenlist, async-timeout, aiohappyeyeballs, yarl, aiosignal, aiohttp\r\n",
      "Successfully installed aiohappyeyeballs-2.6.1 aiohttp-3.11.14 aiosignal-1.3.2 async-timeout-5.0.1 frozenlist-1.5.0 multidict-6.2.0 propcache-0.3.1 yarl-1.18.3\r\n",
      "/bin/bash: warning: setlocale: LC_ALL: cannot change locale (en_US.UTF-8)\r\n",
      "Requirement already satisfied: tensorboardX in /home/denis/miniconda3/envs/lightfm_env/lib/python3.9/site-packages (2.6.2.2)\r\n",
      "Requirement already satisfied: numpy in /home/denis/miniconda3/envs/lightfm_env/lib/python3.9/site-packages (from tensorboardX) (1.26.4)\r\n",
      "Requirement already satisfied: packaging in /home/denis/miniconda3/envs/lightfm_env/lib/python3.9/site-packages (from tensorboardX) (24.2)\r\n",
      "Requirement already satisfied: protobuf>=3.20 in /home/denis/miniconda3/envs/lightfm_env/lib/python3.9/site-packages (from tensorboardX) (5.28.3)\r\n",
      "/bin/bash: warning: setlocale: LC_ALL: cannot change locale (en_US.UTF-8)\r\n",
      "Collecting faiss-gpu\r\n",
      "  Downloading faiss_gpu-1.7.2-cp39-cp39-manylinux_2_17_x86_64.manylinux2014_x86_64.whl.metadata (1.4 kB)\r\n",
      "Downloading faiss_gpu-1.7.2-cp39-cp39-manylinux_2_17_x86_64.manylinux2014_x86_64.whl (85.5 MB)\r\n",
      "\u001B[2K   \u001B[90m━━━━━━━━━━━━━━━━━━━━━━━━━━━━━━━━━━━━━━━━\u001B[0m \u001B[32m85.5/85.5 MB\u001B[0m \u001B[31m3.9 MB/s\u001B[0m eta \u001B[36m0:00:00\u001B[0m00:01\u001B[0m00:01\u001B[0m\r\n",
      "\u001B[?25hInstalling collected packages: faiss-gpu\r\n",
      "Successfully installed faiss-gpu-1.7.2\r\n"
     ]
    }
   ],
   "execution_count": 4
  },
  {
   "cell_type": "code",
   "metadata": {
    "id": "AmCdRpGMgYpX",
    "ExecuteTime": {
     "end_time": "2025-03-26T10:19:34.494793Z",
     "start_time": "2025-03-26T10:19:34.490694Z"
    }
   },
   "source": [
    "# from google.colab import drive\n",
    "# drive.mount(\"/gdrive\", force_remount=True)"
   ],
   "outputs": [],
   "execution_count": 5
  },
  {
   "cell_type": "code",
   "metadata": {
    "id": "PBWLwwIJfk9v",
    "ExecuteTime": {
     "end_time": "2025-03-26T10:19:34.565896Z",
     "start_time": "2025-03-26T10:19:34.561021Z"
    }
   },
   "source": [
    "import pandas as pd\n",
    "import numpy as np\n",
    "from collections import namedtuple\n",
    "\n",
    "import torch\n",
    "import torch.nn as nn\n",
    "import torch.nn.functional as F\n",
    "import torch.utils.data as td\n",
    "\n",
    "import pytorch_lightning as pl\n",
    "\n",
    "from tqdm.autonotebook import tqdm\n",
    "import json\n",
    "import sklearn.metrics as sm\n",
    "\n",
    "import tensorboardX as tb\n",
    "# import tensorflow as tf\n",
    "import datetime, os\n",
    "\n",
    "import matplotlib.pyplot as plt\n",
    "import seaborn as sns\n",
    "\n",
    "import typing as tp\n",
    "import faiss\n",
    "from sklearn.metrics.pairwise import euclidean_distances\n",
    "from functools import partial\n",
    "import shutil\n",
    "import random\n",
    "\n",
    "np.random.seed(31337)"
   ],
   "outputs": [],
   "execution_count": 6
  },
  {
   "cell_type": "markdown",
   "metadata": {
    "id": "Yc-e9gk73_0N"
   },
   "source": [
    "## Нейросетевой отборщик кандидатов\n",
    "* Нужен, чтобы быстро найти кандидатов для юзера\n",
    "* Обучается с помощью лосса, который учитывает близость эмбеддингов, а не скоры\n",
    "\n",
    "#### Проблема:\n",
    "Допустим, мы обучаем модель, которая ранжирует кандидатов. Отскорить всех кандидатов в real-time мы сможем за O(N). Это не подходит, если кандидатов очень много. Поэтому будем использовать приближенный поиск соседей (LSH, FAISS etc). При этом соседей мы будем находить по расстоянию между вектором юзера и векторами кандиадтов.\n",
    "\n",
    "### Решение:\n",
    "Давайте обучим отдельную модель -- отборщика кандидатов -- которая будет качественно искать ближайших соседей. Для этого смоделируем релевантность с помощью любой метрики, отражающей близость векторов.\n",
    "\n"
   ]
  },
  {
   "cell_type": "code",
   "metadata": {
    "ExecuteTime": {
     "end_time": "2025-03-26T10:22:54.749656Z",
     "start_time": "2025-03-26T10:22:54.743752Z"
    }
   },
   "source": [
    "import glob"
   ],
   "outputs": [],
   "execution_count": 7
  },
  {
   "cell_type": "code",
   "metadata": {
    "ExecuteTime": {
     "end_time": "2025-03-26T10:23:46.859481Z",
     "start_time": "2025-03-26T10:23:46.855238Z"
    }
   },
   "source": [
    "DATA_DIR = \"/Users/sergey.malyshev/projects/edu/2025-itmo-recsys/\""
   ],
   "outputs": [],
   "execution_count": 8
  },
  {
   "cell_type": "code",
   "metadata": {
    "id": "8g9i8tgrfmM9",
    "ExecuteTime": {
     "end_time": "2025-03-26T10:23:47.590870Z",
     "start_time": "2025-03-26T10:23:47.497995Z"
    }
   },
   "source": [
    "data = pd.concat([\n",
    "    pd.read_json(data_path, lines=True) \n",
    "    for data_path \n",
    "    in glob.glob(DATA_DIR + \"/data_10k/*/data.json\")\n",
    "])\n",
    "data[\"rnd\"] = np.random.random(len(data))\n",
    "\n",
    "track_metadata = pd.read_json(\"../botify/data/tracks.json\", lines=True).drop_duplicates(subset=[\"track\"])"
   ],
   "outputs": [
    {
     "ename": "ValueError",
     "evalue": "No objects to concatenate",
     "output_type": "error",
     "traceback": [
      "\u001B[0;31m---------------------------------------------------------------------------\u001B[0m",
      "\u001B[0;31mValueError\u001B[0m                                Traceback (most recent call last)",
      "Cell \u001B[0;32mIn[9], line 1\u001B[0m\n\u001B[0;32m----> 1\u001B[0m data \u001B[38;5;241m=\u001B[39m \u001B[43mpd\u001B[49m\u001B[38;5;241;43m.\u001B[39;49m\u001B[43mconcat\u001B[49m\u001B[43m(\u001B[49m\u001B[43m[\u001B[49m\n\u001B[1;32m      2\u001B[0m \u001B[43m    \u001B[49m\u001B[43mpd\u001B[49m\u001B[38;5;241;43m.\u001B[39;49m\u001B[43mread_json\u001B[49m\u001B[43m(\u001B[49m\u001B[43mdata_path\u001B[49m\u001B[43m,\u001B[49m\u001B[43m \u001B[49m\u001B[43mlines\u001B[49m\u001B[38;5;241;43m=\u001B[39;49m\u001B[38;5;28;43;01mTrue\u001B[39;49;00m\u001B[43m)\u001B[49m\u001B[43m \u001B[49m\n\u001B[1;32m      3\u001B[0m \u001B[43m    \u001B[49m\u001B[38;5;28;43;01mfor\u001B[39;49;00m\u001B[43m \u001B[49m\u001B[43mdata_path\u001B[49m\u001B[43m \u001B[49m\n\u001B[1;32m      4\u001B[0m \u001B[43m    \u001B[49m\u001B[38;5;129;43;01min\u001B[39;49;00m\u001B[43m \u001B[49m\u001B[43mglob\u001B[49m\u001B[38;5;241;43m.\u001B[39;49m\u001B[43mglob\u001B[49m\u001B[43m(\u001B[49m\u001B[43mDATA_DIR\u001B[49m\u001B[43m \u001B[49m\u001B[38;5;241;43m+\u001B[39;49m\u001B[43m \u001B[49m\u001B[38;5;124;43m\"\u001B[39;49m\u001B[38;5;124;43m/data_10k/*/data.json\u001B[39;49m\u001B[38;5;124;43m\"\u001B[39;49m\u001B[43m)\u001B[49m\n\u001B[1;32m      5\u001B[0m \u001B[43m]\u001B[49m\u001B[43m)\u001B[49m\n\u001B[1;32m      6\u001B[0m data[\u001B[38;5;124m\"\u001B[39m\u001B[38;5;124mrnd\u001B[39m\u001B[38;5;124m\"\u001B[39m] \u001B[38;5;241m=\u001B[39m np\u001B[38;5;241m.\u001B[39mrandom\u001B[38;5;241m.\u001B[39mrandom(\u001B[38;5;28mlen\u001B[39m(data))\n\u001B[1;32m      8\u001B[0m track_metadata \u001B[38;5;241m=\u001B[39m pd\u001B[38;5;241m.\u001B[39mread_json(\u001B[38;5;124m\"\u001B[39m\u001B[38;5;124m../botify/data/tracks.json\u001B[39m\u001B[38;5;124m\"\u001B[39m, lines\u001B[38;5;241m=\u001B[39m\u001B[38;5;28;01mTrue\u001B[39;00m)\u001B[38;5;241m.\u001B[39mdrop_duplicates(subset\u001B[38;5;241m=\u001B[39m[\u001B[38;5;124m\"\u001B[39m\u001B[38;5;124mtrack\u001B[39m\u001B[38;5;124m\"\u001B[39m])\n",
      "File \u001B[0;32m~/miniconda3/envs/lightfm_env/lib/python3.9/site-packages/pandas/core/reshape/concat.py:382\u001B[0m, in \u001B[0;36mconcat\u001B[0;34m(objs, axis, join, ignore_index, keys, levels, names, verify_integrity, sort, copy)\u001B[0m\n\u001B[1;32m    379\u001B[0m \u001B[38;5;28;01melif\u001B[39;00m copy \u001B[38;5;129;01mand\u001B[39;00m using_copy_on_write():\n\u001B[1;32m    380\u001B[0m     copy \u001B[38;5;241m=\u001B[39m \u001B[38;5;28;01mFalse\u001B[39;00m\n\u001B[0;32m--> 382\u001B[0m op \u001B[38;5;241m=\u001B[39m \u001B[43m_Concatenator\u001B[49m\u001B[43m(\u001B[49m\n\u001B[1;32m    383\u001B[0m \u001B[43m    \u001B[49m\u001B[43mobjs\u001B[49m\u001B[43m,\u001B[49m\n\u001B[1;32m    384\u001B[0m \u001B[43m    \u001B[49m\u001B[43maxis\u001B[49m\u001B[38;5;241;43m=\u001B[39;49m\u001B[43maxis\u001B[49m\u001B[43m,\u001B[49m\n\u001B[1;32m    385\u001B[0m \u001B[43m    \u001B[49m\u001B[43mignore_index\u001B[49m\u001B[38;5;241;43m=\u001B[39;49m\u001B[43mignore_index\u001B[49m\u001B[43m,\u001B[49m\n\u001B[1;32m    386\u001B[0m \u001B[43m    \u001B[49m\u001B[43mjoin\u001B[49m\u001B[38;5;241;43m=\u001B[39;49m\u001B[43mjoin\u001B[49m\u001B[43m,\u001B[49m\n\u001B[1;32m    387\u001B[0m \u001B[43m    \u001B[49m\u001B[43mkeys\u001B[49m\u001B[38;5;241;43m=\u001B[39;49m\u001B[43mkeys\u001B[49m\u001B[43m,\u001B[49m\n\u001B[1;32m    388\u001B[0m \u001B[43m    \u001B[49m\u001B[43mlevels\u001B[49m\u001B[38;5;241;43m=\u001B[39;49m\u001B[43mlevels\u001B[49m\u001B[43m,\u001B[49m\n\u001B[1;32m    389\u001B[0m \u001B[43m    \u001B[49m\u001B[43mnames\u001B[49m\u001B[38;5;241;43m=\u001B[39;49m\u001B[43mnames\u001B[49m\u001B[43m,\u001B[49m\n\u001B[1;32m    390\u001B[0m \u001B[43m    \u001B[49m\u001B[43mverify_integrity\u001B[49m\u001B[38;5;241;43m=\u001B[39;49m\u001B[43mverify_integrity\u001B[49m\u001B[43m,\u001B[49m\n\u001B[1;32m    391\u001B[0m \u001B[43m    \u001B[49m\u001B[43mcopy\u001B[49m\u001B[38;5;241;43m=\u001B[39;49m\u001B[43mcopy\u001B[49m\u001B[43m,\u001B[49m\n\u001B[1;32m    392\u001B[0m \u001B[43m    \u001B[49m\u001B[43msort\u001B[49m\u001B[38;5;241;43m=\u001B[39;49m\u001B[43msort\u001B[49m\u001B[43m,\u001B[49m\n\u001B[1;32m    393\u001B[0m \u001B[43m\u001B[49m\u001B[43m)\u001B[49m\n\u001B[1;32m    395\u001B[0m \u001B[38;5;28;01mreturn\u001B[39;00m op\u001B[38;5;241m.\u001B[39mget_result()\n",
      "File \u001B[0;32m~/miniconda3/envs/lightfm_env/lib/python3.9/site-packages/pandas/core/reshape/concat.py:445\u001B[0m, in \u001B[0;36m_Concatenator.__init__\u001B[0;34m(self, objs, axis, join, keys, levels, names, ignore_index, verify_integrity, copy, sort)\u001B[0m\n\u001B[1;32m    442\u001B[0m \u001B[38;5;28mself\u001B[39m\u001B[38;5;241m.\u001B[39mverify_integrity \u001B[38;5;241m=\u001B[39m verify_integrity\n\u001B[1;32m    443\u001B[0m \u001B[38;5;28mself\u001B[39m\u001B[38;5;241m.\u001B[39mcopy \u001B[38;5;241m=\u001B[39m copy\n\u001B[0;32m--> 445\u001B[0m objs, keys \u001B[38;5;241m=\u001B[39m \u001B[38;5;28;43mself\u001B[39;49m\u001B[38;5;241;43m.\u001B[39;49m\u001B[43m_clean_keys_and_objs\u001B[49m\u001B[43m(\u001B[49m\u001B[43mobjs\u001B[49m\u001B[43m,\u001B[49m\u001B[43m \u001B[49m\u001B[43mkeys\u001B[49m\u001B[43m)\u001B[49m\n\u001B[1;32m    447\u001B[0m \u001B[38;5;66;03m# figure out what our result ndim is going to be\u001B[39;00m\n\u001B[1;32m    448\u001B[0m ndims \u001B[38;5;241m=\u001B[39m \u001B[38;5;28mself\u001B[39m\u001B[38;5;241m.\u001B[39m_get_ndims(objs)\n",
      "File \u001B[0;32m~/miniconda3/envs/lightfm_env/lib/python3.9/site-packages/pandas/core/reshape/concat.py:507\u001B[0m, in \u001B[0;36m_Concatenator._clean_keys_and_objs\u001B[0;34m(self, objs, keys)\u001B[0m\n\u001B[1;32m    504\u001B[0m     objs_list \u001B[38;5;241m=\u001B[39m \u001B[38;5;28mlist\u001B[39m(objs)\n\u001B[1;32m    506\u001B[0m \u001B[38;5;28;01mif\u001B[39;00m \u001B[38;5;28mlen\u001B[39m(objs_list) \u001B[38;5;241m==\u001B[39m \u001B[38;5;241m0\u001B[39m:\n\u001B[0;32m--> 507\u001B[0m     \u001B[38;5;28;01mraise\u001B[39;00m \u001B[38;5;167;01mValueError\u001B[39;00m(\u001B[38;5;124m\"\u001B[39m\u001B[38;5;124mNo objects to concatenate\u001B[39m\u001B[38;5;124m\"\u001B[39m)\n\u001B[1;32m    509\u001B[0m \u001B[38;5;28;01mif\u001B[39;00m keys \u001B[38;5;129;01mis\u001B[39;00m \u001B[38;5;28;01mNone\u001B[39;00m:\n\u001B[1;32m    510\u001B[0m     objs_list \u001B[38;5;241m=\u001B[39m \u001B[38;5;28mlist\u001B[39m(com\u001B[38;5;241m.\u001B[39mnot_none(\u001B[38;5;241m*\u001B[39mobjs_list))\n",
      "\u001B[0;31mValueError\u001B[0m: No objects to concatenate"
     ]
    }
   ],
   "execution_count": 9
  },
  {
   "cell_type": "code",
   "execution_count": 7,
   "metadata": {},
   "outputs": [
    {
     "data": {
      "text/html": [
       "<div>\n",
       "<style scoped>\n",
       "    .dataframe tbody tr th:only-of-type {\n",
       "        vertical-align: middle;\n",
       "    }\n",
       "\n",
       "    .dataframe tbody tr th {\n",
       "        vertical-align: top;\n",
       "    }\n",
       "\n",
       "    .dataframe thead th {\n",
       "        text-align: right;\n",
       "    }\n",
       "</style>\n",
       "<table border=\"1\" class=\"dataframe\">\n",
       "  <thead>\n",
       "    <tr style=\"text-align: right;\">\n",
       "      <th></th>\n",
       "      <th>message</th>\n",
       "      <th>timestamp</th>\n",
       "      <th>user</th>\n",
       "      <th>track</th>\n",
       "      <th>time</th>\n",
       "      <th>latency</th>\n",
       "      <th>recommendation</th>\n",
       "      <th>experiments</th>\n",
       "      <th>rnd</th>\n",
       "    </tr>\n",
       "  </thead>\n",
       "  <tbody>\n",
       "    <tr>\n",
       "      <th>0</th>\n",
       "      <td>last</td>\n",
       "      <td>2025-03-18 10:49:48.692</td>\n",
       "      <td>5176</td>\n",
       "      <td>18839</td>\n",
       "      <td>0.00</td>\n",
       "      <td>0.000044</td>\n",
       "      <td>NaN</td>\n",
       "      <td>{'STICKY_ARTIST': 'T1'}</td>\n",
       "      <td>0.721852</td>\n",
       "    </tr>\n",
       "    <tr>\n",
       "      <th>1</th>\n",
       "      <td>next</td>\n",
       "      <td>2025-03-18 10:49:48.694</td>\n",
       "      <td>6045</td>\n",
       "      <td>33432</td>\n",
       "      <td>1.00</td>\n",
       "      <td>0.000231</td>\n",
       "      <td>15024.0</td>\n",
       "      <td>{'STICKY_ARTIST': 'C'}</td>\n",
       "      <td>0.966441</td>\n",
       "    </tr>\n",
       "    <tr>\n",
       "      <th>2</th>\n",
       "      <td>next</td>\n",
       "      <td>2025-03-18 10:49:48.695</td>\n",
       "      <td>6045</td>\n",
       "      <td>15024</td>\n",
       "      <td>0.67</td>\n",
       "      <td>0.000173</td>\n",
       "      <td>8389.0</td>\n",
       "      <td>{'STICKY_ARTIST': 'C'}</td>\n",
       "      <td>0.289049</td>\n",
       "    </tr>\n",
       "    <tr>\n",
       "      <th>3</th>\n",
       "      <td>next</td>\n",
       "      <td>2025-03-18 10:49:48.696</td>\n",
       "      <td>6045</td>\n",
       "      <td>8389</td>\n",
       "      <td>0.23</td>\n",
       "      <td>0.000146</td>\n",
       "      <td>46076.0</td>\n",
       "      <td>{'STICKY_ARTIST': 'C'}</td>\n",
       "      <td>0.171346</td>\n",
       "    </tr>\n",
       "    <tr>\n",
       "      <th>4</th>\n",
       "      <td>next</td>\n",
       "      <td>2025-03-18 10:49:48.697</td>\n",
       "      <td>6045</td>\n",
       "      <td>46076</td>\n",
       "      <td>0.07</td>\n",
       "      <td>0.000136</td>\n",
       "      <td>43546.0</td>\n",
       "      <td>{'STICKY_ARTIST': 'C'}</td>\n",
       "      <td>0.371618</td>\n",
       "    </tr>\n",
       "    <tr>\n",
       "      <th>...</th>\n",
       "      <td>...</td>\n",
       "      <td>...</td>\n",
       "      <td>...</td>\n",
       "      <td>...</td>\n",
       "      <td>...</td>\n",
       "      <td>...</td>\n",
       "      <td>...</td>\n",
       "      <td>...</td>\n",
       "      <td>...</td>\n",
       "    </tr>\n",
       "    <tr>\n",
       "      <th>480568</th>\n",
       "      <td>last</td>\n",
       "      <td>2025-03-18 11:06:19.085</td>\n",
       "      <td>7972</td>\n",
       "      <td>37291</td>\n",
       "      <td>0.17</td>\n",
       "      <td>0.000047</td>\n",
       "      <td>NaN</td>\n",
       "      <td>{'STICKY_ARTIST': 'T1'}</td>\n",
       "      <td>0.343984</td>\n",
       "    </tr>\n",
       "    <tr>\n",
       "      <th>480569</th>\n",
       "      <td>next</td>\n",
       "      <td>2025-03-18 11:06:19.088</td>\n",
       "      <td>272</td>\n",
       "      <td>28370</td>\n",
       "      <td>0.00</td>\n",
       "      <td>0.000178</td>\n",
       "      <td>20910.0</td>\n",
       "      <td>{'STICKY_ARTIST': 'C'}</td>\n",
       "      <td>0.692607</td>\n",
       "    </tr>\n",
       "    <tr>\n",
       "      <th>480570</th>\n",
       "      <td>next</td>\n",
       "      <td>2025-03-18 11:06:19.090</td>\n",
       "      <td>272</td>\n",
       "      <td>15984</td>\n",
       "      <td>0.14</td>\n",
       "      <td>0.000192</td>\n",
       "      <td>4419.0</td>\n",
       "      <td>{'STICKY_ARTIST': 'C'}</td>\n",
       "      <td>0.907501</td>\n",
       "    </tr>\n",
       "    <tr>\n",
       "      <th>480571</th>\n",
       "      <td>next</td>\n",
       "      <td>2025-03-18 11:06:19.093</td>\n",
       "      <td>272</td>\n",
       "      <td>10078</td>\n",
       "      <td>0.80</td>\n",
       "      <td>0.000182</td>\n",
       "      <td>33215.0</td>\n",
       "      <td>{'STICKY_ARTIST': 'C'}</td>\n",
       "      <td>0.995075</td>\n",
       "    </tr>\n",
       "    <tr>\n",
       "      <th>480572</th>\n",
       "      <td>last</td>\n",
       "      <td>2025-03-18 11:06:19.095</td>\n",
       "      <td>272</td>\n",
       "      <td>19154</td>\n",
       "      <td>0.00</td>\n",
       "      <td>0.000051</td>\n",
       "      <td>NaN</td>\n",
       "      <td>{'STICKY_ARTIST': 'C'}</td>\n",
       "      <td>0.082035</td>\n",
       "    </tr>\n",
       "  </tbody>\n",
       "</table>\n",
       "<p>961131 rows × 9 columns</p>\n",
       "</div>"
      ],
      "text/plain": [
       "       message               timestamp  user  track  time   latency  \\\n",
       "0         last 2025-03-18 10:49:48.692  5176  18839  0.00  0.000044   \n",
       "1         next 2025-03-18 10:49:48.694  6045  33432  1.00  0.000231   \n",
       "2         next 2025-03-18 10:49:48.695  6045  15024  0.67  0.000173   \n",
       "3         next 2025-03-18 10:49:48.696  6045   8389  0.23  0.000146   \n",
       "4         next 2025-03-18 10:49:48.697  6045  46076  0.07  0.000136   \n",
       "...        ...                     ...   ...    ...   ...       ...   \n",
       "480568    last 2025-03-18 11:06:19.085  7972  37291  0.17  0.000047   \n",
       "480569    next 2025-03-18 11:06:19.088   272  28370  0.00  0.000178   \n",
       "480570    next 2025-03-18 11:06:19.090   272  15984  0.14  0.000192   \n",
       "480571    next 2025-03-18 11:06:19.093   272  10078  0.80  0.000182   \n",
       "480572    last 2025-03-18 11:06:19.095   272  19154  0.00  0.000051   \n",
       "\n",
       "        recommendation              experiments       rnd  \n",
       "0                  NaN  {'STICKY_ARTIST': 'T1'}  0.721852  \n",
       "1              15024.0   {'STICKY_ARTIST': 'C'}  0.966441  \n",
       "2               8389.0   {'STICKY_ARTIST': 'C'}  0.289049  \n",
       "3              46076.0   {'STICKY_ARTIST': 'C'}  0.171346  \n",
       "4              43546.0   {'STICKY_ARTIST': 'C'}  0.371618  \n",
       "...                ...                      ...       ...  \n",
       "480568             NaN  {'STICKY_ARTIST': 'T1'}  0.343984  \n",
       "480569         20910.0   {'STICKY_ARTIST': 'C'}  0.692607  \n",
       "480570          4419.0   {'STICKY_ARTIST': 'C'}  0.907501  \n",
       "480571         33215.0   {'STICKY_ARTIST': 'C'}  0.995075  \n",
       "480572             NaN   {'STICKY_ARTIST': 'C'}  0.082035  \n",
       "\n",
       "[961131 rows x 9 columns]"
      ]
     },
     "execution_count": 7,
     "metadata": {},
     "output_type": "execute_result"
    }
   ],
   "source": [
    "data"
   ]
  },
  {
   "cell_type": "markdown",
   "metadata": {},
   "source": [
    "# NCF"
   ]
  },
  {
   "attachments": {
    "b2fa511c-7cf5-444b-bf68-4330419bb702.png": {
     "image/png": "[encoded data removed]"
    }
   },
   "cell_type": "markdown",
   "metadata": {},
   "source": [
    "![ncf-pic.png](attachment:b2fa511c-7cf5-444b-bf68-4330419bb702.png)"
   ]
  },
  {
   "cell_type": "markdown",
   "metadata": {},
   "source": [
    "## Конфигурим датку для обучения сеточки"
   ]
  },
  {
   "cell_type": "code",
   "metadata": {
    "ExecuteTime": {
     "end_time": "2025-03-26T10:26:38.930852Z",
     "start_time": "2025-03-26T10:26:38.925147Z"
    }
   },
   "source": [
    "class Rating_Datset(torch.utils.data.Dataset):\n",
    "\tdef __init__(self, user_list, item_list, rating_list):\n",
    "\t\tsuper(Rating_Datset, self).__init__()\n",
    "\t\tself.user_list = user_list\n",
    "\t\tself.item_list = item_list\n",
    "\t\tself.rating_list = rating_list\n",
    "\n",
    "\tdef __len__(self):\n",
    "\t\treturn len(self.user_list)\n",
    "\n",
    "\tdef __getitem__(self, idx):\n",
    "\t\tuser = self.user_list[idx]\n",
    "\t\titem = self.item_list[idx]\n",
    "\t\trating = self.rating_list[idx]\n",
    "\n",
    "\t\treturn (\n",
    "\t\t\ttorch.tensor(user, dtype=torch.long),\n",
    "\t\t\ttorch.tensor(item, dtype=torch.long),\n",
    "\t\t\ttorch.tensor(rating, dtype=torch.float)\n",
    "\t\t\t)"
   ],
   "outputs": [],
   "execution_count": 10
  },
  {
   "cell_type": "code",
   "metadata": {
    "ExecuteTime": {
     "end_time": "2025-03-26T10:26:40.593635Z",
     "start_time": "2025-03-26T10:26:40.578681Z"
    }
   },
   "source": [
    "class NCF_Data(object):\n",
    "    \"\"\"\n",
    "    Construct Dataset for NCF\n",
    "    \"\"\"\n",
    "    def __init__(self, ratings, num_ng, num_ng_test, batch_size, seed):\n",
    "        self.ratings = ratings\n",
    "        self.num_ng = num_ng\n",
    "        self.num_ng_test = num_ng_test\n",
    "        self.batch_size = batch_size\n",
    "    \n",
    "        self.preprocess_ratings = self._reindex(self.ratings)\n",
    "    \n",
    "        self.user_pool = set(self.ratings['user_id'].unique())\n",
    "        self.item_pool = set(self.ratings['item_id'].unique())\n",
    "    \n",
    "        self.train_ratings, self.test_ratings = self._leave_one_out(self.preprocess_ratings)\n",
    "        # self.negatives = self._negative_sampling(self.preprocess_ratings)\n",
    "        random.seed(seed)\n",
    "    \n",
    "    def _reindex(self, ratings):\n",
    "        user_list = list(ratings['user'].drop_duplicates())\n",
    "        user2id = {w: i for i, w in enumerate(user_list)}\n",
    "        self.user2id = user2id\n",
    "        self.id2user = {v:k for k, v in self.user2id.items()}\n",
    "        \n",
    "        item_list = list(ratings['track'].drop_duplicates())\n",
    "        item2id = {w: i for i, w in enumerate(item_list)}\n",
    "        self.item2id = item2id\n",
    "        self.id2item = {v:k for k, v in self.item2id.items()}\n",
    "        \n",
    "        ratings['user_id'] = ratings['user'].apply(lambda x: user2id[x])\n",
    "        ratings['item_id'] = ratings['track'].apply(lambda x: item2id[x])\n",
    "        ratings['rating'] = ratings['time'].apply(lambda x: float(x > 0.8))\n",
    "        rating_pos = ratings.loc[ratings['rating'] == 1.0]\n",
    "        return rating_pos.copy(deep=True)\n",
    "    \n",
    "    def _leave_one_out(self, ratings):\n",
    "        ratings['rank_latest'] = ratings.groupby(['user_id'])['timestamp'].rank(method='first', ascending=False)\n",
    "        test = ratings.loc[ratings['rank_latest'] == 1]\n",
    "        train = ratings.loc[ratings['rank_latest'] > 1]\n",
    "        assert train['user_id'].nunique()==test['user_id'].nunique(), 'Not Match Train User with Test User'\n",
    "        return train[['user_id', 'item_id', 'rating']], test[['user_id', 'item_id', 'rating']]\n",
    "    \n",
    "    \n",
    "    # def _negative_sampling(self, ratings):\n",
    "    #     interact_status = (\n",
    "    #         ratings.groupby('user_id')['item_id']\n",
    "    #         .apply(set)\n",
    "    #         .reset_index()\n",
    "    #         .rename(columns={'item_id': 'interacted_items'}))\n",
    "    #     interact_status['negative_items'] = interact_status['interacted_items'].apply(lambda x: self.item_pool - x)\n",
    "    #     interact_status['negative_samples'] = interact_status['negative_items'].apply(lambda x: random.sample(x, self.num_ng_test))\n",
    "    #     return interact_status[['user_id', 'negative_items', 'negative_samples']]\n",
    "    \n",
    "    def get_train_instance(self):\n",
    "        users, items, ratings = [], [], []\n",
    "        # train_ratings = pd.merge(self.train_ratings, self.negatives[['user_id', 'negative_items']], on='user_id')\n",
    "        negatives = np.random.choice(range(50000), size=(len(self.train_ratings), self.num_ng))\n",
    "        # train_ratings['negatives'] = train_ratings['negative_items'].apply(lambda x: random.sample(x, self.num_ng))\n",
    "        self.train_ratings['negatives'] = negatives.tolist()\n",
    "        for row in self.train_ratings.itertuples():\n",
    "            users.append(int(row.user_id))\n",
    "            items.append(int(row.item_id))\n",
    "            ratings.append(float(row.rating))\n",
    "            for i in range(self.num_ng):\n",
    "                users.append(int(row.user_id))\n",
    "                items.append(int(row.negatives[i]))\n",
    "                ratings.append(float(0))  # negative samples get 0 rating\n",
    "        dataset = Rating_Datset(\n",
    "            user_list=users,\n",
    "            item_list=items,\n",
    "            rating_list=ratings)\n",
    "        return torch.utils.data.DataLoader(dataset, batch_size=self.batch_size, shuffle=True, num_workers=0)\n",
    "    \n",
    "    def get_test_instance(self):\n",
    "        users, items, ratings = [], [], []\n",
    "        # test_ratings = pd.merge(self.test_ratings, self.negatives[['user_id', 'negative_samples']], on='user_id')\n",
    "        negatives = np.random.choice(range(50000), size=(len(self.test_ratings), self.num_ng_test))\n",
    "        self.test_ratings['negative_samples'] = negatives.tolist()\n",
    "        for row in self.test_ratings.itertuples():\n",
    "            users.append(int(row.user_id))\n",
    "            items.append(int(row.item_id))\n",
    "            ratings.append(float(row.rating))\n",
    "            for i in getattr(row, 'negative_samples'):\n",
    "                users.append(int(row.user_id))\n",
    "                items.append(int(i))\n",
    "                ratings.append(float(0))\n",
    "        dataset = Rating_Datset(\n",
    "            user_list=users,\n",
    "            item_list=items,\n",
    "            rating_list=ratings)\n",
    "        return torch.utils.data.DataLoader(dataset, batch_size=self.num_ng_test+1, shuffle=False, num_workers=0)"
   ],
   "outputs": [],
   "execution_count": 11
  },
  {
   "cell_type": "code",
   "metadata": {
    "ExecuteTime": {
     "end_time": "2025-03-26T10:26:42.440878Z",
     "start_time": "2025-03-26T10:26:42.436914Z"
    }
   },
   "source": [
    "NUM_NG = 4\n",
    "NUM_NG_TEST = 10\n",
    "BATCH_SIZE = 256\n",
    "SEED = 42"
   ],
   "outputs": [],
   "execution_count": 12
  },
  {
   "cell_type": "code",
   "metadata": {
    "ExecuteTime": {
     "end_time": "2025-03-26T10:26:42.622216Z",
     "start_time": "2025-03-26T10:26:42.568314Z"
    }
   },
   "source": [
    "%%time\n",
    "ncf_data = NCF_Data(ratings=data, num_ng=NUM_NG, num_ng_test=NUM_NG_TEST, batch_size=BATCH_SIZE, seed=SEED)"
   ],
   "outputs": [
    {
     "ename": "NameError",
     "evalue": "name 'data' is not defined",
     "output_type": "error",
     "traceback": [
      "\u001B[0;31m---------------------------------------------------------------------------\u001B[0m",
      "\u001B[0;31mNameError\u001B[0m                                 Traceback (most recent call last)",
      "File \u001B[0;32m<timed exec>:1\u001B[0m\n",
      "\u001B[0;31mNameError\u001B[0m: name 'data' is not defined"
     ]
    }
   ],
   "execution_count": 13
  },
  {
   "cell_type": "code",
   "execution_count": 88,
   "metadata": {},
   "outputs": [
    {
     "name": "stdout",
     "output_type": "stream",
     "text": [
      "CPU times: user 235 ms, sys: 7.59 ms, total: 243 ms\n",
      "Wall time: 242 ms\n"
     ]
    }
   ],
   "source": [
    "%%time\n",
    "ncf_train_loader = ncf_data.get_train_instance()"
   ]
  },
  {
   "cell_type": "code",
   "execution_count": 317,
   "metadata": {},
   "outputs": [
    {
     "data": {
      "text/plain": [
       "<torch.utils.data.dataloader.DataLoader at 0x3f927fee0>"
      ]
     },
     "execution_count": 317,
     "metadata": {},
     "output_type": "execute_result"
    }
   ],
   "source": [
    "ncf_train_loader"
   ]
  },
  {
   "cell_type": "code",
   "execution_count": 89,
   "metadata": {},
   "outputs": [
    {
     "name": "stdout",
     "output_type": "stream",
     "text": [
      "CPU times: user 28.6 ms, sys: 1.46 ms, total: 30 ms\n",
      "Wall time: 28.9 ms\n"
     ]
    }
   ],
   "source": [
    "%%time\n",
    "ncf_test_loader =ncf_data.get_test_instance()"
   ]
  },
  {
   "cell_type": "code",
   "execution_count": 318,
   "metadata": {},
   "outputs": [
    {
     "data": {
      "text/plain": [
       "<torch.utils.data.dataloader.DataLoader at 0x3cebdca90>"
      ]
     },
     "execution_count": 318,
     "metadata": {},
     "output_type": "execute_result"
    }
   ],
   "source": [
    "ncf_test_loader"
   ]
  },
  {
   "cell_type": "markdown",
   "metadata": {},
   "source": [
    "## Конфигурим модель NCF"
   ]
  },
  {
   "cell_type": "code",
   "execution_count": 90,
   "metadata": {},
   "outputs": [],
   "source": [
    "class NeuMF(nn.Module):\n",
    "    def __init__(self, args, num_users, num_items):\n",
    "        super(NeuMF, self).__init__()\n",
    "        self.num_users = num_users\n",
    "        self.num_items = num_items\n",
    "        self.factor_num_mf = args.factor_num\n",
    "        self.factor_num_mlp =  int(args.layers[0]/2)\n",
    "        self.layers = args.layers\n",
    "        self.dropout = args.dropout\n",
    "\n",
    "        self.embedding_user_mlp = nn.Embedding(num_embeddings=self.num_users, embedding_dim=self.factor_num_mlp)\n",
    "        self.embedding_item_mlp = nn.Embedding(num_embeddings=self.num_items, embedding_dim=self.factor_num_mlp)\n",
    "\n",
    "        self.embedding_user_mf = nn.Embedding(num_embeddings=self.num_users, embedding_dim=self.factor_num_mf)\n",
    "        self.embedding_item_mf = nn.Embedding(num_embeddings=self.num_items, embedding_dim=self.factor_num_mf)\n",
    "\n",
    "        self.fc_layers = nn.ModuleList()\n",
    "        for idx, (in_size, out_size) in enumerate(zip(args.layers[:-1], args.layers[1:])):\n",
    "            self.fc_layers.append(torch.nn.Linear(in_size, out_size))\n",
    "            self.fc_layers.append(nn.ReLU())\n",
    "\n",
    "        self.affine_output = nn.Linear(in_features=args.layers[-1] + self.factor_num_mf, out_features=1)\n",
    "        self.logistic = nn.Sigmoid()\n",
    "        self.init_weight()\n",
    "\n",
    "    def init_weight(self):\n",
    "        nn.init.normal_(self.embedding_user_mlp.weight, std=0.01)\n",
    "        nn.init.normal_(self.embedding_item_mlp.weight, std=0.01)\n",
    "        nn.init.normal_(self.embedding_user_mf.weight, std=0.01)\n",
    "        nn.init.normal_(self.embedding_item_mf.weight, std=0.01)\n",
    "\n",
    "        for m in self.fc_layers:\n",
    "            if isinstance(m, nn.Linear):\n",
    "                nn.init.xavier_uniform_(m.weight)\n",
    "\n",
    "        nn.init.xavier_uniform_(self.affine_output.weight)\n",
    "\n",
    "        for m in self.modules():\n",
    "            if isinstance(m, nn.Linear) and m.bias is not None:\n",
    "                m.bias.data.zero_()\n",
    "\n",
    "    def forward(self, user_indices, item_indices):\n",
    "        user_embedding_mlp = self.embedding_user_mlp(user_indices)\n",
    "        item_embedding_mlp = self.embedding_item_mlp(item_indices)\n",
    "\n",
    "        user_embedding_mf = self.embedding_user_mf(user_indices)\n",
    "        item_embedding_mf = self.embedding_item_mf(item_indices)\n",
    "\n",
    "        mlp_vector = torch.cat([user_embedding_mlp, item_embedding_mlp], dim=-1)  # the concat latent vector\n",
    "        mf_vector =torch.mul(user_embedding_mf, item_embedding_mf)\n",
    "\n",
    "        for idx, _ in enumerate(range(len(self.fc_layers))):\n",
    "            mlp_vector = self.fc_layers[idx](mlp_vector)\n",
    "\n",
    "        vector = torch.cat([mlp_vector, mf_vector], dim=-1)\n",
    "        logits = self.affine_output(vector)\n",
    "        rating = self.logistic(logits)\n",
    "        return rating.squeeze()"
   ]
  },
  {
   "cell_type": "code",
   "execution_count": 91,
   "metadata": {},
   "outputs": [],
   "source": [
    "from dataclasses import dataclass\n",
    "from typing import List"
   ]
  },
  {
   "cell_type": "code",
   "execution_count": 320,
   "metadata": {},
   "outputs": [],
   "source": [
    "from datetime import datetime"
   ]
  },
  {
   "cell_type": "code",
   "execution_count": 159,
   "metadata": {},
   "outputs": [],
   "source": [
    "@dataclass\n",
    "class ModelConfig:\n",
    "    \"\"\"Класс для хранения параметров модели NCF\"\"\"\n",
    "    seed: int = 42\n",
    "    lr: float = 0.001\n",
    "    dropout: float = 0.2\n",
    "    batch_size: int = 256\n",
    "    epochs: int = 10\n",
    "    top_k: int = 10\n",
    "    factor_num: int = 32\n",
    "    layers: List[int] = (64, 32, 16, 8)\n",
    "    num_ng: int = 4\n",
    "    num_ng_test: int = 10\n",
    "    out: bool = True\n",
    "\n",
    "    def __post_init__(self):\n",
    "        # Для преобразования кортежа в список при инициализации\n",
    "        if isinstance(self.layers, tuple):\n",
    "            self.layers = list(self.layers)"
   ]
  },
  {
   "cell_type": "code",
   "execution_count": 160,
   "metadata": {},
   "outputs": [],
   "source": [
    "args = ModelConfig()"
   ]
  },
  {
   "cell_type": "code",
   "execution_count": 334,
   "metadata": {},
   "outputs": [],
   "source": [
    "device = torch.device(\"cuda:0\" if torch.cuda.is_available() else \"cpu\")"
   ]
  },
  {
   "cell_type": "code",
   "execution_count": 163,
   "metadata": {},
   "outputs": [],
   "source": [
    "num_users = ncf_data.preprocess_ratings['user_id'].nunique()\n",
    "num_items = 50000"
   ]
  },
  {
   "cell_type": "code",
   "execution_count": 336,
   "metadata": {},
   "outputs": [],
   "source": [
    "import torch.optim as optim"
   ]
  },
  {
   "cell_type": "code",
   "execution_count": 165,
   "metadata": {},
   "outputs": [],
   "source": [
    "model = NeuMF(args, num_users, num_items)\n",
    "model = model.to(device)\n",
    "loss_function = nn.BCELoss()\n",
    "optimizer = optim.Adam(model.parameters(), lr=args.lr)"
   ]
  },
  {
   "cell_type": "code",
   "execution_count": 166,
   "metadata": {},
   "outputs": [],
   "source": [
    "import time"
   ]
  },
  {
   "cell_type": "code",
   "execution_count": 167,
   "metadata": {},
   "outputs": [],
   "source": [
    "from tensorboardX import SummaryWriter"
   ]
  },
  {
   "cell_type": "code",
   "execution_count": 168,
   "metadata": {},
   "outputs": [],
   "source": [
    "writer = SummaryWriter()"
   ]
  },
  {
   "cell_type": "code",
   "execution_count": 169,
   "metadata": {},
   "outputs": [],
   "source": [
    "def get_val_loss(model, test_loader, device):\n",
    "\n",
    "    for user, item, label in test_loader:\n",
    "        user = user.to(device)\n",
    "        item = item.to(device)\n",
    "        label = label.to(device)\n",
    "    \n",
    "        predictions = model(user, item)\n",
    "        loss = loss_function(predictions, label)\n",
    "\n",
    "    return loss"
   ]
  },
  {
   "cell_type": "code",
   "execution_count": 170,
   "metadata": {},
   "outputs": [
    {
     "name": "stdout",
     "output_type": "stream",
     "text": [
      "Epoch 1/10\n",
      "i:  0\n",
      "Loss:  0.6928121447563171\n",
      "i:  1000\n",
      "Loss:  0.46396875381469727\n",
      "i:  2000\n",
      "Loss:  0.5249115824699402\n",
      "0.2899588346481323\n",
      "The time elapse of epoch 001 is: 00: 00: 17\n",
      "Epoch 2/10\n",
      "i:  0\n",
      "Loss:  0.46185117959976196\n",
      "i:  1000\n",
      "Loss:  0.3444156050682068\n",
      "i:  2000\n",
      "Loss:  0.2883836030960083\n",
      "0.23776713013648987\n",
      "The time elapse of epoch 002 is: 00: 00: 16\n",
      "Epoch 3/10\n",
      "i:  0\n",
      "Loss:  0.13155649602413177\n",
      "i:  1000\n",
      "Loss:  0.14644423127174377\n",
      "i:  2000\n",
      "Loss:  0.10592962056398392\n",
      "0.12970729172229767\n",
      "The time elapse of epoch 003 is: 00: 00: 17\n",
      "Epoch 4/10\n",
      "i:  0\n",
      "Loss:  0.03636908903717995\n",
      "i:  1000\n",
      "Loss:  0.02486601285636425\n",
      "i:  2000\n",
      "Loss:  0.023586351424455643\n",
      "0.07613512873649597\n",
      "The time elapse of epoch 004 is: 00: 00: 17\n",
      "Epoch 5/10\n",
      "i:  0\n",
      "Loss:  0.005310818552970886\n",
      "i:  1000\n",
      "Loss:  0.004679571837186813\n",
      "i:  2000\n",
      "Loss:  0.003532339120283723\n",
      "0.06802428513765335\n",
      "The time elapse of epoch 005 is: 00: 00: 17\n",
      "Epoch 6/10\n",
      "i:  0\n",
      "Loss:  0.0012825835729017854\n",
      "i:  1000\n",
      "Loss:  0.0012430737260729074\n",
      "i:  2000\n",
      "Loss:  0.0008467537118121982\n",
      "0.05010661110281944\n",
      "The time elapse of epoch 006 is: 00: 00: 16\n",
      "Epoch 7/10\n",
      "i:  0\n",
      "Loss:  0.000325309403706342\n",
      "i:  1000\n",
      "Loss:  0.00030338033684529364\n",
      "i:  2000\n",
      "Loss:  0.00021144066704437137\n",
      "0.113373763859272\n",
      "The time elapse of epoch 007 is: 00: 00: 16\n",
      "Epoch 8/10\n",
      "i:  0\n",
      "Loss:  0.00019544530368875712\n",
      "i:  1000\n",
      "Loss:  0.00012955784040968865\n",
      "i:  2000\n",
      "Loss:  0.013661352917551994\n",
      "0.09027205407619476\n",
      "The time elapse of epoch 008 is: 00: 00: 16\n",
      "Epoch 9/10\n",
      "i:  0\n",
      "Loss:  4.815939246327616e-05\n",
      "i:  1000\n",
      "Loss:  0.007820305414497852\n",
      "i:  2000\n",
      "Loss:  8.884641283657402e-05\n",
      "0.40370655059814453\n",
      "The time elapse of epoch 009 is: 00: 00: 16\n",
      "Epoch 10/10\n",
      "i:  0\n",
      "Loss:  2.077726458082907e-05\n",
      "i:  1000\n",
      "Loss:  3.0500554203172214e-05\n",
      "i:  2000\n",
      "Loss:  8.893249469110742e-05\n",
      "0.2931036651134491\n",
      "The time elapse of epoch 010 is: 00: 00: 16\n"
     ]
    }
   ],
   "source": [
    "for epoch in range(1, args.epochs+1):\n",
    "    print('Epoch {}/{}'.format(epoch, args.epochs))\n",
    "    model.train() # Enable dropout (if have).\n",
    "    start_time = time.time()\n",
    "    \n",
    "    for i, (user, item, label) in enumerate(ncf_train_loader):\n",
    "        user = user.to(device)\n",
    "        item = item.to(device)\n",
    "        label = label.to(device)\n",
    "    \n",
    "        optimizer.zero_grad()\n",
    "        prediction = model(user, item)\n",
    "        loss = loss_function(prediction, label)\n",
    "        loss.backward()\n",
    "        optimizer.step()\n",
    "        writer.add_scalar('loss/Train_loss', loss.item(), epoch)\n",
    "        if i % 1000 == 0:\n",
    "            print(\"i: \", i)\n",
    "            print(\"Loss: \", loss.item())\n",
    "    val_loss = get_val_loss(model, ncf_test_loader, device)\n",
    "    print(val_loss.item())\n",
    "    writer.add_scalar('loss/Val_loss', val_loss.item(), epoch)\n",
    "    elapsed_time = time.time() - start_time\n",
    "    print(\"The time elapse of epoch {:03d}\".format(epoch) + \" is: \" +\n",
    "            time.strftime(\"%H: %M: %S\", time.gmtime(elapsed_time)))\n",
    "writer.close()"
   ]
  },
  {
   "cell_type": "code",
   "execution_count": 337,
   "metadata": {},
   "outputs": [
    {
     "data": {
      "text/plain": [
       "NeuMF(\n",
       "  (embedding_user_mlp): Embedding(10000, 32)\n",
       "  (embedding_item_mlp): Embedding(50000, 32)\n",
       "  (embedding_user_mf): Embedding(10000, 32)\n",
       "  (embedding_item_mf): Embedding(50000, 32)\n",
       "  (fc_layers): ModuleList(\n",
       "    (0): Linear(in_features=64, out_features=32, bias=True)\n",
       "    (1): ReLU()\n",
       "    (2): Linear(in_features=32, out_features=16, bias=True)\n",
       "    (3): ReLU()\n",
       "    (4): Linear(in_features=16, out_features=8, bias=True)\n",
       "    (5): ReLU()\n",
       "  )\n",
       "  (affine_output): Linear(in_features=40, out_features=1, bias=True)\n",
       "  (logistic): Sigmoid()\n",
       ")"
      ]
     },
     "execution_count": 337,
     "metadata": {},
     "output_type": "execute_result"
    }
   ],
   "source": [
    "model"
   ]
  },
  {
   "cell_type": "code",
   "execution_count": 297,
   "metadata": {},
   "outputs": [],
   "source": [
    "for user in data['user'].unique():\n",
    "    us_id = ncf_data.user2id[user]\n",
    "    pred_item_idx = torch.topk(model(torch.tensor([us_id for _ in range(50000)]), torch.tensor([i for i in range(50000)])), 100)[1]\n",
    "    pred_items = [ncf_data.id2item[i] for i in pred_item_idx.numpy()]"
   ]
  },
  {
   "metadata": {},
   "cell_type": "markdown",
   "source": ""
  },
  {
   "cell_type": "code",
   "execution_count": 314,
   "metadata": {},
   "outputs": [
    {
     "data": {
      "application/vnd.jupyter.widget-view+json": {
       "model_id": "d4b74242ebc74e278d85319cf8584758",
       "version_major": 2,
       "version_minor": 0
      },
      "text/plain": [
       "  0%|          | 0/10000 [00:00<?, ?it/s]"
      ]
     },
     "metadata": {},
     "output_type": "display_data"
    }
   ],
   "source": [
    "with open(\"/Users/sergey.malyshev/projects/edu/2025-itmo-recsys/data_10k/ncf.json\", \"w\") as rf:\n",
    "    # for user, user_emb in tqdm(zip(user_ids, user_embeddings), total=len(user_ids)):\n",
    "    #   # dists, neighbours = index_flat.search(user_emb.astype('float32')[np.newaxis, :], k)\n",
    "    for user in tqdm(data['user'].unique()):\n",
    "        us_id = ncf_data.user2id[user]\n",
    "        pred_item_idx = torch.topk(model(torch.tensor([us_id for _ in range(50000)]), torch.tensor([i for i in range(50000)])), 100)[1]\n",
    "        pred_items = [ncf_data.id2item[i] for i in pred_item_idx.numpy()]\n",
    "        recommendation = {\n",
    "            \"user\": int(user),\n",
    "            \"tracks\": pred_items\n",
    "        }\n",
    "        rf.write(json.dumps(recommendation) + \"\\n\")"
   ]
  },
  {
   "cell_type": "markdown",
   "metadata": {
    "id": "_hBWLFfZ3lsS"
   },
   "source": [
    "### DSSM:\n",
    "[DSSM](https://kishorepv.github.io/DSSM/) модель \"сближает\" эмбеддинги юзера и позитивных айтемов и \"раздвигает\" эмбеддинги юзера и негативных айтемов.\n",
    "\n",
    "#### Архитектура:\n",
    "1.   **ItemModel**: FF нейросеть, которая маппит фичи айтема в латентное пространство модели\n",
    "2.   **UserModel**: FF нейросеть, которая маппит фичи юзера в латентное пространство модели  \n",
    "3.   **Loss**: Triplet loss\n",
    "\n",
    "В кчаестве фичей айтемов будем использовать доступные нам фичи: популярность, жанр. В качестве фичей юзеров будем использовать multi-hot вектора из матрицы интеракций.\n",
    "\n",
    "Если фичей айтемов и юзеров нет, то можно сделать one-hot кодирование, имея айди юзера и айтемов.\n"
   ]
  },
  {
   "attachments": {
    "b02709a6-8ced-4e24-8f35-32d318c3d3b6.jpg": {
     "image/jpeg": "[encoded data removed]"
    }
   },
   "cell_type": "markdown",
   "metadata": {},
   "source": [
    "![dssm-pic.jpg](attachment:b02709a6-8ced-4e24-8f35-32d318c3d3b6.jpg)"
   ]
  },
  {
   "cell_type": "markdown",
   "metadata": {
    "id": "6nV1Vtox2vHt"
   },
   "source": [
    "### Triplet loss\n",
    "\n",
    "$${\\displaystyle {\\mathcal {L}}\\left(A,P,N\\right)=\\operatorname {max} \\left({\\|\\operatorname {f} \\left(A\\right)-\\operatorname {f} \\left(P\\right)\\|}_{2}-{\\|\\operatorname {f} \\left(A\\right)-\\operatorname {f} \\left(N\\right)\\|}_{2}+\\alpha ,0\\right)}$$\n",
    "\n",
    "${f}(A)$ - эмбеддинг юзера,\n",
    "\n",
    "${f}(P)$ - эмбеддинг позитивного айтема,\n",
    "\n",
    "${f}(N)$ - эмбеддинг негативного айтема"
   ]
  },
  {
   "attachments": {
    "d51b090d-5169-4066-a385-801b3f2b4734.webp": {
     "image/webp": "[encoded data removed]"
    }
   },
   "cell_type": "markdown",
   "metadata": {},
   "source": [
    "![triplet_image.webp](attachment:d51b090d-5169-4066-a385-801b3f2b4734.webp)"
   ]
  },
  {
   "cell_type": "markdown",
   "metadata": {
    "id": "OOajTxIa-R8o"
   },
   "source": [
    "### Сбор данных\n",
    "* Триплеты: юзер, позитивный айтем, негативный айтем\n",
    "* Фичи юзера: матрица интеракций\n",
    "* Фичи айтемов: ohe категориальные фичи"
   ]
  },
  {
   "cell_type": "markdown",
   "metadata": {
    "id": "g0b65ZzwAYbE"
   },
   "source": [
    "Отберем позитивные интеракции для фичей юзера"
   ]
  },
  {
   "cell_type": "code",
   "metadata": {
    "id": "lA1Ba7eC3_Cj",
    "ExecuteTime": {
     "end_time": "2025-03-26T11:10:36.199488Z",
     "start_time": "2025-03-26T11:10:35.987420Z"
    }
   },
   "source": [
    "positives = data[data[\"time\"] > 0.8].copy()\n",
    "\n",
    "track_counts = positives.groupby(\"track\").size()\n",
    "tracks = set(track_counts\n",
    "             [track_counts >= 5]\n",
    "             .index.values)\n",
    "\n",
    "data_filt = positives[positives[\"track\"].isin(tracks)]\n",
    "\n",
    "len(data_filt), len(tracks)"
   ],
   "outputs": [
    {
     "ename": "NameError",
     "evalue": "name 'data' is not defined",
     "output_type": "error",
     "traceback": [
      "\u001B[0;31m---------------------------------------------------------------------------\u001B[0m",
      "\u001B[0;31mNameError\u001B[0m                                 Traceback (most recent call last)",
      "Cell \u001B[0;32mIn[1], line 1\u001B[0m\n\u001B[0;32m----> 1\u001B[0m positives \u001B[38;5;241m=\u001B[39m \u001B[43mdata\u001B[49m[data[\u001B[38;5;124m\"\u001B[39m\u001B[38;5;124mtime\u001B[39m\u001B[38;5;124m\"\u001B[39m] \u001B[38;5;241m>\u001B[39m \u001B[38;5;241m0.8\u001B[39m]\u001B[38;5;241m.\u001B[39mcopy()\n\u001B[1;32m      3\u001B[0m track_counts \u001B[38;5;241m=\u001B[39m positives\u001B[38;5;241m.\u001B[39mgroupby(\u001B[38;5;124m\"\u001B[39m\u001B[38;5;124mtrack\u001B[39m\u001B[38;5;124m\"\u001B[39m)\u001B[38;5;241m.\u001B[39msize()\n\u001B[1;32m      4\u001B[0m tracks \u001B[38;5;241m=\u001B[39m \u001B[38;5;28mset\u001B[39m(track_counts\n\u001B[1;32m      5\u001B[0m              [track_counts \u001B[38;5;241m>\u001B[39m\u001B[38;5;241m=\u001B[39m \u001B[38;5;241m5\u001B[39m]\n\u001B[1;32m      6\u001B[0m              \u001B[38;5;241m.\u001B[39mindex\u001B[38;5;241m.\u001B[39mvalues)\n",
      "\u001B[0;31mNameError\u001B[0m: name 'data' is not defined"
     ]
    }
   ],
   "execution_count": 1
  },
  {
   "cell_type": "code",
   "execution_count": 339,
   "metadata": {},
   "outputs": [
    {
     "data": {
      "text/html": [
       "<div>\n",
       "<style scoped>\n",
       "    .dataframe tbody tr th:only-of-type {\n",
       "        vertical-align: middle;\n",
       "    }\n",
       "\n",
       "    .dataframe tbody tr th {\n",
       "        vertical-align: top;\n",
       "    }\n",
       "\n",
       "    .dataframe thead th {\n",
       "        text-align: right;\n",
       "    }\n",
       "</style>\n",
       "<table border=\"1\" class=\"dataframe\">\n",
       "  <thead>\n",
       "    <tr style=\"text-align: right;\">\n",
       "      <th></th>\n",
       "      <th>message</th>\n",
       "      <th>timestamp</th>\n",
       "      <th>user</th>\n",
       "      <th>track</th>\n",
       "      <th>time</th>\n",
       "      <th>latency</th>\n",
       "      <th>recommendation</th>\n",
       "      <th>experiments</th>\n",
       "      <th>rnd</th>\n",
       "      <th>user_id</th>\n",
       "      <th>item_id</th>\n",
       "      <th>rating</th>\n",
       "      <th>rank_latest</th>\n",
       "    </tr>\n",
       "  </thead>\n",
       "  <tbody>\n",
       "    <tr>\n",
       "      <th>1</th>\n",
       "      <td>next</td>\n",
       "      <td>2025-03-18 10:49:48.694</td>\n",
       "      <td>6045</td>\n",
       "      <td>33432</td>\n",
       "      <td>1.0</td>\n",
       "      <td>0.000231</td>\n",
       "      <td>15024.0</td>\n",
       "      <td>{'STICKY_ARTIST': 'C'}</td>\n",
       "      <td>0.966441</td>\n",
       "      <td>1</td>\n",
       "      <td>1</td>\n",
       "      <td>1.0</td>\n",
       "      <td>123.0</td>\n",
       "    </tr>\n",
       "    <tr>\n",
       "      <th>8</th>\n",
       "      <td>next</td>\n",
       "      <td>2025-03-18 10:49:48.703</td>\n",
       "      <td>3336</td>\n",
       "      <td>21365</td>\n",
       "      <td>1.0</td>\n",
       "      <td>0.000214</td>\n",
       "      <td>22922.0</td>\n",
       "      <td>{'STICKY_ARTIST': 'C'}</td>\n",
       "      <td>0.218899</td>\n",
       "      <td>3</td>\n",
       "      <td>8</td>\n",
       "      <td>1.0</td>\n",
       "      <td>125.0</td>\n",
       "    </tr>\n",
       "    <tr>\n",
       "      <th>39</th>\n",
       "      <td>next</td>\n",
       "      <td>2025-03-18 10:49:48.758</td>\n",
       "      <td>8891</td>\n",
       "      <td>14335</td>\n",
       "      <td>1.0</td>\n",
       "      <td>0.000283</td>\n",
       "      <td>3843.0</td>\n",
       "      <td>{'STICKY_ARTIST': 'C'}</td>\n",
       "      <td>0.898421</td>\n",
       "      <td>10</td>\n",
       "      <td>36</td>\n",
       "      <td>1.0</td>\n",
       "      <td>91.0</td>\n",
       "    </tr>\n",
       "    <tr>\n",
       "      <th>91</th>\n",
       "      <td>next</td>\n",
       "      <td>2025-03-18 10:49:48.833</td>\n",
       "      <td>4977</td>\n",
       "      <td>34589</td>\n",
       "      <td>1.0</td>\n",
       "      <td>0.000178</td>\n",
       "      <td>2823.0</td>\n",
       "      <td>{'STICKY_ARTIST': 'C'}</td>\n",
       "      <td>0.204154</td>\n",
       "      <td>24</td>\n",
       "      <td>86</td>\n",
       "      <td>1.0</td>\n",
       "      <td>48.0</td>\n",
       "    </tr>\n",
       "    <tr>\n",
       "      <th>111</th>\n",
       "      <td>next</td>\n",
       "      <td>2025-03-18 10:49:48.859</td>\n",
       "      <td>4981</td>\n",
       "      <td>24323</td>\n",
       "      <td>1.0</td>\n",
       "      <td>0.000216</td>\n",
       "      <td>34064.0</td>\n",
       "      <td>{'STICKY_ARTIST': 'C'}</td>\n",
       "      <td>0.137933</td>\n",
       "      <td>30</td>\n",
       "      <td>106</td>\n",
       "      <td>1.0</td>\n",
       "      <td>114.0</td>\n",
       "    </tr>\n",
       "    <tr>\n",
       "      <th>...</th>\n",
       "      <td>...</td>\n",
       "      <td>...</td>\n",
       "      <td>...</td>\n",
       "      <td>...</td>\n",
       "      <td>...</td>\n",
       "      <td>...</td>\n",
       "      <td>...</td>\n",
       "      <td>...</td>\n",
       "      <td>...</td>\n",
       "      <td>...</td>\n",
       "      <td>...</td>\n",
       "      <td>...</td>\n",
       "      <td>...</td>\n",
       "    </tr>\n",
       "    <tr>\n",
       "      <th>480445</th>\n",
       "      <td>next</td>\n",
       "      <td>2025-03-18 11:06:18.738</td>\n",
       "      <td>3407</td>\n",
       "      <td>41248</td>\n",
       "      <td>1.0</td>\n",
       "      <td>0.000162</td>\n",
       "      <td>35631.0</td>\n",
       "      <td>{'STICKY_ARTIST': 'C'}</td>\n",
       "      <td>0.595224</td>\n",
       "      <td>2343</td>\n",
       "      <td>39433</td>\n",
       "      <td>1.0</td>\n",
       "      <td>8.0</td>\n",
       "    </tr>\n",
       "    <tr>\n",
       "      <th>480453</th>\n",
       "      <td>next</td>\n",
       "      <td>2025-03-18 11:06:18.757</td>\n",
       "      <td>7220</td>\n",
       "      <td>49694</td>\n",
       "      <td>1.0</td>\n",
       "      <td>0.000277</td>\n",
       "      <td>32521.0</td>\n",
       "      <td>{'STICKY_ARTIST': 'C'}</td>\n",
       "      <td>0.341793</td>\n",
       "      <td>6818</td>\n",
       "      <td>10092</td>\n",
       "      <td>1.0</td>\n",
       "      <td>6.0</td>\n",
       "    </tr>\n",
       "    <tr>\n",
       "      <th>480529</th>\n",
       "      <td>next</td>\n",
       "      <td>2025-03-18 11:06:19.002</td>\n",
       "      <td>5284</td>\n",
       "      <td>27775</td>\n",
       "      <td>1.0</td>\n",
       "      <td>0.000172</td>\n",
       "      <td>43280.0</td>\n",
       "      <td>{'STICKY_ARTIST': 'C'}</td>\n",
       "      <td>0.989489</td>\n",
       "      <td>8282</td>\n",
       "      <td>4965</td>\n",
       "      <td>1.0</td>\n",
       "      <td>7.0</td>\n",
       "    </tr>\n",
       "    <tr>\n",
       "      <th>480550</th>\n",
       "      <td>next</td>\n",
       "      <td>2025-03-18 11:06:19.045</td>\n",
       "      <td>1511</td>\n",
       "      <td>14037</td>\n",
       "      <td>1.0</td>\n",
       "      <td>0.000176</td>\n",
       "      <td>17960.0</td>\n",
       "      <td>{'STICKY_ARTIST': 'C'}</td>\n",
       "      <td>0.451598</td>\n",
       "      <td>5594</td>\n",
       "      <td>22603</td>\n",
       "      <td>1.0</td>\n",
       "      <td>6.0</td>\n",
       "    </tr>\n",
       "    <tr>\n",
       "      <th>480556</th>\n",
       "      <td>next</td>\n",
       "      <td>2025-03-18 11:06:19.060</td>\n",
       "      <td>5705</td>\n",
       "      <td>5694</td>\n",
       "      <td>1.0</td>\n",
       "      <td>0.000405</td>\n",
       "      <td>4819.0</td>\n",
       "      <td>{'STICKY_ARTIST': 'T1'}</td>\n",
       "      <td>0.465675</td>\n",
       "      <td>6699</td>\n",
       "      <td>10150</td>\n",
       "      <td>1.0</td>\n",
       "      <td>7.0</td>\n",
       "    </tr>\n",
       "  </tbody>\n",
       "</table>\n",
       "<p>94565 rows × 13 columns</p>\n",
       "</div>"
      ],
      "text/plain": [
       "       message               timestamp  user  track  time   latency  \\\n",
       "1         next 2025-03-18 10:49:48.694  6045  33432   1.0  0.000231   \n",
       "8         next 2025-03-18 10:49:48.703  3336  21365   1.0  0.000214   \n",
       "39        next 2025-03-18 10:49:48.758  8891  14335   1.0  0.000283   \n",
       "91        next 2025-03-18 10:49:48.833  4977  34589   1.0  0.000178   \n",
       "111       next 2025-03-18 10:49:48.859  4981  24323   1.0  0.000216   \n",
       "...        ...                     ...   ...    ...   ...       ...   \n",
       "480445    next 2025-03-18 11:06:18.738  3407  41248   1.0  0.000162   \n",
       "480453    next 2025-03-18 11:06:18.757  7220  49694   1.0  0.000277   \n",
       "480529    next 2025-03-18 11:06:19.002  5284  27775   1.0  0.000172   \n",
       "480550    next 2025-03-18 11:06:19.045  1511  14037   1.0  0.000176   \n",
       "480556    next 2025-03-18 11:06:19.060  5705   5694   1.0  0.000405   \n",
       "\n",
       "        recommendation              experiments       rnd  user_id  item_id  \\\n",
       "1              15024.0   {'STICKY_ARTIST': 'C'}  0.966441        1        1   \n",
       "8              22922.0   {'STICKY_ARTIST': 'C'}  0.218899        3        8   \n",
       "39              3843.0   {'STICKY_ARTIST': 'C'}  0.898421       10       36   \n",
       "91              2823.0   {'STICKY_ARTIST': 'C'}  0.204154       24       86   \n",
       "111            34064.0   {'STICKY_ARTIST': 'C'}  0.137933       30      106   \n",
       "...                ...                      ...       ...      ...      ...   \n",
       "480445         35631.0   {'STICKY_ARTIST': 'C'}  0.595224     2343    39433   \n",
       "480453         32521.0   {'STICKY_ARTIST': 'C'}  0.341793     6818    10092   \n",
       "480529         43280.0   {'STICKY_ARTIST': 'C'}  0.989489     8282     4965   \n",
       "480550         17960.0   {'STICKY_ARTIST': 'C'}  0.451598     5594    22603   \n",
       "480556          4819.0  {'STICKY_ARTIST': 'T1'}  0.465675     6699    10150   \n",
       "\n",
       "        rating  rank_latest  \n",
       "1          1.0        123.0  \n",
       "8          1.0        125.0  \n",
       "39         1.0         91.0  \n",
       "91         1.0         48.0  \n",
       "111        1.0        114.0  \n",
       "...        ...          ...  \n",
       "480445     1.0          8.0  \n",
       "480453     1.0          6.0  \n",
       "480529     1.0          7.0  \n",
       "480550     1.0          6.0  \n",
       "480556     1.0          7.0  \n",
       "\n",
       "[94565 rows x 13 columns]"
      ]
     },
     "execution_count": 339,
     "metadata": {},
     "output_type": "execute_result"
    }
   ],
   "source": [
    "data_filt"
   ]
  },
  {
   "cell_type": "code",
   "execution_count": 250,
   "metadata": {
    "id": "c-xz4M9W1BN0"
   },
   "outputs": [
    {
     "name": "stdout",
     "output_type": "stream",
     "text": [
      "Interactions matrix: \n",
      "shape=(9988, 11228)\n",
      "Sparsity=0.0006803229782400798\n"
     ]
    }
   ],
   "source": [
    "interactions = pd.pivot_table(data_filt, values=\"time\", index=\"user\", columns=\"track\").fillna(0)\n",
    "\n",
    "print(\"Interactions matrix: \\nshape=\" + str(interactions.shape))\n",
    "print(\"Sparsity=\" + str((interactions != 0).values.sum() / interactions.size))"
   ]
  },
  {
   "cell_type": "code",
   "execution_count": 340,
   "metadata": {},
   "outputs": [
    {
     "data": {
      "text/html": [
       "<div>\n",
       "<style scoped>\n",
       "    .dataframe tbody tr th:only-of-type {\n",
       "        vertical-align: middle;\n",
       "    }\n",
       "\n",
       "    .dataframe tbody tr th {\n",
       "        vertical-align: top;\n",
       "    }\n",
       "\n",
       "    .dataframe thead th {\n",
       "        text-align: right;\n",
       "    }\n",
       "</style>\n",
       "<table border=\"1\" class=\"dataframe\">\n",
       "  <thead>\n",
       "    <tr style=\"text-align: right;\">\n",
       "      <th>track</th>\n",
       "      <th>5</th>\n",
       "      <th>12</th>\n",
       "      <th>20</th>\n",
       "      <th>22</th>\n",
       "      <th>23</th>\n",
       "      <th>25</th>\n",
       "      <th>26</th>\n",
       "      <th>27</th>\n",
       "      <th>33</th>\n",
       "      <th>46</th>\n",
       "      <th>...</th>\n",
       "      <th>49955</th>\n",
       "      <th>49957</th>\n",
       "      <th>49959</th>\n",
       "      <th>49964</th>\n",
       "      <th>49976</th>\n",
       "      <th>49984</th>\n",
       "      <th>49988</th>\n",
       "      <th>49994</th>\n",
       "      <th>49996</th>\n",
       "      <th>49999</th>\n",
       "    </tr>\n",
       "    <tr>\n",
       "      <th>user</th>\n",
       "      <th></th>\n",
       "      <th></th>\n",
       "      <th></th>\n",
       "      <th></th>\n",
       "      <th></th>\n",
       "      <th></th>\n",
       "      <th></th>\n",
       "      <th></th>\n",
       "      <th></th>\n",
       "      <th></th>\n",
       "      <th></th>\n",
       "      <th></th>\n",
       "      <th></th>\n",
       "      <th></th>\n",
       "      <th></th>\n",
       "      <th></th>\n",
       "      <th></th>\n",
       "      <th></th>\n",
       "      <th></th>\n",
       "      <th></th>\n",
       "      <th></th>\n",
       "    </tr>\n",
       "  </thead>\n",
       "  <tbody>\n",
       "    <tr>\n",
       "      <th>0</th>\n",
       "      <td>0.0</td>\n",
       "      <td>0.0</td>\n",
       "      <td>0.0</td>\n",
       "      <td>0.0</td>\n",
       "      <td>0.0</td>\n",
       "      <td>0.0</td>\n",
       "      <td>0.0</td>\n",
       "      <td>0.0</td>\n",
       "      <td>0.0</td>\n",
       "      <td>0.0</td>\n",
       "      <td>...</td>\n",
       "      <td>0.0</td>\n",
       "      <td>0.0</td>\n",
       "      <td>0.0</td>\n",
       "      <td>0.0</td>\n",
       "      <td>0.0</td>\n",
       "      <td>0.0</td>\n",
       "      <td>0.0</td>\n",
       "      <td>0.0</td>\n",
       "      <td>0.0</td>\n",
       "      <td>0.0</td>\n",
       "    </tr>\n",
       "    <tr>\n",
       "      <th>1</th>\n",
       "      <td>0.0</td>\n",
       "      <td>0.0</td>\n",
       "      <td>0.0</td>\n",
       "      <td>0.0</td>\n",
       "      <td>0.0</td>\n",
       "      <td>0.0</td>\n",
       "      <td>0.0</td>\n",
       "      <td>0.0</td>\n",
       "      <td>0.0</td>\n",
       "      <td>0.0</td>\n",
       "      <td>...</td>\n",
       "      <td>0.0</td>\n",
       "      <td>0.0</td>\n",
       "      <td>0.0</td>\n",
       "      <td>0.0</td>\n",
       "      <td>0.0</td>\n",
       "      <td>0.0</td>\n",
       "      <td>0.0</td>\n",
       "      <td>0.0</td>\n",
       "      <td>0.0</td>\n",
       "      <td>0.0</td>\n",
       "    </tr>\n",
       "    <tr>\n",
       "      <th>2</th>\n",
       "      <td>0.0</td>\n",
       "      <td>0.0</td>\n",
       "      <td>0.0</td>\n",
       "      <td>0.0</td>\n",
       "      <td>0.0</td>\n",
       "      <td>0.0</td>\n",
       "      <td>0.0</td>\n",
       "      <td>0.0</td>\n",
       "      <td>0.0</td>\n",
       "      <td>0.0</td>\n",
       "      <td>...</td>\n",
       "      <td>0.0</td>\n",
       "      <td>0.0</td>\n",
       "      <td>0.0</td>\n",
       "      <td>0.0</td>\n",
       "      <td>0.0</td>\n",
       "      <td>0.0</td>\n",
       "      <td>0.0</td>\n",
       "      <td>0.0</td>\n",
       "      <td>0.0</td>\n",
       "      <td>0.0</td>\n",
       "    </tr>\n",
       "    <tr>\n",
       "      <th>3</th>\n",
       "      <td>0.0</td>\n",
       "      <td>0.0</td>\n",
       "      <td>0.0</td>\n",
       "      <td>0.0</td>\n",
       "      <td>0.0</td>\n",
       "      <td>0.0</td>\n",
       "      <td>0.0</td>\n",
       "      <td>0.0</td>\n",
       "      <td>0.0</td>\n",
       "      <td>0.0</td>\n",
       "      <td>...</td>\n",
       "      <td>0.0</td>\n",
       "      <td>0.0</td>\n",
       "      <td>0.0</td>\n",
       "      <td>0.0</td>\n",
       "      <td>0.0</td>\n",
       "      <td>0.0</td>\n",
       "      <td>0.0</td>\n",
       "      <td>0.0</td>\n",
       "      <td>0.0</td>\n",
       "      <td>0.0</td>\n",
       "    </tr>\n",
       "    <tr>\n",
       "      <th>4</th>\n",
       "      <td>0.0</td>\n",
       "      <td>0.0</td>\n",
       "      <td>0.0</td>\n",
       "      <td>0.0</td>\n",
       "      <td>0.0</td>\n",
       "      <td>0.0</td>\n",
       "      <td>0.0</td>\n",
       "      <td>0.0</td>\n",
       "      <td>0.0</td>\n",
       "      <td>0.0</td>\n",
       "      <td>...</td>\n",
       "      <td>0.0</td>\n",
       "      <td>0.0</td>\n",
       "      <td>0.0</td>\n",
       "      <td>0.0</td>\n",
       "      <td>0.0</td>\n",
       "      <td>0.0</td>\n",
       "      <td>0.0</td>\n",
       "      <td>0.0</td>\n",
       "      <td>0.0</td>\n",
       "      <td>0.0</td>\n",
       "    </tr>\n",
       "    <tr>\n",
       "      <th>...</th>\n",
       "      <td>...</td>\n",
       "      <td>...</td>\n",
       "      <td>...</td>\n",
       "      <td>...</td>\n",
       "      <td>...</td>\n",
       "      <td>...</td>\n",
       "      <td>...</td>\n",
       "      <td>...</td>\n",
       "      <td>...</td>\n",
       "      <td>...</td>\n",
       "      <td>...</td>\n",
       "      <td>...</td>\n",
       "      <td>...</td>\n",
       "      <td>...</td>\n",
       "      <td>...</td>\n",
       "      <td>...</td>\n",
       "      <td>...</td>\n",
       "      <td>...</td>\n",
       "      <td>...</td>\n",
       "      <td>...</td>\n",
       "      <td>...</td>\n",
       "    </tr>\n",
       "    <tr>\n",
       "      <th>9995</th>\n",
       "      <td>0.0</td>\n",
       "      <td>0.0</td>\n",
       "      <td>0.0</td>\n",
       "      <td>0.0</td>\n",
       "      <td>0.0</td>\n",
       "      <td>0.0</td>\n",
       "      <td>0.0</td>\n",
       "      <td>0.0</td>\n",
       "      <td>0.0</td>\n",
       "      <td>0.0</td>\n",
       "      <td>...</td>\n",
       "      <td>0.0</td>\n",
       "      <td>0.0</td>\n",
       "      <td>0.0</td>\n",
       "      <td>0.0</td>\n",
       "      <td>0.0</td>\n",
       "      <td>0.0</td>\n",
       "      <td>0.0</td>\n",
       "      <td>0.0</td>\n",
       "      <td>0.0</td>\n",
       "      <td>0.0</td>\n",
       "    </tr>\n",
       "    <tr>\n",
       "      <th>9996</th>\n",
       "      <td>0.0</td>\n",
       "      <td>0.0</td>\n",
       "      <td>0.0</td>\n",
       "      <td>0.0</td>\n",
       "      <td>0.0</td>\n",
       "      <td>0.0</td>\n",
       "      <td>0.0</td>\n",
       "      <td>0.0</td>\n",
       "      <td>0.0</td>\n",
       "      <td>0.0</td>\n",
       "      <td>...</td>\n",
       "      <td>0.0</td>\n",
       "      <td>0.0</td>\n",
       "      <td>0.0</td>\n",
       "      <td>0.0</td>\n",
       "      <td>0.0</td>\n",
       "      <td>0.0</td>\n",
       "      <td>0.0</td>\n",
       "      <td>0.0</td>\n",
       "      <td>0.0</td>\n",
       "      <td>0.0</td>\n",
       "    </tr>\n",
       "    <tr>\n",
       "      <th>9997</th>\n",
       "      <td>0.0</td>\n",
       "      <td>0.0</td>\n",
       "      <td>0.0</td>\n",
       "      <td>0.0</td>\n",
       "      <td>0.0</td>\n",
       "      <td>0.0</td>\n",
       "      <td>0.0</td>\n",
       "      <td>0.0</td>\n",
       "      <td>0.0</td>\n",
       "      <td>0.0</td>\n",
       "      <td>...</td>\n",
       "      <td>0.0</td>\n",
       "      <td>0.0</td>\n",
       "      <td>0.0</td>\n",
       "      <td>0.0</td>\n",
       "      <td>0.0</td>\n",
       "      <td>0.0</td>\n",
       "      <td>0.0</td>\n",
       "      <td>0.0</td>\n",
       "      <td>0.0</td>\n",
       "      <td>0.0</td>\n",
       "    </tr>\n",
       "    <tr>\n",
       "      <th>9998</th>\n",
       "      <td>0.0</td>\n",
       "      <td>0.0</td>\n",
       "      <td>0.0</td>\n",
       "      <td>0.0</td>\n",
       "      <td>0.0</td>\n",
       "      <td>0.0</td>\n",
       "      <td>0.0</td>\n",
       "      <td>0.0</td>\n",
       "      <td>0.0</td>\n",
       "      <td>0.0</td>\n",
       "      <td>...</td>\n",
       "      <td>0.0</td>\n",
       "      <td>0.0</td>\n",
       "      <td>0.0</td>\n",
       "      <td>0.0</td>\n",
       "      <td>0.0</td>\n",
       "      <td>0.0</td>\n",
       "      <td>0.0</td>\n",
       "      <td>0.0</td>\n",
       "      <td>0.0</td>\n",
       "      <td>0.0</td>\n",
       "    </tr>\n",
       "    <tr>\n",
       "      <th>9999</th>\n",
       "      <td>0.0</td>\n",
       "      <td>0.0</td>\n",
       "      <td>0.0</td>\n",
       "      <td>0.0</td>\n",
       "      <td>0.0</td>\n",
       "      <td>0.0</td>\n",
       "      <td>0.0</td>\n",
       "      <td>0.0</td>\n",
       "      <td>0.0</td>\n",
       "      <td>0.0</td>\n",
       "      <td>...</td>\n",
       "      <td>0.0</td>\n",
       "      <td>0.0</td>\n",
       "      <td>0.0</td>\n",
       "      <td>0.0</td>\n",
       "      <td>0.0</td>\n",
       "      <td>0.0</td>\n",
       "      <td>0.0</td>\n",
       "      <td>0.0</td>\n",
       "      <td>0.0</td>\n",
       "      <td>0.0</td>\n",
       "    </tr>\n",
       "  </tbody>\n",
       "</table>\n",
       "<p>9988 rows × 11228 columns</p>\n",
       "</div>"
      ],
      "text/plain": [
       "track  5      12     20     22     23     25     26     27     33     46     \\\n",
       "user                                                                          \n",
       "0        0.0    0.0    0.0    0.0    0.0    0.0    0.0    0.0    0.0    0.0   \n",
       "1        0.0    0.0    0.0    0.0    0.0    0.0    0.0    0.0    0.0    0.0   \n",
       "2        0.0    0.0    0.0    0.0    0.0    0.0    0.0    0.0    0.0    0.0   \n",
       "3        0.0    0.0    0.0    0.0    0.0    0.0    0.0    0.0    0.0    0.0   \n",
       "4        0.0    0.0    0.0    0.0    0.0    0.0    0.0    0.0    0.0    0.0   \n",
       "...      ...    ...    ...    ...    ...    ...    ...    ...    ...    ...   \n",
       "9995     0.0    0.0    0.0    0.0    0.0    0.0    0.0    0.0    0.0    0.0   \n",
       "9996     0.0    0.0    0.0    0.0    0.0    0.0    0.0    0.0    0.0    0.0   \n",
       "9997     0.0    0.0    0.0    0.0    0.0    0.0    0.0    0.0    0.0    0.0   \n",
       "9998     0.0    0.0    0.0    0.0    0.0    0.0    0.0    0.0    0.0    0.0   \n",
       "9999     0.0    0.0    0.0    0.0    0.0    0.0    0.0    0.0    0.0    0.0   \n",
       "\n",
       "track  ...  49955  49957  49959  49964  49976  49984  49988  49994  49996  \\\n",
       "user   ...                                                                  \n",
       "0      ...    0.0    0.0    0.0    0.0    0.0    0.0    0.0    0.0    0.0   \n",
       "1      ...    0.0    0.0    0.0    0.0    0.0    0.0    0.0    0.0    0.0   \n",
       "2      ...    0.0    0.0    0.0    0.0    0.0    0.0    0.0    0.0    0.0   \n",
       "3      ...    0.0    0.0    0.0    0.0    0.0    0.0    0.0    0.0    0.0   \n",
       "4      ...    0.0    0.0    0.0    0.0    0.0    0.0    0.0    0.0    0.0   \n",
       "...    ...    ...    ...    ...    ...    ...    ...    ...    ...    ...   \n",
       "9995   ...    0.0    0.0    0.0    0.0    0.0    0.0    0.0    0.0    0.0   \n",
       "9996   ...    0.0    0.0    0.0    0.0    0.0    0.0    0.0    0.0    0.0   \n",
       "9997   ...    0.0    0.0    0.0    0.0    0.0    0.0    0.0    0.0    0.0   \n",
       "9998   ...    0.0    0.0    0.0    0.0    0.0    0.0    0.0    0.0    0.0   \n",
       "9999   ...    0.0    0.0    0.0    0.0    0.0    0.0    0.0    0.0    0.0   \n",
       "\n",
       "track  49999  \n",
       "user          \n",
       "0        0.0  \n",
       "1        0.0  \n",
       "2        0.0  \n",
       "3        0.0  \n",
       "4        0.0  \n",
       "...      ...  \n",
       "9995     0.0  \n",
       "9996     0.0  \n",
       "9997     0.0  \n",
       "9998     0.0  \n",
       "9999     0.0  \n",
       "\n",
       "[9988 rows x 11228 columns]"
      ]
     },
     "execution_count": 340,
     "metadata": {},
     "output_type": "execute_result"
    }
   ],
   "source": [
    "interactions"
   ]
  },
  {
   "cell_type": "markdown",
   "metadata": {
    "id": "yZx5w9YN8VrL"
   },
   "source": [
    "Отберем фичи айтемов: популярность и жанр"
   ]
  },
  {
   "cell_type": "code",
   "execution_count": 343,
   "metadata": {
    "scrolled": true
   },
   "outputs": [
    {
     "data": {
      "text/html": [
       "<div>\n",
       "<style scoped>\n",
       "    .dataframe tbody tr th:only-of-type {\n",
       "        vertical-align: middle;\n",
       "    }\n",
       "\n",
       "    .dataframe tbody tr th {\n",
       "        vertical-align: top;\n",
       "    }\n",
       "\n",
       "    .dataframe thead th {\n",
       "        text-align: right;\n",
       "    }\n",
       "</style>\n",
       "<table border=\"1\" class=\"dataframe\">\n",
       "  <thead>\n",
       "    <tr style=\"text-align: right;\">\n",
       "      <th></th>\n",
       "      <th>artist</th>\n",
       "      <th>album</th>\n",
       "      <th>title</th>\n",
       "      <th>genre</th>\n",
       "      <th>pop</th>\n",
       "      <th>duration</th>\n",
       "      <th>track</th>\n",
       "    </tr>\n",
       "  </thead>\n",
       "  <tbody>\n",
       "    <tr>\n",
       "      <th>0</th>\n",
       "      <td>Михаил Бублик</td>\n",
       "      <td>ART-Обстрел I-часть</td>\n",
       "      <td>Сорок тысяч верст</td>\n",
       "      <td>[1, 47]</td>\n",
       "      <td>-0.500252</td>\n",
       "      <td>282</td>\n",
       "      <td>41164</td>\n",
       "    </tr>\n",
       "    <tr>\n",
       "      <th>1</th>\n",
       "      <td>Xamdam Sobirov</td>\n",
       "      <td>Baxtli Bo'lolmadik</td>\n",
       "      <td>Baxtli Bo'lolmadik</td>\n",
       "      <td>[1]</td>\n",
       "      <td>-0.942953</td>\n",
       "      <td>205</td>\n",
       "      <td>27544</td>\n",
       "    </tr>\n",
       "    <tr>\n",
       "      <th>2</th>\n",
       "      <td>Сергей Какенов</td>\n",
       "      <td>Ишимская шпана</td>\n",
       "      <td>Крутые лагеря</td>\n",
       "      <td>[147]</td>\n",
       "      <td>-0.801382</td>\n",
       "      <td>252</td>\n",
       "      <td>34702</td>\n",
       "    </tr>\n",
       "    <tr>\n",
       "      <th>3</th>\n",
       "      <td>Loc-Dog</td>\n",
       "      <td>Electrodog 2</td>\n",
       "      <td>Еду убивать</td>\n",
       "      <td>[17]</td>\n",
       "      <td>-0.577525</td>\n",
       "      <td>276</td>\n",
       "      <td>45907</td>\n",
       "    </tr>\n",
       "    <tr>\n",
       "      <th>4</th>\n",
       "      <td>Gafur</td>\n",
       "      <td>Февраль</td>\n",
       "      <td>Февраль</td>\n",
       "      <td>[1]</td>\n",
       "      <td>-0.738636</td>\n",
       "      <td>160</td>\n",
       "      <td>14978</td>\n",
       "    </tr>\n",
       "  </tbody>\n",
       "</table>\n",
       "</div>"
      ],
      "text/plain": [
       "           artist                album               title    genre       pop  \\\n",
       "0   Михаил Бублик  ART-Обстрел I-часть   Сорок тысяч верст  [1, 47] -0.500252   \n",
       "1  Xamdam Sobirov   Baxtli Bo'lolmadik  Baxtli Bo'lolmadik      [1] -0.942953   \n",
       "2  Сергей Какенов       Ишимская шпана       Крутые лагеря    [147] -0.801382   \n",
       "3         Loc-Dog         Electrodog 2         Еду убивать     [17] -0.577525   \n",
       "4           Gafur              Февраль             Февраль      [1] -0.738636   \n",
       "\n",
       "   duration  track  \n",
       "0       282  41164  \n",
       "1       205  27544  \n",
       "2       252  34702  \n",
       "3       276  45907  \n",
       "4       160  14978  "
      ]
     },
     "execution_count": 343,
     "metadata": {},
     "output_type": "execute_result"
    }
   ],
   "source": [
    "track_metadata.head()"
   ]
  },
  {
   "cell_type": "code",
   "execution_count": 341,
   "metadata": {
    "id": "qGWndWyfr446"
   },
   "outputs": [
    {
     "data": {
      "text/plain": [
       "((50000, 7),\n",
       " artist      0\n",
       " album       0\n",
       " title       0\n",
       " genre       0\n",
       " pop         0\n",
       " duration    0\n",
       " track       0\n",
       " dtype: int64)"
      ]
     },
     "execution_count": 341,
     "metadata": {},
     "output_type": "execute_result"
    }
   ],
   "source": [
    "track_metadata.shape, track_metadata.isnull().sum(axis = 0)"
   ]
  },
  {
   "cell_type": "code",
   "execution_count": 344,
   "metadata": {
    "id": "ZIJNR8jThuKi"
   },
   "outputs": [],
   "source": [
    "track_metadata = track_metadata.fillna(value={'genre': 'Unk'})"
   ]
  },
  {
   "cell_type": "code",
   "execution_count": 345,
   "metadata": {},
   "outputs": [],
   "source": [
    "dummy_features = pd.get_dummies(track_metadata[\"genre\"].apply(lambda x: x[0]))"
   ]
  },
  {
   "cell_type": "code",
   "execution_count": 346,
   "metadata": {},
   "outputs": [],
   "source": [
    "dummies = pd.get_dummies(track_metadata[\"genre\"].explode()).groupby(level=0).sum()"
   ]
  },
  {
   "cell_type": "code",
   "execution_count": 347,
   "metadata": {},
   "outputs": [],
   "source": [
    "item_features = pd.concat([track_metadata[[\"track\", \"pop\"]], dummies], axis=1).set_index(\"track\", drop=True)"
   ]
  },
  {
   "cell_type": "code",
   "execution_count": 348,
   "metadata": {},
   "outputs": [
    {
     "data": {
      "text/html": [
       "<div>\n",
       "<style scoped>\n",
       "    .dataframe tbody tr th:only-of-type {\n",
       "        vertical-align: middle;\n",
       "    }\n",
       "\n",
       "    .dataframe tbody tr th {\n",
       "        vertical-align: top;\n",
       "    }\n",
       "\n",
       "    .dataframe thead th {\n",
       "        text-align: right;\n",
       "    }\n",
       "</style>\n",
       "<table border=\"1\" class=\"dataframe\">\n",
       "  <thead>\n",
       "    <tr style=\"text-align: right;\">\n",
       "      <th></th>\n",
       "      <th>pop</th>\n",
       "      <th>1</th>\n",
       "      <th>2</th>\n",
       "      <th>3</th>\n",
       "      <th>4</th>\n",
       "      <th>5</th>\n",
       "      <th>6</th>\n",
       "      <th>7</th>\n",
       "      <th>8</th>\n",
       "      <th>9</th>\n",
       "      <th>...</th>\n",
       "      <th>144</th>\n",
       "      <th>145</th>\n",
       "      <th>147</th>\n",
       "      <th>148</th>\n",
       "      <th>149</th>\n",
       "      <th>150</th>\n",
       "      <th>151</th>\n",
       "      <th>152</th>\n",
       "      <th>153</th>\n",
       "      <th>154</th>\n",
       "    </tr>\n",
       "    <tr>\n",
       "      <th>track</th>\n",
       "      <th></th>\n",
       "      <th></th>\n",
       "      <th></th>\n",
       "      <th></th>\n",
       "      <th></th>\n",
       "      <th></th>\n",
       "      <th></th>\n",
       "      <th></th>\n",
       "      <th></th>\n",
       "      <th></th>\n",
       "      <th></th>\n",
       "      <th></th>\n",
       "      <th></th>\n",
       "      <th></th>\n",
       "      <th></th>\n",
       "      <th></th>\n",
       "      <th></th>\n",
       "      <th></th>\n",
       "      <th></th>\n",
       "      <th></th>\n",
       "      <th></th>\n",
       "    </tr>\n",
       "  </thead>\n",
       "  <tbody>\n",
       "    <tr>\n",
       "      <th>41164</th>\n",
       "      <td>-0.500252</td>\n",
       "      <td>1</td>\n",
       "      <td>0</td>\n",
       "      <td>0</td>\n",
       "      <td>0</td>\n",
       "      <td>0</td>\n",
       "      <td>0</td>\n",
       "      <td>0</td>\n",
       "      <td>0</td>\n",
       "      <td>0</td>\n",
       "      <td>...</td>\n",
       "      <td>0</td>\n",
       "      <td>0</td>\n",
       "      <td>0</td>\n",
       "      <td>0</td>\n",
       "      <td>0</td>\n",
       "      <td>0</td>\n",
       "      <td>0</td>\n",
       "      <td>0</td>\n",
       "      <td>0</td>\n",
       "      <td>0</td>\n",
       "    </tr>\n",
       "    <tr>\n",
       "      <th>27544</th>\n",
       "      <td>-0.942953</td>\n",
       "      <td>1</td>\n",
       "      <td>0</td>\n",
       "      <td>0</td>\n",
       "      <td>0</td>\n",
       "      <td>0</td>\n",
       "      <td>0</td>\n",
       "      <td>0</td>\n",
       "      <td>0</td>\n",
       "      <td>0</td>\n",
       "      <td>...</td>\n",
       "      <td>0</td>\n",
       "      <td>0</td>\n",
       "      <td>0</td>\n",
       "      <td>0</td>\n",
       "      <td>0</td>\n",
       "      <td>0</td>\n",
       "      <td>0</td>\n",
       "      <td>0</td>\n",
       "      <td>0</td>\n",
       "      <td>0</td>\n",
       "    </tr>\n",
       "    <tr>\n",
       "      <th>34702</th>\n",
       "      <td>-0.801382</td>\n",
       "      <td>0</td>\n",
       "      <td>0</td>\n",
       "      <td>0</td>\n",
       "      <td>0</td>\n",
       "      <td>0</td>\n",
       "      <td>0</td>\n",
       "      <td>0</td>\n",
       "      <td>0</td>\n",
       "      <td>0</td>\n",
       "      <td>...</td>\n",
       "      <td>0</td>\n",
       "      <td>0</td>\n",
       "      <td>1</td>\n",
       "      <td>0</td>\n",
       "      <td>0</td>\n",
       "      <td>0</td>\n",
       "      <td>0</td>\n",
       "      <td>0</td>\n",
       "      <td>0</td>\n",
       "      <td>0</td>\n",
       "    </tr>\n",
       "    <tr>\n",
       "      <th>45907</th>\n",
       "      <td>-0.577525</td>\n",
       "      <td>0</td>\n",
       "      <td>0</td>\n",
       "      <td>0</td>\n",
       "      <td>0</td>\n",
       "      <td>0</td>\n",
       "      <td>0</td>\n",
       "      <td>0</td>\n",
       "      <td>0</td>\n",
       "      <td>0</td>\n",
       "      <td>...</td>\n",
       "      <td>0</td>\n",
       "      <td>0</td>\n",
       "      <td>0</td>\n",
       "      <td>0</td>\n",
       "      <td>0</td>\n",
       "      <td>0</td>\n",
       "      <td>0</td>\n",
       "      <td>0</td>\n",
       "      <td>0</td>\n",
       "      <td>0</td>\n",
       "    </tr>\n",
       "    <tr>\n",
       "      <th>14978</th>\n",
       "      <td>-0.738636</td>\n",
       "      <td>1</td>\n",
       "      <td>0</td>\n",
       "      <td>0</td>\n",
       "      <td>0</td>\n",
       "      <td>0</td>\n",
       "      <td>0</td>\n",
       "      <td>0</td>\n",
       "      <td>0</td>\n",
       "      <td>0</td>\n",
       "      <td>...</td>\n",
       "      <td>0</td>\n",
       "      <td>0</td>\n",
       "      <td>0</td>\n",
       "      <td>0</td>\n",
       "      <td>0</td>\n",
       "      <td>0</td>\n",
       "      <td>0</td>\n",
       "      <td>0</td>\n",
       "      <td>0</td>\n",
       "      <td>0</td>\n",
       "    </tr>\n",
       "  </tbody>\n",
       "</table>\n",
       "<p>5 rows × 92 columns</p>\n",
       "</div>"
      ],
      "text/plain": [
       "            pop  1  2  3  4  5  6  7  8  9  ...  144  145  147  148  149  150  \\\n",
       "track                                       ...                                 \n",
       "41164 -0.500252  1  0  0  0  0  0  0  0  0  ...    0    0    0    0    0    0   \n",
       "27544 -0.942953  1  0  0  0  0  0  0  0  0  ...    0    0    0    0    0    0   \n",
       "34702 -0.801382  0  0  0  0  0  0  0  0  0  ...    0    0    1    0    0    0   \n",
       "45907 -0.577525  0  0  0  0  0  0  0  0  0  ...    0    0    0    0    0    0   \n",
       "14978 -0.738636  1  0  0  0  0  0  0  0  0  ...    0    0    0    0    0    0   \n",
       "\n",
       "       151  152  153  154  \n",
       "track                      \n",
       "41164    0    0    0    0  \n",
       "27544    0    0    0    0  \n",
       "34702    0    0    0    0  \n",
       "45907    0    0    0    0  \n",
       "14978    0    0    0    0  \n",
       "\n",
       "[5 rows x 92 columns]"
      ]
     },
     "execution_count": 348,
     "metadata": {},
     "output_type": "execute_result"
    }
   ],
   "source": [
    "item_features.head()"
   ]
  },
  {
   "cell_type": "code",
   "execution_count": 258,
   "metadata": {},
   "outputs": [],
   "source": [
    "# item_features['log_pop'] = np.log(item_features['pop'])"
   ]
  },
  {
   "cell_type": "code",
   "execution_count": 349,
   "metadata": {
    "id": "aWpRk9DJhx1A"
   },
   "outputs": [
    {
     "data": {
      "text/plain": [
       "(50000, 92)"
      ]
     },
     "execution_count": 349,
     "metadata": {},
     "output_type": "execute_result"
    }
   ],
   "source": [
    "# item_features = pd.concat([track_metadata[[\"track\", \"pop\"]], dummy_features], axis=1).set_index(\"track\", drop=True)\n",
    "item_features.shape"
   ]
  },
  {
   "cell_type": "markdown",
   "metadata": {
    "id": "faZWRGAwHEWQ"
   },
   "source": [
    "Соберем трейн сразу по тройкам объектов:\n",
    "\n",
    "uid, iid_pos, iid_neg\n",
    "\n",
    "* pos - позитивный айтем из сессиии\n",
    "* neg - случайный айтем из всего каталога"
   ]
  },
  {
   "cell_type": "code",
   "execution_count": 350,
   "metadata": {
    "id": "L6bKkHN5JtUH"
   },
   "outputs": [],
   "source": [
    "triplets = data_filt[[\"user\", \"track\"]].rename(columns={\"track\": \"track_pos\"})"
   ]
  },
  {
   "cell_type": "code",
   "execution_count": 351,
   "metadata": {
    "id": "Q8nMB0TSyKFf"
   },
   "outputs": [],
   "source": [
    "NUM_NEGATIVE_SAMPLES = 10\n",
    "triplets =  pd.concat([triplets] * NUM_NEGATIVE_SAMPLES).sort_index().reset_index(drop=True)\n",
    "triplets[\"track_neg\"] = np.random.choice(range(50000), len(triplets))"
   ]
  },
  {
   "cell_type": "code",
   "execution_count": 352,
   "metadata": {},
   "outputs": [
    {
     "data": {
      "text/html": [
       "<div>\n",
       "<style scoped>\n",
       "    .dataframe tbody tr th:only-of-type {\n",
       "        vertical-align: middle;\n",
       "    }\n",
       "\n",
       "    .dataframe tbody tr th {\n",
       "        vertical-align: top;\n",
       "    }\n",
       "\n",
       "    .dataframe thead th {\n",
       "        text-align: right;\n",
       "    }\n",
       "</style>\n",
       "<table border=\"1\" class=\"dataframe\">\n",
       "  <thead>\n",
       "    <tr style=\"text-align: right;\">\n",
       "      <th></th>\n",
       "      <th>user</th>\n",
       "      <th>track_pos</th>\n",
       "      <th>track_neg</th>\n",
       "    </tr>\n",
       "  </thead>\n",
       "  <tbody>\n",
       "    <tr>\n",
       "      <th>0</th>\n",
       "      <td>6045</td>\n",
       "      <td>33432</td>\n",
       "      <td>35090</td>\n",
       "    </tr>\n",
       "    <tr>\n",
       "      <th>1</th>\n",
       "      <td>6045</td>\n",
       "      <td>33432</td>\n",
       "      <td>35128</td>\n",
       "    </tr>\n",
       "    <tr>\n",
       "      <th>2</th>\n",
       "      <td>6045</td>\n",
       "      <td>33432</td>\n",
       "      <td>6520</td>\n",
       "    </tr>\n",
       "    <tr>\n",
       "      <th>3</th>\n",
       "      <td>6045</td>\n",
       "      <td>33432</td>\n",
       "      <td>8378</td>\n",
       "    </tr>\n",
       "    <tr>\n",
       "      <th>4</th>\n",
       "      <td>6045</td>\n",
       "      <td>33432</td>\n",
       "      <td>9971</td>\n",
       "    </tr>\n",
       "    <tr>\n",
       "      <th>...</th>\n",
       "      <td>...</td>\n",
       "      <td>...</td>\n",
       "      <td>...</td>\n",
       "    </tr>\n",
       "    <tr>\n",
       "      <th>945645</th>\n",
       "      <td>5705</td>\n",
       "      <td>5694</td>\n",
       "      <td>23062</td>\n",
       "    </tr>\n",
       "    <tr>\n",
       "      <th>945646</th>\n",
       "      <td>5705</td>\n",
       "      <td>5694</td>\n",
       "      <td>5950</td>\n",
       "    </tr>\n",
       "    <tr>\n",
       "      <th>945647</th>\n",
       "      <td>5705</td>\n",
       "      <td>5694</td>\n",
       "      <td>30495</td>\n",
       "    </tr>\n",
       "    <tr>\n",
       "      <th>945648</th>\n",
       "      <td>5705</td>\n",
       "      <td>5694</td>\n",
       "      <td>26721</td>\n",
       "    </tr>\n",
       "    <tr>\n",
       "      <th>945649</th>\n",
       "      <td>5705</td>\n",
       "      <td>5694</td>\n",
       "      <td>617</td>\n",
       "    </tr>\n",
       "  </tbody>\n",
       "</table>\n",
       "<p>945650 rows × 3 columns</p>\n",
       "</div>"
      ],
      "text/plain": [
       "        user  track_pos  track_neg\n",
       "0       6045      33432      35090\n",
       "1       6045      33432      35128\n",
       "2       6045      33432       6520\n",
       "3       6045      33432       8378\n",
       "4       6045      33432       9971\n",
       "...      ...        ...        ...\n",
       "945645  5705       5694      23062\n",
       "945646  5705       5694       5950\n",
       "945647  5705       5694      30495\n",
       "945648  5705       5694      26721\n",
       "945649  5705       5694        617\n",
       "\n",
       "[945650 rows x 3 columns]"
      ]
     },
     "execution_count": 352,
     "metadata": {},
     "output_type": "execute_result"
    }
   ],
   "source": [
    "triplets"
   ]
  },
  {
   "cell_type": "markdown",
   "metadata": {
    "id": "ZYLSQ96Zbwr9"
   },
   "source": [
    "Разобьем тройки на train, val, test"
   ]
  },
  {
   "cell_type": "code",
   "execution_count": 353,
   "metadata": {
    "id": "Qb2n71PAbwHK"
   },
   "outputs": [
    {
     "data": {
      "text/plain": [
       "(756710, 94638, 94302)"
      ]
     },
     "execution_count": 353,
     "metadata": {},
     "output_type": "execute_result"
    }
   ],
   "source": [
    "rdm = np.random.random(len(triplets))\n",
    "train_data = triplets[rdm < 0.8]\n",
    "val_data = triplets[(rdm >= 0.8) & (rdm < 0.9)]\n",
    "test_data = triplets[rdm >= 0.9]\n",
    "\n",
    "len(train_data), len(val_data), len(test_data)"
   ]
  },
  {
   "cell_type": "code",
   "execution_count": 354,
   "metadata": {
    "id": "G82x4L0lifAj"
   },
   "outputs": [
    {
     "data": {
      "text/plain": [
       "((50000, 92), (9988, 11228))"
      ]
     },
     "execution_count": 354,
     "metadata": {},
     "output_type": "execute_result"
    }
   ],
   "source": [
    "item_features.shape, interactions.shape"
   ]
  },
  {
   "cell_type": "code",
   "execution_count": 355,
   "metadata": {
    "id": "djkimxU8E_tg"
   },
   "outputs": [],
   "source": [
    "from random import shuffle\n",
    "\n",
    "def pad_with_specific_value(lst, size, val):\n",
    "    lst = list(set(lst))\n",
    "    shuffle(lst)\n",
    "    lst = lst[:size]\n",
    "    return np.pad(lst, (0, size - len(lst)), 'constant', constant_values=(val))\n",
    "\n",
    "padded_users = triplets.groupby(\"user\").apply(lambda x: (\n",
    "    pad_with_specific_value(x['track_pos'].tolist(), 30, 50000).tolist()\n",
    "))\n",
    "\n",
    "padded_users = padded_users.reindex(range(10000), fill_value=[50000] * 30)\n",
    "padded_users = np.stack(padded_users.values)"
   ]
  },
  {
   "cell_type": "code",
   "execution_count": 356,
   "metadata": {
    "id": "8qajx2uohDqL"
   },
   "outputs": [
    {
     "data": {
      "text/plain": [
       "array([[40528, 10676, 47482, ..., 50000, 50000, 50000],\n",
       "       [10289,   802,  8400, ..., 50000, 50000, 50000],\n",
       "       [31000,  8285, 21052, ..., 50000, 50000, 50000],\n",
       "       ...,\n",
       "       [14451, 13112,  2768, ..., 50000, 50000, 50000],\n",
       "       [23128, 34886, 46308, ..., 50000, 50000, 50000],\n",
       "       [28219, 37530,  3604, ..., 50000, 50000, 50000]])"
      ]
     },
     "execution_count": 356,
     "metadata": {},
     "output_type": "execute_result"
    }
   ],
   "source": [
    "padded_users"
   ]
  },
  {
   "cell_type": "markdown",
   "metadata": {
    "id": "g8KU74hOGqxO"
   },
   "source": [
    "### Создаем датасет для оубчения\n",
    "\n",
    "Он должен возвращать 3 тензора:\n",
    "\n",
    "*   user_feaures\n",
    "*   item_features_pos\n",
    "*   item_features_neg\n",
    "\n"
   ]
  },
  {
   "cell_type": "code",
   "execution_count": 268,
   "metadata": {
    "id": "o2GL8vu_Gvl3"
   },
   "outputs": [],
   "source": [
    "class DSSMData(pl.LightningDataModule):\n",
    "  def __init__(self, train_triplets, val_triplets, test_triplets, item_features, padded_users):\n",
    "      super().__init__()\n",
    "      self.train_triplets = train_triplets\n",
    "      self.val_triplets = val_triplets\n",
    "      self.test_triplets = test_triplets\n",
    "      self.item_features = item_features\n",
    "      self.padded_users = padded_users\n",
    "\n",
    "  def _collect_data(self, triplets):\n",
    "      users = triplets[\"user\"].values\n",
    "      positives = triplets[\"track_pos\"].values\n",
    "      negatives = triplets[\"track_neg\"].values\n",
    "\n",
    "      # Wipe out positive interacted tracks from user listen history\n",
    "      listened_tracks = self.padded_users[users]\n",
    "      listened_tracks[listened_tracks == positives.reshape(-1, 1)] = 50000\n",
    "      listened_tracks[listened_tracks == negatives.reshape(-1, 1)] = 50000\n",
    "\n",
    "      return td.TensorDataset(\n",
    "            torch.from_numpy(listened_tracks).long(),\n",
    "            torch.from_numpy(item_features.loc[positives].values).double(),\n",
    "            torch.from_numpy(item_features.loc[negatives].values).double()\n",
    "      )\n",
    "\n",
    "  def prepare_data(self, stage=None):\n",
    "      if stage == \"fit\" or stage is None:\n",
    "        self.train_dataset = self._collect_data(self.train_triplets)\n",
    "        self.val_dataset = self._collect_data(self.val_triplets)\n",
    "      elif stage == \"test\" or stage is None:\n",
    "        self.test_dataset = self._collect_data(self.test_triplets)\n",
    "\n",
    "  def train_dataloader(self):\n",
    "      return td.DataLoader(self.train_dataset, batch_size=2048, shuffle=True, num_workers=0)\n",
    "\n",
    "  def val_dataloader(self):\n",
    "      return td.DataLoader(self.val_dataset, batch_size=2048, num_workers=0)\n",
    "\n",
    "  def test_dataloader(self):\n",
    "      return td.DataLoader(self.test_dataset, batch_size=2048, shuffle=False, num_workers=0)"
   ]
  },
  {
   "cell_type": "markdown",
   "metadata": {
    "id": "ao7sknxb_t1t"
   },
   "source": [
    "### DSSM-модель"
   ]
  },
  {
   "cell_type": "code",
   "execution_count": 269,
   "metadata": {
    "id": "LtKX8AVoc18i"
   },
   "outputs": [],
   "source": [
    "class DSSM(pl.LightningModule):\n",
    "    def __init__(\n",
    "        self,\n",
    "        dim_item_features: int,\n",
    "        item_number: int,\n",
    "        embedding_dim: int = 100,\n",
    "        activation: tp.Callable[[torch.Tensor], torch.Tensor] = F.relu,\n",
    "        lr: float = 1e-3,\n",
    "        triplet_loss_margin: float = 0.4,\n",
    "        weight_decay: float = 1e-6,\n",
    "        log_to_prog_bar: bool = True,\n",
    "    ) -> None:\n",
    "        super().__init__()\n",
    "        self.lr = lr\n",
    "        self.triplet_loss_margin = triplet_loss_margin\n",
    "        self.weight_decay = weight_decay\n",
    "        self.log_to_prog_bar = log_to_prog_bar\n",
    "        self.item_net = ItemNet(embedding_dim, dim_item_features, activation)\n",
    "        self.user_net = UserNet(embedding_dim, item_number)\n",
    "\n",
    "    def forward(\n",
    "        self,\n",
    "        user_ids: torch.Tensor,\n",
    "        item_features_pos: torch.Tensor,\n",
    "        item_features_neg: torch.Tensor,\n",
    "    ) -> tp.Tuple[torch.Tensor, torch.Tensor, torch.Tensor]:\n",
    "        anchor = self.user_net(user_ids)\n",
    "        pos = self.item_net(item_features_pos)\n",
    "        neg = self.item_net(item_features_neg)\n",
    "\n",
    "        return anchor, pos, neg\n",
    "\n",
    "    def _step(self, batch, batch_idx, metric, prog_bar=False):\n",
    "        user_ids, pos, neg = batch\n",
    "        anchor, positive, negative = self(user_ids, pos, neg)\n",
    "        loss = F.triplet_margin_loss(anchor, positive, negative, margin=self.triplet_loss_margin)\n",
    "        self.log(metric, loss, prog_bar=prog_bar)\n",
    "        return loss\n",
    "\n",
    "    def training_step(self, batch: tp.Sequence[torch.Tensor], batch_idx: int) -> torch.Tensor:\n",
    "        return self._step(batch, batch_idx, \"train_loss\")\n",
    "\n",
    "    def validation_step(self, batch: tp.Sequence[torch.Tensor], batch_idx: int) -> torch.Tensor:\n",
    "        return self._step(batch, batch_idx, \"val_loss\", self.log_to_prog_bar)\n",
    "\n",
    "    def test_step(self, batch, batch_idx, prog_bar=False):\n",
    "        return self._step(batch, batch_idx, \"test_loss\", self.log_to_prog_bar)\n",
    "\n",
    "    def inference(self, dataloader: td.DataLoader[tp.Any], mode: str = \"item\") -> np.ndarray:\n",
    "        batches = []\n",
    "        user_ids = []\n",
    "        if(mode == \"user\"):\n",
    "          model = self.user_net\n",
    "        elif(mode == \"item\"):\n",
    "          model = self.item_net\n",
    "        else:\n",
    "          raise ValueError(f\"Unsupported model {mode}!\")\n",
    "\n",
    "        self.eval()\n",
    "        for batch in dataloader:\n",
    "            ids, features = batch\n",
    "            with torch.no_grad():\n",
    "                v_batch = model(features.to(self.device))\n",
    "            batches.append(v_batch)\n",
    "            user_ids.append(ids)\n",
    "        vectors = torch.cat(batches, dim=0).cpu().numpy()\n",
    "        vectors_ids = torch.cat(user_ids, dim=0).cpu().numpy()\n",
    "        return vectors_ids, vectors\n",
    "\n",
    "    def configure_optimizers(self):\n",
    "        optimizer = torch.optim.Adam(self.parameters(), lr=self.lr, weight_decay=self.weight_decay)\n",
    "        lr_scheduler = torch.optim.lr_scheduler.ReduceLROnPlateau(optimizer, patience=3, verbose=True)\n",
    "        scheduler = {\n",
    "            'scheduler': lr_scheduler,\n",
    "            'monitor': 'val_loss'\n",
    "        }\n",
    "        return [optimizer], [scheduler]"
   ]
  },
  {
   "cell_type": "code",
   "execution_count": 270,
   "metadata": {
    "id": "6h5-80IAjYA6"
   },
   "outputs": [],
   "source": [
    "class ItemNet(nn.Module):\n",
    "    def __init__(self, n_factors: int, dim_input: int, activation: tp.Callable[[torch.Tensor], torch.Tensor] = F.relu) -> None:\n",
    "        super().__init__()\n",
    "        self.embedding_layer = nn.Linear(dim_input - 1, 32, bias=False)\n",
    "        self.dense_layer = nn.Linear(32 + 1, n_factors, bias=False)\n",
    "        self.output_layer = nn.Linear(n_factors + 32, n_factors, bias=False)\n",
    "        self.activation = activation\n",
    "\n",
    "    def forward(self, item_features: torch.Tensor) -> torch.Tensor:\n",
    "        popularity = item_features[:, 0].view(-1, 1)\n",
    "        genre_emb = self.embedding_layer(item_features[:, 1:])\n",
    "\n",
    "        pop_genre = torch.concat([popularity, genre_emb], axis=1)\n",
    "        features = self.activation(self.dense_layer(pop_genre))\n",
    "\n",
    "        genre_features = torch.concat([genre_emb, features], axis=1)\n",
    "        output = self.output_layer(genre_features)\n",
    "        return output\n",
    "\n",
    "class UserNet(nn.Module):\n",
    "    def __init__(self, n_factors: int, num_embeddings: int, activation: tp.Callable[[torch.Tensor], torch.Tensor] = F.relu) -> None:\n",
    "        super().__init__()\n",
    "        self.track_embeddings = nn.EmbeddingBag(num_embeddings+1, n_factors, padding_idx=num_embeddings)\n",
    "        self.dense_layer = nn.Linear(n_factors, n_factors, bias=False)\n",
    "        self.output_layer = nn.Linear(n_factors + n_factors, n_factors, bias=False)\n",
    "        self.activation = activation\n",
    "\n",
    "    def forward(self, user_tracks: torch.Tensor) -> torch.Tensor:\n",
    "        interactions_emb = self.track_embeddings(user_tracks)\n",
    "        features = self.activation(self.dense_layer(interactions_emb))\n",
    "        x = torch.concat([interactions_emb, features], axis=1)\n",
    "        output = self.output_layer(x)\n",
    "        return output"
   ]
  },
  {
   "cell_type": "code",
   "execution_count": null,
   "metadata": {},
   "outputs": [],
   "source": []
  },
  {
   "cell_type": "markdown",
   "metadata": {
    "id": "BAmavbC2JMAH"
   },
   "source": [
    "Конфигурируем обучение"
   ]
  },
  {
   "cell_type": "code",
   "execution_count": 360,
   "metadata": {
    "id": "b3XKIDk6Phrw"
   },
   "outputs": [
    {
     "name": "stderr",
     "output_type": "stream",
     "text": [
      "GPU available: True (mps), used: False\n",
      "TPU available: False, using: 0 TPU cores\n",
      "HPU available: False, using: 0 HPUs\n",
      "/Users/sergey.malyshev/projects/edu/2025-itmo-recsys/itmo_recsys_2025/lib/python3.8/site-packages/pytorch_lightning/trainer/setup.py:177: GPU available but not used. You can set it by doing `Trainer(accelerator='gpu')`.\n"
     ]
    }
   ],
   "source": [
    "data_module = DSSMData(train_data, val_data, test_data, item_features, padded_users)\n",
    "net = DSSM(dim_item_features=92, item_number=50000, embedding_dim=64).double()\n",
    "\n",
    "checkpoint_callback = pl.callbacks.ModelCheckpoint(monitor=\"val_loss\")\n",
    "\n",
    "trainer = pl.Trainer(\n",
    "    max_epochs=30,\n",
    "    accelerator='cpu',\n",
    "    devices=1,\n",
    "    callbacks=[\n",
    "        pl.callbacks.early_stopping.EarlyStopping(monitor=\"val_loss\", patience=5),\n",
    "        pl.callbacks.LearningRateMonitor(logging_interval=\"step\"),\n",
    "        checkpoint_callback,\n",
    "    ])"
   ]
  },
  {
   "cell_type": "code",
   "execution_count": 272,
   "metadata": {},
   "outputs": [],
   "source": [
    "# for batch in data_module.train_dataloader():\n",
    "#     break\n",
    "# data_module.train_dataloader"
   ]
  },
  {
   "cell_type": "code",
   "execution_count": 361,
   "metadata": {
    "id": "uLVE_fA-iuxR"
   },
   "outputs": [
    {
     "name": "stderr",
     "output_type": "stream",
     "text": [
      "/Users/sergey.malyshev/projects/edu/2025-itmo-recsys/itmo_recsys_2025/lib/python3.8/site-packages/torch/optim/lr_scheduler.py:60: UserWarning: The verbose parameter is deprecated. Please use get_last_lr() to access the learning rate.\n",
      "  warnings.warn(\n",
      "\n",
      "  | Name     | Type    | Params | Mode \n",
      "---------------------------------------------\n",
      "0 | item_net | ItemNet | 11.2 K | train\n",
      "1 | user_net | UserNet | 3.2 M  | train\n",
      "---------------------------------------------\n",
      "3.2 M     Trainable params\n",
      "0         Non-trainable params\n",
      "3.2 M     Total params\n",
      "12.894    Total estimated model params size (MB)\n",
      "8         Modules in train mode\n",
      "0         Modules in eval mode\n"
     ]
    },
    {
     "data": {
      "application/vnd.jupyter.widget-view+json": {
       "model_id": "",
       "version_major": 2,
       "version_minor": 0
      },
      "text/plain": [
       "Sanity Checking: |                                        | 0/? [00:00<?, ?it/s]"
      ]
     },
     "metadata": {},
     "output_type": "display_data"
    },
    {
     "name": "stderr",
     "output_type": "stream",
     "text": [
      "/Users/sergey.malyshev/projects/edu/2025-itmo-recsys/itmo_recsys_2025/lib/python3.8/site-packages/pytorch_lightning/trainer/connectors/data_connector.py:424: The 'val_dataloader' does not have many workers which may be a bottleneck. Consider increasing the value of the `num_workers` argument` to `num_workers=11` in the `DataLoader` to improve performance.\n",
      "/Users/sergey.malyshev/projects/edu/2025-itmo-recsys/itmo_recsys_2025/lib/python3.8/site-packages/pytorch_lightning/trainer/connectors/data_connector.py:424: The 'train_dataloader' does not have many workers which may be a bottleneck. Consider increasing the value of the `num_workers` argument` to `num_workers=11` in the `DataLoader` to improve performance.\n"
     ]
    },
    {
     "data": {
      "application/vnd.jupyter.widget-view+json": {
       "model_id": "5fe0ae187fb84804b5ab7990052a792c",
       "version_major": 2,
       "version_minor": 0
      },
      "text/plain": [
       "Training: |                                               | 0/? [00:00<?, ?it/s]"
      ]
     },
     "metadata": {},
     "output_type": "display_data"
    },
    {
     "data": {
      "application/vnd.jupyter.widget-view+json": {
       "model_id": "",
       "version_major": 2,
       "version_minor": 0
      },
      "text/plain": [
       "Validation: |                                             | 0/? [00:00<?, ?it/s]"
      ]
     },
     "metadata": {},
     "output_type": "display_data"
    },
    {
     "data": {
      "application/vnd.jupyter.widget-view+json": {
       "model_id": "",
       "version_major": 2,
       "version_minor": 0
      },
      "text/plain": [
       "Validation: |                                             | 0/? [00:00<?, ?it/s]"
      ]
     },
     "metadata": {},
     "output_type": "display_data"
    },
    {
     "data": {
      "application/vnd.jupyter.widget-view+json": {
       "model_id": "",
       "version_major": 2,
       "version_minor": 0
      },
      "text/plain": [
       "Validation: |                                             | 0/? [00:00<?, ?it/s]"
      ]
     },
     "metadata": {},
     "output_type": "display_data"
    },
    {
     "data": {
      "application/vnd.jupyter.widget-view+json": {
       "model_id": "",
       "version_major": 2,
       "version_minor": 0
      },
      "text/plain": [
       "Validation: |                                             | 0/? [00:00<?, ?it/s]"
      ]
     },
     "metadata": {},
     "output_type": "display_data"
    },
    {
     "data": {
      "application/vnd.jupyter.widget-view+json": {
       "model_id": "",
       "version_major": 2,
       "version_minor": 0
      },
      "text/plain": [
       "Validation: |                                             | 0/? [00:00<?, ?it/s]"
      ]
     },
     "metadata": {},
     "output_type": "display_data"
    },
    {
     "data": {
      "application/vnd.jupyter.widget-view+json": {
       "model_id": "",
       "version_major": 2,
       "version_minor": 0
      },
      "text/plain": [
       "Validation: |                                             | 0/? [00:00<?, ?it/s]"
      ]
     },
     "metadata": {},
     "output_type": "display_data"
    },
    {
     "data": {
      "application/vnd.jupyter.widget-view+json": {
       "model_id": "",
       "version_major": 2,
       "version_minor": 0
      },
      "text/plain": [
       "Validation: |                                             | 0/? [00:00<?, ?it/s]"
      ]
     },
     "metadata": {},
     "output_type": "display_data"
    },
    {
     "data": {
      "application/vnd.jupyter.widget-view+json": {
       "model_id": "",
       "version_major": 2,
       "version_minor": 0
      },
      "text/plain": [
       "Validation: |                                             | 0/? [00:00<?, ?it/s]"
      ]
     },
     "metadata": {},
     "output_type": "display_data"
    },
    {
     "data": {
      "application/vnd.jupyter.widget-view+json": {
       "model_id": "",
       "version_major": 2,
       "version_minor": 0
      },
      "text/plain": [
       "Validation: |                                             | 0/? [00:00<?, ?it/s]"
      ]
     },
     "metadata": {},
     "output_type": "display_data"
    },
    {
     "data": {
      "application/vnd.jupyter.widget-view+json": {
       "model_id": "",
       "version_major": 2,
       "version_minor": 0
      },
      "text/plain": [
       "Validation: |                                             | 0/? [00:00<?, ?it/s]"
      ]
     },
     "metadata": {},
     "output_type": "display_data"
    },
    {
     "data": {
      "application/vnd.jupyter.widget-view+json": {
       "model_id": "",
       "version_major": 2,
       "version_minor": 0
      },
      "text/plain": [
       "Validation: |                                             | 0/? [00:00<?, ?it/s]"
      ]
     },
     "metadata": {},
     "output_type": "display_data"
    },
    {
     "data": {
      "application/vnd.jupyter.widget-view+json": {
       "model_id": "",
       "version_major": 2,
       "version_minor": 0
      },
      "text/plain": [
       "Validation: |                                             | 0/? [00:00<?, ?it/s]"
      ]
     },
     "metadata": {},
     "output_type": "display_data"
    },
    {
     "data": {
      "application/vnd.jupyter.widget-view+json": {
       "model_id": "",
       "version_major": 2,
       "version_minor": 0
      },
      "text/plain": [
       "Validation: |                                             | 0/? [00:00<?, ?it/s]"
      ]
     },
     "metadata": {},
     "output_type": "display_data"
    },
    {
     "data": {
      "application/vnd.jupyter.widget-view+json": {
       "model_id": "",
       "version_major": 2,
       "version_minor": 0
      },
      "text/plain": [
       "Validation: |                                             | 0/? [00:00<?, ?it/s]"
      ]
     },
     "metadata": {},
     "output_type": "display_data"
    },
    {
     "data": {
      "application/vnd.jupyter.widget-view+json": {
       "model_id": "",
       "version_major": 2,
       "version_minor": 0
      },
      "text/plain": [
       "Validation: |                                             | 0/? [00:00<?, ?it/s]"
      ]
     },
     "metadata": {},
     "output_type": "display_data"
    },
    {
     "data": {
      "application/vnd.jupyter.widget-view+json": {
       "model_id": "",
       "version_major": 2,
       "version_minor": 0
      },
      "text/plain": [
       "Validation: |                                             | 0/? [00:00<?, ?it/s]"
      ]
     },
     "metadata": {},
     "output_type": "display_data"
    },
    {
     "data": {
      "application/vnd.jupyter.widget-view+json": {
       "model_id": "",
       "version_major": 2,
       "version_minor": 0
      },
      "text/plain": [
       "Validation: |                                             | 0/? [00:00<?, ?it/s]"
      ]
     },
     "metadata": {},
     "output_type": "display_data"
    },
    {
     "data": {
      "application/vnd.jupyter.widget-view+json": {
       "model_id": "",
       "version_major": 2,
       "version_minor": 0
      },
      "text/plain": [
       "Validation: |                                             | 0/? [00:00<?, ?it/s]"
      ]
     },
     "metadata": {},
     "output_type": "display_data"
    },
    {
     "data": {
      "application/vnd.jupyter.widget-view+json": {
       "model_id": "",
       "version_major": 2,
       "version_minor": 0
      },
      "text/plain": [
       "Validation: |                                             | 0/? [00:00<?, ?it/s]"
      ]
     },
     "metadata": {},
     "output_type": "display_data"
    },
    {
     "data": {
      "application/vnd.jupyter.widget-view+json": {
       "model_id": "",
       "version_major": 2,
       "version_minor": 0
      },
      "text/plain": [
       "Validation: |                                             | 0/? [00:00<?, ?it/s]"
      ]
     },
     "metadata": {},
     "output_type": "display_data"
    },
    {
     "data": {
      "application/vnd.jupyter.widget-view+json": {
       "model_id": "",
       "version_major": 2,
       "version_minor": 0
      },
      "text/plain": [
       "Validation: |                                             | 0/? [00:00<?, ?it/s]"
      ]
     },
     "metadata": {},
     "output_type": "display_data"
    },
    {
     "data": {
      "application/vnd.jupyter.widget-view+json": {
       "model_id": "",
       "version_major": 2,
       "version_minor": 0
      },
      "text/plain": [
       "Validation: |                                             | 0/? [00:00<?, ?it/s]"
      ]
     },
     "metadata": {},
     "output_type": "display_data"
    },
    {
     "data": {
      "application/vnd.jupyter.widget-view+json": {
       "model_id": "",
       "version_major": 2,
       "version_minor": 0
      },
      "text/plain": [
       "Validation: |                                             | 0/? [00:00<?, ?it/s]"
      ]
     },
     "metadata": {},
     "output_type": "display_data"
    },
    {
     "data": {
      "application/vnd.jupyter.widget-view+json": {
       "model_id": "",
       "version_major": 2,
       "version_minor": 0
      },
      "text/plain": [
       "Validation: |                                             | 0/? [00:00<?, ?it/s]"
      ]
     },
     "metadata": {},
     "output_type": "display_data"
    },
    {
     "data": {
      "application/vnd.jupyter.widget-view+json": {
       "model_id": "",
       "version_major": 2,
       "version_minor": 0
      },
      "text/plain": [
       "Validation: |                                             | 0/? [00:00<?, ?it/s]"
      ]
     },
     "metadata": {},
     "output_type": "display_data"
    },
    {
     "data": {
      "application/vnd.jupyter.widget-view+json": {
       "model_id": "",
       "version_major": 2,
       "version_minor": 0
      },
      "text/plain": [
       "Validation: |                                             | 0/? [00:00<?, ?it/s]"
      ]
     },
     "metadata": {},
     "output_type": "display_data"
    },
    {
     "data": {
      "application/vnd.jupyter.widget-view+json": {
       "model_id": "",
       "version_major": 2,
       "version_minor": 0
      },
      "text/plain": [
       "Validation: |                                             | 0/? [00:00<?, ?it/s]"
      ]
     },
     "metadata": {},
     "output_type": "display_data"
    },
    {
     "data": {
      "application/vnd.jupyter.widget-view+json": {
       "model_id": "",
       "version_major": 2,
       "version_minor": 0
      },
      "text/plain": [
       "Validation: |                                             | 0/? [00:00<?, ?it/s]"
      ]
     },
     "metadata": {},
     "output_type": "display_data"
    },
    {
     "data": {
      "application/vnd.jupyter.widget-view+json": {
       "model_id": "",
       "version_major": 2,
       "version_minor": 0
      },
      "text/plain": [
       "Validation: |                                             | 0/? [00:00<?, ?it/s]"
      ]
     },
     "metadata": {},
     "output_type": "display_data"
    },
    {
     "data": {
      "application/vnd.jupyter.widget-view+json": {
       "model_id": "",
       "version_major": 2,
       "version_minor": 0
      },
      "text/plain": [
       "Validation: |                                             | 0/? [00:00<?, ?it/s]"
      ]
     },
     "metadata": {},
     "output_type": "display_data"
    },
    {
     "name": "stderr",
     "output_type": "stream",
     "text": [
      "`Trainer.fit` stopped: `max_epochs=30` reached.\n"
     ]
    }
   ],
   "source": [
    "trainer.fit(\n",
    "    net,\n",
    "    data_module\n",
    ")"
   ]
  },
  {
   "cell_type": "code",
   "execution_count": 362,
   "metadata": {
    "id": "g9uZ4AuMXiD2"
   },
   "outputs": [
    {
     "data": {
      "text/plain": [
       "'/Users/sergey.malyshev/projects/edu/2025-itmo-recsys/data_10k/dssm_10k.ckpt'"
      ]
     },
     "execution_count": 362,
     "metadata": {},
     "output_type": "execute_result"
    }
   ],
   "source": [
    "shutil.move(checkpoint_callback.best_model_path, \"/Users/sergey.malyshev/projects/edu/2025-itmo-recsys/data_10k/dssm_10k.ckpt\")"
   ]
  },
  {
   "cell_type": "code",
   "execution_count": 363,
   "metadata": {
    "id": "nj0TJQ2OX5W5"
   },
   "outputs": [],
   "source": [
    "best = DSSM.load_from_checkpoint(\"/Users/sergey.malyshev/projects/edu/2025-itmo-recsys/data_10k/dssm_10k.ckpt\", dim_item_features=92, item_number=50000, embedding_dim=64)"
   ]
  },
  {
   "cell_type": "markdown",
   "metadata": {
    "id": "V48zX0UynQnL"
   },
   "source": [
    "Инферим модель"
   ]
  },
  {
   "cell_type": "code",
   "execution_count": 276,
   "metadata": {
    "id": "qlXi8e5YqiRv"
   },
   "outputs": [],
   "source": [
    "item_features = item_features.sort_index()\n",
    "items = torch.from_numpy(item_features.index.values)\n",
    "inf_items = torch.from_numpy(item_features.values).double()\n",
    "items_ds = td.TensorDataset(items, inf_items)"
   ]
  },
  {
   "cell_type": "code",
   "execution_count": 277,
   "metadata": {
    "id": "J4tenUNyJMr_"
   },
   "outputs": [],
   "source": [
    "inf_dl_items = td.DataLoader(items_ds, batch_size=128, shuffle=False, num_workers=1)\n",
    "track_ids, track_embeddings = best.double().inference(inf_dl_items)"
   ]
  },
  {
   "cell_type": "code",
   "execution_count": 278,
   "metadata": {
    "id": "exyON755Iq3f"
   },
   "outputs": [],
   "source": [
    "interactions = interactions.sort_index()\n",
    "user_ids_inf = torch.from_numpy(interactions.index.values)\n",
    "user_inf_feat = torch.from_numpy(padded_users[interactions.index.values]).long()\n",
    "user_ds = td.TensorDataset(user_ids_inf, user_inf_feat)"
   ]
  },
  {
   "cell_type": "code",
   "execution_count": 279,
   "metadata": {
    "id": "i3gge3d7rcPc"
   },
   "outputs": [],
   "source": [
    "inf_dl_users = td.DataLoader(user_ds, batch_size=128, shuffle=False, num_workers=1)\n",
    "user_ids, user_embeddings = best.double().inference(inf_dl_users, \"user\")"
   ]
  },
  {
   "cell_type": "code",
   "execution_count": 280,
   "metadata": {},
   "outputs": [
    {
     "data": {
      "text/html": [
       "<div>\n",
       "<style scoped>\n",
       "    .dataframe tbody tr th:only-of-type {\n",
       "        vertical-align: middle;\n",
       "    }\n",
       "\n",
       "    .dataframe tbody tr th {\n",
       "        vertical-align: top;\n",
       "    }\n",
       "\n",
       "    .dataframe thead th {\n",
       "        text-align: right;\n",
       "    }\n",
       "</style>\n",
       "<table border=\"1\" class=\"dataframe\">\n",
       "  <thead>\n",
       "    <tr style=\"text-align: right;\">\n",
       "      <th>track</th>\n",
       "      <th>5</th>\n",
       "      <th>12</th>\n",
       "      <th>20</th>\n",
       "      <th>22</th>\n",
       "      <th>23</th>\n",
       "      <th>25</th>\n",
       "      <th>26</th>\n",
       "      <th>27</th>\n",
       "      <th>33</th>\n",
       "      <th>46</th>\n",
       "      <th>...</th>\n",
       "      <th>49955</th>\n",
       "      <th>49957</th>\n",
       "      <th>49959</th>\n",
       "      <th>49964</th>\n",
       "      <th>49976</th>\n",
       "      <th>49984</th>\n",
       "      <th>49988</th>\n",
       "      <th>49994</th>\n",
       "      <th>49996</th>\n",
       "      <th>49999</th>\n",
       "    </tr>\n",
       "    <tr>\n",
       "      <th>user</th>\n",
       "      <th></th>\n",
       "      <th></th>\n",
       "      <th></th>\n",
       "      <th></th>\n",
       "      <th></th>\n",
       "      <th></th>\n",
       "      <th></th>\n",
       "      <th></th>\n",
       "      <th></th>\n",
       "      <th></th>\n",
       "      <th></th>\n",
       "      <th></th>\n",
       "      <th></th>\n",
       "      <th></th>\n",
       "      <th></th>\n",
       "      <th></th>\n",
       "      <th></th>\n",
       "      <th></th>\n",
       "      <th></th>\n",
       "      <th></th>\n",
       "      <th></th>\n",
       "    </tr>\n",
       "  </thead>\n",
       "  <tbody>\n",
       "    <tr>\n",
       "      <th>0</th>\n",
       "      <td>0.0</td>\n",
       "      <td>0.0</td>\n",
       "      <td>0.0</td>\n",
       "      <td>0.0</td>\n",
       "      <td>0.0</td>\n",
       "      <td>0.0</td>\n",
       "      <td>0.0</td>\n",
       "      <td>0.0</td>\n",
       "      <td>0.0</td>\n",
       "      <td>0.0</td>\n",
       "      <td>...</td>\n",
       "      <td>0.0</td>\n",
       "      <td>0.0</td>\n",
       "      <td>0.0</td>\n",
       "      <td>0.0</td>\n",
       "      <td>0.0</td>\n",
       "      <td>0.0</td>\n",
       "      <td>0.0</td>\n",
       "      <td>0.0</td>\n",
       "      <td>0.0</td>\n",
       "      <td>0.0</td>\n",
       "    </tr>\n",
       "    <tr>\n",
       "      <th>1</th>\n",
       "      <td>0.0</td>\n",
       "      <td>0.0</td>\n",
       "      <td>0.0</td>\n",
       "      <td>0.0</td>\n",
       "      <td>0.0</td>\n",
       "      <td>0.0</td>\n",
       "      <td>0.0</td>\n",
       "      <td>0.0</td>\n",
       "      <td>0.0</td>\n",
       "      <td>0.0</td>\n",
       "      <td>...</td>\n",
       "      <td>0.0</td>\n",
       "      <td>0.0</td>\n",
       "      <td>0.0</td>\n",
       "      <td>0.0</td>\n",
       "      <td>0.0</td>\n",
       "      <td>0.0</td>\n",
       "      <td>0.0</td>\n",
       "      <td>0.0</td>\n",
       "      <td>0.0</td>\n",
       "      <td>0.0</td>\n",
       "    </tr>\n",
       "    <tr>\n",
       "      <th>2</th>\n",
       "      <td>0.0</td>\n",
       "      <td>0.0</td>\n",
       "      <td>0.0</td>\n",
       "      <td>0.0</td>\n",
       "      <td>0.0</td>\n",
       "      <td>0.0</td>\n",
       "      <td>0.0</td>\n",
       "      <td>0.0</td>\n",
       "      <td>0.0</td>\n",
       "      <td>0.0</td>\n",
       "      <td>...</td>\n",
       "      <td>0.0</td>\n",
       "      <td>0.0</td>\n",
       "      <td>0.0</td>\n",
       "      <td>0.0</td>\n",
       "      <td>0.0</td>\n",
       "      <td>0.0</td>\n",
       "      <td>0.0</td>\n",
       "      <td>0.0</td>\n",
       "      <td>0.0</td>\n",
       "      <td>0.0</td>\n",
       "    </tr>\n",
       "    <tr>\n",
       "      <th>3</th>\n",
       "      <td>0.0</td>\n",
       "      <td>0.0</td>\n",
       "      <td>0.0</td>\n",
       "      <td>0.0</td>\n",
       "      <td>0.0</td>\n",
       "      <td>0.0</td>\n",
       "      <td>0.0</td>\n",
       "      <td>0.0</td>\n",
       "      <td>0.0</td>\n",
       "      <td>0.0</td>\n",
       "      <td>...</td>\n",
       "      <td>0.0</td>\n",
       "      <td>0.0</td>\n",
       "      <td>0.0</td>\n",
       "      <td>0.0</td>\n",
       "      <td>0.0</td>\n",
       "      <td>0.0</td>\n",
       "      <td>0.0</td>\n",
       "      <td>0.0</td>\n",
       "      <td>0.0</td>\n",
       "      <td>0.0</td>\n",
       "    </tr>\n",
       "    <tr>\n",
       "      <th>4</th>\n",
       "      <td>0.0</td>\n",
       "      <td>0.0</td>\n",
       "      <td>0.0</td>\n",
       "      <td>0.0</td>\n",
       "      <td>0.0</td>\n",
       "      <td>0.0</td>\n",
       "      <td>0.0</td>\n",
       "      <td>0.0</td>\n",
       "      <td>0.0</td>\n",
       "      <td>0.0</td>\n",
       "      <td>...</td>\n",
       "      <td>0.0</td>\n",
       "      <td>0.0</td>\n",
       "      <td>0.0</td>\n",
       "      <td>0.0</td>\n",
       "      <td>0.0</td>\n",
       "      <td>0.0</td>\n",
       "      <td>0.0</td>\n",
       "      <td>0.0</td>\n",
       "      <td>0.0</td>\n",
       "      <td>0.0</td>\n",
       "    </tr>\n",
       "    <tr>\n",
       "      <th>...</th>\n",
       "      <td>...</td>\n",
       "      <td>...</td>\n",
       "      <td>...</td>\n",
       "      <td>...</td>\n",
       "      <td>...</td>\n",
       "      <td>...</td>\n",
       "      <td>...</td>\n",
       "      <td>...</td>\n",
       "      <td>...</td>\n",
       "      <td>...</td>\n",
       "      <td>...</td>\n",
       "      <td>...</td>\n",
       "      <td>...</td>\n",
       "      <td>...</td>\n",
       "      <td>...</td>\n",
       "      <td>...</td>\n",
       "      <td>...</td>\n",
       "      <td>...</td>\n",
       "      <td>...</td>\n",
       "      <td>...</td>\n",
       "      <td>...</td>\n",
       "    </tr>\n",
       "    <tr>\n",
       "      <th>9995</th>\n",
       "      <td>0.0</td>\n",
       "      <td>0.0</td>\n",
       "      <td>0.0</td>\n",
       "      <td>0.0</td>\n",
       "      <td>0.0</td>\n",
       "      <td>0.0</td>\n",
       "      <td>0.0</td>\n",
       "      <td>0.0</td>\n",
       "      <td>0.0</td>\n",
       "      <td>0.0</td>\n",
       "      <td>...</td>\n",
       "      <td>0.0</td>\n",
       "      <td>0.0</td>\n",
       "      <td>0.0</td>\n",
       "      <td>0.0</td>\n",
       "      <td>0.0</td>\n",
       "      <td>0.0</td>\n",
       "      <td>0.0</td>\n",
       "      <td>0.0</td>\n",
       "      <td>0.0</td>\n",
       "      <td>0.0</td>\n",
       "    </tr>\n",
       "    <tr>\n",
       "      <th>9996</th>\n",
       "      <td>0.0</td>\n",
       "      <td>0.0</td>\n",
       "      <td>0.0</td>\n",
       "      <td>0.0</td>\n",
       "      <td>0.0</td>\n",
       "      <td>0.0</td>\n",
       "      <td>0.0</td>\n",
       "      <td>0.0</td>\n",
       "      <td>0.0</td>\n",
       "      <td>0.0</td>\n",
       "      <td>...</td>\n",
       "      <td>0.0</td>\n",
       "      <td>0.0</td>\n",
       "      <td>0.0</td>\n",
       "      <td>0.0</td>\n",
       "      <td>0.0</td>\n",
       "      <td>0.0</td>\n",
       "      <td>0.0</td>\n",
       "      <td>0.0</td>\n",
       "      <td>0.0</td>\n",
       "      <td>0.0</td>\n",
       "    </tr>\n",
       "    <tr>\n",
       "      <th>9997</th>\n",
       "      <td>0.0</td>\n",
       "      <td>0.0</td>\n",
       "      <td>0.0</td>\n",
       "      <td>0.0</td>\n",
       "      <td>0.0</td>\n",
       "      <td>0.0</td>\n",
       "      <td>0.0</td>\n",
       "      <td>0.0</td>\n",
       "      <td>0.0</td>\n",
       "      <td>0.0</td>\n",
       "      <td>...</td>\n",
       "      <td>0.0</td>\n",
       "      <td>0.0</td>\n",
       "      <td>0.0</td>\n",
       "      <td>0.0</td>\n",
       "      <td>0.0</td>\n",
       "      <td>0.0</td>\n",
       "      <td>0.0</td>\n",
       "      <td>0.0</td>\n",
       "      <td>0.0</td>\n",
       "      <td>0.0</td>\n",
       "    </tr>\n",
       "    <tr>\n",
       "      <th>9998</th>\n",
       "      <td>0.0</td>\n",
       "      <td>0.0</td>\n",
       "      <td>0.0</td>\n",
       "      <td>0.0</td>\n",
       "      <td>0.0</td>\n",
       "      <td>0.0</td>\n",
       "      <td>0.0</td>\n",
       "      <td>0.0</td>\n",
       "      <td>0.0</td>\n",
       "      <td>0.0</td>\n",
       "      <td>...</td>\n",
       "      <td>0.0</td>\n",
       "      <td>0.0</td>\n",
       "      <td>0.0</td>\n",
       "      <td>0.0</td>\n",
       "      <td>0.0</td>\n",
       "      <td>0.0</td>\n",
       "      <td>0.0</td>\n",
       "      <td>0.0</td>\n",
       "      <td>0.0</td>\n",
       "      <td>0.0</td>\n",
       "    </tr>\n",
       "    <tr>\n",
       "      <th>9999</th>\n",
       "      <td>0.0</td>\n",
       "      <td>0.0</td>\n",
       "      <td>0.0</td>\n",
       "      <td>0.0</td>\n",
       "      <td>0.0</td>\n",
       "      <td>0.0</td>\n",
       "      <td>0.0</td>\n",
       "      <td>0.0</td>\n",
       "      <td>0.0</td>\n",
       "      <td>0.0</td>\n",
       "      <td>...</td>\n",
       "      <td>0.0</td>\n",
       "      <td>0.0</td>\n",
       "      <td>0.0</td>\n",
       "      <td>0.0</td>\n",
       "      <td>0.0</td>\n",
       "      <td>0.0</td>\n",
       "      <td>0.0</td>\n",
       "      <td>0.0</td>\n",
       "      <td>0.0</td>\n",
       "      <td>0.0</td>\n",
       "    </tr>\n",
       "  </tbody>\n",
       "</table>\n",
       "<p>9988 rows × 11228 columns</p>\n",
       "</div>"
      ],
      "text/plain": [
       "track  5      12     20     22     23     25     26     27     33     46     \\\n",
       "user                                                                          \n",
       "0        0.0    0.0    0.0    0.0    0.0    0.0    0.0    0.0    0.0    0.0   \n",
       "1        0.0    0.0    0.0    0.0    0.0    0.0    0.0    0.0    0.0    0.0   \n",
       "2        0.0    0.0    0.0    0.0    0.0    0.0    0.0    0.0    0.0    0.0   \n",
       "3        0.0    0.0    0.0    0.0    0.0    0.0    0.0    0.0    0.0    0.0   \n",
       "4        0.0    0.0    0.0    0.0    0.0    0.0    0.0    0.0    0.0    0.0   \n",
       "...      ...    ...    ...    ...    ...    ...    ...    ...    ...    ...   \n",
       "9995     0.0    0.0    0.0    0.0    0.0    0.0    0.0    0.0    0.0    0.0   \n",
       "9996     0.0    0.0    0.0    0.0    0.0    0.0    0.0    0.0    0.0    0.0   \n",
       "9997     0.0    0.0    0.0    0.0    0.0    0.0    0.0    0.0    0.0    0.0   \n",
       "9998     0.0    0.0    0.0    0.0    0.0    0.0    0.0    0.0    0.0    0.0   \n",
       "9999     0.0    0.0    0.0    0.0    0.0    0.0    0.0    0.0    0.0    0.0   \n",
       "\n",
       "track  ...  49955  49957  49959  49964  49976  49984  49988  49994  49996  \\\n",
       "user   ...                                                                  \n",
       "0      ...    0.0    0.0    0.0    0.0    0.0    0.0    0.0    0.0    0.0   \n",
       "1      ...    0.0    0.0    0.0    0.0    0.0    0.0    0.0    0.0    0.0   \n",
       "2      ...    0.0    0.0    0.0    0.0    0.0    0.0    0.0    0.0    0.0   \n",
       "3      ...    0.0    0.0    0.0    0.0    0.0    0.0    0.0    0.0    0.0   \n",
       "4      ...    0.0    0.0    0.0    0.0    0.0    0.0    0.0    0.0    0.0   \n",
       "...    ...    ...    ...    ...    ...    ...    ...    ...    ...    ...   \n",
       "9995   ...    0.0    0.0    0.0    0.0    0.0    0.0    0.0    0.0    0.0   \n",
       "9996   ...    0.0    0.0    0.0    0.0    0.0    0.0    0.0    0.0    0.0   \n",
       "9997   ...    0.0    0.0    0.0    0.0    0.0    0.0    0.0    0.0    0.0   \n",
       "9998   ...    0.0    0.0    0.0    0.0    0.0    0.0    0.0    0.0    0.0   \n",
       "9999   ...    0.0    0.0    0.0    0.0    0.0    0.0    0.0    0.0    0.0   \n",
       "\n",
       "track  49999  \n",
       "user          \n",
       "0        0.0  \n",
       "1        0.0  \n",
       "2        0.0  \n",
       "3        0.0  \n",
       "4        0.0  \n",
       "...      ...  \n",
       "9995     0.0  \n",
       "9996     0.0  \n",
       "9997     0.0  \n",
       "9998     0.0  \n",
       "9999     0.0  \n",
       "\n",
       "[9988 rows x 11228 columns]"
      ]
     },
     "execution_count": 280,
     "metadata": {},
     "output_type": "execute_result"
    }
   ],
   "source": [
    "interactions"
   ]
  },
  {
   "cell_type": "code",
   "execution_count": 281,
   "metadata": {
    "id": "4M0Q9pJEtYwJ"
   },
   "outputs": [
    {
     "data": {
      "text/plain": [
       "((50000, 64), (9988, 64))"
      ]
     },
     "execution_count": 281,
     "metadata": {},
     "output_type": "execute_result"
    }
   ],
   "source": [
    "track_embeddings.shape, user_embeddings.shape"
   ]
  },
  {
   "cell_type": "code",
   "execution_count": 282,
   "metadata": {
    "id": "vLxiOheS7c--"
   },
   "outputs": [],
   "source": [
    "# gpu_res = faiss.StandardGpuResources()\n",
    "# index_flat = faiss.index_factory(track_embeddings.shape[1], \"Flat\", faiss.METRIC_L2)\n",
    "\n",
    "# #index = faiss.index_cpu_to_gpu(gpu_res, 0, index_flat)\n",
    "# index = index_flat\n",
    "# index.add(track_embeddings.astype('float32'))"
   ]
  },
  {
   "cell_type": "code",
   "execution_count": 365,
   "metadata": {},
   "outputs": [],
   "source": [
    "index_flat = faiss.index_factory(track_embeddings.shape[1], \"Flat\", faiss.METRIC_L2)"
   ]
  },
  {
   "cell_type": "code",
   "execution_count": 366,
   "metadata": {},
   "outputs": [],
   "source": [
    "index_flat.add(track_embeddings.astype('float32'))"
   ]
  },
  {
   "cell_type": "code",
   "execution_count": 367,
   "metadata": {
    "id": "aMkam_VHOjcg"
   },
   "outputs": [
    {
     "data": {
      "application/vnd.jupyter.widget-view+json": {
       "model_id": "f8763ca9b385448497471119a96343af",
       "version_major": 2,
       "version_minor": 0
      },
      "text/plain": [
       "  0%|          | 0/9988 [00:00<?, ?it/s]"
      ]
     },
     "metadata": {},
     "output_type": "display_data"
    }
   ],
   "source": [
    "k = 100\n",
    "with open(\"/Users/sergey.malyshev/projects/edu/2025-itmo-recsys/data_10k/dssm_recs_faiss.json\", \"w\") as rf:\n",
    "    for user, user_emb in tqdm(zip(user_ids, user_embeddings), total=len(user_ids)):\n",
    "      dists, neighbours = index_flat.search(user_emb.astype('float32')[np.newaxis, :], k)\n",
    "      recommendation = {\n",
    "            \"user\": int(user),\n",
    "            \"tracks\": neighbours.flatten().tolist()\n",
    "        }\n",
    "      rf.write(json.dumps(recommendation) + \"\\n\")"
   ]
  },
  {
   "cell_type": "markdown",
   "metadata": {
    "id": "Uh4-ye3cS_GY"
   },
   "source": [
    "Записываем эмбеддинги и логи обучения"
   ]
  },
  {
   "cell_type": "code",
   "execution_count": 368,
   "metadata": {
    "id": "M6Q94F33SX8V"
   },
   "outputs": [
    {
     "name": "stdout",
     "output_type": "stream",
     "text": [
      "warning: Embedding dir exists, did you set global_step for add_embedding()?\n"
     ]
    }
   ],
   "source": [
    "writer = tb.SummaryWriter(comment='ncf_embeddings', log_dir=\"/Users/sergey.malyshev/projects/edu/2025-itmo-recsys/data_10k/tb\")\n",
    "writer.add_embedding(track_embeddings, metadata=list(track_metadata[[\"artist\", \"title\"]].itertuples(index=False, name=None)), tag=\"DSSM\", metadata_header=[\"artist\", \"title\"])\n",
    "writer.close()"
   ]
  },
  {
   "cell_type": "code",
   "execution_count": 208,
   "metadata": {
    "id": "F-1uq-hTKceW"
   },
   "outputs": [
    {
     "name": "stdout",
     "output_type": "stream",
     "text": [
      "cp: /content/lightning_logs: No such file or directory\n"
     ]
    }
   ],
   "source": [
    "!cp -r /content/lightning_logs /gdrive/MyDrive/RecSys_Data/Week5Seminar/lightning_logs"
   ]
  },
  {
   "cell_type": "code",
   "execution_count": null,
   "metadata": {},
   "outputs": [],
   "source": []
  },
  {
   "cell_type": "code",
   "execution_count": null,
   "metadata": {},
   "outputs": [],
   "source": []
  }
 ],
 "metadata": {
  "accelerator": "GPU",
  "colab": {
   "gpuType": "T4",
   "provenance": []
  },
  "kernelspec": {
   "display_name": "Python 3 (ipykernel)",
   "language": "python",
   "name": "python3"
  },
  "language_info": {
   "codemirror_mode": {
    "name": "ipython",
    "version": 3
   },
   "file_extension": ".py",
   "mimetype": "text/x-python",
   "name": "python",
   "nbconvert_exporter": "python",
   "pygments_lexer": "ipython3",
   "version": "3.8.16"
  }
 },
 "nbformat": 4,
 "nbformat_minor": 4
}
