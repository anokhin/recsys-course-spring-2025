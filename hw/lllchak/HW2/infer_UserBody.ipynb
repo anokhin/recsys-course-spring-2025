{
 "cells": [
  {
   "cell_type": "code",
   "execution_count": 3,
   "id": "df23c053",
   "metadata": {},
   "outputs": [
    {
     "name": "stderr",
     "output_type": "stream",
     "text": [
      "/Users/lulchak-pavel/Documents/itmo/recsys/.venv/lib/python3.9/site-packages/urllib3/__init__.py:35: NotOpenSSLWarning: urllib3 v2 only supports OpenSSL 1.1.1+, currently the 'ssl' module is compiled with 'LibreSSL 2.8.3'. See: https://github.com/urllib3/urllib3/issues/3020\n",
      "  warnings.warn(\n"
     ]
    }
   ],
   "source": [
    "from gensim.models import KeyedVectors"
   ]
  },
  {
   "cell_type": "code",
   "execution_count": 5,
   "id": "190373f5",
   "metadata": {},
   "outputs": [],
   "source": [
    "KV = KeyedVectors.load('userbody.kv', mmap='r')\n",
    "\n",
    "candidates = KV.most_similar(2653, topn=10)"
   ]
  },
  {
   "cell_type": "code",
   "execution_count": 6,
   "id": "e094b9c6",
   "metadata": {},
   "outputs": [
    {
     "data": {
      "text/plain": [
       "[('32513', 0.9510401487350464),\n",
       " ('32511', 0.9508314728736877),\n",
       " ('35222', 0.946955680847168),\n",
       " ('25903', 0.9469355344772339),\n",
       " ('14557', 0.9465299844741821),\n",
       " ('35223', 0.9338080883026123),\n",
       " ('25930', 0.8861876130104065),\n",
       " ('15229', 0.879565954208374),\n",
       " ('25753', 0.865509569644928),\n",
       " ('1639', 0.8643494248390198)]"
      ]
     },
     "execution_count": 6,
     "metadata": {},
     "output_type": "execute_result"
    }
   ],
   "source": [
    "candidates"
   ]
  },
  {
   "cell_type": "code",
   "execution_count": null,
   "id": "d65c0d34",
   "metadata": {},
   "outputs": [],
   "source": []
  }
 ],
 "metadata": {
  "kernelspec": {
   "display_name": ".venv",
   "language": "python",
   "name": "python3"
  },
  "language_info": {
   "codemirror_mode": {
    "name": "ipython",
    "version": 3
   },
   "file_extension": ".py",
   "mimetype": "text/x-python",
   "name": "python",
   "nbconvert_exporter": "python",
   "pygments_lexer": "ipython3",
   "version": "3.9.6"
  }
 },
 "nbformat": 4,
 "nbformat_minor": 5
}
