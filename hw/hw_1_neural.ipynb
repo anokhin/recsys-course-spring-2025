{
 "cells": [
  {
   "cell_type": "code",
   "id": "initial_id",
   "metadata": {
    "collapsed": true,
    "ExecuteTime": {
     "end_time": "2025-03-19T18:42:45.954325Z",
     "start_time": "2025-03-19T18:42:45.949491Z"
    }
   },
   "source": [
    "import numpy as np\n",
    "import pandas as pd\n",
    "import lightfm\n",
    "from lightfm import data as ld\n",
    "from sklearn.preprocessing import MinMaxScaler\n",
    "from sklearn.model_selection import train_test_split\n",
    "from xgboost import XGBRanker\n",
    "\n",
    "import torch\n",
    "from torch import nn\n",
    "from torch.utils.data import Dataset, DataLoader\n",
    "from lightfm import data as ld\n",
    "import lightfm"
   ],
   "outputs": [],
   "execution_count": 17
  },
  {
   "metadata": {
    "ExecuteTime": {
     "end_time": "2025-03-19T18:26:15.770278Z",
     "start_time": "2025-03-19T18:26:14.835821Z"
    }
   },
   "cell_type": "code",
   "source": [
    "wsl_train_path = \"/mnt/c/Users/denis/PycharmProjects/recsys-course-spring-2025/hw/train.csv\"\n",
    "wsl_test_path = \"/mnt/c/Users/denis/PycharmProjects/recsys-course-spring-2025/hw/test.csv\"\n",
    "train_data = pd.read_csv(wsl_train_path)\n",
    "test_data = pd.read_csv(wsl_test_path)"
   ],
   "id": "7b50b25f84439c8b",
   "outputs": [],
   "execution_count": 2
  },
  {
   "metadata": {
    "ExecuteTime": {
     "end_time": "2025-03-19T18:26:16.510812Z",
     "start_time": "2025-03-19T18:26:16.088288Z"
    }
   },
   "cell_type": "code",
   "source": [
    "user_id_map = {id: i for i, id in enumerate(train_data['user'].unique())}\n",
    "train_data[\"user_id\"] = train_data[\"user\"].map(user_id_map).map(int)\n",
    "test_data[\"user_id\"] = test_data[\"user\"].map(user_id_map).map(int)"
   ],
   "id": "caa93cce682cef5",
   "outputs": [],
   "execution_count": 3
  },
  {
   "metadata": {
    "ExecuteTime": {
     "end_time": "2025-03-19T18:26:16.605379Z",
     "start_time": "2025-03-19T18:26:16.533182Z"
    }
   },
   "cell_type": "code",
   "source": [
    "users_id = sorted(set(train_data[\"user_id\"]))\n",
    "max_track_id = max(train_data['track'].max(), test_data['track'].max())"
   ],
   "id": "1a0d8475c32c332b",
   "outputs": [],
   "execution_count": 4
  },
  {
   "metadata": {
    "ExecuteTime": {
     "end_time": "2025-03-19T18:26:16.652020Z",
     "start_time": "2025-03-19T18:26:16.628403Z"
    }
   },
   "cell_type": "code",
   "source": "positives = train_data[train_data[\"time\"] > 0.7].copy()",
   "id": "2a82cf6f7a02dae0",
   "outputs": [],
   "execution_count": 5
  },
  {
   "metadata": {
    "ExecuteTime": {
     "end_time": "2025-03-19T18:26:17.166115Z",
     "start_time": "2025-03-19T18:26:16.689008Z"
    }
   },
   "cell_type": "code",
   "source": [
    "dataset = ld.Dataset()\n",
    "dataset.fit(users_id, range(max_track_id + 1))\n",
    "\n",
    "all_interactions, _ = dataset.build_interactions(positives[['user_id', 'track']].itertuples(index=False, name=None))"
   ],
   "id": "9f9951439aaca9fb",
   "outputs": [],
   "execution_count": 6
  },
  {
   "metadata": {
    "ExecuteTime": {
     "end_time": "2025-03-19T18:26:17.597850Z",
     "start_time": "2025-03-19T18:26:17.592920Z"
    }
   },
   "cell_type": "code",
   "source": [
    "model = lightfm.LightFM(\n",
    "    no_components=300,\n",
    "    loss='warp',\n",
    "    learning_rate=0.01,\n",
    "    max_sampled=90,\n",
    "    user_alpha=0.0001,\n",
    "    item_alpha=0.0001\n",
    ")"
   ],
   "id": "977efc9b68897900",
   "outputs": [],
   "execution_count": 7
  },
  {
   "metadata": {
    "ExecuteTime": {
     "end_time": "2025-03-19T18:41:35.743738Z",
     "start_time": "2025-03-19T18:26:17.714219Z"
    }
   },
   "cell_type": "code",
   "source": "model.fit(all_interactions, epochs=400, verbose=True, num_threads=8)    ",
   "id": "951d3f6e19c13330",
   "outputs": [
    {
     "name": "stderr",
     "output_type": "stream",
     "text": [
      "Epoch: 100%|██████████| 400/400 [15:17<00:00,  2.29s/it]\n"
     ]
    },
    {
     "data": {
      "text/plain": [
       "<lightfm.lightfm.LightFM at 0x7f35ea138100>"
      ]
     },
     "execution_count": 8,
     "metadata": {},
     "output_type": "execute_result"
    }
   ],
   "execution_count": 8
  },
  {
   "metadata": {
    "ExecuteTime": {
     "end_time": "2025-03-19T18:41:36.743088Z",
     "start_time": "2025-03-19T18:41:35.814119Z"
    }
   },
   "cell_type": "code",
   "source": [
    "train_data[\"lightfm_score\"] = model.predict(train_data[\"user_id\"].values, train_data[\"track\"].values)\n",
    "test_data[\"lightfm_score\"] = model.predict(test_data[\"user_id\"].values, test_data[\"track\"].values)"
   ],
   "id": "f46d0e08d66b6725",
   "outputs": [],
   "execution_count": 9
  },
  {
   "metadata": {
    "ExecuteTime": {
     "end_time": "2025-03-19T18:41:36.831860Z",
     "start_time": "2025-03-19T18:41:36.827897Z"
    }
   },
   "cell_type": "code",
   "source": [
    "tr_d = train_data\n",
    "tes_d = test_data"
   ],
   "id": "581bd6558d9c2210",
   "outputs": [],
   "execution_count": 10
  },
  {
   "metadata": {
    "ExecuteTime": {
     "end_time": "2025-03-19T18:41:40.775785Z",
     "start_time": "2025-03-19T18:41:40.773190Z"
    }
   },
   "cell_type": "code",
   "source": "",
   "id": "c4e76155d6652def",
   "outputs": [],
   "execution_count": null
  },
  {
   "metadata": {
    "ExecuteTime": {
     "end_time": "2025-03-19T18:47:46.715529Z",
     "start_time": "2025-03-19T18:47:46.709550Z"
    }
   },
   "cell_type": "code",
   "source": [
    "class NCFDataset(Dataset):\n",
    "    def __init__(self, data):\n",
    "        self.users = data['user_id'].values\n",
    "        self.tracks = data['track'].values\n",
    "        self.lightfm_scores = data['lightfm_score'].values\n",
    "        self.targets = (data['time'] > 0.7).astype(float).values if 'time' in data.columns else None\n",
    "\n",
    "    def __len__(self):\n",
    "        return len(self.users)\n",
    "\n",
    "    def __getitem__(self, idx):\n",
    "        item = {\n",
    "            'user': self.users[idx],\n",
    "            'track': self.tracks[idx],\n",
    "            'lightfm_score': self.lightfm_scores[idx]\n",
    "        }\n",
    "        if self.targets is not None:\n",
    "            item['target'] = self.targets[idx]\n",
    "        return item"
   ],
   "id": "c68abced6c615b8a",
   "outputs": [],
   "execution_count": 34
  },
  {
   "metadata": {
    "ExecuteTime": {
     "end_time": "2025-03-19T18:47:46.852232Z",
     "start_time": "2025-03-19T18:47:46.847527Z"
    }
   },
   "cell_type": "code",
   "source": [
    "class NeuralCollaborativeFiltering(nn.Module):\n",
    "    def __init__(self, num_users, num_tracks, embedding_dim=64):\n",
    "        super(NeuralCollaborativeFiltering, self).__init__()\n",
    "        self.user_embedding = nn.Embedding(num_users, embedding_dim)\n",
    "        self.track_embedding = nn.Embedding(num_tracks, embedding_dim)\n",
    "        self.fc_layers = nn.Sequential(\n",
    "            nn.Linear(embedding_dim * 2 + 1, 128),  # +1 для lightfm_score\n",
    "            nn.ReLU(),\n",
    "            nn.Linear(128, 64),\n",
    "            nn.ReLU(),\n",
    "            nn.Linear(64, 1),\n",
    "            nn.Sigmoid()\n",
    "        )\n",
    "\n",
    "    def forward(self, user_ids, track_ids, lightfm_scores):\n",
    "        user_embeds = self.user_embedding(user_ids)\n",
    "        track_embeds = self.track_embedding(track_ids)\n",
    "        combined = torch.cat([user_embeds, track_embeds, lightfm_scores.unsqueeze(1)], dim=-1)\n",
    "        return self.fc_layers(combined).squeeze()"
   ],
   "id": "8c4c6fc8c66e30c6",
   "outputs": [],
   "execution_count": 35
  },
  {
   "metadata": {},
   "cell_type": "code",
   "outputs": [],
   "execution_count": null,
   "source": "BATCH_SIZE=2024",
   "id": "10da088beba10413"
  },
  {
   "metadata": {
    "ExecuteTime": {
     "end_time": "2025-03-19T18:47:46.963746Z",
     "start_time": "2025-03-19T18:47:46.957376Z"
    }
   },
   "cell_type": "code",
   "source": [
    "train_dataset = NCFDataset(train_data)\n",
    "test_dataset = NCFDataset(test_data)\n",
    "train_loader = DataLoader(train_dataset, batch_size=BATCH_SIZE, shuffle=True)\n",
    "test_loader = DataLoader(test_dataset, batch_size=BATCH_SIZE, shuffle=False)"
   ],
   "id": "3195d1ab44c2cf1f",
   "outputs": [],
   "execution_count": 36
  },
  {
   "metadata": {
    "ExecuteTime": {
     "end_time": "2025-03-19T18:47:47.096990Z",
     "start_time": "2025-03-19T18:47:47.072469Z"
    }
   },
   "cell_type": "code",
   "source": [
    "num_users = len(user_id_map)\n",
    "num_tracks = max_track_id + 1\n",
    "model_ncf = NeuralCollaborativeFiltering(num_users=num_users, num_tracks=num_tracks)\n",
    "criterion = nn.BCELoss()\n",
    "optimizer = torch.optim.Adam(model_ncf.parameters(), lr=0.001)"
   ],
   "id": "c275c231f673a0f3",
   "outputs": [],
   "execution_count": 37
  },
  {
   "metadata": {
    "ExecuteTime": {
     "end_time": "2025-03-19T18:47:47.213218Z",
     "start_time": "2025-03-19T18:47:47.206803Z"
    }
   },
   "cell_type": "code",
   "source": [
    "device = torch.device('cuda' if torch.cuda.is_available() else 'cpu')\n",
    "model_ncf.to(device)"
   ],
   "id": "31ca5199b6b52852",
   "outputs": [
    {
     "data": {
      "text/plain": [
       "NeuralCollaborativeFiltering(\n",
       "  (user_embedding): Embedding(10000, 64)\n",
       "  (track_embedding): Embedding(50000, 64)\n",
       "  (fc_layers): Sequential(\n",
       "    (0): Linear(in_features=129, out_features=128, bias=True)\n",
       "    (1): ReLU()\n",
       "    (2): Linear(in_features=128, out_features=64, bias=True)\n",
       "    (3): ReLU()\n",
       "    (4): Linear(in_features=64, out_features=1, bias=True)\n",
       "    (5): Sigmoid()\n",
       "  )\n",
       ")"
      ]
     },
     "execution_count": 38,
     "metadata": {},
     "output_type": "execute_result"
    }
   ],
   "execution_count": 38
  },
  {
   "metadata": {
    "ExecuteTime": {
     "end_time": "2025-03-19T18:55:54.932244Z",
     "start_time": "2025-03-19T18:48:25.552356Z"
    }
   },
   "cell_type": "code",
   "source": [
    "for epoch in range(4):\n",
    "    model_ncf.train()\n",
    "    total_loss = 0\n",
    "    curr_batch = 1\n",
    "    for batch in train_loader:\n",
    "        user_ids = batch['user'].to(device)\n",
    "        track_ids = batch['track'].to(device)\n",
    "        lightfm_scores = batch['lightfm_score'].to(device).float()\n",
    "        targets = batch['target'].to(device).float()\n",
    "\n",
    "        optimizer.zero_grad()\n",
    "        predictions = model_ncf(user_ids, track_ids, lightfm_scores)\n",
    "        loss = criterion(predictions, targets)\n",
    "        loss.backward()\n",
    "        optimizer.step()\n",
    "\n",
    "        total_loss += loss.item()\n",
    "        \n",
    "        if curr_batch % 100 == 0:\n",
    "            print(curr_batch)\n",
    "        curr_batch += 1\n",
    "\n",
    "    print(f\"Epoch {epoch + 1}, Loss: {total_loss / len(train_loader)}\")"
   ],
   "id": "a961dade45193b6b",
   "outputs": [
    {
     "name": "stdout",
     "output_type": "stream",
     "text": [
      "100\n",
      "200\n",
      "300\n",
      "400\n",
      "500\n",
      "Epoch 1, Loss: 0.015961803596094934\n",
      "100\n",
      "200\n",
      "300\n",
      "400\n",
      "500\n",
      "Epoch 2, Loss: 0.005440759777233018\n",
      "100\n",
      "200\n",
      "300\n",
      "400\n",
      "500\n",
      "Epoch 3, Loss: 0.0034952991956656446\n",
      "100\n",
      "200\n",
      "300\n",
      "400\n",
      "500\n",
      "Epoch 4, Loss: 0.0024841065957407543\n"
     ]
    }
   ],
   "execution_count": 40
  },
  {
   "metadata": {
    "ExecuteTime": {
     "end_time": "2025-03-19T18:55:54.967838Z",
     "start_time": "2025-03-19T18:55:54.952212Z"
    }
   },
   "cell_type": "code",
   "source": [
    "model_ncf.eval()\n",
    "predictions = []"
   ],
   "id": "5403d7069fb3dfa",
   "outputs": [],
   "execution_count": 41
  },
  {
   "metadata": {
    "ExecuteTime": {
     "end_time": "2025-03-19T18:56:13.426788Z",
     "start_time": "2025-03-19T18:55:55.027501Z"
    }
   },
   "cell_type": "code",
   "source": [
    "with torch.no_grad():\n",
    "    for batch in test_loader:\n",
    "        user_ids = batch['user'].to(device)\n",
    "        track_ids = batch['track'].to(device)\n",
    "        lightfm_scores = batch['lightfm_score'].to(device)\n",
    "\n",
    "        preds = model_ncf(user_ids, track_ids, lightfm_scores).cpu().numpy()\n",
    "        predictions.extend(preds)"
   ],
   "id": "f48275b4206aed67",
   "outputs": [],
   "execution_count": 42
  },
  {
   "metadata": {
    "ExecuteTime": {
     "end_time": "2025-03-19T18:56:13.547511Z",
     "start_time": "2025-03-19T18:56:13.489747Z"
    }
   },
   "cell_type": "code",
   "source": "test_data[\"score\"] = predictions",
   "id": "48efe41ac0e92fc0",
   "outputs": [],
   "execution_count": 43
  },
  {
   "metadata": {
    "ExecuteTime": {
     "end_time": "2025-03-19T18:56:14.652804Z",
     "start_time": "2025-03-19T18:56:13.553653Z"
    }
   },
   "cell_type": "code",
   "source": "test_data[[\"user\", \"track\", \"score\"]].to_csv(\"./data/neural/test_ncf_1.csv\", index=False)",
   "id": "8f5cba8c15de33e1",
   "outputs": [],
   "execution_count": 44
  },
  {
   "metadata": {},
   "cell_type": "code",
   "source": [
    "\n",
    "\n",
    "\n",
    "\n",
    "\n"
   ],
   "id": "1d07d5720d42055f",
   "outputs": [],
   "execution_count": null
  },
  {
   "metadata": {
    "ExecuteTime": {
     "end_time": "2025-03-19T18:10:56.041107Z",
     "start_time": "2025-03-19T18:10:56.038568Z"
    }
   },
   "cell_type": "code",
   "source": "",
   "id": "6d69bb14907dcc42",
   "outputs": [],
   "execution_count": null
  },
  {
   "metadata": {
    "ExecuteTime": {
     "end_time": "2025-03-19T18:10:56.092227Z",
     "start_time": "2025-03-19T18:10:56.087553Z"
    }
   },
   "cell_type": "code",
   "source": "",
   "id": "b08743a6c185b7e2",
   "outputs": [],
   "execution_count": 150
  },
  {
   "metadata": {},
   "cell_type": "code",
   "source": "",
   "id": "6b185c76f1ead420",
   "outputs": [],
   "execution_count": null
  },
  {
   "metadata": {
    "ExecuteTime": {
     "end_time": "2025-03-19T18:11:21.807799Z",
     "start_time": "2025-03-19T18:11:21.796546Z"
    }
   },
   "cell_type": "code",
   "source": "",
   "id": "776f3f2e22f2f70d",
   "outputs": [],
   "execution_count": 152
  },
  {
   "metadata": {
    "ExecuteTime": {
     "end_time": "2025-03-19T18:11:22.900704Z",
     "start_time": "2025-03-19T18:11:21.853144Z"
    }
   },
   "cell_type": "code",
   "source": "",
   "id": "5b46642802340060",
   "outputs": [],
   "execution_count": 153
  },
  {
   "metadata": {
    "ExecuteTime": {
     "end_time": "2025-03-19T18:11:22.923199Z",
     "start_time": "2025-03-19T18:11:22.920279Z"
    }
   },
   "cell_type": "code",
   "source": "",
   "id": "97c4fd81140ee7c0",
   "outputs": [],
   "execution_count": null
  },
  {
   "metadata": {
    "ExecuteTime": {
     "end_time": "2025-03-19T18:11:22.972364Z",
     "start_time": "2025-03-19T18:11:22.969311Z"
    }
   },
   "cell_type": "code",
   "source": "",
   "id": "addeed9d5fc0f45e",
   "outputs": [],
   "execution_count": null
  },
  {
   "metadata": {
    "ExecuteTime": {
     "end_time": "2025-03-19T18:11:23.021830Z",
     "start_time": "2025-03-19T18:11:23.018720Z"
    }
   },
   "cell_type": "code",
   "source": "",
   "id": "ca6cbcce72657af9",
   "outputs": [],
   "execution_count": null
  },
  {
   "metadata": {
    "ExecuteTime": {
     "end_time": "2025-03-19T18:11:23.072307Z",
     "start_time": "2025-03-19T18:11:23.069379Z"
    }
   },
   "cell_type": "code",
   "source": "",
   "id": "53c69f4d33efbe1c",
   "outputs": [],
   "execution_count": null
  },
  {
   "metadata": {
    "ExecuteTime": {
     "end_time": "2025-03-19T18:11:23.121874Z",
     "start_time": "2025-03-19T18:11:23.119232Z"
    }
   },
   "cell_type": "code",
   "source": "",
   "id": "1863de4d5e97e943",
   "outputs": [],
   "execution_count": null
  },
  {
   "metadata": {},
   "cell_type": "code",
   "source": "",
   "id": "81dd67b72f430602",
   "outputs": [],
   "execution_count": null
  }
 ],
 "metadata": {
  "kernelspec": {
   "display_name": "Python 3",
   "language": "python",
   "name": "python3"
  },
  "language_info": {
   "codemirror_mode": {
    "name": "ipython",
    "version": 2
   },
   "file_extension": ".py",
   "mimetype": "text/x-python",
   "name": "python",
   "nbconvert_exporter": "python",
   "pygments_lexer": "ipython2",
   "version": "2.7.6"
  }
 },
 "nbformat": 4,
 "nbformat_minor": 5
}
